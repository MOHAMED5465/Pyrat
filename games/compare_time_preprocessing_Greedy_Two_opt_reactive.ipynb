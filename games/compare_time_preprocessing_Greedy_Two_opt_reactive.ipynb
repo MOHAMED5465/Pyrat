{
 "cells": [
  {
   "cell_type": "markdown",
   "metadata": {},
   "source": [
    "<h1 style=\"background-color: gray;\n",
    "           color: black;\n",
    "           padding: 20px;\n",
    "           text-align: center;\">INFO</h1>\n",
    "\n",
    "In this script, we compare players `Exhaustive`, `Greedy`,`Back_tracking` in a game where there is only one cheese to catch in a maze without mud. \\\n",
    "All programs are evaluated on the same game configurations. \\\n",
    "We do not show the game interface here, to make the script faster. \\\n",
    "The goal is to compare the time needed in preprocessing for the different players in the same conditions."
   ]
  },
  {
   "cell_type": "markdown",
   "metadata": {},
   "source": [
    "<h1 style=\"background-color: gray;\n",
    "           color: black;\n",
    "           padding: 20px;\n",
    "           text-align: center;\">IMPORTS</h1>"
   ]
  },
  {
   "cell_type": "code",
   "execution_count": 16,
   "metadata": {},
   "outputs": [],
   "source": [
    "# External imports\n",
    "import sys\n",
    "import os\n",
    "import tqdm.auto as tqdm\n",
    "import matplotlib.pyplot as pyplot\n",
    "import scipy.stats as scstats\n",
    "\n",
    "# Add needed directories to the path\n",
    "sys.path.append(os.path.join(\"..\", \"players\"))\n",
    "\n",
    "# PyRat imports\n",
    "from pyrat import Game, GameMode\n",
    "from two_opt import Two_opt\n",
    "from Greedy import Greedy\n",
    "import statistics"
   ]
  },
  {
   "cell_type": "markdown",
   "metadata": {},
   "source": [
    "<h1 style=\"background-color: gray;\n",
    "           color: black;\n",
    "           padding: 20px;\n",
    "           text-align: center;\">CONSTANTS</h1>\n",
    "\n",
    "In this script, we are going to make multiple independent games. \\\n",
    "The goal is to time needed in preprocessing for the  different players. \\\n",
    "We want to plot a courbe of the needed time as a function of the number of cheese. \\\n",
    "This constant defines how many games are made."
   ]
  },
  {
   "cell_type": "code",
   "execution_count": 17,
   "metadata": {},
   "outputs": [],
   "source": [
    "# Determines how many games will be played for each player\n",
    "NB_GAMES = 10"
   ]
  },
  {
   "cell_type": "markdown",
   "metadata": {},
   "source": [
    "Let's configure the game with a dictionary. \\\n",
    "Note that we put the game mode as `SIMULATION` to perform all games as fast as possible."
   ]
  },
  {
   "cell_type": "markdown",
   "metadata": {},
   "source": [
    "<h1 style=\"background-color: gray;\n",
    "           color: black;\n",
    "           padding: 20px;\n",
    "           text-align: center;\">RUN THE GAMES</h1>\n",
    "\n",
    "Let us now perform all games. \\\n",
    "For each game, we remember the number of turns needed to complete it."
   ]
  },
  {
   "cell_type": "code",
   "execution_count": 18,
   "metadata": {},
   "outputs": [
    {
     "name": "stderr",
     "output_type": "stream",
     "text": [
      "Greedy:   0%|          | 0/10 [00:00<?, ?it/s]Warning: Player 'Greedy' cannot start at unreachable location 97, starting at closest cell (using Euclidean distance)\n",
      "Greedy:  10%|█         | 1/10 [00:00<00:06,  1.43it/s]"
     ]
    },
    {
     "name": "stdout",
     "output_type": "stream",
     "text": [
      "Postprocessing\n"
     ]
    },
    {
     "name": "stderr",
     "output_type": "stream",
     "text": [
      "Greedy:  20%|██        | 2/10 [00:01<00:03,  2.14it/s]"
     ]
    },
    {
     "name": "stdout",
     "output_type": "stream",
     "text": [
      "Postprocessing\n"
     ]
    },
    {
     "name": "stderr",
     "output_type": "stream",
     "text": [
      "Greedy:  30%|███       | 3/10 [00:01<00:02,  2.50it/s]"
     ]
    },
    {
     "name": "stdout",
     "output_type": "stream",
     "text": [
      "Postprocessing\n"
     ]
    },
    {
     "name": "stderr",
     "output_type": "stream",
     "text": [
      "Greedy:  40%|████      | 4/10 [00:01<00:02,  2.34it/s]"
     ]
    },
    {
     "name": "stdout",
     "output_type": "stream",
     "text": [
      "Postprocessing\n"
     ]
    },
    {
     "name": "stderr",
     "output_type": "stream",
     "text": [
      "Greedy:  50%|█████     | 5/10 [00:02<00:02,  2.29it/s]"
     ]
    },
    {
     "name": "stdout",
     "output_type": "stream",
     "text": [
      "Postprocessing\n"
     ]
    },
    {
     "name": "stderr",
     "output_type": "stream",
     "text": [
      "Greedy:  60%|██████    | 6/10 [00:02<00:01,  2.49it/s]"
     ]
    },
    {
     "name": "stdout",
     "output_type": "stream",
     "text": [
      "Postprocessing\n"
     ]
    },
    {
     "name": "stderr",
     "output_type": "stream",
     "text": [
      "Greedy:  70%|███████   | 7/10 [00:02<00:01,  2.69it/s]"
     ]
    },
    {
     "name": "stdout",
     "output_type": "stream",
     "text": [
      "Postprocessing\n"
     ]
    },
    {
     "name": "stderr",
     "output_type": "stream",
     "text": [
      "Greedy:  80%|████████  | 8/10 [00:03<00:00,  2.75it/s]"
     ]
    },
    {
     "name": "stdout",
     "output_type": "stream",
     "text": [
      "Postprocessing\n"
     ]
    },
    {
     "name": "stderr",
     "output_type": "stream",
     "text": [
      "Greedy:  90%|█████████ | 9/10 [00:03<00:00,  2.93it/s]"
     ]
    },
    {
     "name": "stdout",
     "output_type": "stream",
     "text": [
      "Postprocessing\n"
     ]
    },
    {
     "name": "stderr",
     "output_type": "stream",
     "text": [
      "Greedy: 100%|██████████| 10/10 [00:03<00:00,  2.58it/s]\n"
     ]
    },
    {
     "name": "stdout",
     "output_type": "stream",
     "text": [
      "Postprocessing\n"
     ]
    },
    {
     "name": "stderr",
     "output_type": "stream",
     "text": [
      "Greedy:   0%|          | 0/10 [00:00<?, ?it/s]Warning: Player 'Greedy' cannot start at unreachable location 97, starting at closest cell (using Euclidean distance)\n",
      "Greedy:  10%|█         | 1/10 [00:00<00:03,  2.30it/s]"
     ]
    },
    {
     "name": "stdout",
     "output_type": "stream",
     "text": [
      "Postprocessing\n"
     ]
    },
    {
     "name": "stderr",
     "output_type": "stream",
     "text": [
      "Greedy:  20%|██        | 2/10 [00:00<00:03,  2.51it/s]"
     ]
    },
    {
     "name": "stdout",
     "output_type": "stream",
     "text": [
      "Postprocessing\n"
     ]
    },
    {
     "name": "stderr",
     "output_type": "stream",
     "text": [
      "Greedy:  30%|███       | 3/10 [00:01<00:03,  2.18it/s]"
     ]
    },
    {
     "name": "stdout",
     "output_type": "stream",
     "text": [
      "Postprocessing\n"
     ]
    },
    {
     "name": "stderr",
     "output_type": "stream",
     "text": [
      "Greedy:  40%|████      | 4/10 [00:01<00:02,  2.41it/s]"
     ]
    },
    {
     "name": "stdout",
     "output_type": "stream",
     "text": [
      "Postprocessing\n"
     ]
    },
    {
     "name": "stderr",
     "output_type": "stream",
     "text": [
      "Greedy:  50%|█████     | 5/10 [00:02<00:02,  2.44it/s]"
     ]
    },
    {
     "name": "stdout",
     "output_type": "stream",
     "text": [
      "Postprocessing\n"
     ]
    },
    {
     "name": "stderr",
     "output_type": "stream",
     "text": [
      "Greedy:  60%|██████    | 6/10 [00:02<00:01,  2.55it/s]"
     ]
    },
    {
     "name": "stdout",
     "output_type": "stream",
     "text": [
      "Postprocessing\n"
     ]
    },
    {
     "name": "stderr",
     "output_type": "stream",
     "text": [
      "Greedy:  70%|███████   | 7/10 [00:02<00:01,  2.72it/s]"
     ]
    },
    {
     "name": "stdout",
     "output_type": "stream",
     "text": [
      "Postprocessing\n"
     ]
    },
    {
     "name": "stderr",
     "output_type": "stream",
     "text": [
      "Greedy:  80%|████████  | 8/10 [00:03<00:00,  2.71it/s]"
     ]
    },
    {
     "name": "stdout",
     "output_type": "stream",
     "text": [
      "Postprocessing\n"
     ]
    },
    {
     "name": "stderr",
     "output_type": "stream",
     "text": [
      "Greedy:  90%|█████████ | 9/10 [00:03<00:00,  2.76it/s]"
     ]
    },
    {
     "name": "stdout",
     "output_type": "stream",
     "text": [
      "Postprocessing\n"
     ]
    },
    {
     "name": "stderr",
     "output_type": "stream",
     "text": [
      "Greedy: 100%|██████████| 10/10 [00:03<00:00,  2.60it/s]\n"
     ]
    },
    {
     "name": "stdout",
     "output_type": "stream",
     "text": [
      "Postprocessing\n"
     ]
    },
    {
     "name": "stderr",
     "output_type": "stream",
     "text": [
      "Greedy:   0%|          | 0/10 [00:00<?, ?it/s]Warning: Player 'Greedy' cannot start at unreachable location 97, starting at closest cell (using Euclidean distance)\n",
      "Greedy:  10%|█         | 1/10 [00:00<00:04,  2.09it/s]"
     ]
    },
    {
     "name": "stdout",
     "output_type": "stream",
     "text": [
      "Postprocessing\n"
     ]
    },
    {
     "name": "stderr",
     "output_type": "stream",
     "text": [
      "Greedy:  20%|██        | 2/10 [00:00<00:03,  2.36it/s]"
     ]
    },
    {
     "name": "stdout",
     "output_type": "stream",
     "text": [
      "Postprocessing\n"
     ]
    },
    {
     "name": "stderr",
     "output_type": "stream",
     "text": [
      "Greedy:  30%|███       | 3/10 [00:01<00:03,  2.20it/s]"
     ]
    },
    {
     "name": "stdout",
     "output_type": "stream",
     "text": [
      "Postprocessing\n"
     ]
    },
    {
     "name": "stderr",
     "output_type": "stream",
     "text": [
      "Greedy:  40%|████      | 4/10 [00:02<00:03,  1.83it/s]"
     ]
    },
    {
     "name": "stdout",
     "output_type": "stream",
     "text": [
      "Postprocessing\n"
     ]
    },
    {
     "name": "stderr",
     "output_type": "stream",
     "text": [
      "Greedy:  50%|█████     | 5/10 [00:02<00:02,  2.01it/s]"
     ]
    },
    {
     "name": "stdout",
     "output_type": "stream",
     "text": [
      "Postprocessing\n"
     ]
    },
    {
     "name": "stderr",
     "output_type": "stream",
     "text": [
      "Greedy:  60%|██████    | 6/10 [00:02<00:01,  2.11it/s]"
     ]
    },
    {
     "name": "stdout",
     "output_type": "stream",
     "text": [
      "Postprocessing\n"
     ]
    },
    {
     "name": "stderr",
     "output_type": "stream",
     "text": [
      "Greedy:  70%|███████   | 7/10 [00:03<00:01,  2.13it/s]"
     ]
    },
    {
     "name": "stdout",
     "output_type": "stream",
     "text": [
      "Postprocessing\n"
     ]
    },
    {
     "name": "stderr",
     "output_type": "stream",
     "text": [
      "Greedy:  80%|████████  | 8/10 [00:03<00:00,  2.27it/s]"
     ]
    },
    {
     "name": "stdout",
     "output_type": "stream",
     "text": [
      "Postprocessing\n"
     ]
    },
    {
     "name": "stderr",
     "output_type": "stream",
     "text": [
      "Greedy:  90%|█████████ | 9/10 [00:04<00:00,  2.40it/s]"
     ]
    },
    {
     "name": "stdout",
     "output_type": "stream",
     "text": [
      "Postprocessing\n"
     ]
    },
    {
     "name": "stderr",
     "output_type": "stream",
     "text": [
      "Greedy: 100%|██████████| 10/10 [00:04<00:00,  2.22it/s]\n"
     ]
    },
    {
     "name": "stdout",
     "output_type": "stream",
     "text": [
      "Postprocessing\n"
     ]
    },
    {
     "name": "stderr",
     "output_type": "stream",
     "text": [
      "Greedy:   0%|          | 0/10 [00:00<?, ?it/s]Warning: Player 'Greedy' cannot start at unreachable location 97, starting at closest cell (using Euclidean distance)\n",
      "Greedy:  10%|█         | 1/10 [00:00<00:03,  2.35it/s]"
     ]
    },
    {
     "name": "stdout",
     "output_type": "stream",
     "text": [
      "Postprocessing\n"
     ]
    },
    {
     "name": "stderr",
     "output_type": "stream",
     "text": [
      "Greedy:  20%|██        | 2/10 [00:00<00:03,  2.51it/s]"
     ]
    },
    {
     "name": "stdout",
     "output_type": "stream",
     "text": [
      "Postprocessing\n"
     ]
    },
    {
     "name": "stderr",
     "output_type": "stream",
     "text": [
      "Greedy:  30%|███       | 3/10 [00:01<00:02,  2.41it/s]"
     ]
    },
    {
     "name": "stdout",
     "output_type": "stream",
     "text": [
      "Postprocessing\n"
     ]
    },
    {
     "name": "stderr",
     "output_type": "stream",
     "text": [
      "Greedy:  40%|████      | 4/10 [00:01<00:02,  2.37it/s]"
     ]
    },
    {
     "name": "stdout",
     "output_type": "stream",
     "text": [
      "Postprocessing\n"
     ]
    },
    {
     "name": "stderr",
     "output_type": "stream",
     "text": [
      "Greedy:  50%|█████     | 5/10 [00:02<00:02,  2.19it/s]"
     ]
    },
    {
     "name": "stdout",
     "output_type": "stream",
     "text": [
      "Postprocessing\n"
     ]
    },
    {
     "name": "stderr",
     "output_type": "stream",
     "text": [
      "Greedy:  60%|██████    | 6/10 [00:02<00:01,  2.18it/s]"
     ]
    },
    {
     "name": "stdout",
     "output_type": "stream",
     "text": [
      "Postprocessing\n"
     ]
    },
    {
     "name": "stderr",
     "output_type": "stream",
     "text": [
      "Greedy:  70%|███████   | 7/10 [00:03<00:01,  2.31it/s]"
     ]
    },
    {
     "name": "stdout",
     "output_type": "stream",
     "text": [
      "Postprocessing\n"
     ]
    },
    {
     "name": "stderr",
     "output_type": "stream",
     "text": [
      "Greedy:  80%|████████  | 8/10 [00:03<00:00,  2.38it/s]"
     ]
    },
    {
     "name": "stdout",
     "output_type": "stream",
     "text": [
      "Postprocessing\n"
     ]
    },
    {
     "name": "stderr",
     "output_type": "stream",
     "text": [
      "Greedy:  90%|█████████ | 9/10 [00:03<00:00,  2.41it/s]"
     ]
    },
    {
     "name": "stdout",
     "output_type": "stream",
     "text": [
      "Postprocessing\n"
     ]
    },
    {
     "name": "stderr",
     "output_type": "stream",
     "text": [
      "Greedy: 100%|██████████| 10/10 [00:04<00:00,  2.35it/s]\n"
     ]
    },
    {
     "name": "stdout",
     "output_type": "stream",
     "text": [
      "Postprocessing\n"
     ]
    },
    {
     "name": "stderr",
     "output_type": "stream",
     "text": [
      "Greedy:   0%|          | 0/10 [00:00<?, ?it/s]Warning: Player 'Greedy' cannot start at unreachable location 97, starting at closest cell (using Euclidean distance)\n",
      "Greedy:  10%|█         | 1/10 [00:00<00:03,  2.33it/s]"
     ]
    },
    {
     "name": "stdout",
     "output_type": "stream",
     "text": [
      "Postprocessing\n"
     ]
    },
    {
     "name": "stderr",
     "output_type": "stream",
     "text": [
      "Greedy:  20%|██        | 2/10 [00:00<00:03,  2.32it/s]"
     ]
    },
    {
     "name": "stdout",
     "output_type": "stream",
     "text": [
      "Postprocessing\n"
     ]
    },
    {
     "name": "stderr",
     "output_type": "stream",
     "text": [
      "Greedy:  30%|███       | 3/10 [00:01<00:03,  2.27it/s]"
     ]
    },
    {
     "name": "stdout",
     "output_type": "stream",
     "text": [
      "Postprocessing\n"
     ]
    },
    {
     "name": "stderr",
     "output_type": "stream",
     "text": [
      "Greedy:  40%|████      | 4/10 [00:01<00:02,  2.30it/s]"
     ]
    },
    {
     "name": "stdout",
     "output_type": "stream",
     "text": [
      "Postprocessing\n"
     ]
    },
    {
     "name": "stderr",
     "output_type": "stream",
     "text": [
      "Greedy:  50%|█████     | 5/10 [00:02<00:02,  2.03it/s]"
     ]
    },
    {
     "name": "stdout",
     "output_type": "stream",
     "text": [
      "Postprocessing\n"
     ]
    },
    {
     "name": "stderr",
     "output_type": "stream",
     "text": [
      "Greedy:  60%|██████    | 6/10 [00:02<00:01,  2.06it/s]"
     ]
    },
    {
     "name": "stdout",
     "output_type": "stream",
     "text": [
      "Postprocessing\n"
     ]
    },
    {
     "name": "stderr",
     "output_type": "stream",
     "text": [
      "Greedy:  70%|███████   | 7/10 [00:03<00:01,  2.16it/s]"
     ]
    },
    {
     "name": "stdout",
     "output_type": "stream",
     "text": [
      "Postprocessing\n"
     ]
    },
    {
     "name": "stderr",
     "output_type": "stream",
     "text": [
      "Greedy:  80%|████████  | 8/10 [00:03<00:00,  2.11it/s]"
     ]
    },
    {
     "name": "stdout",
     "output_type": "stream",
     "text": [
      "Postprocessing\n"
     ]
    },
    {
     "name": "stderr",
     "output_type": "stream",
     "text": [
      "Greedy:  90%|█████████ | 9/10 [00:04<00:00,  2.17it/s]"
     ]
    },
    {
     "name": "stdout",
     "output_type": "stream",
     "text": [
      "Postprocessing\n"
     ]
    },
    {
     "name": "stderr",
     "output_type": "stream",
     "text": [
      "Greedy: 100%|██████████| 10/10 [00:04<00:00,  2.17it/s]\n"
     ]
    },
    {
     "name": "stdout",
     "output_type": "stream",
     "text": [
      "Postprocessing\n"
     ]
    },
    {
     "name": "stderr",
     "output_type": "stream",
     "text": [
      "Greedy:   0%|          | 0/10 [00:00<?, ?it/s]Warning: Player 'Greedy' cannot start at unreachable location 97, starting at closest cell (using Euclidean distance)\n",
      "Greedy:  10%|█         | 1/10 [00:00<00:05,  1.72it/s]"
     ]
    },
    {
     "name": "stdout",
     "output_type": "stream",
     "text": [
      "Postprocessing\n"
     ]
    },
    {
     "name": "stderr",
     "output_type": "stream",
     "text": [
      "Greedy:  20%|██        | 2/10 [00:01<00:04,  1.95it/s]"
     ]
    },
    {
     "name": "stdout",
     "output_type": "stream",
     "text": [
      "Postprocessing\n"
     ]
    },
    {
     "name": "stderr",
     "output_type": "stream",
     "text": [
      "Greedy:  30%|███       | 3/10 [00:01<00:03,  1.80it/s]"
     ]
    },
    {
     "name": "stdout",
     "output_type": "stream",
     "text": [
      "Postprocessing\n"
     ]
    },
    {
     "name": "stderr",
     "output_type": "stream",
     "text": [
      "Greedy:  40%|████      | 4/10 [00:02<00:03,  1.90it/s]"
     ]
    },
    {
     "name": "stdout",
     "output_type": "stream",
     "text": [
      "Postprocessing\n"
     ]
    },
    {
     "name": "stderr",
     "output_type": "stream",
     "text": [
      "Greedy:  50%|█████     | 5/10 [00:02<00:02,  1.98it/s]"
     ]
    },
    {
     "name": "stdout",
     "output_type": "stream",
     "text": [
      "Postprocessing\n"
     ]
    },
    {
     "name": "stderr",
     "output_type": "stream",
     "text": [
      "Greedy:  60%|██████    | 6/10 [00:03<00:02,  1.81it/s]"
     ]
    },
    {
     "name": "stdout",
     "output_type": "stream",
     "text": [
      "Postprocessing\n"
     ]
    },
    {
     "name": "stderr",
     "output_type": "stream",
     "text": [
      "Greedy:  70%|███████   | 7/10 [00:03<00:01,  1.90it/s]"
     ]
    },
    {
     "name": "stdout",
     "output_type": "stream",
     "text": [
      "Postprocessing\n"
     ]
    },
    {
     "name": "stderr",
     "output_type": "stream",
     "text": [
      "Greedy:  80%|████████  | 8/10 [00:04<00:01,  1.94it/s]"
     ]
    },
    {
     "name": "stdout",
     "output_type": "stream",
     "text": [
      "Postprocessing\n"
     ]
    },
    {
     "name": "stderr",
     "output_type": "stream",
     "text": [
      "Greedy:  90%|█████████ | 9/10 [00:04<00:00,  2.04it/s]"
     ]
    },
    {
     "name": "stdout",
     "output_type": "stream",
     "text": [
      "Postprocessing\n"
     ]
    },
    {
     "name": "stderr",
     "output_type": "stream",
     "text": [
      "Greedy: 100%|██████████| 10/10 [00:05<00:00,  1.95it/s]\n"
     ]
    },
    {
     "name": "stdout",
     "output_type": "stream",
     "text": [
      "Postprocessing\n"
     ]
    },
    {
     "name": "stderr",
     "output_type": "stream",
     "text": [
      "Greedy:   0%|          | 0/10 [00:00<?, ?it/s]Warning: Player 'Greedy' cannot start at unreachable location 97, starting at closest cell (using Euclidean distance)\n",
      "Greedy:  10%|█         | 1/10 [00:00<00:04,  1.97it/s]"
     ]
    },
    {
     "name": "stdout",
     "output_type": "stream",
     "text": [
      "Postprocessing\n"
     ]
    },
    {
     "name": "stderr",
     "output_type": "stream",
     "text": [
      "Greedy:  20%|██        | 2/10 [00:00<00:03,  2.09it/s]"
     ]
    },
    {
     "name": "stdout",
     "output_type": "stream",
     "text": [
      "Postprocessing\n"
     ]
    },
    {
     "name": "stderr",
     "output_type": "stream",
     "text": [
      "Greedy:  30%|███       | 3/10 [00:01<00:03,  2.01it/s]"
     ]
    },
    {
     "name": "stdout",
     "output_type": "stream",
     "text": [
      "Postprocessing\n"
     ]
    },
    {
     "name": "stderr",
     "output_type": "stream",
     "text": [
      "Greedy:  40%|████      | 4/10 [00:01<00:02,  2.04it/s]"
     ]
    },
    {
     "name": "stdout",
     "output_type": "stream",
     "text": [
      "Postprocessing\n"
     ]
    },
    {
     "name": "stderr",
     "output_type": "stream",
     "text": [
      "Greedy:  50%|█████     | 5/10 [00:02<00:02,  2.09it/s]"
     ]
    },
    {
     "name": "stdout",
     "output_type": "stream",
     "text": [
      "Postprocessing\n"
     ]
    },
    {
     "name": "stderr",
     "output_type": "stream",
     "text": [
      "Greedy:  60%|██████    | 6/10 [00:03<00:02,  1.78it/s]"
     ]
    },
    {
     "name": "stdout",
     "output_type": "stream",
     "text": [
      "Postprocessing\n"
     ]
    },
    {
     "name": "stderr",
     "output_type": "stream",
     "text": [
      "Greedy:  70%|███████   | 7/10 [00:03<00:01,  1.89it/s]"
     ]
    },
    {
     "name": "stdout",
     "output_type": "stream",
     "text": [
      "Postprocessing\n"
     ]
    },
    {
     "name": "stderr",
     "output_type": "stream",
     "text": [
      "Greedy:  80%|████████  | 8/10 [00:04<00:01,  1.91it/s]"
     ]
    },
    {
     "name": "stdout",
     "output_type": "stream",
     "text": [
      "Postprocessing\n"
     ]
    },
    {
     "name": "stderr",
     "output_type": "stream",
     "text": [
      "Greedy:  90%|█████████ | 9/10 [00:04<00:00,  1.94it/s]"
     ]
    },
    {
     "name": "stdout",
     "output_type": "stream",
     "text": [
      "Postprocessing\n"
     ]
    },
    {
     "name": "stderr",
     "output_type": "stream",
     "text": [
      "Greedy: 100%|██████████| 10/10 [00:05<00:00,  1.95it/s]\n"
     ]
    },
    {
     "name": "stdout",
     "output_type": "stream",
     "text": [
      "Postprocessing\n"
     ]
    },
    {
     "name": "stderr",
     "output_type": "stream",
     "text": [
      "Greedy:   0%|          | 0/10 [00:00<?, ?it/s]Warning: Player 'Greedy' cannot start at unreachable location 97, starting at closest cell (using Euclidean distance)\n",
      "Greedy:  10%|█         | 1/10 [00:00<00:05,  1.51it/s]"
     ]
    },
    {
     "name": "stdout",
     "output_type": "stream",
     "text": [
      "Postprocessing\n"
     ]
    },
    {
     "name": "stderr",
     "output_type": "stream",
     "text": [
      "Greedy:  20%|██        | 2/10 [00:01<00:04,  1.69it/s]"
     ]
    },
    {
     "name": "stdout",
     "output_type": "stream",
     "text": [
      "Postprocessing\n"
     ]
    },
    {
     "name": "stderr",
     "output_type": "stream",
     "text": [
      "Greedy:  30%|███       | 3/10 [00:01<00:04,  1.62it/s]"
     ]
    },
    {
     "name": "stdout",
     "output_type": "stream",
     "text": [
      "Postprocessing\n"
     ]
    },
    {
     "name": "stderr",
     "output_type": "stream",
     "text": [
      "Greedy:  40%|████      | 4/10 [00:02<00:03,  1.58it/s]"
     ]
    },
    {
     "name": "stdout",
     "output_type": "stream",
     "text": [
      "Postprocessing\n"
     ]
    },
    {
     "name": "stderr",
     "output_type": "stream",
     "text": [
      "Greedy:  50%|█████     | 5/10 [00:03<00:03,  1.40it/s]"
     ]
    },
    {
     "name": "stdout",
     "output_type": "stream",
     "text": [
      "Postprocessing\n"
     ]
    },
    {
     "name": "stderr",
     "output_type": "stream",
     "text": [
      "Greedy:  60%|██████    | 6/10 [00:04<00:03,  1.25it/s]"
     ]
    },
    {
     "name": "stdout",
     "output_type": "stream",
     "text": [
      "Postprocessing\n"
     ]
    },
    {
     "name": "stderr",
     "output_type": "stream",
     "text": [
      "Greedy:  70%|███████   | 7/10 [00:05<00:02,  1.30it/s]"
     ]
    },
    {
     "name": "stdout",
     "output_type": "stream",
     "text": [
      "Postprocessing\n"
     ]
    },
    {
     "name": "stderr",
     "output_type": "stream",
     "text": [
      "Greedy:  80%|████████  | 8/10 [00:05<00:01,  1.36it/s]"
     ]
    },
    {
     "name": "stdout",
     "output_type": "stream",
     "text": [
      "Postprocessing\n"
     ]
    },
    {
     "name": "stderr",
     "output_type": "stream",
     "text": [
      "Greedy:  90%|█████████ | 9/10 [00:06<00:00,  1.46it/s]"
     ]
    },
    {
     "name": "stdout",
     "output_type": "stream",
     "text": [
      "Postprocessing\n"
     ]
    },
    {
     "name": "stderr",
     "output_type": "stream",
     "text": [
      "Greedy: 100%|██████████| 10/10 [00:06<00:00,  1.43it/s]\n"
     ]
    },
    {
     "name": "stdout",
     "output_type": "stream",
     "text": [
      "Postprocessing\n"
     ]
    },
    {
     "name": "stderr",
     "output_type": "stream",
     "text": [
      "Greedy:   0%|          | 0/10 [00:00<?, ?it/s]Warning: Player 'Greedy' cannot start at unreachable location 97, starting at closest cell (using Euclidean distance)\n",
      "Greedy:  10%|█         | 1/10 [00:00<00:06,  1.39it/s]"
     ]
    },
    {
     "name": "stdout",
     "output_type": "stream",
     "text": [
      "Postprocessing\n"
     ]
    },
    {
     "name": "stderr",
     "output_type": "stream",
     "text": [
      "Greedy:  20%|██        | 2/10 [00:01<00:05,  1.48it/s]"
     ]
    },
    {
     "name": "stdout",
     "output_type": "stream",
     "text": [
      "Postprocessing\n"
     ]
    },
    {
     "name": "stderr",
     "output_type": "stream",
     "text": [
      "Greedy:  30%|███       | 3/10 [00:01<00:04,  1.54it/s]"
     ]
    },
    {
     "name": "stdout",
     "output_type": "stream",
     "text": [
      "Postprocessing\n"
     ]
    },
    {
     "name": "stderr",
     "output_type": "stream",
     "text": [
      "Greedy:  40%|████      | 4/10 [00:02<00:03,  1.52it/s]"
     ]
    },
    {
     "name": "stdout",
     "output_type": "stream",
     "text": [
      "Postprocessing\n"
     ]
    },
    {
     "name": "stderr",
     "output_type": "stream",
     "text": [
      "Greedy:  50%|█████     | 5/10 [00:03<00:03,  1.64it/s]"
     ]
    },
    {
     "name": "stdout",
     "output_type": "stream",
     "text": [
      "Postprocessing\n"
     ]
    },
    {
     "name": "stderr",
     "output_type": "stream",
     "text": [
      "Greedy:  60%|██████    | 6/10 [00:03<00:02,  1.47it/s]"
     ]
    },
    {
     "name": "stdout",
     "output_type": "stream",
     "text": [
      "Postprocessing\n"
     ]
    },
    {
     "name": "stderr",
     "output_type": "stream",
     "text": [
      "Greedy:  70%|███████   | 7/10 [00:04<00:01,  1.51it/s]"
     ]
    },
    {
     "name": "stdout",
     "output_type": "stream",
     "text": [
      "Postprocessing\n"
     ]
    },
    {
     "name": "stderr",
     "output_type": "stream",
     "text": [
      "Greedy:  80%|████████  | 8/10 [00:05<00:01,  1.52it/s]"
     ]
    },
    {
     "name": "stdout",
     "output_type": "stream",
     "text": [
      "Postprocessing\n"
     ]
    },
    {
     "name": "stderr",
     "output_type": "stream",
     "text": [
      "Greedy:  90%|█████████ | 9/10 [00:05<00:00,  1.57it/s]"
     ]
    },
    {
     "name": "stdout",
     "output_type": "stream",
     "text": [
      "Postprocessing\n"
     ]
    },
    {
     "name": "stderr",
     "output_type": "stream",
     "text": [
      "Greedy: 100%|██████████| 10/10 [00:06<00:00,  1.54it/s]\n"
     ]
    },
    {
     "name": "stdout",
     "output_type": "stream",
     "text": [
      "Postprocessing\n"
     ]
    },
    {
     "name": "stderr",
     "output_type": "stream",
     "text": [
      "Greedy:   0%|          | 0/10 [00:00<?, ?it/s]Warning: Player 'Greedy' cannot start at unreachable location 97, starting at closest cell (using Euclidean distance)\n",
      "Greedy:  10%|█         | 1/10 [00:00<00:05,  1.65it/s]"
     ]
    },
    {
     "name": "stdout",
     "output_type": "stream",
     "text": [
      "Postprocessing\n"
     ]
    },
    {
     "name": "stderr",
     "output_type": "stream",
     "text": [
      "Greedy:  20%|██        | 2/10 [00:01<00:04,  1.75it/s]"
     ]
    },
    {
     "name": "stdout",
     "output_type": "stream",
     "text": [
      "Postprocessing\n"
     ]
    },
    {
     "name": "stderr",
     "output_type": "stream",
     "text": [
      "Greedy:  30%|███       | 3/10 [00:01<00:04,  1.74it/s]"
     ]
    },
    {
     "name": "stdout",
     "output_type": "stream",
     "text": [
      "Postprocessing\n"
     ]
    },
    {
     "name": "stderr",
     "output_type": "stream",
     "text": [
      "Greedy:  40%|████      | 4/10 [00:02<00:03,  1.55it/s]"
     ]
    },
    {
     "name": "stdout",
     "output_type": "stream",
     "text": [
      "Postprocessing\n"
     ]
    },
    {
     "name": "stderr",
     "output_type": "stream",
     "text": [
      "Greedy:  50%|█████     | 5/10 [00:03<00:03,  1.58it/s]"
     ]
    },
    {
     "name": "stdout",
     "output_type": "stream",
     "text": [
      "Postprocessing\n"
     ]
    },
    {
     "name": "stderr",
     "output_type": "stream",
     "text": [
      "Greedy:  60%|██████    | 6/10 [00:03<00:02,  1.42it/s]"
     ]
    },
    {
     "name": "stdout",
     "output_type": "stream",
     "text": [
      "Postprocessing\n"
     ]
    },
    {
     "name": "stderr",
     "output_type": "stream",
     "text": [
      "Greedy:  70%|███████   | 7/10 [00:04<00:01,  1.50it/s]"
     ]
    },
    {
     "name": "stdout",
     "output_type": "stream",
     "text": [
      "Postprocessing\n"
     ]
    },
    {
     "name": "stderr",
     "output_type": "stream",
     "text": [
      "Greedy:  80%|████████  | 8/10 [00:05<00:01,  1.57it/s]"
     ]
    },
    {
     "name": "stdout",
     "output_type": "stream",
     "text": [
      "Postprocessing\n"
     ]
    },
    {
     "name": "stderr",
     "output_type": "stream",
     "text": [
      "Greedy:  90%|█████████ | 9/10 [00:05<00:00,  1.65it/s]"
     ]
    },
    {
     "name": "stdout",
     "output_type": "stream",
     "text": [
      "Postprocessing\n"
     ]
    },
    {
     "name": "stderr",
     "output_type": "stream",
     "text": [
      "Greedy: 100%|██████████| 10/10 [00:06<00:00,  1.61it/s]\n"
     ]
    },
    {
     "name": "stdout",
     "output_type": "stream",
     "text": [
      "Postprocessing\n"
     ]
    },
    {
     "name": "stderr",
     "output_type": "stream",
     "text": [
      "Greedy:   0%|          | 0/10 [00:00<?, ?it/s]Warning: Player 'Greedy' cannot start at unreachable location 97, starting at closest cell (using Euclidean distance)\n",
      "Greedy:  10%|█         | 1/10 [00:00<00:05,  1.60it/s]"
     ]
    },
    {
     "name": "stdout",
     "output_type": "stream",
     "text": [
      "Postprocessing\n"
     ]
    },
    {
     "name": "stderr",
     "output_type": "stream",
     "text": [
      "Greedy:  20%|██        | 2/10 [00:01<00:05,  1.57it/s]"
     ]
    },
    {
     "name": "stdout",
     "output_type": "stream",
     "text": [
      "Postprocessing\n"
     ]
    },
    {
     "name": "stderr",
     "output_type": "stream",
     "text": [
      "Greedy:  30%|███       | 3/10 [00:01<00:04,  1.56it/s]"
     ]
    },
    {
     "name": "stdout",
     "output_type": "stream",
     "text": [
      "Postprocessing\n"
     ]
    },
    {
     "name": "stderr",
     "output_type": "stream",
     "text": [
      "Greedy:  40%|████      | 4/10 [00:02<00:03,  1.63it/s]"
     ]
    },
    {
     "name": "stdout",
     "output_type": "stream",
     "text": [
      "Postprocessing\n"
     ]
    },
    {
     "name": "stderr",
     "output_type": "stream",
     "text": [
      "Greedy:  50%|█████     | 5/10 [00:03<00:03,  1.48it/s]"
     ]
    },
    {
     "name": "stdout",
     "output_type": "stream",
     "text": [
      "Postprocessing\n"
     ]
    },
    {
     "name": "stderr",
     "output_type": "stream",
     "text": [
      "Greedy:  60%|██████    | 6/10 [00:03<00:02,  1.53it/s]"
     ]
    },
    {
     "name": "stdout",
     "output_type": "stream",
     "text": [
      "Postprocessing\n"
     ]
    },
    {
     "name": "stderr",
     "output_type": "stream",
     "text": [
      "Greedy:  70%|███████   | 7/10 [00:04<00:01,  1.56it/s]"
     ]
    },
    {
     "name": "stdout",
     "output_type": "stream",
     "text": [
      "Postprocessing\n"
     ]
    },
    {
     "name": "stderr",
     "output_type": "stream",
     "text": [
      "Greedy:  80%|████████  | 8/10 [00:05<00:01,  1.59it/s]"
     ]
    },
    {
     "name": "stdout",
     "output_type": "stream",
     "text": [
      "Postprocessing\n"
     ]
    },
    {
     "name": "stderr",
     "output_type": "stream",
     "text": [
      "Greedy:  90%|█████████ | 9/10 [00:05<00:00,  1.62it/s]"
     ]
    },
    {
     "name": "stdout",
     "output_type": "stream",
     "text": [
      "Postprocessing\n"
     ]
    },
    {
     "name": "stderr",
     "output_type": "stream",
     "text": [
      "Greedy: 100%|██████████| 10/10 [00:06<00:00,  1.59it/s]\n"
     ]
    },
    {
     "name": "stdout",
     "output_type": "stream",
     "text": [
      "Postprocessing\n"
     ]
    },
    {
     "name": "stderr",
     "output_type": "stream",
     "text": [
      "Greedy:   0%|          | 0/10 [00:00<?, ?it/s]Warning: Player 'Greedy' cannot start at unreachable location 97, starting at closest cell (using Euclidean distance)\n",
      "Greedy:  10%|█         | 1/10 [00:00<00:05,  1.59it/s]"
     ]
    },
    {
     "name": "stdout",
     "output_type": "stream",
     "text": [
      "Postprocessing\n"
     ]
    },
    {
     "name": "stderr",
     "output_type": "stream",
     "text": [
      "Greedy:  20%|██        | 2/10 [00:01<00:04,  1.65it/s]"
     ]
    },
    {
     "name": "stdout",
     "output_type": "stream",
     "text": [
      "Postprocessing\n"
     ]
    },
    {
     "name": "stderr",
     "output_type": "stream",
     "text": [
      "Greedy:  30%|███       | 3/10 [00:01<00:04,  1.57it/s]"
     ]
    },
    {
     "name": "stdout",
     "output_type": "stream",
     "text": [
      "Postprocessing\n"
     ]
    },
    {
     "name": "stderr",
     "output_type": "stream",
     "text": [
      "Greedy:  40%|████      | 4/10 [00:02<00:04,  1.44it/s]"
     ]
    },
    {
     "name": "stdout",
     "output_type": "stream",
     "text": [
      "Postprocessing\n"
     ]
    },
    {
     "name": "stderr",
     "output_type": "stream",
     "text": [
      "Greedy:  50%|█████     | 5/10 [00:03<00:03,  1.27it/s]"
     ]
    },
    {
     "name": "stdout",
     "output_type": "stream",
     "text": [
      "Postprocessing\n"
     ]
    },
    {
     "name": "stderr",
     "output_type": "stream",
     "text": [
      "Greedy:  60%|██████    | 6/10 [00:04<00:03,  1.31it/s]"
     ]
    },
    {
     "name": "stdout",
     "output_type": "stream",
     "text": [
      "Postprocessing\n"
     ]
    },
    {
     "name": "stderr",
     "output_type": "stream",
     "text": [
      "Greedy:  70%|███████   | 7/10 [00:05<00:02,  1.33it/s]"
     ]
    },
    {
     "name": "stdout",
     "output_type": "stream",
     "text": [
      "Postprocessing\n"
     ]
    },
    {
     "name": "stderr",
     "output_type": "stream",
     "text": [
      "Greedy:  80%|████████  | 8/10 [00:05<00:01,  1.36it/s]"
     ]
    },
    {
     "name": "stdout",
     "output_type": "stream",
     "text": [
      "Postprocessing\n"
     ]
    },
    {
     "name": "stderr",
     "output_type": "stream",
     "text": [
      "Greedy:  90%|█████████ | 9/10 [00:06<00:00,  1.45it/s]"
     ]
    },
    {
     "name": "stdout",
     "output_type": "stream",
     "text": [
      "Postprocessing\n"
     ]
    },
    {
     "name": "stderr",
     "output_type": "stream",
     "text": [
      "Greedy: 100%|██████████| 10/10 [00:06<00:00,  1.43it/s]\n"
     ]
    },
    {
     "name": "stdout",
     "output_type": "stream",
     "text": [
      "Postprocessing\n"
     ]
    },
    {
     "name": "stderr",
     "output_type": "stream",
     "text": [
      "Greedy:   0%|          | 0/10 [00:00<?, ?it/s]Warning: Player 'Greedy' cannot start at unreachable location 97, starting at closest cell (using Euclidean distance)\n",
      "Greedy:  10%|█         | 1/10 [00:00<00:06,  1.35it/s]"
     ]
    },
    {
     "name": "stdout",
     "output_type": "stream",
     "text": [
      "Postprocessing\n"
     ]
    },
    {
     "name": "stderr",
     "output_type": "stream",
     "text": [
      "Greedy:  20%|██        | 2/10 [00:01<00:05,  1.40it/s]"
     ]
    },
    {
     "name": "stdout",
     "output_type": "stream",
     "text": [
      "Postprocessing\n"
     ]
    },
    {
     "name": "stderr",
     "output_type": "stream",
     "text": [
      "Greedy:  30%|███       | 3/10 [00:02<00:04,  1.46it/s]"
     ]
    },
    {
     "name": "stdout",
     "output_type": "stream",
     "text": [
      "Postprocessing\n"
     ]
    },
    {
     "name": "stderr",
     "output_type": "stream",
     "text": [
      "Greedy:  40%|████      | 4/10 [00:02<00:04,  1.50it/s]"
     ]
    },
    {
     "name": "stdout",
     "output_type": "stream",
     "text": [
      "Postprocessing\n"
     ]
    },
    {
     "name": "stderr",
     "output_type": "stream",
     "text": [
      "Greedy:  50%|█████     | 5/10 [00:03<00:03,  1.33it/s]"
     ]
    },
    {
     "name": "stdout",
     "output_type": "stream",
     "text": [
      "Postprocessing\n"
     ]
    },
    {
     "name": "stderr",
     "output_type": "stream",
     "text": [
      "Greedy:  60%|██████    | 6/10 [00:04<00:03,  1.32it/s]"
     ]
    },
    {
     "name": "stdout",
     "output_type": "stream",
     "text": [
      "Postprocessing\n"
     ]
    },
    {
     "name": "stderr",
     "output_type": "stream",
     "text": [
      "Greedy:  70%|███████   | 7/10 [00:05<00:02,  1.27it/s]"
     ]
    },
    {
     "name": "stdout",
     "output_type": "stream",
     "text": [
      "Postprocessing\n"
     ]
    },
    {
     "name": "stderr",
     "output_type": "stream",
     "text": [
      "Greedy:  80%|████████  | 8/10 [00:05<00:01,  1.29it/s]"
     ]
    },
    {
     "name": "stdout",
     "output_type": "stream",
     "text": [
      "Postprocessing\n"
     ]
    },
    {
     "name": "stderr",
     "output_type": "stream",
     "text": [
      "Greedy:  90%|█████████ | 9/10 [00:06<00:00,  1.36it/s]"
     ]
    },
    {
     "name": "stdout",
     "output_type": "stream",
     "text": [
      "Postprocessing\n"
     ]
    },
    {
     "name": "stderr",
     "output_type": "stream",
     "text": [
      "Greedy: 100%|██████████| 10/10 [00:07<00:00,  1.37it/s]\n"
     ]
    },
    {
     "name": "stdout",
     "output_type": "stream",
     "text": [
      "Postprocessing\n"
     ]
    },
    {
     "name": "stderr",
     "output_type": "stream",
     "text": [
      "Greedy:   0%|          | 0/10 [00:00<?, ?it/s]Warning: Player 'Greedy' cannot start at unreachable location 97, starting at closest cell (using Euclidean distance)\n",
      "Greedy:  10%|█         | 1/10 [00:00<00:07,  1.23it/s]"
     ]
    },
    {
     "name": "stdout",
     "output_type": "stream",
     "text": [
      "Postprocessing\n"
     ]
    },
    {
     "name": "stderr",
     "output_type": "stream",
     "text": [
      "Greedy:  20%|██        | 2/10 [00:01<00:07,  1.05it/s]"
     ]
    },
    {
     "name": "stdout",
     "output_type": "stream",
     "text": [
      "Postprocessing\n"
     ]
    },
    {
     "name": "stderr",
     "output_type": "stream",
     "text": [
      "Greedy:  30%|███       | 3/10 [00:03<00:07,  1.04s/it]"
     ]
    },
    {
     "name": "stdout",
     "output_type": "stream",
     "text": [
      "Postprocessing\n"
     ]
    },
    {
     "name": "stderr",
     "output_type": "stream",
     "text": [
      "Greedy:  40%|████      | 4/10 [00:04<00:06,  1.06s/it]"
     ]
    },
    {
     "name": "stdout",
     "output_type": "stream",
     "text": [
      "Postprocessing\n"
     ]
    },
    {
     "name": "stderr",
     "output_type": "stream",
     "text": [
      "Greedy:  50%|█████     | 5/10 [00:05<00:05,  1.15s/it]"
     ]
    },
    {
     "name": "stdout",
     "output_type": "stream",
     "text": [
      "Postprocessing\n"
     ]
    },
    {
     "name": "stderr",
     "output_type": "stream",
     "text": [
      "Greedy:  60%|██████    | 6/10 [00:06<00:04,  1.08s/it]"
     ]
    },
    {
     "name": "stdout",
     "output_type": "stream",
     "text": [
      "Postprocessing\n"
     ]
    },
    {
     "name": "stderr",
     "output_type": "stream",
     "text": [
      "Greedy:  70%|███████   | 7/10 [00:07<00:03,  1.03s/it]"
     ]
    },
    {
     "name": "stdout",
     "output_type": "stream",
     "text": [
      "Postprocessing\n"
     ]
    },
    {
     "name": "stderr",
     "output_type": "stream",
     "text": [
      "Greedy:  80%|████████  | 8/10 [00:07<00:01,  1.10it/s]"
     ]
    },
    {
     "name": "stdout",
     "output_type": "stream",
     "text": [
      "Postprocessing\n"
     ]
    },
    {
     "name": "stderr",
     "output_type": "stream",
     "text": [
      "Greedy:  90%|█████████ | 9/10 [00:08<00:00,  1.15it/s]"
     ]
    },
    {
     "name": "stdout",
     "output_type": "stream",
     "text": [
      "Postprocessing\n"
     ]
    },
    {
     "name": "stderr",
     "output_type": "stream",
     "text": [
      "Greedy: 100%|██████████| 10/10 [00:09<00:00,  1.03it/s]\n"
     ]
    },
    {
     "name": "stdout",
     "output_type": "stream",
     "text": [
      "Postprocessing\n"
     ]
    },
    {
     "name": "stderr",
     "output_type": "stream",
     "text": [
      "Greedy:   0%|          | 0/10 [00:00<?, ?it/s]Warning: Player 'Greedy' cannot start at unreachable location 97, starting at closest cell (using Euclidean distance)\n",
      "Greedy:  10%|█         | 1/10 [00:01<00:09,  1.08s/it]"
     ]
    },
    {
     "name": "stdout",
     "output_type": "stream",
     "text": [
      "Postprocessing\n"
     ]
    },
    {
     "name": "stderr",
     "output_type": "stream",
     "text": [
      "Greedy:  20%|██        | 2/10 [00:02<00:08,  1.02s/it]"
     ]
    },
    {
     "name": "stdout",
     "output_type": "stream",
     "text": [
      "Postprocessing\n"
     ]
    },
    {
     "name": "stderr",
     "output_type": "stream",
     "text": [
      "Greedy:  30%|███       | 3/10 [00:03<00:07,  1.02s/it]"
     ]
    },
    {
     "name": "stdout",
     "output_type": "stream",
     "text": [
      "Postprocessing\n"
     ]
    },
    {
     "name": "stderr",
     "output_type": "stream",
     "text": [
      "Greedy:  40%|████      | 4/10 [00:03<00:05,  1.05it/s]"
     ]
    },
    {
     "name": "stdout",
     "output_type": "stream",
     "text": [
      "Postprocessing\n"
     ]
    },
    {
     "name": "stderr",
     "output_type": "stream",
     "text": [
      "Greedy:  50%|█████     | 5/10 [00:05<00:05,  1.08s/it]"
     ]
    },
    {
     "name": "stdout",
     "output_type": "stream",
     "text": [
      "Postprocessing\n"
     ]
    },
    {
     "name": "stderr",
     "output_type": "stream",
     "text": [
      "Greedy:  60%|██████    | 6/10 [00:06<00:04,  1.11s/it]"
     ]
    },
    {
     "name": "stdout",
     "output_type": "stream",
     "text": [
      "Postprocessing\n"
     ]
    },
    {
     "name": "stderr",
     "output_type": "stream",
     "text": [
      "Greedy:  70%|███████   | 7/10 [00:07<00:03,  1.08s/it]"
     ]
    },
    {
     "name": "stdout",
     "output_type": "stream",
     "text": [
      "Postprocessing\n"
     ]
    },
    {
     "name": "stderr",
     "output_type": "stream",
     "text": [
      "Greedy:  80%|████████  | 8/10 [00:08<00:02,  1.08s/it]"
     ]
    },
    {
     "name": "stdout",
     "output_type": "stream",
     "text": [
      "Postprocessing\n"
     ]
    },
    {
     "name": "stderr",
     "output_type": "stream",
     "text": [
      "Greedy:  90%|█████████ | 9/10 [00:09<00:00,  1.02it/s]"
     ]
    },
    {
     "name": "stdout",
     "output_type": "stream",
     "text": [
      "Postprocessing\n"
     ]
    },
    {
     "name": "stderr",
     "output_type": "stream",
     "text": [
      "Greedy: 100%|██████████| 10/10 [00:09<00:00,  1.00it/s]\n"
     ]
    },
    {
     "name": "stdout",
     "output_type": "stream",
     "text": [
      "Postprocessing\n"
     ]
    },
    {
     "name": "stderr",
     "output_type": "stream",
     "text": [
      "Greedy:   0%|          | 0/10 [00:00<?, ?it/s]Warning: Player 'Greedy' cannot start at unreachable location 97, starting at closest cell (using Euclidean distance)\n",
      "Greedy:  10%|█         | 1/10 [00:00<00:07,  1.14it/s]"
     ]
    },
    {
     "name": "stdout",
     "output_type": "stream",
     "text": [
      "Postprocessing\n"
     ]
    },
    {
     "name": "stderr",
     "output_type": "stream",
     "text": [
      "Greedy:  20%|██        | 2/10 [00:01<00:06,  1.22it/s]"
     ]
    },
    {
     "name": "stdout",
     "output_type": "stream",
     "text": [
      "Postprocessing\n"
     ]
    },
    {
     "name": "stderr",
     "output_type": "stream",
     "text": [
      "Greedy:  30%|███       | 3/10 [00:02<00:05,  1.21it/s]"
     ]
    },
    {
     "name": "stdout",
     "output_type": "stream",
     "text": [
      "Postprocessing\n"
     ]
    },
    {
     "name": "stderr",
     "output_type": "stream",
     "text": [
      "Greedy:  40%|████      | 4/10 [00:03<00:04,  1.22it/s]"
     ]
    },
    {
     "name": "stdout",
     "output_type": "stream",
     "text": [
      "Postprocessing\n"
     ]
    },
    {
     "name": "stderr",
     "output_type": "stream",
     "text": [
      "Greedy:  50%|█████     | 5/10 [00:04<00:04,  1.21it/s]"
     ]
    },
    {
     "name": "stdout",
     "output_type": "stream",
     "text": [
      "Postprocessing\n"
     ]
    },
    {
     "name": "stderr",
     "output_type": "stream",
     "text": [
      "Greedy:  60%|██████    | 6/10 [00:05<00:03,  1.06it/s]"
     ]
    },
    {
     "name": "stdout",
     "output_type": "stream",
     "text": [
      "Postprocessing\n"
     ]
    },
    {
     "name": "stderr",
     "output_type": "stream",
     "text": [
      "Greedy:  70%|███████   | 7/10 [00:06<00:03,  1.03s/it]"
     ]
    },
    {
     "name": "stdout",
     "output_type": "stream",
     "text": [
      "Postprocessing\n"
     ]
    },
    {
     "name": "stderr",
     "output_type": "stream",
     "text": [
      "Greedy:  80%|████████  | 8/10 [00:07<00:01,  1.02it/s]"
     ]
    },
    {
     "name": "stdout",
     "output_type": "stream",
     "text": [
      "Postprocessing\n"
     ]
    },
    {
     "name": "stderr",
     "output_type": "stream",
     "text": [
      "Greedy:  90%|█████████ | 9/10 [00:08<00:01,  1.04s/it]"
     ]
    },
    {
     "name": "stdout",
     "output_type": "stream",
     "text": [
      "Postprocessing\n"
     ]
    },
    {
     "name": "stderr",
     "output_type": "stream",
     "text": [
      "Greedy: 100%|██████████| 10/10 [00:09<00:00,  1.04it/s]\n"
     ]
    },
    {
     "name": "stdout",
     "output_type": "stream",
     "text": [
      "Postprocessing\n"
     ]
    },
    {
     "name": "stderr",
     "output_type": "stream",
     "text": [
      "Greedy:   0%|          | 0/10 [00:00<?, ?it/s]Warning: Player 'Greedy' cannot start at unreachable location 97, starting at closest cell (using Euclidean distance)\n",
      "Greedy:  10%|█         | 1/10 [00:01<00:12,  1.42s/it]"
     ]
    },
    {
     "name": "stdout",
     "output_type": "stream",
     "text": [
      "Postprocessing\n"
     ]
    },
    {
     "name": "stderr",
     "output_type": "stream",
     "text": [
      "Greedy:  20%|██        | 2/10 [00:02<00:10,  1.36s/it]"
     ]
    },
    {
     "name": "stdout",
     "output_type": "stream",
     "text": [
      "Postprocessing\n"
     ]
    },
    {
     "name": "stderr",
     "output_type": "stream",
     "text": [
      "Greedy:  30%|███       | 3/10 [00:03<00:08,  1.23s/it]"
     ]
    },
    {
     "name": "stdout",
     "output_type": "stream",
     "text": [
      "Postprocessing\n"
     ]
    },
    {
     "name": "stderr",
     "output_type": "stream",
     "text": [
      "Greedy:  40%|████      | 4/10 [00:04<00:07,  1.20s/it]"
     ]
    },
    {
     "name": "stdout",
     "output_type": "stream",
     "text": [
      "Postprocessing\n"
     ]
    },
    {
     "name": "stderr",
     "output_type": "stream",
     "text": [
      "Greedy:  50%|█████     | 5/10 [00:05<00:05,  1.07s/it]"
     ]
    },
    {
     "name": "stdout",
     "output_type": "stream",
     "text": [
      "Postprocessing\n"
     ]
    },
    {
     "name": "stderr",
     "output_type": "stream",
     "text": [
      "Greedy:  60%|██████    | 6/10 [00:06<00:03,  1.04it/s]"
     ]
    },
    {
     "name": "stdout",
     "output_type": "stream",
     "text": [
      "Postprocessing\n"
     ]
    },
    {
     "name": "stderr",
     "output_type": "stream",
     "text": [
      "Greedy:  70%|███████   | 7/10 [00:07<00:02,  1.11it/s]"
     ]
    },
    {
     "name": "stdout",
     "output_type": "stream",
     "text": [
      "Postprocessing\n"
     ]
    },
    {
     "name": "stderr",
     "output_type": "stream",
     "text": [
      "Greedy:  80%|████████  | 8/10 [00:08<00:01,  1.20it/s]"
     ]
    },
    {
     "name": "stdout",
     "output_type": "stream",
     "text": [
      "Postprocessing\n"
     ]
    },
    {
     "name": "stderr",
     "output_type": "stream",
     "text": [
      "Greedy:  90%|█████████ | 9/10 [00:08<00:00,  1.17it/s]"
     ]
    },
    {
     "name": "stdout",
     "output_type": "stream",
     "text": [
      "Postprocessing\n"
     ]
    },
    {
     "name": "stderr",
     "output_type": "stream",
     "text": [
      "Greedy: 100%|██████████| 10/10 [00:09<00:00,  1.01it/s]\n"
     ]
    },
    {
     "name": "stdout",
     "output_type": "stream",
     "text": [
      "Postprocessing\n"
     ]
    },
    {
     "name": "stderr",
     "output_type": "stream",
     "text": [
      "Greedy:   0%|          | 0/10 [00:00<?, ?it/s]Warning: Player 'Greedy' cannot start at unreachable location 97, starting at closest cell (using Euclidean distance)\n",
      "Greedy:  10%|█         | 1/10 [00:00<00:06,  1.36it/s]"
     ]
    },
    {
     "name": "stdout",
     "output_type": "stream",
     "text": [
      "Postprocessing\n"
     ]
    },
    {
     "name": "stderr",
     "output_type": "stream",
     "text": [
      "Greedy:  20%|██        | 2/10 [00:01<00:05,  1.39it/s]"
     ]
    },
    {
     "name": "stdout",
     "output_type": "stream",
     "text": [
      "Postprocessing\n"
     ]
    },
    {
     "name": "stderr",
     "output_type": "stream",
     "text": [
      "Greedy:  30%|███       | 3/10 [00:02<00:05,  1.35it/s]"
     ]
    },
    {
     "name": "stdout",
     "output_type": "stream",
     "text": [
      "Postprocessing\n"
     ]
    },
    {
     "name": "stderr",
     "output_type": "stream",
     "text": [
      "Greedy:  40%|████      | 4/10 [00:03<00:04,  1.24it/s]"
     ]
    },
    {
     "name": "stdout",
     "output_type": "stream",
     "text": [
      "Postprocessing\n"
     ]
    },
    {
     "name": "stderr",
     "output_type": "stream",
     "text": [
      "Greedy:  50%|█████     | 5/10 [00:04<00:04,  1.20it/s]"
     ]
    },
    {
     "name": "stdout",
     "output_type": "stream",
     "text": [
      "Postprocessing\n"
     ]
    },
    {
     "name": "stderr",
     "output_type": "stream",
     "text": [
      "Greedy:  60%|██████    | 6/10 [00:04<00:03,  1.17it/s]"
     ]
    },
    {
     "name": "stdout",
     "output_type": "stream",
     "text": [
      "Postprocessing\n"
     ]
    },
    {
     "name": "stderr",
     "output_type": "stream",
     "text": [
      "Greedy:  70%|███████   | 7/10 [00:05<00:02,  1.22it/s]"
     ]
    },
    {
     "name": "stdout",
     "output_type": "stream",
     "text": [
      "Postprocessing\n"
     ]
    },
    {
     "name": "stderr",
     "output_type": "stream",
     "text": [
      "Greedy:  80%|████████  | 8/10 [00:06<00:01,  1.26it/s]"
     ]
    },
    {
     "name": "stdout",
     "output_type": "stream",
     "text": [
      "Postprocessing\n"
     ]
    },
    {
     "name": "stderr",
     "output_type": "stream",
     "text": [
      "Greedy:  90%|█████████ | 9/10 [00:07<00:00,  1.27it/s]"
     ]
    },
    {
     "name": "stdout",
     "output_type": "stream",
     "text": [
      "Postprocessing\n"
     ]
    },
    {
     "name": "stderr",
     "output_type": "stream",
     "text": [
      "Greedy: 100%|██████████| 10/10 [00:07<00:00,  1.27it/s]\n"
     ]
    },
    {
     "name": "stdout",
     "output_type": "stream",
     "text": [
      "Postprocessing\n"
     ]
    },
    {
     "name": "stderr",
     "output_type": "stream",
     "text": [
      "Greedy:   0%|          | 0/10 [00:00<?, ?it/s]Warning: Player 'Greedy' cannot start at unreachable location 97, starting at closest cell (using Euclidean distance)\n",
      "Greedy:  10%|█         | 1/10 [00:00<00:06,  1.31it/s]"
     ]
    },
    {
     "name": "stdout",
     "output_type": "stream",
     "text": [
      "Postprocessing\n"
     ]
    },
    {
     "name": "stderr",
     "output_type": "stream",
     "text": [
      "Greedy:  20%|██        | 2/10 [00:01<00:05,  1.35it/s]"
     ]
    },
    {
     "name": "stdout",
     "output_type": "stream",
     "text": [
      "Postprocessing\n"
     ]
    },
    {
     "name": "stderr",
     "output_type": "stream",
     "text": [
      "Greedy:  30%|███       | 3/10 [00:02<00:05,  1.31it/s]"
     ]
    },
    {
     "name": "stdout",
     "output_type": "stream",
     "text": [
      "Postprocessing\n"
     ]
    },
    {
     "name": "stderr",
     "output_type": "stream",
     "text": [
      "Greedy:  40%|████      | 4/10 [00:03<00:04,  1.32it/s]"
     ]
    },
    {
     "name": "stdout",
     "output_type": "stream",
     "text": [
      "Postprocessing\n"
     ]
    },
    {
     "name": "stderr",
     "output_type": "stream",
     "text": [
      "Greedy:  50%|█████     | 5/10 [00:03<00:03,  1.29it/s]"
     ]
    },
    {
     "name": "stdout",
     "output_type": "stream",
     "text": [
      "Postprocessing\n"
     ]
    },
    {
     "name": "stderr",
     "output_type": "stream",
     "text": [
      "Greedy:  60%|██████    | 6/10 [00:04<00:03,  1.26it/s]"
     ]
    },
    {
     "name": "stdout",
     "output_type": "stream",
     "text": [
      "Postprocessing\n"
     ]
    },
    {
     "name": "stderr",
     "output_type": "stream",
     "text": [
      "Greedy:  70%|███████   | 7/10 [00:05<00:02,  1.28it/s]"
     ]
    },
    {
     "name": "stdout",
     "output_type": "stream",
     "text": [
      "Postprocessing\n"
     ]
    },
    {
     "name": "stderr",
     "output_type": "stream",
     "text": [
      "Greedy:  80%|████████  | 8/10 [00:06<00:01,  1.30it/s]"
     ]
    },
    {
     "name": "stdout",
     "output_type": "stream",
     "text": [
      "Postprocessing\n"
     ]
    },
    {
     "name": "stderr",
     "output_type": "stream",
     "text": [
      "Greedy:  90%|█████████ | 9/10 [00:06<00:00,  1.28it/s]"
     ]
    },
    {
     "name": "stdout",
     "output_type": "stream",
     "text": [
      "Postprocessing\n"
     ]
    },
    {
     "name": "stderr",
     "output_type": "stream",
     "text": [
      "Greedy: 100%|██████████| 10/10 [00:08<00:00,  1.24it/s]\n"
     ]
    },
    {
     "name": "stdout",
     "output_type": "stream",
     "text": [
      "Postprocessing\n"
     ]
    },
    {
     "name": "stderr",
     "output_type": "stream",
     "text": [
      "Two_opt:   0%|          | 0/10 [00:00<?, ?it/s]Warning: Player 'Two_opt' cannot start at unreachable location 97, starting at closest cell (using Euclidean distance)\n",
      "Two_opt:  10%|█         | 1/10 [00:00<00:03,  2.67it/s]"
     ]
    },
    {
     "name": "stdout",
     "output_type": "stream",
     "text": [
      "[(27, dict_keys([82, 62])), (62, dict_keys([82, 27])), (82, dict_keys([27, 62]))]\n",
      "Postprocessing\n"
     ]
    },
    {
     "name": "stderr",
     "output_type": "stream",
     "text": [
      "Two_opt:  20%|██        | 2/10 [00:00<00:02,  2.97it/s]"
     ]
    },
    {
     "name": "stdout",
     "output_type": "stream",
     "text": [
      "[(145, dict_keys([97, 100])), (100, dict_keys([97, 145])), (97, dict_keys([145, 100]))]\n",
      "Postprocessing\n"
     ]
    },
    {
     "name": "stderr",
     "output_type": "stream",
     "text": [
      "Two_opt:  30%|███       | 3/10 [00:01<00:02,  2.86it/s]"
     ]
    },
    {
     "name": "stdout",
     "output_type": "stream",
     "text": [
      "[(103, dict_keys([97, 165])), (165, dict_keys([97, 103])), (97, dict_keys([103, 165]))]\n",
      "Postprocessing\n"
     ]
    },
    {
     "name": "stderr",
     "output_type": "stream",
     "text": [
      "Two_opt:  40%|████      | 4/10 [00:01<00:02,  2.85it/s]"
     ]
    },
    {
     "name": "stdout",
     "output_type": "stream",
     "text": [
      "[(180, dict_keys([97, 163])), (163, dict_keys([97, 180])), (97, dict_keys([180, 163]))]\n",
      "Postprocessing\n"
     ]
    },
    {
     "name": "stderr",
     "output_type": "stream",
     "text": [
      "Two_opt:  50%|█████     | 5/10 [00:01<00:01,  2.95it/s]"
     ]
    },
    {
     "name": "stdout",
     "output_type": "stream",
     "text": [
      "[(16, dict_keys([97, 176])), (176, dict_keys([97, 16])), (97, dict_keys([16, 176]))]\n",
      "Postprocessing\n"
     ]
    },
    {
     "name": "stderr",
     "output_type": "stream",
     "text": [
      "Two_opt:  60%|██████    | 6/10 [00:02<00:01,  3.05it/s]"
     ]
    },
    {
     "name": "stdout",
     "output_type": "stream",
     "text": [
      "[(191, dict_keys([97, 13])), (13, dict_keys([97, 191])), (97, dict_keys([191, 13]))]\n",
      "Postprocessing\n"
     ]
    },
    {
     "name": "stderr",
     "output_type": "stream",
     "text": [
      "Two_opt:  70%|███████   | 7/10 [00:02<00:00,  3.12it/s]"
     ]
    },
    {
     "name": "stdout",
     "output_type": "stream",
     "text": [
      "[(79, dict_keys([97, 189])), (189, dict_keys([97, 79])), (97, dict_keys([79, 189]))]\n",
      "Postprocessing\n"
     ]
    },
    {
     "name": "stderr",
     "output_type": "stream",
     "text": [
      "Two_opt:  80%|████████  | 8/10 [00:02<00:00,  3.23it/s]"
     ]
    },
    {
     "name": "stdout",
     "output_type": "stream",
     "text": [
      "[(21, dict_keys([97, 25])), (25, dict_keys([97, 21])), (97, dict_keys([21, 25]))]\n",
      "Postprocessing\n"
     ]
    },
    {
     "name": "stderr",
     "output_type": "stream",
     "text": [
      "Two_opt:  90%|█████████ | 9/10 [00:02<00:00,  3.24it/s]"
     ]
    },
    {
     "name": "stdout",
     "output_type": "stream",
     "text": [
      "[(8, dict_keys([97, 50])), (50, dict_keys([97, 8])), (97, dict_keys([8, 50]))]\n",
      "Postprocessing\n"
     ]
    },
    {
     "name": "stderr",
     "output_type": "stream",
     "text": [
      "Two_opt: 100%|██████████| 10/10 [00:03<00:00,  3.04it/s]\n"
     ]
    },
    {
     "name": "stdout",
     "output_type": "stream",
     "text": [
      "[(180, dict_keys([97, 89])), (89, dict_keys([97, 180])), (97, dict_keys([180, 89]))]\n",
      "Postprocessing\n"
     ]
    },
    {
     "name": "stderr",
     "output_type": "stream",
     "text": [
      "Two_opt:   0%|          | 0/10 [00:00<?, ?it/s]Warning: Player 'Two_opt' cannot start at unreachable location 97, starting at closest cell (using Euclidean distance)\n",
      "Two_opt:  10%|█         | 1/10 [00:00<00:05,  1.52it/s]"
     ]
    },
    {
     "name": "stdout",
     "output_type": "stream",
     "text": [
      "[(27, dict_keys([82, 192, 108, 62])), (62, dict_keys([82, 192, 108, 27])), (108, dict_keys([82, 192, 27, 62])), (192, dict_keys([82, 27, 62, 108])), (82, dict_keys([27, 62, 108, 192]))]\n",
      "Postprocessing\n"
     ]
    },
    {
     "name": "stderr",
     "output_type": "stream",
     "text": [
      "Two_opt:  20%|██        | 2/10 [00:00<00:03,  2.18it/s]"
     ]
    },
    {
     "name": "stdout",
     "output_type": "stream",
     "text": [
      "[(145, dict_keys([97, 179, 173, 100])), (100, dict_keys([97, 179, 173, 145])), (173, dict_keys([97, 179, 145, 100])), (179, dict_keys([97, 145, 100, 173])), (97, dict_keys([145, 100, 173, 179]))]\n",
      "Postprocessing\n"
     ]
    },
    {
     "name": "stderr",
     "output_type": "stream",
     "text": [
      "Two_opt:  30%|███       | 3/10 [00:01<00:02,  2.48it/s]"
     ]
    },
    {
     "name": "stdout",
     "output_type": "stream",
     "text": [
      "[(103, dict_keys([97, 100, 146, 165])), (165, dict_keys([97, 100, 146, 103])), (146, dict_keys([97, 100, 103, 165])), (100, dict_keys([97, 103, 165, 146])), (97, dict_keys([103, 165, 146, 100]))]\n",
      "Postprocessing\n"
     ]
    },
    {
     "name": "stderr",
     "output_type": "stream",
     "text": [
      "Two_opt:  40%|████      | 4/10 [00:01<00:02,  2.57it/s]"
     ]
    },
    {
     "name": "stdout",
     "output_type": "stream",
     "text": [
      "[(180, dict_keys([97, 7, 166, 163])), (163, dict_keys([97, 7, 166, 180])), (166, dict_keys([97, 7, 180, 163])), (7, dict_keys([97, 180, 163, 166])), (97, dict_keys([180, 163, 166, 7]))]\n",
      "Postprocessing\n"
     ]
    },
    {
     "name": "stderr",
     "output_type": "stream",
     "text": [
      "Two_opt:  50%|█████     | 5/10 [00:02<00:01,  2.71it/s]"
     ]
    },
    {
     "name": "stdout",
     "output_type": "stream",
     "text": [
      "[(16, dict_keys([97, 67, 178, 176])), (176, dict_keys([97, 67, 178, 16])), (178, dict_keys([97, 67, 16, 176])), (67, dict_keys([97, 16, 176, 178])), (97, dict_keys([16, 176, 178, 67]))]\n",
      "Postprocessing\n"
     ]
    },
    {
     "name": "stderr",
     "output_type": "stream",
     "text": [
      "Two_opt:  60%|██████    | 6/10 [00:02<00:01,  2.73it/s]"
     ]
    },
    {
     "name": "stdout",
     "output_type": "stream",
     "text": [
      "[(191, dict_keys([97, 17, 43, 13])), (13, dict_keys([97, 17, 43, 191])), (43, dict_keys([97, 17, 191, 13])), (17, dict_keys([97, 191, 13, 43])), (97, dict_keys([191, 13, 43, 17]))]\n",
      "Postprocessing\n"
     ]
    },
    {
     "name": "stderr",
     "output_type": "stream",
     "text": [
      "Two_opt:  70%|███████   | 7/10 [00:02<00:01,  2.82it/s]"
     ]
    },
    {
     "name": "stdout",
     "output_type": "stream",
     "text": [
      "[(79, dict_keys([97, 124, 131, 189])), (189, dict_keys([97, 124, 131, 79])), (131, dict_keys([97, 124, 79, 189])), (124, dict_keys([97, 79, 189, 131])), (97, dict_keys([79, 189, 131, 124]))]\n",
      "Postprocessing\n"
     ]
    },
    {
     "name": "stderr",
     "output_type": "stream",
     "text": [
      "Two_opt:  80%|████████  | 8/10 [00:03<00:00,  2.89it/s]"
     ]
    },
    {
     "name": "stdout",
     "output_type": "stream",
     "text": [
      "[(21, dict_keys([97, 165, 46, 25])), (25, dict_keys([97, 165, 46, 21])), (46, dict_keys([97, 165, 21, 25])), (165, dict_keys([97, 21, 25, 46])), (97, dict_keys([21, 25, 46, 165]))]\n",
      "Postprocessing\n"
     ]
    },
    {
     "name": "stderr",
     "output_type": "stream",
     "text": [
      "Two_opt:  90%|█████████ | 9/10 [00:03<00:00,  2.89it/s]"
     ]
    },
    {
     "name": "stdout",
     "output_type": "stream",
     "text": [
      "[(8, dict_keys([97, 180, 158, 50])), (50, dict_keys([97, 180, 158, 8])), (158, dict_keys([97, 180, 8, 50])), (180, dict_keys([97, 8, 50, 158])), (97, dict_keys([8, 50, 158, 180]))]\n",
      "Postprocessing\n"
     ]
    },
    {
     "name": "stderr",
     "output_type": "stream",
     "text": [
      "Two_opt: 100%|██████████| 10/10 [00:03<00:00,  2.69it/s]\n"
     ]
    },
    {
     "name": "stdout",
     "output_type": "stream",
     "text": [
      "[(180, dict_keys([97, 157, 118, 89])), (89, dict_keys([97, 157, 118, 180])), (118, dict_keys([97, 157, 180, 89])), (157, dict_keys([97, 180, 89, 118])), (97, dict_keys([180, 89, 118, 157]))]\n",
      "Postprocessing\n"
     ]
    },
    {
     "name": "stderr",
     "output_type": "stream",
     "text": [
      "Two_opt:   0%|          | 0/10 [00:00<?, ?it/s]Warning: Player 'Two_opt' cannot start at unreachable location 97, starting at closest cell (using Euclidean distance)\n",
      "Two_opt:  10%|█         | 1/10 [00:00<00:03,  2.73it/s]"
     ]
    },
    {
     "name": "stdout",
     "output_type": "stream",
     "text": [
      "[(27, dict_keys([82, 175, 61, 192, 108, 62])), (62, dict_keys([82, 175, 61, 192, 108, 27])), (108, dict_keys([82, 175, 61, 192, 27, 62])), (192, dict_keys([82, 175, 61, 27, 62, 108])), (61, dict_keys([82, 175, 27, 62, 108, 192])), (175, dict_keys([82, 27, 62, 108, 192, 61])), (82, dict_keys([27, 62, 108, 192, 61, 175]))]\n",
      "Postprocessing\n"
     ]
    },
    {
     "name": "stderr",
     "output_type": "stream",
     "text": [
      "Two_opt:  20%|██        | 2/10 [00:00<00:02,  2.68it/s]"
     ]
    },
    {
     "name": "stdout",
     "output_type": "stream",
     "text": [
      "[(145, dict_keys([97, 65, 137, 179, 173, 100])), (100, dict_keys([97, 65, 137, 179, 173, 145])), (173, dict_keys([97, 65, 137, 179, 145, 100])), (179, dict_keys([97, 65, 137, 145, 100, 173])), (137, dict_keys([97, 65, 145, 100, 173, 179])), (65, dict_keys([97, 145, 100, 173, 179, 137])), (97, dict_keys([145, 100, 173, 179, 137, 65]))]\n",
      "Postprocessing\n"
     ]
    },
    {
     "name": "stderr",
     "output_type": "stream",
     "text": [
      "Two_opt:  30%|███       | 3/10 [00:01<00:02,  2.59it/s]"
     ]
    },
    {
     "name": "stdout",
     "output_type": "stream",
     "text": [
      "[(103, dict_keys([97, 181, 10, 100, 146, 165])), (165, dict_keys([97, 181, 10, 100, 146, 103])), (146, dict_keys([97, 181, 10, 100, 103, 165])), (100, dict_keys([97, 181, 10, 103, 165, 146])), (10, dict_keys([97, 181, 103, 165, 146, 100])), (181, dict_keys([97, 103, 165, 146, 100, 10])), (97, dict_keys([103, 165, 146, 100, 10, 181]))]\n",
      "Postprocessing\n"
     ]
    },
    {
     "name": "stderr",
     "output_type": "stream",
     "text": [
      "Two_opt:  40%|████      | 4/10 [00:01<00:02,  2.66it/s]"
     ]
    },
    {
     "name": "stdout",
     "output_type": "stream",
     "text": [
      "[(180, dict_keys([97, 100, 105, 7, 166, 163])), (163, dict_keys([97, 100, 105, 7, 166, 180])), (166, dict_keys([97, 100, 105, 7, 180, 163])), (7, dict_keys([97, 100, 105, 180, 163, 166])), (105, dict_keys([97, 100, 180, 163, 166, 7])), (100, dict_keys([97, 180, 163, 166, 7, 105])), (97, dict_keys([180, 163, 166, 7, 105, 100]))]\n",
      "Postprocessing\n"
     ]
    },
    {
     "name": "stderr",
     "output_type": "stream",
     "text": [
      "Two_opt:  50%|█████     | 5/10 [00:01<00:01,  2.69it/s]"
     ]
    },
    {
     "name": "stdout",
     "output_type": "stream",
     "text": [
      "[(16, dict_keys([97, 99, 115, 67, 178, 176])), (176, dict_keys([97, 99, 115, 67, 178, 16])), (178, dict_keys([97, 99, 115, 67, 16, 176])), (67, dict_keys([97, 99, 115, 16, 176, 178])), (115, dict_keys([97, 99, 16, 176, 178, 67])), (99, dict_keys([97, 16, 176, 178, 67, 115])), (97, dict_keys([16, 176, 178, 67, 115, 99]))]\n",
      "Postprocessing\n"
     ]
    },
    {
     "name": "stderr",
     "output_type": "stream",
     "text": [
      "Two_opt:  60%|██████    | 6/10 [00:02<00:01,  2.66it/s]"
     ]
    },
    {
     "name": "stdout",
     "output_type": "stream",
     "text": [
      "[(191, dict_keys([97, 111, 124, 17, 43, 13])), (13, dict_keys([97, 111, 124, 17, 43, 191])), (43, dict_keys([97, 111, 124, 17, 191, 13])), (17, dict_keys([97, 111, 124, 191, 13, 43])), (124, dict_keys([97, 111, 191, 13, 43, 17])), (111, dict_keys([97, 191, 13, 43, 17, 124])), (97, dict_keys([191, 13, 43, 17, 124, 111]))]\n",
      "Postprocessing\n"
     ]
    },
    {
     "name": "stderr",
     "output_type": "stream",
     "text": [
      "Two_opt:  70%|███████   | 7/10 [00:02<00:01,  2.69it/s]"
     ]
    },
    {
     "name": "stdout",
     "output_type": "stream",
     "text": [
      "[(79, dict_keys([97, 82, 41, 124, 131, 189])), (189, dict_keys([97, 82, 41, 124, 131, 79])), (131, dict_keys([97, 82, 41, 124, 79, 189])), (124, dict_keys([97, 82, 41, 79, 189, 131])), (41, dict_keys([97, 82, 79, 189, 131, 124])), (82, dict_keys([97, 79, 189, 131, 124, 41])), (97, dict_keys([79, 189, 131, 124, 41, 82]))]\n",
      "Postprocessing\n"
     ]
    },
    {
     "name": "stderr",
     "output_type": "stream",
     "text": [
      "Two_opt:  80%|████████  | 8/10 [00:02<00:00,  2.68it/s]"
     ]
    },
    {
     "name": "stdout",
     "output_type": "stream",
     "text": [
      "[(21, dict_keys([97, 72, 0, 165, 46, 25])), (25, dict_keys([97, 72, 0, 165, 46, 21])), (46, dict_keys([97, 72, 0, 165, 21, 25])), (165, dict_keys([97, 72, 0, 21, 25, 46])), (0, dict_keys([97, 72, 21, 25, 46, 165])), (72, dict_keys([97, 21, 25, 46, 165, 0])), (97, dict_keys([21, 25, 46, 165, 0, 72]))]\n",
      "Postprocessing\n"
     ]
    },
    {
     "name": "stderr",
     "output_type": "stream",
     "text": [
      "Two_opt:  90%|█████████ | 9/10 [00:03<00:00,  2.70it/s]"
     ]
    },
    {
     "name": "stdout",
     "output_type": "stream",
     "text": [
      "[(8, dict_keys([97, 61, 186, 180, 158, 50])), (50, dict_keys([97, 61, 186, 180, 158, 8])), (158, dict_keys([97, 61, 186, 180, 8, 50])), (180, dict_keys([97, 61, 186, 8, 50, 158])), (186, dict_keys([97, 61, 8, 50, 158, 180])), (61, dict_keys([97, 8, 50, 158, 180, 186])), (97, dict_keys([8, 50, 158, 180, 186, 61]))]\n",
      "Postprocessing\n"
     ]
    },
    {
     "name": "stderr",
     "output_type": "stream",
     "text": [
      "Two_opt: 100%|██████████| 10/10 [00:03<00:00,  2.67it/s]\n"
     ]
    },
    {
     "name": "stdout",
     "output_type": "stream",
     "text": [
      "[(180, dict_keys([97, 112, 85, 157, 118, 89])), (89, dict_keys([97, 112, 85, 157, 118, 180])), (118, dict_keys([97, 112, 85, 157, 180, 89])), (157, dict_keys([97, 112, 85, 180, 89, 118])), (85, dict_keys([97, 112, 180, 89, 118, 157])), (112, dict_keys([97, 180, 89, 118, 157, 85])), (97, dict_keys([180, 89, 118, 157, 85, 112]))]\n",
      "Postprocessing\n"
     ]
    },
    {
     "name": "stderr",
     "output_type": "stream",
     "text": [
      "Two_opt:   0%|          | 0/10 [00:00<?, ?it/s]Warning: Player 'Two_opt' cannot start at unreachable location 97, starting at closest cell (using Euclidean distance)\n",
      "Two_opt:  10%|█         | 1/10 [00:00<00:03,  2.45it/s]"
     ]
    },
    {
     "name": "stdout",
     "output_type": "stream",
     "text": [
      "[(27, dict_keys([82, 12, 53, 175, 61, 192, 108, 62])), (62, dict_keys([82, 12, 53, 175, 61, 192, 108, 27])), (108, dict_keys([82, 12, 53, 175, 61, 192, 27, 62])), (192, dict_keys([82, 12, 53, 175, 61, 27, 62, 108])), (61, dict_keys([82, 12, 53, 175, 27, 62, 108, 192])), (175, dict_keys([82, 12, 53, 27, 62, 108, 192, 61])), (53, dict_keys([82, 12, 27, 62, 108, 192, 61, 175])), (12, dict_keys([82, 27, 62, 108, 192, 61, 175, 53])), (82, dict_keys([27, 62, 108, 192, 61, 175, 53, 12]))]\n",
      "Postprocessing\n"
     ]
    },
    {
     "name": "stderr",
     "output_type": "stream",
     "text": [
      "Two_opt:  20%|██        | 2/10 [00:00<00:03,  2.20it/s]"
     ]
    },
    {
     "name": "stdout",
     "output_type": "stream",
     "text": [
      "[(145, dict_keys([97, 152, 135, 65, 137, 179, 173, 100])), (100, dict_keys([97, 152, 135, 65, 137, 179, 173, 145])), (173, dict_keys([97, 152, 135, 65, 137, 179, 145, 100])), (179, dict_keys([97, 152, 135, 65, 137, 145, 100, 173])), (137, dict_keys([97, 152, 135, 65, 145, 100, 173, 179])), (65, dict_keys([97, 152, 135, 145, 100, 173, 179, 137])), (135, dict_keys([97, 152, 145, 100, 173, 179, 137, 65])), (152, dict_keys([97, 145, 100, 173, 179, 137, 65, 135])), (97, dict_keys([145, 100, 173, 179, 137, 65, 135, 152]))]\n",
      "Postprocessing\n"
     ]
    },
    {
     "name": "stderr",
     "output_type": "stream",
     "text": [
      "Two_opt:  30%|███       | 3/10 [00:01<00:03,  2.18it/s]"
     ]
    },
    {
     "name": "stdout",
     "output_type": "stream",
     "text": [
      "[(103, dict_keys([97, 151, 63, 181, 10, 100, 146, 165])), (165, dict_keys([97, 151, 63, 181, 10, 100, 146, 103])), (146, dict_keys([97, 151, 63, 181, 10, 100, 103, 165])), (100, dict_keys([97, 151, 63, 181, 10, 103, 165, 146])), (10, dict_keys([97, 151, 63, 181, 103, 165, 146, 100])), (181, dict_keys([97, 151, 63, 103, 165, 146, 100, 10])), (63, dict_keys([97, 151, 103, 165, 146, 100, 10, 181])), (151, dict_keys([97, 103, 165, 146, 100, 10, 181, 63])), (97, dict_keys([103, 165, 146, 100, 10, 181, 63, 151]))]\n",
      "Postprocessing\n"
     ]
    },
    {
     "name": "stderr",
     "output_type": "stream",
     "text": [
      "Two_opt:  40%|████      | 4/10 [00:01<00:02,  2.18it/s]"
     ]
    },
    {
     "name": "stdout",
     "output_type": "stream",
     "text": [
      "[(180, dict_keys([97, 37, 140, 100, 105, 7, 166, 163])), (163, dict_keys([97, 37, 140, 100, 105, 7, 166, 180])), (166, dict_keys([97, 37, 140, 100, 105, 7, 180, 163])), (7, dict_keys([97, 37, 140, 100, 105, 180, 163, 166])), (105, dict_keys([97, 37, 140, 100, 180, 163, 166, 7])), (100, dict_keys([97, 37, 140, 180, 163, 166, 7, 105])), (140, dict_keys([97, 37, 180, 163, 166, 7, 105, 100])), (37, dict_keys([97, 180, 163, 166, 7, 105, 100, 140])), (97, dict_keys([180, 163, 166, 7, 105, 100, 140, 37]))]\n",
      "Postprocessing\n"
     ]
    },
    {
     "name": "stderr",
     "output_type": "stream",
     "text": [
      "Two_opt:  50%|█████     | 5/10 [00:02<00:02,  2.18it/s]"
     ]
    },
    {
     "name": "stdout",
     "output_type": "stream",
     "text": [
      "[(16, dict_keys([97, 79, 49, 99, 115, 67, 178, 176])), (176, dict_keys([97, 79, 49, 99, 115, 67, 178, 16])), (178, dict_keys([97, 79, 49, 99, 115, 67, 16, 176])), (67, dict_keys([97, 79, 49, 99, 115, 16, 176, 178])), (115, dict_keys([97, 79, 49, 99, 16, 176, 178, 67])), (99, dict_keys([97, 79, 49, 16, 176, 178, 67, 115])), (49, dict_keys([97, 79, 16, 176, 178, 67, 115, 99])), (79, dict_keys([97, 16, 176, 178, 67, 115, 99, 49])), (97, dict_keys([16, 176, 178, 67, 115, 99, 49, 79]))]\n",
      "Postprocessing\n"
     ]
    },
    {
     "name": "stderr",
     "output_type": "stream",
     "text": [
      "Two_opt:  60%|██████    | 6/10 [00:02<00:01,  2.25it/s]"
     ]
    },
    {
     "name": "stdout",
     "output_type": "stream",
     "text": [
      "[(191, dict_keys([97, 85, 107, 111, 124, 17, 43, 13])), (13, dict_keys([97, 85, 107, 111, 124, 17, 43, 191])), (43, dict_keys([97, 85, 107, 111, 124, 17, 191, 13])), (17, dict_keys([97, 85, 107, 111, 124, 191, 13, 43])), (124, dict_keys([97, 85, 107, 111, 191, 13, 43, 17])), (111, dict_keys([97, 85, 107, 191, 13, 43, 17, 124])), (107, dict_keys([97, 85, 191, 13, 43, 17, 124, 111])), (85, dict_keys([97, 191, 13, 43, 17, 124, 111, 107])), (97, dict_keys([191, 13, 43, 17, 124, 111, 107, 85]))]\n",
      "Postprocessing\n"
     ]
    },
    {
     "name": "stderr",
     "output_type": "stream",
     "text": [
      "Two_opt:  70%|███████   | 7/10 [00:03<00:01,  2.36it/s]"
     ]
    },
    {
     "name": "stdout",
     "output_type": "stream",
     "text": [
      "[(79, dict_keys([97, 109, 30, 82, 41, 124, 131, 189])), (189, dict_keys([97, 109, 30, 82, 41, 124, 131, 79])), (131, dict_keys([97, 109, 30, 82, 41, 124, 79, 189])), (124, dict_keys([97, 109, 30, 82, 41, 79, 189, 131])), (41, dict_keys([97, 109, 30, 82, 79, 189, 131, 124])), (82, dict_keys([97, 109, 30, 79, 189, 131, 124, 41])), (30, dict_keys([97, 109, 79, 189, 131, 124, 41, 82])), (109, dict_keys([97, 79, 189, 131, 124, 41, 82, 30])), (97, dict_keys([79, 189, 131, 124, 41, 82, 30, 109]))]\n",
      "Postprocessing\n"
     ]
    },
    {
     "name": "stderr",
     "output_type": "stream",
     "text": [
      "Two_opt:  80%|████████  | 8/10 [00:03<00:00,  2.42it/s]"
     ]
    },
    {
     "name": "stdout",
     "output_type": "stream",
     "text": [
      "[(21, dict_keys([97, 126, 34, 72, 0, 165, 46, 25])), (25, dict_keys([97, 126, 34, 72, 0, 165, 46, 21])), (46, dict_keys([97, 126, 34, 72, 0, 165, 21, 25])), (165, dict_keys([97, 126, 34, 72, 0, 21, 25, 46])), (0, dict_keys([97, 126, 34, 72, 21, 25, 46, 165])), (72, dict_keys([97, 126, 34, 21, 25, 46, 165, 0])), (34, dict_keys([97, 126, 21, 25, 46, 165, 0, 72])), (126, dict_keys([97, 21, 25, 46, 165, 0, 72, 34])), (97, dict_keys([21, 25, 46, 165, 0, 72, 34, 126]))]\n",
      "Postprocessing\n"
     ]
    },
    {
     "name": "stderr",
     "output_type": "stream",
     "text": [
      "Two_opt:  90%|█████████ | 9/10 [00:03<00:00,  2.51it/s]"
     ]
    },
    {
     "name": "stdout",
     "output_type": "stream",
     "text": [
      "[(8, dict_keys([97, 167, 106, 61, 186, 180, 158, 50])), (50, dict_keys([97, 167, 106, 61, 186, 180, 158, 8])), (158, dict_keys([97, 167, 106, 61, 186, 180, 8, 50])), (180, dict_keys([97, 167, 106, 61, 186, 8, 50, 158])), (186, dict_keys([97, 167, 106, 61, 8, 50, 158, 180])), (61, dict_keys([97, 167, 106, 8, 50, 158, 180, 186])), (106, dict_keys([97, 167, 8, 50, 158, 180, 186, 61])), (167, dict_keys([97, 8, 50, 158, 180, 186, 61, 106])), (97, dict_keys([8, 50, 158, 180, 186, 61, 106, 167]))]\n",
      "Postprocessing\n"
     ]
    },
    {
     "name": "stderr",
     "output_type": "stream",
     "text": [
      "Two_opt: 100%|██████████| 10/10 [00:04<00:00,  2.36it/s]\n"
     ]
    },
    {
     "name": "stdout",
     "output_type": "stream",
     "text": [
      "[(180, dict_keys([97, 39, 177, 112, 85, 157, 118, 89])), (89, dict_keys([97, 39, 177, 112, 85, 157, 118, 180])), (118, dict_keys([97, 39, 177, 112, 85, 157, 180, 89])), (157, dict_keys([97, 39, 177, 112, 85, 180, 89, 118])), (85, dict_keys([97, 39, 177, 112, 180, 89, 118, 157])), (112, dict_keys([97, 39, 177, 180, 89, 118, 157, 85])), (177, dict_keys([97, 39, 180, 89, 118, 157, 85, 112])), (39, dict_keys([97, 180, 89, 118, 157, 85, 112, 177])), (97, dict_keys([180, 89, 118, 157, 85, 112, 177, 39]))]\n",
      "Postprocessing\n"
     ]
    },
    {
     "name": "stderr",
     "output_type": "stream",
     "text": [
      "Two_opt:   0%|          | 0/10 [00:00<?, ?it/s]Warning: Player 'Two_opt' cannot start at unreachable location 97, starting at closest cell (using Euclidean distance)\n",
      "Two_opt:  10%|█         | 1/10 [00:00<00:03,  2.32it/s]"
     ]
    },
    {
     "name": "stdout",
     "output_type": "stream",
     "text": [
      "[(27, dict_keys([82, 14, 21, 12, 53, 175, 61, 192, 108, 62])), (62, dict_keys([82, 14, 21, 12, 53, 175, 61, 192, 108, 27])), (108, dict_keys([82, 14, 21, 12, 53, 175, 61, 192, 27, 62])), (192, dict_keys([82, 14, 21, 12, 53, 175, 61, 27, 62, 108])), (61, dict_keys([82, 14, 21, 12, 53, 175, 27, 62, 108, 192])), (175, dict_keys([82, 14, 21, 12, 53, 27, 62, 108, 192, 61])), (53, dict_keys([82, 14, 21, 12, 27, 62, 108, 192, 61, 175])), (12, dict_keys([82, 14, 21, 27, 62, 108, 192, 61, 175, 53])), (21, dict_keys([82, 14, 27, 62, 108, 192, 61, 175, 53, 12])), (14, dict_keys([82, 27, 62, 108, 192, 61, 175, 53, 12, 21])), (82, dict_keys([27, 62, 108, 192, 61, 175, 53, 12, 21, 14]))]\n",
      "Postprocessing\n"
     ]
    },
    {
     "name": "stderr",
     "output_type": "stream",
     "text": [
      "Two_opt:  20%|██        | 2/10 [00:00<00:03,  2.43it/s]"
     ]
    },
    {
     "name": "stdout",
     "output_type": "stream",
     "text": [
      "[(145, dict_keys([97, 138, 49, 152, 135, 65, 137, 179, 173, 100])), (100, dict_keys([97, 138, 49, 152, 135, 65, 137, 179, 173, 145])), (173, dict_keys([97, 138, 49, 152, 135, 65, 137, 179, 145, 100])), (179, dict_keys([97, 138, 49, 152, 135, 65, 137, 145, 100, 173])), (137, dict_keys([97, 138, 49, 152, 135, 65, 145, 100, 173, 179])), (65, dict_keys([97, 138, 49, 152, 135, 145, 100, 173, 179, 137])), (135, dict_keys([97, 138, 49, 152, 145, 100, 173, 179, 137, 65])), (152, dict_keys([97, 138, 49, 145, 100, 173, 179, 137, 65, 135])), (49, dict_keys([97, 138, 145, 100, 173, 179, 137, 65, 135, 152])), (138, dict_keys([97, 145, 100, 173, 179, 137, 65, 135, 152, 49])), (97, dict_keys([145, 100, 173, 179, 137, 65, 135, 152, 49, 138]))]\n",
      "Postprocessing\n"
     ]
    },
    {
     "name": "stderr",
     "output_type": "stream",
     "text": [
      "Two_opt:  30%|███       | 3/10 [00:01<00:02,  2.38it/s]"
     ]
    },
    {
     "name": "stdout",
     "output_type": "stream",
     "text": [
      "[(103, dict_keys([97, 23, 39, 151, 63, 181, 10, 100, 146, 165])), (165, dict_keys([97, 23, 39, 151, 63, 181, 10, 100, 146, 103])), (146, dict_keys([97, 23, 39, 151, 63, 181, 10, 100, 103, 165])), (100, dict_keys([97, 23, 39, 151, 63, 181, 10, 103, 165, 146])), (10, dict_keys([97, 23, 39, 151, 63, 181, 103, 165, 146, 100])), (181, dict_keys([97, 23, 39, 151, 63, 103, 165, 146, 100, 10])), (63, dict_keys([97, 23, 39, 151, 103, 165, 146, 100, 10, 181])), (151, dict_keys([97, 23, 39, 103, 165, 146, 100, 10, 181, 63])), (39, dict_keys([97, 23, 103, 165, 146, 100, 10, 181, 63, 151])), (23, dict_keys([97, 103, 165, 146, 100, 10, 181, 63, 151, 39])), (97, dict_keys([103, 165, 146, 100, 10, 181, 63, 151, 39, 23]))]\n",
      "Postprocessing\n"
     ]
    },
    {
     "name": "stderr",
     "output_type": "stream",
     "text": [
      "Two_opt:  40%|████      | 4/10 [00:01<00:02,  2.32it/s]"
     ]
    },
    {
     "name": "stdout",
     "output_type": "stream",
     "text": [
      "[(180, dict_keys([97, 151, 57, 37, 140, 100, 105, 7, 166, 163])), (163, dict_keys([97, 151, 57, 37, 140, 100, 105, 7, 166, 180])), (166, dict_keys([97, 151, 57, 37, 140, 100, 105, 7, 180, 163])), (7, dict_keys([97, 151, 57, 37, 140, 100, 105, 180, 163, 166])), (105, dict_keys([97, 151, 57, 37, 140, 100, 180, 163, 166, 7])), (100, dict_keys([97, 151, 57, 37, 140, 180, 163, 166, 7, 105])), (140, dict_keys([97, 151, 57, 37, 180, 163, 166, 7, 105, 100])), (37, dict_keys([97, 151, 57, 180, 163, 166, 7, 105, 100, 140])), (57, dict_keys([97, 151, 180, 163, 166, 7, 105, 100, 140, 37])), (151, dict_keys([97, 180, 163, 166, 7, 105, 100, 140, 37, 57])), (97, dict_keys([180, 163, 166, 7, 105, 100, 140, 37, 57, 151]))]\n",
      "Postprocessing\n"
     ]
    },
    {
     "name": "stderr",
     "output_type": "stream",
     "text": [
      "Two_opt:  50%|█████     | 5/10 [00:02<00:02,  2.40it/s]"
     ]
    },
    {
     "name": "stdout",
     "output_type": "stream",
     "text": [
      "[(16, dict_keys([97, 147, 66, 79, 49, 99, 115, 67, 178, 176])), (176, dict_keys([97, 147, 66, 79, 49, 99, 115, 67, 178, 16])), (178, dict_keys([97, 147, 66, 79, 49, 99, 115, 67, 16, 176])), (67, dict_keys([97, 147, 66, 79, 49, 99, 115, 16, 176, 178])), (115, dict_keys([97, 147, 66, 79, 49, 99, 16, 176, 178, 67])), (99, dict_keys([97, 147, 66, 79, 49, 16, 176, 178, 67, 115])), (49, dict_keys([97, 147, 66, 79, 16, 176, 178, 67, 115, 99])), (79, dict_keys([97, 147, 66, 16, 176, 178, 67, 115, 99, 49])), (66, dict_keys([97, 147, 16, 176, 178, 67, 115, 99, 49, 79])), (147, dict_keys([97, 16, 176, 178, 67, 115, 99, 49, 79, 66])), (97, dict_keys([16, 176, 178, 67, 115, 99, 49, 79, 66, 147]))]\n",
      "Postprocessing\n"
     ]
    },
    {
     "name": "stderr",
     "output_type": "stream",
     "text": [
      "Two_opt:  60%|██████    | 6/10 [00:02<00:01,  2.41it/s]"
     ]
    },
    {
     "name": "stdout",
     "output_type": "stream",
     "text": [
      "[(191, dict_keys([97, 92, 59, 85, 107, 111, 124, 17, 43, 13])), (13, dict_keys([97, 92, 59, 85, 107, 111, 124, 17, 43, 191])), (43, dict_keys([97, 92, 59, 85, 107, 111, 124, 17, 191, 13])), (17, dict_keys([97, 92, 59, 85, 107, 111, 124, 191, 13, 43])), (124, dict_keys([97, 92, 59, 85, 107, 111, 191, 13, 43, 17])), (111, dict_keys([97, 92, 59, 85, 107, 191, 13, 43, 17, 124])), (107, dict_keys([97, 92, 59, 85, 191, 13, 43, 17, 124, 111])), (85, dict_keys([97, 92, 59, 191, 13, 43, 17, 124, 111, 107])), (59, dict_keys([97, 92, 191, 13, 43, 17, 124, 111, 107, 85])), (92, dict_keys([97, 191, 13, 43, 17, 124, 111, 107, 85, 59])), (97, dict_keys([191, 13, 43, 17, 124, 111, 107, 85, 59, 92]))]\n",
      "Postprocessing\n"
     ]
    },
    {
     "name": "stderr",
     "output_type": "stream",
     "text": [
      "Two_opt:  70%|███████   | 7/10 [00:02<00:01,  2.33it/s]"
     ]
    },
    {
     "name": "stdout",
     "output_type": "stream",
     "text": [
      "[(79, dict_keys([97, 72, 78, 109, 30, 82, 41, 124, 131, 189])), (189, dict_keys([97, 72, 78, 109, 30, 82, 41, 124, 131, 79])), (131, dict_keys([97, 72, 78, 109, 30, 82, 41, 124, 79, 189])), (124, dict_keys([97, 72, 78, 109, 30, 82, 41, 79, 189, 131])), (41, dict_keys([97, 72, 78, 109, 30, 82, 79, 189, 131, 124])), (82, dict_keys([97, 72, 78, 109, 30, 79, 189, 131, 124, 41])), (30, dict_keys([97, 72, 78, 109, 79, 189, 131, 124, 41, 82])), (109, dict_keys([97, 72, 78, 79, 189, 131, 124, 41, 82, 30])), (78, dict_keys([97, 72, 79, 189, 131, 124, 41, 82, 30, 109])), (72, dict_keys([97, 79, 189, 131, 124, 41, 82, 30, 109, 78])), (97, dict_keys([79, 189, 131, 124, 41, 82, 30, 109, 78, 72]))]\n",
      "Postprocessing\n"
     ]
    },
    {
     "name": "stderr",
     "output_type": "stream",
     "text": [
      "Two_opt:  80%|████████  | 8/10 [00:03<00:00,  2.33it/s]"
     ]
    },
    {
     "name": "stdout",
     "output_type": "stream",
     "text": [
      "[(21, dict_keys([97, 149, 135, 126, 34, 72, 0, 165, 46, 25])), (25, dict_keys([97, 149, 135, 126, 34, 72, 0, 165, 46, 21])), (46, dict_keys([97, 149, 135, 126, 34, 72, 0, 165, 21, 25])), (165, dict_keys([97, 149, 135, 126, 34, 72, 0, 21, 25, 46])), (0, dict_keys([97, 149, 135, 126, 34, 72, 21, 25, 46, 165])), (72, dict_keys([97, 149, 135, 126, 34, 21, 25, 46, 165, 0])), (34, dict_keys([97, 149, 135, 126, 21, 25, 46, 165, 0, 72])), (126, dict_keys([97, 149, 135, 21, 25, 46, 165, 0, 72, 34])), (135, dict_keys([97, 149, 21, 25, 46, 165, 0, 72, 34, 126])), (149, dict_keys([97, 21, 25, 46, 165, 0, 72, 34, 126, 135])), (97, dict_keys([21, 25, 46, 165, 0, 72, 34, 126, 135, 149]))]\n",
      "Postprocessing\n"
     ]
    },
    {
     "name": "stderr",
     "output_type": "stream",
     "text": [
      "Two_opt:  90%|█████████ | 9/10 [00:03<00:00,  2.41it/s]"
     ]
    },
    {
     "name": "stdout",
     "output_type": "stream",
     "text": [
      "[(8, dict_keys([97, 111, 45, 167, 106, 61, 186, 180, 158, 50])), (50, dict_keys([97, 111, 45, 167, 106, 61, 186, 180, 158, 8])), (158, dict_keys([97, 111, 45, 167, 106, 61, 186, 180, 8, 50])), (180, dict_keys([97, 111, 45, 167, 106, 61, 186, 8, 50, 158])), (186, dict_keys([97, 111, 45, 167, 106, 61, 8, 50, 158, 180])), (61, dict_keys([97, 111, 45, 167, 106, 8, 50, 158, 180, 186])), (106, dict_keys([97, 111, 45, 167, 8, 50, 158, 180, 186, 61])), (167, dict_keys([97, 111, 45, 8, 50, 158, 180, 186, 61, 106])), (45, dict_keys([97, 111, 8, 50, 158, 180, 186, 61, 106, 167])), (111, dict_keys([97, 8, 50, 158, 180, 186, 61, 106, 167, 45])), (97, dict_keys([8, 50, 158, 180, 186, 61, 106, 167, 45, 111]))]\n",
      "Postprocessing\n"
     ]
    },
    {
     "name": "stderr",
     "output_type": "stream",
     "text": [
      "Two_opt: 100%|██████████| 10/10 [00:04<00:00,  2.38it/s]\n"
     ]
    },
    {
     "name": "stdout",
     "output_type": "stream",
     "text": [
      "[(180, dict_keys([97, 95, 113, 39, 177, 112, 85, 157, 118, 89])), (89, dict_keys([97, 95, 113, 39, 177, 112, 85, 157, 118, 180])), (118, dict_keys([97, 95, 113, 39, 177, 112, 85, 157, 180, 89])), (157, dict_keys([97, 95, 113, 39, 177, 112, 85, 180, 89, 118])), (85, dict_keys([97, 95, 113, 39, 177, 112, 180, 89, 118, 157])), (112, dict_keys([97, 95, 113, 39, 177, 180, 89, 118, 157, 85])), (177, dict_keys([97, 95, 113, 39, 180, 89, 118, 157, 85, 112])), (39, dict_keys([97, 95, 113, 180, 89, 118, 157, 85, 112, 177])), (113, dict_keys([97, 95, 180, 89, 118, 157, 85, 112, 177, 39])), (95, dict_keys([97, 180, 89, 118, 157, 85, 112, 177, 39, 113])), (97, dict_keys([180, 89, 118, 157, 85, 112, 177, 39, 113, 95]))]\n",
      "Postprocessing\n"
     ]
    },
    {
     "name": "stderr",
     "output_type": "stream",
     "text": [
      "Two_opt:   0%|          | 0/10 [00:00<?, ?it/s]Warning: Player 'Two_opt' cannot start at unreachable location 97, starting at closest cell (using Euclidean distance)\n",
      "Two_opt:  10%|█         | 1/10 [00:00<00:05,  1.54it/s]"
     ]
    },
    {
     "name": "stdout",
     "output_type": "stream",
     "text": [
      "[(27, dict_keys([82, 136, 157, 14, 21, 12, 53, 175, 61, 192, 108, 62])), (62, dict_keys([82, 136, 157, 14, 21, 12, 53, 175, 61, 192, 108, 27])), (108, dict_keys([82, 136, 157, 14, 21, 12, 53, 175, 61, 192, 27, 62])), (192, dict_keys([82, 136, 157, 14, 21, 12, 53, 175, 61, 27, 62, 108])), (61, dict_keys([82, 136, 157, 14, 21, 12, 53, 175, 27, 62, 108, 192])), (175, dict_keys([82, 136, 157, 14, 21, 12, 53, 27, 62, 108, 192, 61])), (53, dict_keys([82, 136, 157, 14, 21, 12, 27, 62, 108, 192, 61, 175])), (12, dict_keys([82, 136, 157, 14, 21, 27, 62, 108, 192, 61, 175, 53])), (21, dict_keys([82, 136, 157, 14, 27, 62, 108, 192, 61, 175, 53, 12])), (14, dict_keys([82, 136, 157, 27, 62, 108, 192, 61, 175, 53, 12, 21])), (157, dict_keys([82, 136, 27, 62, 108, 192, 61, 175, 53, 12, 21, 14])), (136, dict_keys([82, 27, 62, 108, 192, 61, 175, 53, 12, 21, 14, 157])), (82, dict_keys([27, 62, 108, 192, 61, 175, 53, 12, 21, 14, 157, 136]))]\n",
      "Postprocessing\n"
     ]
    },
    {
     "name": "stderr",
     "output_type": "stream",
     "text": [
      "Two_opt:  20%|██        | 2/10 [00:01<00:04,  1.97it/s]"
     ]
    },
    {
     "name": "stdout",
     "output_type": "stream",
     "text": [
      "[(145, dict_keys([97, 129, 92, 138, 49, 152, 135, 65, 137, 179, 173, 100])), (100, dict_keys([97, 129, 92, 138, 49, 152, 135, 65, 137, 179, 173, 145])), (173, dict_keys([97, 129, 92, 138, 49, 152, 135, 65, 137, 179, 145, 100])), (179, dict_keys([97, 129, 92, 138, 49, 152, 135, 65, 137, 145, 100, 173])), (137, dict_keys([97, 129, 92, 138, 49, 152, 135, 65, 145, 100, 173, 179])), (65, dict_keys([97, 129, 92, 138, 49, 152, 135, 145, 100, 173, 179, 137])), (135, dict_keys([97, 129, 92, 138, 49, 152, 145, 100, 173, 179, 137, 65])), (152, dict_keys([97, 129, 92, 138, 49, 145, 100, 173, 179, 137, 65, 135])), (49, dict_keys([97, 129, 92, 138, 145, 100, 173, 179, 137, 65, 135, 152])), (138, dict_keys([97, 129, 92, 145, 100, 173, 179, 137, 65, 135, 152, 49])), (92, dict_keys([97, 129, 145, 100, 173, 179, 137, 65, 135, 152, 49, 138])), (129, dict_keys([97, 145, 100, 173, 179, 137, 65, 135, 152, 49, 138, 92])), (97, dict_keys([145, 100, 173, 179, 137, 65, 135, 152, 49, 138, 92, 129]))]\n",
      "Postprocessing\n"
     ]
    },
    {
     "name": "stderr",
     "output_type": "stream",
     "text": [
      "Two_opt:  30%|███       | 3/10 [00:01<00:03,  2.02it/s]"
     ]
    },
    {
     "name": "stdout",
     "output_type": "stream",
     "text": [
      "[(103, dict_keys([97, 159, 32, 23, 39, 151, 63, 181, 10, 100, 146, 165])), (165, dict_keys([97, 159, 32, 23, 39, 151, 63, 181, 10, 100, 146, 103])), (146, dict_keys([97, 159, 32, 23, 39, 151, 63, 181, 10, 100, 103, 165])), (100, dict_keys([97, 159, 32, 23, 39, 151, 63, 181, 10, 103, 165, 146])), (10, dict_keys([97, 159, 32, 23, 39, 151, 63, 181, 103, 165, 146, 100])), (181, dict_keys([97, 159, 32, 23, 39, 151, 63, 103, 165, 146, 100, 10])), (63, dict_keys([97, 159, 32, 23, 39, 151, 103, 165, 146, 100, 10, 181])), (151, dict_keys([97, 159, 32, 23, 39, 103, 165, 146, 100, 10, 181, 63])), (39, dict_keys([97, 159, 32, 23, 103, 165, 146, 100, 10, 181, 63, 151])), (23, dict_keys([97, 159, 32, 103, 165, 146, 100, 10, 181, 63, 151, 39])), (32, dict_keys([97, 159, 103, 165, 146, 100, 10, 181, 63, 151, 39, 23])), (159, dict_keys([97, 103, 165, 146, 100, 10, 181, 63, 151, 39, 23, 32])), (97, dict_keys([103, 165, 146, 100, 10, 181, 63, 151, 39, 23, 32, 159]))]\n",
      "Postprocessing\n"
     ]
    },
    {
     "name": "stderr",
     "output_type": "stream",
     "text": [
      "Two_opt:  40%|████      | 4/10 [00:01<00:02,  2.11it/s]"
     ]
    },
    {
     "name": "stdout",
     "output_type": "stream",
     "text": [
      "[(180, dict_keys([97, 122, 147, 151, 57, 37, 140, 100, 105, 7, 166, 163])), (163, dict_keys([97, 122, 147, 151, 57, 37, 140, 100, 105, 7, 166, 180])), (166, dict_keys([97, 122, 147, 151, 57, 37, 140, 100, 105, 7, 180, 163])), (7, dict_keys([97, 122, 147, 151, 57, 37, 140, 100, 105, 180, 163, 166])), (105, dict_keys([97, 122, 147, 151, 57, 37, 140, 100, 180, 163, 166, 7])), (100, dict_keys([97, 122, 147, 151, 57, 37, 140, 180, 163, 166, 7, 105])), (140, dict_keys([97, 122, 147, 151, 57, 37, 180, 163, 166, 7, 105, 100])), (37, dict_keys([97, 122, 147, 151, 57, 180, 163, 166, 7, 105, 100, 140])), (57, dict_keys([97, 122, 147, 151, 180, 163, 166, 7, 105, 100, 140, 37])), (151, dict_keys([97, 122, 147, 180, 163, 166, 7, 105, 100, 140, 37, 57])), (147, dict_keys([97, 122, 180, 163, 166, 7, 105, 100, 140, 37, 57, 151])), (122, dict_keys([97, 180, 163, 166, 7, 105, 100, 140, 37, 57, 151, 147])), (97, dict_keys([180, 163, 166, 7, 105, 100, 140, 37, 57, 151, 147, 122]))]\n",
      "Postprocessing\n"
     ]
    },
    {
     "name": "stderr",
     "output_type": "stream",
     "text": [
      "Two_opt:  50%|█████     | 5/10 [00:02<00:02,  2.18it/s]"
     ]
    },
    {
     "name": "stdout",
     "output_type": "stream",
     "text": [
      "[(16, dict_keys([97, 175, 43, 147, 66, 79, 49, 99, 115, 67, 178, 176])), (176, dict_keys([97, 175, 43, 147, 66, 79, 49, 99, 115, 67, 178, 16])), (178, dict_keys([97, 175, 43, 147, 66, 79, 49, 99, 115, 67, 16, 176])), (67, dict_keys([97, 175, 43, 147, 66, 79, 49, 99, 115, 16, 176, 178])), (115, dict_keys([97, 175, 43, 147, 66, 79, 49, 99, 16, 176, 178, 67])), (99, dict_keys([97, 175, 43, 147, 66, 79, 49, 16, 176, 178, 67, 115])), (49, dict_keys([97, 175, 43, 147, 66, 79, 16, 176, 178, 67, 115, 99])), (79, dict_keys([97, 175, 43, 147, 66, 16, 176, 178, 67, 115, 99, 49])), (66, dict_keys([97, 175, 43, 147, 16, 176, 178, 67, 115, 99, 49, 79])), (147, dict_keys([97, 175, 43, 16, 176, 178, 67, 115, 99, 49, 79, 66])), (43, dict_keys([97, 175, 16, 176, 178, 67, 115, 99, 49, 79, 66, 147])), (175, dict_keys([97, 16, 176, 178, 67, 115, 99, 49, 79, 66, 147, 43])), (97, dict_keys([16, 176, 178, 67, 115, 99, 49, 79, 66, 147, 43, 175]))]\n",
      "Postprocessing\n"
     ]
    },
    {
     "name": "stderr",
     "output_type": "stream",
     "text": [
      "Two_opt:  60%|██████    | 6/10 [00:02<00:01,  2.18it/s]"
     ]
    },
    {
     "name": "stdout",
     "output_type": "stream",
     "text": [
      "[(191, dict_keys([97, 126, 185, 92, 59, 85, 107, 111, 124, 17, 43, 13])), (13, dict_keys([97, 126, 185, 92, 59, 85, 107, 111, 124, 17, 43, 191])), (43, dict_keys([97, 126, 185, 92, 59, 85, 107, 111, 124, 17, 191, 13])), (17, dict_keys([97, 126, 185, 92, 59, 85, 107, 111, 124, 191, 13, 43])), (124, dict_keys([97, 126, 185, 92, 59, 85, 107, 111, 191, 13, 43, 17])), (111, dict_keys([97, 126, 185, 92, 59, 85, 107, 191, 13, 43, 17, 124])), (107, dict_keys([97, 126, 185, 92, 59, 85, 191, 13, 43, 17, 124, 111])), (85, dict_keys([97, 126, 185, 92, 59, 191, 13, 43, 17, 124, 111, 107])), (59, dict_keys([97, 126, 185, 92, 191, 13, 43, 17, 124, 111, 107, 85])), (92, dict_keys([97, 126, 185, 191, 13, 43, 17, 124, 111, 107, 85, 59])), (185, dict_keys([97, 126, 191, 13, 43, 17, 124, 111, 107, 85, 59, 92])), (126, dict_keys([97, 191, 13, 43, 17, 124, 111, 107, 85, 59, 92, 185])), (97, dict_keys([191, 13, 43, 17, 124, 111, 107, 85, 59, 92, 185, 126]))]\n",
      "Postprocessing\n"
     ]
    },
    {
     "name": "stderr",
     "output_type": "stream",
     "text": [
      "Two_opt:  70%|███████   | 7/10 [00:03<00:01,  2.16it/s]"
     ]
    },
    {
     "name": "stdout",
     "output_type": "stream",
     "text": [
      "[(79, dict_keys([97, 193, 104, 72, 78, 109, 30, 82, 41, 124, 131, 189])), (189, dict_keys([97, 193, 104, 72, 78, 109, 30, 82, 41, 124, 131, 79])), (131, dict_keys([97, 193, 104, 72, 78, 109, 30, 82, 41, 124, 79, 189])), (124, dict_keys([97, 193, 104, 72, 78, 109, 30, 82, 41, 79, 189, 131])), (41, dict_keys([97, 193, 104, 72, 78, 109, 30, 82, 79, 189, 131, 124])), (82, dict_keys([97, 193, 104, 72, 78, 109, 30, 79, 189, 131, 124, 41])), (30, dict_keys([97, 193, 104, 72, 78, 109, 79, 189, 131, 124, 41, 82])), (109, dict_keys([97, 193, 104, 72, 78, 79, 189, 131, 124, 41, 82, 30])), (78, dict_keys([97, 193, 104, 72, 79, 189, 131, 124, 41, 82, 30, 109])), (72, dict_keys([97, 193, 104, 79, 189, 131, 124, 41, 82, 30, 109, 78])), (104, dict_keys([97, 193, 79, 189, 131, 124, 41, 82, 30, 109, 78, 72])), (193, dict_keys([97, 79, 189, 131, 124, 41, 82, 30, 109, 78, 72, 104])), (97, dict_keys([79, 189, 131, 124, 41, 82, 30, 109, 78, 72, 104, 193]))]\n",
      "Postprocessing\n"
     ]
    },
    {
     "name": "stderr",
     "output_type": "stream",
     "text": [
      "Two_opt:  80%|████████  | 8/10 [00:03<00:00,  2.11it/s]"
     ]
    },
    {
     "name": "stdout",
     "output_type": "stream",
     "text": [
      "[(21, dict_keys([97, 138, 70, 149, 135, 126, 34, 72, 0, 165, 46, 25])), (25, dict_keys([97, 138, 70, 149, 135, 126, 34, 72, 0, 165, 46, 21])), (46, dict_keys([97, 138, 70, 149, 135, 126, 34, 72, 0, 165, 21, 25])), (165, dict_keys([97, 138, 70, 149, 135, 126, 34, 72, 0, 21, 25, 46])), (0, dict_keys([97, 138, 70, 149, 135, 126, 34, 72, 21, 25, 46, 165])), (72, dict_keys([97, 138, 70, 149, 135, 126, 34, 21, 25, 46, 165, 0])), (34, dict_keys([97, 138, 70, 149, 135, 126, 21, 25, 46, 165, 0, 72])), (126, dict_keys([97, 138, 70, 149, 135, 21, 25, 46, 165, 0, 72, 34])), (135, dict_keys([97, 138, 70, 149, 21, 25, 46, 165, 0, 72, 34, 126])), (149, dict_keys([97, 138, 70, 21, 25, 46, 165, 0, 72, 34, 126, 135])), (70, dict_keys([97, 138, 21, 25, 46, 165, 0, 72, 34, 126, 135, 149])), (138, dict_keys([97, 21, 25, 46, 165, 0, 72, 34, 126, 135, 149, 70])), (97, dict_keys([21, 25, 46, 165, 0, 72, 34, 126, 135, 149, 70, 138]))]\n",
      "Postprocessing\n"
     ]
    },
    {
     "name": "stderr",
     "output_type": "stream",
     "text": [
      "Two_opt:  90%|█████████ | 9/10 [00:04<00:00,  2.07it/s]"
     ]
    },
    {
     "name": "stdout",
     "output_type": "stream",
     "text": [
      "[(8, dict_keys([97, 103, 149, 111, 45, 167, 106, 61, 186, 180, 158, 50])), (50, dict_keys([97, 103, 149, 111, 45, 167, 106, 61, 186, 180, 158, 8])), (158, dict_keys([97, 103, 149, 111, 45, 167, 106, 61, 186, 180, 8, 50])), (180, dict_keys([97, 103, 149, 111, 45, 167, 106, 61, 186, 8, 50, 158])), (186, dict_keys([97, 103, 149, 111, 45, 167, 106, 61, 8, 50, 158, 180])), (61, dict_keys([97, 103, 149, 111, 45, 167, 106, 8, 50, 158, 180, 186])), (106, dict_keys([97, 103, 149, 111, 45, 167, 8, 50, 158, 180, 186, 61])), (167, dict_keys([97, 103, 149, 111, 45, 8, 50, 158, 180, 186, 61, 106])), (45, dict_keys([97, 103, 149, 111, 8, 50, 158, 180, 186, 61, 106, 167])), (111, dict_keys([97, 103, 149, 8, 50, 158, 180, 186, 61, 106, 167, 45])), (149, dict_keys([97, 103, 8, 50, 158, 180, 186, 61, 106, 167, 45, 111])), (103, dict_keys([97, 8, 50, 158, 180, 186, 61, 106, 167, 45, 111, 149])), (97, dict_keys([8, 50, 158, 180, 186, 61, 106, 167, 45, 111, 149, 103]))]\n",
      "Postprocessing\n"
     ]
    },
    {
     "name": "stderr",
     "output_type": "stream",
     "text": [
      "Two_opt: 100%|██████████| 10/10 [00:05<00:00,  1.99it/s]\n"
     ]
    },
    {
     "name": "stdout",
     "output_type": "stream",
     "text": [
      "[(180, dict_keys([97, 49, 60, 95, 113, 39, 177, 112, 85, 157, 118, 89])), (89, dict_keys([97, 49, 60, 95, 113, 39, 177, 112, 85, 157, 118, 180])), (118, dict_keys([97, 49, 60, 95, 113, 39, 177, 112, 85, 157, 180, 89])), (157, dict_keys([97, 49, 60, 95, 113, 39, 177, 112, 85, 180, 89, 118])), (85, dict_keys([97, 49, 60, 95, 113, 39, 177, 112, 180, 89, 118, 157])), (112, dict_keys([97, 49, 60, 95, 113, 39, 177, 180, 89, 118, 157, 85])), (177, dict_keys([97, 49, 60, 95, 113, 39, 180, 89, 118, 157, 85, 112])), (39, dict_keys([97, 49, 60, 95, 113, 180, 89, 118, 157, 85, 112, 177])), (113, dict_keys([97, 49, 60, 95, 180, 89, 118, 157, 85, 112, 177, 39])), (95, dict_keys([97, 49, 60, 180, 89, 118, 157, 85, 112, 177, 39, 113])), (60, dict_keys([97, 49, 180, 89, 118, 157, 85, 112, 177, 39, 113, 95])), (49, dict_keys([97, 180, 89, 118, 157, 85, 112, 177, 39, 113, 95, 60])), (97, dict_keys([180, 89, 118, 157, 85, 112, 177, 39, 113, 95, 60, 49]))]\n",
      "Postprocessing\n"
     ]
    },
    {
     "name": "stderr",
     "output_type": "stream",
     "text": [
      "Two_opt:   0%|          | 0/10 [00:00<?, ?it/s]Warning: Player 'Two_opt' cannot start at unreachable location 97, starting at closest cell (using Euclidean distance)\n",
      "Two_opt:  10%|█         | 1/10 [00:00<00:05,  1.73it/s]"
     ]
    },
    {
     "name": "stdout",
     "output_type": "stream",
     "text": [
      "[(27, dict_keys([82, 63, 140, 136, 157, 14, 21, 12, 53, 175, 61, 192, 108, 62])), (62, dict_keys([82, 63, 140, 136, 157, 14, 21, 12, 53, 175, 61, 192, 108, 27])), (108, dict_keys([82, 63, 140, 136, 157, 14, 21, 12, 53, 175, 61, 192, 27, 62])), (192, dict_keys([82, 63, 140, 136, 157, 14, 21, 12, 53, 175, 61, 27, 62, 108])), (61, dict_keys([82, 63, 140, 136, 157, 14, 21, 12, 53, 175, 27, 62, 108, 192])), (175, dict_keys([82, 63, 140, 136, 157, 14, 21, 12, 53, 27, 62, 108, 192, 61])), (53, dict_keys([82, 63, 140, 136, 157, 14, 21, 12, 27, 62, 108, 192, 61, 175])), (12, dict_keys([82, 63, 140, 136, 157, 14, 21, 27, 62, 108, 192, 61, 175, 53])), (21, dict_keys([82, 63, 140, 136, 157, 14, 27, 62, 108, 192, 61, 175, 53, 12])), (14, dict_keys([82, 63, 140, 136, 157, 27, 62, 108, 192, 61, 175, 53, 12, 21])), (157, dict_keys([82, 63, 140, 136, 27, 62, 108, 192, 61, 175, 53, 12, 21, 14])), (136, dict_keys([82, 63, 140, 27, 62, 108, 192, 61, 175, 53, 12, 21, 14, 157])), (140, dict_keys([82, 63, 27, 62, 108, 192, 61, 175, 53, 12, 21, 14, 157, 136])), (63, dict_keys([82, 27, 62, 108, 192, 61, 175, 53, 12, 21, 14, 157, 136, 140])), (82, dict_keys([27, 62, 108, 192, 61, 175, 53, 12, 21, 14, 157, 136, 140, 63]))]\n",
      "Postprocessing\n"
     ]
    },
    {
     "name": "stderr",
     "output_type": "stream",
     "text": [
      "Two_opt:  20%|██        | 2/10 [00:01<00:04,  1.62it/s]"
     ]
    },
    {
     "name": "stdout",
     "output_type": "stream",
     "text": [
      "[(145, dict_keys([97, 15, 56, 129, 92, 138, 49, 152, 135, 65, 137, 179, 173, 100])), (100, dict_keys([97, 15, 56, 129, 92, 138, 49, 152, 135, 65, 137, 179, 173, 145])), (173, dict_keys([97, 15, 56, 129, 92, 138, 49, 152, 135, 65, 137, 179, 145, 100])), (179, dict_keys([97, 15, 56, 129, 92, 138, 49, 152, 135, 65, 137, 145, 100, 173])), (137, dict_keys([97, 15, 56, 129, 92, 138, 49, 152, 135, 65, 145, 100, 173, 179])), (65, dict_keys([97, 15, 56, 129, 92, 138, 49, 152, 135, 145, 100, 173, 179, 137])), (135, dict_keys([97, 15, 56, 129, 92, 138, 49, 152, 145, 100, 173, 179, 137, 65])), (152, dict_keys([97, 15, 56, 129, 92, 138, 49, 145, 100, 173, 179, 137, 65, 135])), (49, dict_keys([97, 15, 56, 129, 92, 138, 145, 100, 173, 179, 137, 65, 135, 152])), (138, dict_keys([97, 15, 56, 129, 92, 145, 100, 173, 179, 137, 65, 135, 152, 49])), (92, dict_keys([97, 15, 56, 129, 145, 100, 173, 179, 137, 65, 135, 152, 49, 138])), (129, dict_keys([97, 15, 56, 145, 100, 173, 179, 137, 65, 135, 152, 49, 138, 92])), (56, dict_keys([97, 15, 145, 100, 173, 179, 137, 65, 135, 152, 49, 138, 92, 129])), (15, dict_keys([97, 145, 100, 173, 179, 137, 65, 135, 152, 49, 138, 92, 129, 56])), (97, dict_keys([145, 100, 173, 179, 137, 65, 135, 152, 49, 138, 92, 129, 56, 15]))]\n",
      "Postprocessing\n"
     ]
    },
    {
     "name": "stderr",
     "output_type": "stream",
     "text": [
      "Two_opt:  30%|███       | 3/10 [00:01<00:04,  1.45it/s]"
     ]
    },
    {
     "name": "stdout",
     "output_type": "stream",
     "text": [
      "[(103, dict_keys([97, 150, 191, 159, 32, 23, 39, 151, 63, 181, 10, 100, 146, 165])), (165, dict_keys([97, 150, 191, 159, 32, 23, 39, 151, 63, 181, 10, 100, 146, 103])), (146, dict_keys([97, 150, 191, 159, 32, 23, 39, 151, 63, 181, 10, 100, 103, 165])), (100, dict_keys([97, 150, 191, 159, 32, 23, 39, 151, 63, 181, 10, 103, 165, 146])), (10, dict_keys([97, 150, 191, 159, 32, 23, 39, 151, 63, 181, 103, 165, 146, 100])), (181, dict_keys([97, 150, 191, 159, 32, 23, 39, 151, 63, 103, 165, 146, 100, 10])), (63, dict_keys([97, 150, 191, 159, 32, 23, 39, 151, 103, 165, 146, 100, 10, 181])), (151, dict_keys([97, 150, 191, 159, 32, 23, 39, 103, 165, 146, 100, 10, 181, 63])), (39, dict_keys([97, 150, 191, 159, 32, 23, 103, 165, 146, 100, 10, 181, 63, 151])), (23, dict_keys([97, 150, 191, 159, 32, 103, 165, 146, 100, 10, 181, 63, 151, 39])), (32, dict_keys([97, 150, 191, 159, 103, 165, 146, 100, 10, 181, 63, 151, 39, 23])), (159, dict_keys([97, 150, 191, 103, 165, 146, 100, 10, 181, 63, 151, 39, 23, 32])), (191, dict_keys([97, 150, 103, 165, 146, 100, 10, 181, 63, 151, 39, 23, 32, 159])), (150, dict_keys([97, 103, 165, 146, 100, 10, 181, 63, 151, 39, 23, 32, 159, 191])), (97, dict_keys([103, 165, 146, 100, 10, 181, 63, 151, 39, 23, 32, 159, 191, 150]))]\n",
      "Postprocessing\n"
     ]
    },
    {
     "name": "stderr",
     "output_type": "stream",
     "text": [
      "Two_opt:  30%|███       | 3/10 [00:02<00:04,  1.40it/s]\n"
     ]
    },
    {
     "ename": "KeyboardInterrupt",
     "evalue": "",
     "output_type": "error",
     "traceback": [
      "\u001b[1;31m---------------------------------------------------------------------------\u001b[0m",
      "\u001b[1;31mKeyboardInterrupt\u001b[0m                         Traceback (most recent call last)",
      "Cell \u001b[1;32mIn[18], line 17\u001b[0m\n\u001b[0;32m     13\u001b[0m times\u001b[38;5;241m=\u001b[39m[]\n\u001b[0;32m     14\u001b[0m \u001b[38;5;28;01mfor\u001b[39;00m seed \u001b[38;5;129;01min\u001b[39;00m tqdm\u001b[38;5;241m.\u001b[39mtqdm(\u001b[38;5;28mrange\u001b[39m(NB_GAMES), desc\u001b[38;5;241m=\u001b[39mkey):\n\u001b[0;32m     15\u001b[0m \n\u001b[0;32m     16\u001b[0m     \u001b[38;5;66;03m# Make the game with given seed\u001b[39;00m\n\u001b[1;32m---> 17\u001b[0m     game \u001b[38;5;241m=\u001b[39m \u001b[43mGame\u001b[49m\u001b[43m(\u001b[49m\u001b[43mrandom_seed\u001b[49m\u001b[38;5;241;43m=\u001b[39;49m\u001b[43mseed\u001b[49m\u001b[43m,\u001b[49m\u001b[43mnb_cheese\u001b[49m\u001b[38;5;241;43m=\u001b[39;49m\u001b[43mnb_cheese\u001b[49m\u001b[43m,\u001b[49m\u001b[43mmud_percentage\u001b[49m\u001b[38;5;241;43m=\u001b[39;49m\u001b[38;5;241;43m20\u001b[39;49m\u001b[43m,\u001b[49m\u001b[43mgame_mode\u001b[49m\u001b[38;5;241;43m=\u001b[39;49m\u001b[43m \u001b[49m\u001b[43mGameMode\u001b[49m\u001b[38;5;241;43m.\u001b[39;49m\u001b[43mSIMULATION\u001b[49m\u001b[43m)\u001b[49m\n\u001b[0;32m     18\u001b[0m     player \u001b[38;5;241m=\u001b[39m players[key][\u001b[38;5;124m\"\u001b[39m\u001b[38;5;124mclass\u001b[39m\u001b[38;5;124m\"\u001b[39m](\u001b[38;5;241m*\u001b[39m\u001b[38;5;241m*\u001b[39mplayers[key][\u001b[38;5;124m\"\u001b[39m\u001b[38;5;124margs\u001b[39m\u001b[38;5;124m\"\u001b[39m])\n\u001b[0;32m     19\u001b[0m     game\u001b[38;5;241m.\u001b[39madd_player(player)\n",
      "File \u001b[1;32mc:\\Users\\pp\\AppData\\Local\\Programs\\Python\\Python312\\Lib\\site-packages\\pyrat\\src\\Game.py:236\u001b[0m, in \u001b[0;36mGame.__init__\u001b[1;34m(self, random_seed, random_seed_maze, random_seed_cheese, random_seed_players, maze_width, maze_height, cell_percentage, wall_percentage, mud_percentage, mud_range, fixed_maze, nb_cheese, fixed_cheese, random_maze_algorithm, render_mode, render_simplified, gui_speed, trace_length, fullscreen, save_path, save_game, preprocessing_time, turn_time, game_mode, continue_on_error)\u001b[0m\n\u001b[0;32m    233\u001b[0m \u001b[38;5;28mself\u001b[39m\u001b[38;5;241m.\u001b[39m__reset_called \u001b[38;5;241m=\u001b[39m \u001b[38;5;28;01mFalse\u001b[39;00m\n\u001b[0;32m    235\u001b[0m \u001b[38;5;66;03m# Initialize the game\u001b[39;00m\n\u001b[1;32m--> 236\u001b[0m \u001b[38;5;28;43mself\u001b[39;49m\u001b[38;5;241;43m.\u001b[39;49m\u001b[43mreset\u001b[49m\u001b[43m(\u001b[49m\u001b[43m)\u001b[49m\n",
      "File \u001b[1;32mc:\\Users\\pp\\AppData\\Local\\Programs\\Python\\Python312\\Lib\\site-packages\\pyrat\\src\\Game.py:408\u001b[0m, in \u001b[0;36mGame.reset\u001b[1;34m(self, keep_players)\u001b[0m\n\u001b[0;32m    406\u001b[0m     \u001b[38;5;28mself\u001b[39m\u001b[38;5;241m.\u001b[39m__maze \u001b[38;5;241m=\u001b[39m HolesOnSideRandomMaze(\u001b[38;5;28mself\u001b[39m\u001b[38;5;241m.\u001b[39m__cell_percentage, \u001b[38;5;28mself\u001b[39m\u001b[38;5;241m.\u001b[39m__wall_percentage, \u001b[38;5;28mself\u001b[39m\u001b[38;5;241m.\u001b[39m__mud_percentage, \u001b[38;5;28mself\u001b[39m\u001b[38;5;241m.\u001b[39m__mud_range, \u001b[38;5;28mself\u001b[39m\u001b[38;5;241m.\u001b[39m__game_random_seed_maze, \u001b[38;5;28mself\u001b[39m\u001b[38;5;241m.\u001b[39m__maze_width, \u001b[38;5;28mself\u001b[39m\u001b[38;5;241m.\u001b[39m__maze_height)\n\u001b[0;32m    407\u001b[0m \u001b[38;5;28;01melif\u001b[39;00m \u001b[38;5;28mself\u001b[39m\u001b[38;5;241m.\u001b[39m__random_maze_algorithm \u001b[38;5;241m==\u001b[39m RandomMazeAlgorithm\u001b[38;5;241m.\u001b[39mBIG_HOLES:\n\u001b[1;32m--> 408\u001b[0m     \u001b[38;5;28mself\u001b[39m\u001b[38;5;241m.\u001b[39m__maze \u001b[38;5;241m=\u001b[39m \u001b[43mBigHolesRandomMaze\u001b[49m\u001b[43m(\u001b[49m\u001b[38;5;28;43mself\u001b[39;49m\u001b[38;5;241;43m.\u001b[39;49m\u001b[43m__cell_percentage\u001b[49m\u001b[43m,\u001b[49m\u001b[43m \u001b[49m\u001b[38;5;28;43mself\u001b[39;49m\u001b[38;5;241;43m.\u001b[39;49m\u001b[43m__wall_percentage\u001b[49m\u001b[43m,\u001b[49m\u001b[43m \u001b[49m\u001b[38;5;28;43mself\u001b[39;49m\u001b[38;5;241;43m.\u001b[39;49m\u001b[43m__mud_percentage\u001b[49m\u001b[43m,\u001b[49m\u001b[43m \u001b[49m\u001b[38;5;28;43mself\u001b[39;49m\u001b[38;5;241;43m.\u001b[39;49m\u001b[43m__mud_range\u001b[49m\u001b[43m,\u001b[49m\u001b[43m \u001b[49m\u001b[38;5;28;43mself\u001b[39;49m\u001b[38;5;241;43m.\u001b[39;49m\u001b[43m__game_random_seed_maze\u001b[49m\u001b[43m,\u001b[49m\u001b[43m \u001b[49m\u001b[38;5;28;43mself\u001b[39;49m\u001b[38;5;241;43m.\u001b[39;49m\u001b[43m__maze_width\u001b[49m\u001b[43m,\u001b[49m\u001b[43m \u001b[49m\u001b[38;5;28;43mself\u001b[39;49m\u001b[38;5;241;43m.\u001b[39;49m\u001b[43m__maze_height\u001b[49m\u001b[43m)\u001b[49m\n\u001b[0;32m    409\u001b[0m \u001b[38;5;28;01melif\u001b[39;00m \u001b[38;5;28misinstance\u001b[39m(\u001b[38;5;28mself\u001b[39m\u001b[38;5;241m.\u001b[39m__fixed_maze, \u001b[38;5;28mdict\u001b[39m):\n\u001b[0;32m    410\u001b[0m     \u001b[38;5;28mself\u001b[39m\u001b[38;5;241m.\u001b[39m__maze \u001b[38;5;241m=\u001b[39m MazeFromDict(\u001b[38;5;28mself\u001b[39m\u001b[38;5;241m.\u001b[39m__fixed_maze)\n",
      "File \u001b[1;32mc:\\Users\\pp\\AppData\\Local\\Programs\\Python\\Python312\\Lib\\site-packages\\pyrat\\src\\BigHolesRandomMaze.py:65\u001b[0m, in \u001b[0;36mBigHolesRandomMaze.__init__\u001b[1;34m(self, *args, **kwargs)\u001b[0m\n\u001b[0;32m     62\u001b[0m \u001b[38;5;28msuper\u001b[39m()\u001b[38;5;241m.\u001b[39m\u001b[38;5;21m__init__\u001b[39m(\u001b[38;5;241m*\u001b[39margs, \u001b[38;5;241m*\u001b[39m\u001b[38;5;241m*\u001b[39mkwargs)\n\u001b[0;32m     64\u001b[0m \u001b[38;5;66;03m# Generate the maze\u001b[39;00m\n\u001b[1;32m---> 65\u001b[0m \u001b[38;5;28;43mself\u001b[39;49m\u001b[38;5;241;43m.\u001b[39;49m\u001b[43m_create_maze\u001b[49m\u001b[43m(\u001b[49m\u001b[43m)\u001b[49m\n",
      "File \u001b[1;32mc:\\Users\\pp\\AppData\\Local\\Programs\\Python\\Python312\\Lib\\site-packages\\pyrat\\src\\RandomMaze.py:124\u001b[0m, in \u001b[0;36mRandomMaze._create_maze\u001b[1;34m(self)\u001b[0m\n\u001b[0;32m    113\u001b[0m \u001b[38;5;250m\u001b[39m\u001b[38;5;124;03m\"\"\"\u001b[39;00m\n\u001b[0;32m    114\u001b[0m \u001b[38;5;124;03m    This method redefines the abstract method of the parent class.\u001b[39;00m\n\u001b[0;32m    115\u001b[0m \u001b[38;5;124;03m    It creates a random maze using the parameters given at initialization.\u001b[39;00m\n\u001b[1;32m   (...)\u001b[0m\n\u001b[0;32m    120\u001b[0m \u001b[38;5;124;03m        * None.\u001b[39;00m\n\u001b[0;32m    121\u001b[0m \u001b[38;5;124;03m\"\"\"\u001b[39;00m\n\u001b[0;32m    123\u001b[0m \u001b[38;5;66;03m# Add cells, walls, and mud\u001b[39;00m\n\u001b[1;32m--> 124\u001b[0m \u001b[38;5;28;43mself\u001b[39;49m\u001b[38;5;241;43m.\u001b[39;49m\u001b[43m_add_cells\u001b[49m\u001b[43m(\u001b[49m\u001b[43m)\u001b[49m\n\u001b[0;32m    125\u001b[0m \u001b[38;5;28mself\u001b[39m\u001b[38;5;241m.\u001b[39m_add_walls()\n\u001b[0;32m    126\u001b[0m \u001b[38;5;28mself\u001b[39m\u001b[38;5;241m.\u001b[39m_add_mud()\n",
      "File \u001b[1;32mc:\\Users\\pp\\AppData\\Local\\Programs\\Python\\Python312\\Lib\\site-packages\\pyrat\\src\\BigHolesRandomMaze.py:105\u001b[0m, in \u001b[0;36mBigHolesRandomMaze._add_cells\u001b[1;34m(self)\u001b[0m\n\u001b[0;32m    101\u001b[0m \u001b[38;5;28;01mwhile\u001b[39;00m \u001b[38;5;28mself\u001b[39m\u001b[38;5;241m.\u001b[39mnb_vertices \u001b[38;5;241m>\u001b[39m \u001b[38;5;28mself\u001b[39m\u001b[38;5;241m.\u001b[39m_target_nb_vertices:\n\u001b[0;32m    102\u001b[0m \n\u001b[0;32m    103\u001b[0m     \u001b[38;5;66;03m# The probability to be removed depends on the number of neighbors already removed\u001b[39;00m\n\u001b[0;32m    104\u001b[0m     vertices \u001b[38;5;241m=\u001b[39m \u001b[38;5;28mself\u001b[39m\u001b[38;5;241m.\u001b[39mvertices\n\u001b[1;32m--> 105\u001b[0m     selection_weights \u001b[38;5;241m=\u001b[39m [\u001b[38;5;241m1\u001b[39m \u001b[38;5;241m+\u001b[39m (\u001b[38;5;28mself\u001b[39m\u001b[38;5;241m.\u001b[39mwidth \u001b[38;5;241m*\u001b[39m \u001b[38;5;28mself\u001b[39m\u001b[38;5;241m.\u001b[39mheight \u001b[38;5;241m-\u001b[39m \u001b[38;5;28mself\u001b[39m\u001b[38;5;241m.\u001b[39mnb_vertices) \u001b[38;5;241m*\u001b[39m (neighbors_per_vertex[vertex] \u001b[38;5;241m-\u001b[39m \u001b[38;5;28mlen\u001b[39m(\u001b[38;5;28;43mself\u001b[39;49m\u001b[38;5;241;43m.\u001b[39;49m\u001b[43mget_neighbors\u001b[49m\u001b[43m(\u001b[49m\u001b[43mvertex\u001b[49m\u001b[43m)\u001b[49m))\u001b[38;5;241m*\u001b[39m\u001b[38;5;241m*\u001b[39m\u001b[38;5;241m2.0\u001b[39m \u001b[38;5;28;01mfor\u001b[39;00m vertex \u001b[38;5;129;01min\u001b[39;00m vertices]\n\u001b[0;32m    107\u001b[0m     \u001b[38;5;66;03m# Remove a random vertex\u001b[39;00m\n\u001b[0;32m    108\u001b[0m     vertex \u001b[38;5;241m=\u001b[39m \u001b[38;5;28mself\u001b[39m\u001b[38;5;241m.\u001b[39m_rng\u001b[38;5;241m.\u001b[39mchoices(vertices, selection_weights)[\u001b[38;5;241m0\u001b[39m]\n",
      "File \u001b[1;32mc:\\Users\\pp\\AppData\\Local\\Programs\\Python\\Python312\\Lib\\site-packages\\pyrat\\src\\Graph.py:254\u001b[0m, in \u001b[0;36mGraph.get_neighbors\u001b[1;34m(self, vertex)\u001b[0m\n\u001b[0;32m    244\u001b[0m \u001b[38;5;250m\u001b[39m\u001b[38;5;124;03m\"\"\"\u001b[39;00m\n\u001b[0;32m    245\u001b[0m \u001b[38;5;124;03m    Returns the list of neighbors of a vertex.\u001b[39;00m\n\u001b[0;32m    246\u001b[0m \u001b[38;5;124;03m    In:\u001b[39;00m\n\u001b[1;32m   (...)\u001b[0m\n\u001b[0;32m    250\u001b[0m \u001b[38;5;124;03m        * neighbors: List of neighbors of the vertex.\u001b[39;00m\n\u001b[0;32m    251\u001b[0m \u001b[38;5;124;03m\"\"\"\u001b[39;00m\n\u001b[0;32m    253\u001b[0m \u001b[38;5;66;03m# Debug\u001b[39;00m\n\u001b[1;32m--> 254\u001b[0m \u001b[38;5;28;01massert\u001b[39;00m \u001b[38;5;28;43misinstance\u001b[39;49m\u001b[43m(\u001b[49m\u001b[43mvertex\u001b[49m\u001b[43m,\u001b[49m\u001b[43m \u001b[49m\u001b[43mHashable\u001b[49m\u001b[43m)\u001b[49m \u001b[38;5;66;03m# Type check for vertex\u001b[39;00m\n\u001b[0;32m    255\u001b[0m \u001b[38;5;28;01massert\u001b[39;00m vertex \u001b[38;5;129;01min\u001b[39;00m \u001b[38;5;28mself\u001b[39m\u001b[38;5;241m.\u001b[39m__adjacency \u001b[38;5;66;03m# Vertex is in the graph\u001b[39;00m\n\u001b[0;32m    257\u001b[0m \u001b[38;5;66;03m# Get neighbors\u001b[39;00m\n",
      "File \u001b[1;32mc:\\Users\\pp\\AppData\\Local\\Programs\\Python\\Python312\\Lib\\typing.py:1222\u001b[0m, in \u001b[0;36m_BaseGenericAlias.__instancecheck__\u001b[1;34m(self, obj)\u001b[0m\n\u001b[0;32m   1221\u001b[0m \u001b[38;5;28;01mdef\u001b[39;00m \u001b[38;5;21m__instancecheck__\u001b[39m(\u001b[38;5;28mself\u001b[39m, obj):\n\u001b[1;32m-> 1222\u001b[0m     \u001b[38;5;28;01mreturn\u001b[39;00m \u001b[38;5;28;43mself\u001b[39;49m\u001b[38;5;241;43m.\u001b[39;49m\u001b[38;5;21;43m__subclasscheck__\u001b[39;49m\u001b[43m(\u001b[49m\u001b[38;5;28;43mtype\u001b[39;49m\u001b[43m(\u001b[49m\u001b[43mobj\u001b[49m\u001b[43m)\u001b[49m\u001b[43m)\u001b[49m\n",
      "File \u001b[1;32mc:\\Users\\pp\\AppData\\Local\\Programs\\Python\\Python312\\Lib\\typing.py:1496\u001b[0m, in \u001b[0;36m_SpecialGenericAlias.__subclasscheck__\u001b[1;34m(self, cls)\u001b[0m\n\u001b[0;32m   1494\u001b[0m     \u001b[38;5;28;01mreturn\u001b[39;00m \u001b[38;5;28missubclass\u001b[39m(\u001b[38;5;28mcls\u001b[39m\u001b[38;5;241m.\u001b[39m__origin__, \u001b[38;5;28mself\u001b[39m\u001b[38;5;241m.\u001b[39m__origin__)\n\u001b[0;32m   1495\u001b[0m \u001b[38;5;28;01mif\u001b[39;00m \u001b[38;5;129;01mnot\u001b[39;00m \u001b[38;5;28misinstance\u001b[39m(\u001b[38;5;28mcls\u001b[39m, _GenericAlias):\n\u001b[1;32m-> 1496\u001b[0m     \u001b[38;5;28;01mreturn\u001b[39;00m \u001b[38;5;28;43missubclass\u001b[39;49m\u001b[43m(\u001b[49m\u001b[38;5;28;43mcls\u001b[39;49m\u001b[43m,\u001b[49m\u001b[43m \u001b[49m\u001b[38;5;28;43mself\u001b[39;49m\u001b[38;5;241;43m.\u001b[39;49m\u001b[43m__origin__\u001b[49m\u001b[43m)\u001b[49m\n\u001b[0;32m   1497\u001b[0m \u001b[38;5;28;01mreturn\u001b[39;00m \u001b[38;5;28msuper\u001b[39m()\u001b[38;5;241m.\u001b[39m\u001b[38;5;21m__subclasscheck__\u001b[39m(\u001b[38;5;28mcls\u001b[39m)\n",
      "File \u001b[1;32m<frozen abc>:123\u001b[0m, in \u001b[0;36m__subclasscheck__\u001b[1;34m(cls, subclass)\u001b[0m\n",
      "\u001b[1;31mKeyboardInterrupt\u001b[0m: "
     ]
    }
   ],
   "source": [
    "# Players to test (keys are legends to appear in the plot)\n",
    "players = {\n",
    "           \"Greedy\": {\"class\": Greedy, \"args\": {}},\n",
    "           \"Two_opt\": {\"class\": Two_opt, \"args\": {}},\n",
    "            }\n",
    "#Number of cheese \n",
    "Nb_Cheese=[2*i for i in range(1,20)]\n",
    "# Run the games for each player\n",
    "results={player:[] for player in players}\n",
    "for key in players:\n",
    "    for nb_cheese in  Nb_Cheese:\n",
    "        #create a list of the time needed by the player in games with nb_cheese cheese\n",
    "        times=[]\n",
    "        for seed in tqdm.tqdm(range(NB_GAMES), desc=key):\n",
    "\n",
    "            # Make the game with given seed\n",
    "            game = Game(random_seed=seed,nb_cheese=nb_cheese,mud_percentage=20,game_mode= GameMode.SIMULATION)\n",
    "            player = players[key][\"class\"](**players[key][\"args\"])\n",
    "            game.add_player(player)\n",
    "            stats = game.start()\n",
    "            # Store the time needed in preprocessing\n",
    "            time=stats[\"players\"][key][\"preprocessing_duration\"]\n",
    "            times.append(time)\n",
    "        #calculate the mean time needed by the player in a game with nb_cheese cheese  \n",
    "        mean=statistics.mean(times)  \n",
    "        results[key].append(mean)"
   ]
  },
  {
   "cell_type": "markdown",
   "metadata": {},
   "source": [
    "<h1 style=\"background-color: gray;\n",
    "           color: black;\n",
    "           padding: 20px;\n",
    "           text-align: center;\">ANALYZE THE RESULTS</h1>\n",
    "           \n",
    "Now that all games are performed, we plot the percentage of games completed as a function of the number of turns elapsed."
   ]
  },
  {
   "cell_type": "code",
   "execution_count": null,
   "metadata": {},
   "outputs": [
    {
     "data": {
      "image/png": "[encoded data removed]",
      "text/plain": [
       "<Figure size 1000x500 with 1 Axes>"
      ]
     },
     "metadata": {},
     "output_type": "display_data"
    }
   ],
   "source": [
    "# Visualization time needed by palyers as a function of the number of cheese\n",
    "max_times = max([max(results[player]) for player in results])\n",
    "pyplot.figure(figsize=(10, 5))\n",
    "for player in results:\n",
    "    times = results[player]\n",
    "    pyplot.plot(Nb_Cheese,times, label=player)\n",
    "pyplot.title(\"Comparison of time needed to complete all %d games\" % (NB_GAMES))\n",
    "pyplot.xlabel(\"number of cheese\")\n",
    "pyplot.ylabel(\"Time needed in preprocessing\")\n",
    "pyplot.legend()\n",
    "pyplot.show()"
   ]
  },
  {
   "cell_type": "markdown",
   "metadata": {},
   "source": [
    "As anticipated, the `Exhaustive` player requires more preprocessing time compared to both the `Backtracking` player and the `Greedy` player.\\\n",
    "Conversely, the `Greedy` player takes the least amount of time among all three players."
   ]
  }
 ],
 "metadata": {
  "kernelspec": {
   "display_name": "Python 3",
   "language": "python",
   "name": "python3"
  },
  "language_info": {
   "codemirror_mode": {
    "name": "ipython",
    "version": 3
   },
   "file_extension": ".py",
   "mimetype": "text/x-python",
   "name": "python",
   "nbconvert_exporter": "python",
   "pygments_lexer": "ipython3",
   "version": "3.12.6"
  }
 },
 "nbformat": 4,
 "nbformat_minor": 2
}
