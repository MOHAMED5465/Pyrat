{
 "cells": [
  {
   "cell_type": "markdown",
   "metadata": {},
   "source": [
    "<h1 style=\"background-color: gray;\n",
    "           color: black;\n",
    "           padding: 20px;\n",
    "           text-align: center;\">INFO</h1>\n",
    "\n",
    "In this script, we compare players `Exhaustive`, `Greedy`,`Back_tracking` in a game where there is only one cheese to catch in a maze without mud. \\\n",
    "All programs are evaluated on the same game configurations. \\\n",
    "We do not show the game interface here, to make the script faster. \\\n",
    "The goal is to compare the time needed in preprocessing for the different players in the same conditions."
   ]
  },
  {
   "cell_type": "markdown",
   "metadata": {},
   "source": [
    "<h1 style=\"background-color: gray;\n",
    "           color: black;\n",
    "           padding: 20px;\n",
    "           text-align: center;\">IMPORTS</h1>"
   ]
  },
  {
   "cell_type": "code",
   "execution_count": null,
   "metadata": {},
   "outputs": [],
   "source": [
    "# External imports\n",
    "import sys\n",
    "import os\n",
    "import tqdm.auto as tqdm\n",
    "import matplotlib.pyplot as pyplot\n",
    "import scipy.stats as scstats\n",
    "\n",
    "# Add needed directories to the path\n",
    "sys.path.append(os.path.join(\"..\", \"players\"))\n",
    "\n",
    "# PyRat imports\n",
    "from   pyrat import *\n",
    "from Greedy import Greedy\n",
    "from GreedyEachTurn_opt import GreedyEachTurn\n",
    "from GreedyEachCheese_opt import GreedyEachCheese\n",
    "import statistics"
   ]
  },
  {
   "cell_type": "markdown",
   "metadata": {},
   "source": [
    "<h1 style=\"background-color: gray;\n",
    "           color: black;\n",
    "           padding: 20px;\n",
    "           text-align: center;\">CONSTANTS</h1>\n",
    "\n",
    "In this script, we are going to make multiple independent games. \\\n",
    "The goal is to time needed in preprocessing for the  different players. \\\n",
    "We want to plot a courbe of the needed time as a function of the number of cheese. \\\n",
    "This constant defines how many games are made."
   ]
  },
  {
   "cell_type": "code",
   "execution_count": null,
   "metadata": {},
   "outputs": [],
   "source": [
    "# Determines how many games will be played for each player\n",
    "NB_GAMES = 100"
   ]
  },
  {
   "cell_type": "markdown",
   "metadata": {},
   "source": [
    "Let's configure the game with a dictionary. \\\n",
    "Note that we put the game mode as `SIMULATION` to perform all games as fast as possible."
   ]
  },
  {
   "cell_type": "markdown",
   "metadata": {},
   "source": [
    "<h1 style=\"background-color: gray;\n",
    "           color: black;\n",
    "           padding: 20px;\n",
    "           text-align: center;\">RUN THE GAMES</h1>\n",
    "\n",
    "Let us now perform all games. \\\n",
    "For each game, we remember the number of turns needed to complete it."
   ]
  },
  {
   "cell_type": "code",
   "execution_count": null,
   "metadata": {},
   "outputs": [
    {
     "name": "stderr",
     "output_type": "stream",
     "text": [
      "Exhaustive:   0%|          | 0/50 [00:00<?, ?it/s]Warning: Player 'Exhaustive' cannot start at unreachable location 97, starting at closest cell (using Euclidean distance)\n",
      "Exhaustive:   6%|▌         | 3/50 [00:00<00:04, 10.93it/s]"
     ]
    },
    {
     "name": "stdout",
     "output_type": "stream",
     "text": [
      "Postprocessing\n",
      "Postprocessing\n",
      "Postprocessing\n"
     ]
    },
    {
     "name": "stderr",
     "output_type": "stream",
     "text": [
      "Exhaustive:  14%|█▍        | 7/50 [00:00<00:03, 13.34it/s]"
     ]
    },
    {
     "name": "stdout",
     "output_type": "stream",
     "text": [
      "Postprocessing\n",
      "Postprocessing\n",
      "Postprocessing\n",
      "Postprocessing\n",
      "Postprocessing\n",
      "Postprocessing\n"
     ]
    },
    {
     "name": "stderr",
     "output_type": "stream",
     "text": [
      "Exhaustive:  22%|██▏       | 11/50 [00:00<00:02, 13.97it/s]Warning: Player 'Exhaustive' cannot start at unreachable location 97, starting at closest cell (using Euclidean distance)\n",
      "Warning: Player 'Exhaustive' cannot start at unreachable location 97, starting at closest cell (using Euclidean distance)\n",
      "Exhaustive:  26%|██▌       | 13/50 [00:00<00:02, 14.46it/s]"
     ]
    },
    {
     "name": "stdout",
     "output_type": "stream",
     "text": [
      "Postprocessing\n",
      "Postprocessing\n",
      "Postprocessing\n",
      "Postprocessing\n"
     ]
    },
    {
     "name": "stderr",
     "output_type": "stream",
     "text": [
      "Exhaustive:  30%|███       | 15/50 [00:01<00:02, 14.93it/s]Warning: Player 'Exhaustive' cannot start at unreachable location 97, starting at closest cell (using Euclidean distance)"
     ]
    },
    {
     "name": "stdout",
     "output_type": "stream",
     "text": [
      "Postprocessing\n",
      "Postprocessing\n",
      "Postprocessing\n"
     ]
    },
    {
     "name": "stderr",
     "output_type": "stream",
     "text": [
      "\n",
      "Exhaustive:  34%|███▍      | 17/50 [00:01<00:02, 15.34it/s]Warning: Player 'Exhaustive' cannot start at unreachable location 97, starting at closest cell (using Euclidean distance)\n",
      "Exhaustive:  38%|███▊      | 19/50 [00:01<00:02, 14.78it/s]"
     ]
    },
    {
     "name": "stdout",
     "output_type": "stream",
     "text": [
      "Postprocessing\n",
      "Postprocessing\n",
      "Postprocessing\n"
     ]
    },
    {
     "name": "stderr",
     "output_type": "stream",
     "text": [
      "Warning: Player 'Exhaustive' cannot start at unreachable location 97, starting at closest cell (using Euclidean distance)\n",
      "Exhaustive:  42%|████▏     | 21/50 [00:01<00:01, 15.01it/s]Warning: Player 'Exhaustive' cannot start at unreachable location 97, starting at closest cell (using Euclidean distance)\n",
      "Exhaustive:  46%|████▌     | 23/50 [00:01<00:01, 14.82it/s]"
     ]
    },
    {
     "name": "stdout",
     "output_type": "stream",
     "text": [
      "Postprocessing\n",
      "Postprocessing\n",
      "Postprocessing\n",
      "Postprocessing\n"
     ]
    },
    {
     "name": "stderr",
     "output_type": "stream",
     "text": [
      "Warning: Player 'Exhaustive' cannot start at unreachable location 97, starting at closest cell (using Euclidean distance)\n",
      "Exhaustive:  54%|█████▍    | 27/50 [00:01<00:01, 15.42it/s]"
     ]
    },
    {
     "name": "stdout",
     "output_type": "stream",
     "text": [
      "Postprocessing\n",
      "Postprocessing\n",
      "Postprocessing\n",
      "Postprocessing\n"
     ]
    },
    {
     "name": "stderr",
     "output_type": "stream",
     "text": [
      "Exhaustive:  58%|█████▊    | 29/50 [00:02<00:01, 15.32it/s]Warning: Player 'Exhaustive' cannot start at unreachable location 97, starting at closest cell (using Euclidean distance)\n",
      "Exhaustive:  62%|██████▏   | 31/50 [00:02<00:01, 15.45it/s]"
     ]
    },
    {
     "name": "stdout",
     "output_type": "stream",
     "text": [
      "Postprocessing\n",
      "Postprocessing\n",
      "Postprocessing\n",
      "Postprocessing\n",
      "Postprocessing\n",
      "Postprocessing\n"
     ]
    },
    {
     "name": "stderr",
     "output_type": "stream",
     "text": [
      "Exhaustive:  66%|██████▌   | 33/50 [00:02<00:01, 15.79it/s]Warning: Player 'Exhaustive' cannot start at unreachable location 97, starting at closest cell (using Euclidean distance)\n",
      "Exhaustive:  74%|███████▍  | 37/50 [00:02<00:00, 15.98it/s]"
     ]
    },
    {
     "name": "stdout",
     "output_type": "stream",
     "text": [
      "Postprocessing\n",
      "Postprocessing\n",
      "Postprocessing\n",
      "Postprocessing\n"
     ]
    },
    {
     "name": "stderr",
     "output_type": "stream",
     "text": [
      "Exhaustive:  82%|████████▏ | 41/50 [00:02<00:00, 15.67it/s]"
     ]
    },
    {
     "name": "stdout",
     "output_type": "stream",
     "text": [
      "Postprocessing\n",
      "Postprocessing\n",
      "Postprocessing\n",
      "Postprocessing\n"
     ]
    },
    {
     "name": "stderr",
     "output_type": "stream",
     "text": [
      "Exhaustive:  86%|████████▌ | 43/50 [00:02<00:00, 16.07it/s]Warning: Player 'Exhaustive' cannot start at unreachable location 97, starting at closest cell (using Euclidean distance)\n",
      "Exhaustive:  90%|█████████ | 45/50 [00:03<00:00, 16.16it/s]"
     ]
    },
    {
     "name": "stdout",
     "output_type": "stream",
     "text": [
      "Postprocessing\n",
      "Postprocessing\n",
      "Postprocessing\n",
      "Postprocessing\n",
      "Postprocessing\n"
     ]
    },
    {
     "name": "stderr",
     "output_type": "stream",
     "text": [
      "Exhaustive:  98%|█████████▊| 49/50 [00:03<00:00, 13.89it/s]"
     ]
    },
    {
     "name": "stdout",
     "output_type": "stream",
     "text": [
      "Postprocessing\n",
      "Postprocessing\n",
      "Postprocessing\n"
     ]
    },
    {
     "name": "stderr",
     "output_type": "stream",
     "text": [
      "Exhaustive: 100%|██████████| 50/50 [00:03<00:00, 14.76it/s]\n"
     ]
    },
    {
     "name": "stdout",
     "output_type": "stream",
     "text": [
      "Postprocessing\n"
     ]
    },
    {
     "name": "stderr",
     "output_type": "stream",
     "text": [
      "Exhaustive:   0%|          | 0/50 [00:00<?, ?it/s]Warning: Player 'Exhaustive' cannot start at unreachable location 97, starting at closest cell (using Euclidean distance)\n",
      "Exhaustive:   4%|▍         | 2/50 [00:00<00:03, 15.71it/s]"
     ]
    },
    {
     "name": "stdout",
     "output_type": "stream",
     "text": [
      "Postprocessing\n",
      "Postprocessing\n",
      "Postprocessing\n"
     ]
    },
    {
     "name": "stderr",
     "output_type": "stream",
     "text": [
      "Exhaustive:   8%|▊         | 4/50 [00:00<00:03, 14.95it/s]"
     ]
    },
    {
     "name": "stdout",
     "output_type": "stream",
     "text": [
      "Postprocessing\n"
     ]
    },
    {
     "name": "stderr",
     "output_type": "stream",
     "text": [
      "Exhaustive:  12%|█▏        | 6/50 [00:00<00:03, 12.91it/s]"
     ]
    },
    {
     "name": "stdout",
     "output_type": "stream",
     "text": [
      "Postprocessing\n",
      "Postprocessing\n",
      "Postprocessing\n",
      "Postprocessing\n"
     ]
    },
    {
     "name": "stderr",
     "output_type": "stream",
     "text": [
      "Exhaustive:  16%|█▌        | 8/50 [00:00<00:03, 13.23it/s]"
     ]
    },
    {
     "name": "stdout",
     "output_type": "stream",
     "text": [
      "Postprocessing\n"
     ]
    },
    {
     "name": "stderr",
     "output_type": "stream",
     "text": [
      "Exhaustive:  20%|██        | 10/50 [00:00<00:02, 13.40it/s]"
     ]
    },
    {
     "name": "stdout",
     "output_type": "stream",
     "text": [
      "Postprocessing\n",
      "Postprocessing\n"
     ]
    },
    {
     "name": "stderr",
     "output_type": "stream",
     "text": [
      "Warning: Player 'Exhaustive' cannot start at unreachable location 97, starting at closest cell (using Euclidean distance)\n",
      "Exhaustive:  24%|██▍       | 12/50 [00:00<00:02, 13.01it/s]"
     ]
    },
    {
     "name": "stdout",
     "output_type": "stream",
     "text": [
      "Postprocessing\n"
     ]
    },
    {
     "name": "stderr",
     "output_type": "stream",
     "text": [
      "Warning: Player 'Exhaustive' cannot start at unreachable location 97, starting at closest cell (using Euclidean distance)\n",
      "Exhaustive:  28%|██▊       | 14/50 [00:01<00:02, 12.69it/s]"
     ]
    },
    {
     "name": "stdout",
     "output_type": "stream",
     "text": [
      "Postprocessing\n",
      "Postprocessing\n",
      "Postprocessing\n"
     ]
    },
    {
     "name": "stderr",
     "output_type": "stream",
     "text": [
      "Exhaustive:  32%|███▏      | 16/50 [00:01<00:02, 12.90it/s]Warning: Player 'Exhaustive' cannot start at unreachable location 97, starting at closest cell (using Euclidean distance)"
     ]
    },
    {
     "name": "stdout",
     "output_type": "stream",
     "text": [
      "Postprocessing\n"
     ]
    },
    {
     "name": "stderr",
     "output_type": "stream",
     "text": [
      "\n",
      "Exhaustive:  36%|███▌      | 18/50 [00:01<00:02, 12.82it/s]"
     ]
    },
    {
     "name": "stdout",
     "output_type": "stream",
     "text": [
      "Postprocessing\n",
      "Postprocessing\n"
     ]
    },
    {
     "name": "stderr",
     "output_type": "stream",
     "text": [
      "Warning: Player 'Exhaustive' cannot start at unreachable location 97, starting at closest cell (using Euclidean distance)\n",
      "Exhaustive:  40%|████      | 20/50 [00:01<00:02, 11.80it/s]"
     ]
    },
    {
     "name": "stdout",
     "output_type": "stream",
     "text": [
      "Postprocessing\n",
      "Postprocessing\n"
     ]
    },
    {
     "name": "stderr",
     "output_type": "stream",
     "text": [
      "Warning: Player 'Exhaustive' cannot start at unreachable location 97, starting at closest cell (using Euclidean distance)"
     ]
    },
    {
     "name": "stdout",
     "output_type": "stream",
     "text": [
      "Postprocessing\n"
     ]
    },
    {
     "name": "stderr",
     "output_type": "stream",
     "text": [
      "\n",
      "Warning: Player 'Exhaustive' cannot start at unreachable location 97, starting at closest cell (using Euclidean distance)\n",
      "Exhaustive:  44%|████▍     | 22/50 [00:01<00:02,  9.96it/s]"
     ]
    },
    {
     "name": "stdout",
     "output_type": "stream",
     "text": [
      "Postprocessing\n",
      "Postprocessing\n"
     ]
    },
    {
     "name": "stderr",
     "output_type": "stream",
     "text": [
      "Warning: Player 'Exhaustive' cannot start at unreachable location 97, starting at closest cell (using Euclidean distance)\n",
      "Exhaustive:  48%|████▊     | 24/50 [00:02<00:02, 10.62it/s]"
     ]
    },
    {
     "name": "stdout",
     "output_type": "stream",
     "text": [
      "Postprocessing\n"
     ]
    },
    {
     "name": "stderr",
     "output_type": "stream",
     "text": [
      "Exhaustive:  52%|█████▏    | 26/50 [00:02<00:02, 11.26it/s]"
     ]
    },
    {
     "name": "stdout",
     "output_type": "stream",
     "text": [
      "Postprocessing\n",
      "Postprocessing\n",
      "Postprocessing\n"
     ]
    },
    {
     "name": "stderr",
     "output_type": "stream",
     "text": [
      "Exhaustive:  56%|█████▌    | 28/50 [00:02<00:01, 11.90it/s]"
     ]
    },
    {
     "name": "stdout",
     "output_type": "stream",
     "text": [
      "Postprocessing\n",
      "Postprocessing\n",
      "Postprocessing"
     ]
    },
    {
     "name": "stderr",
     "output_type": "stream",
     "text": [
      "Warning: Player 'Exhaustive' cannot start at unreachable location 97, starting at closest cell (using Euclidean distance)\n",
      "Exhaustive:  64%|██████▍   | 32/50 [00:02<00:01, 11.72it/s]"
     ]
    },
    {
     "name": "stdout",
     "output_type": "stream",
     "text": [
      "\n",
      "Postprocessing\n",
      "Postprocessing\n"
     ]
    },
    {
     "name": "stderr",
     "output_type": "stream",
     "text": [
      "Exhaustive:  68%|██████▊   | 34/50 [00:02<00:01, 11.75it/s]"
     ]
    },
    {
     "name": "stdout",
     "output_type": "stream",
     "text": [
      "Postprocessing\n",
      "Postprocessing\n",
      "Postprocessing\n"
     ]
    },
    {
     "name": "stderr",
     "output_type": "stream",
     "text": [
      "Warning: Player 'Exhaustive' cannot start at unreachable location 97, starting at closest cell (using Euclidean distance)\n",
      "Exhaustive:  76%|███████▌  | 38/50 [00:03<00:01, 11.78it/s]"
     ]
    },
    {
     "name": "stdout",
     "output_type": "stream",
     "text": [
      "Postprocessing\n",
      "Postprocessing\n",
      "Postprocessing\n"
     ]
    },
    {
     "name": "stderr",
     "output_type": "stream",
     "text": [
      "Exhaustive:  80%|████████  | 40/50 [00:03<00:00, 11.71it/s]"
     ]
    },
    {
     "name": "stdout",
     "output_type": "stream",
     "text": [
      "Postprocessing\n",
      "Postprocessing\n",
      "Postprocessing\n",
      "Postprocessing\n"
     ]
    },
    {
     "name": "stderr",
     "output_type": "stream",
     "text": [
      "Exhaustive:  84%|████████▍ | 42/50 [00:03<00:00, 12.09it/s]Warning: Player 'Exhaustive' cannot start at unreachable location 97, starting at closest cell (using Euclidean distance)\n",
      "Exhaustive:  88%|████████▊ | 44/50 [00:03<00:00, 12.04it/s]"
     ]
    },
    {
     "name": "stdout",
     "output_type": "stream",
     "text": [
      "Postprocessing\n",
      "Postprocessing\n",
      "Postprocessing\n",
      "Postprocessing\n"
     ]
    },
    {
     "name": "stderr",
     "output_type": "stream",
     "text": [
      "Exhaustive:  96%|█████████▌| 48/50 [00:03<00:00, 12.21it/s]"
     ]
    },
    {
     "name": "stdout",
     "output_type": "stream",
     "text": [
      "Postprocessing\n",
      "Postprocessing\n",
      "Postprocessing\n",
      "Postprocessing\n"
     ]
    },
    {
     "name": "stderr",
     "output_type": "stream",
     "text": [
      "Exhaustive: 100%|██████████| 50/50 [00:04<00:00, 12.12it/s]\n",
      "Exhaustive:   0%|          | 0/50 [00:00<?, ?it/s]Warning: Player 'Exhaustive' cannot start at unreachable location 97, starting at closest cell (using Euclidean distance)\n",
      "Exhaustive:   8%|▊         | 4/50 [00:00<00:03, 13.93it/s]"
     ]
    },
    {
     "name": "stdout",
     "output_type": "stream",
     "text": [
      "Postprocessing\n",
      "Postprocessing\n",
      "Postprocessing\n",
      "Postprocessing\n"
     ]
    },
    {
     "name": "stderr",
     "output_type": "stream",
     "text": [
      "Exhaustive:  12%|█▏        | 6/50 [00:00<00:03, 14.08it/s]"
     ]
    },
    {
     "name": "stdout",
     "output_type": "stream",
     "text": [
      "Postprocessing\n",
      "Postprocessing\n",
      "Postprocessing\n"
     ]
    },
    {
     "name": "stderr",
     "output_type": "stream",
     "text": [
      "Exhaustive:  20%|██        | 10/50 [00:00<00:03, 11.94it/s]"
     ]
    },
    {
     "name": "stdout",
     "output_type": "stream",
     "text": [
      "Postprocessing\n",
      "Postprocessing\n",
      "Postprocessing\n"
     ]
    },
    {
     "name": "stderr",
     "output_type": "stream",
     "text": [
      "Warning: Player 'Exhaustive' cannot start at unreachable location 97, starting at closest cell (using Euclidean distance)\n",
      "Exhaustive:  24%|██▍       | 12/50 [00:00<00:03, 12.56it/s]Warning: Player 'Exhaustive' cannot start at unreachable location 97, starting at closest cell (using Euclidean distance)\n",
      "Exhaustive:  28%|██▊       | 14/50 [00:01<00:02, 12.67it/s]"
     ]
    },
    {
     "name": "stdout",
     "output_type": "stream",
     "text": [
      "Postprocessing\n",
      "Postprocessing\n",
      "Postprocessing\n",
      "Postprocessing\n"
     ]
    },
    {
     "name": "stderr",
     "output_type": "stream",
     "text": [
      "Exhaustive:  32%|███▏      | 16/50 [00:01<00:02, 12.82it/s]Warning: Player 'Exhaustive' cannot start at unreachable location 97, starting at closest cell (using Euclidean distance)"
     ]
    },
    {
     "name": "stdout",
     "output_type": "stream",
     "text": [
      "Postprocessing\n",
      "Postprocessing\n",
      "Postprocessing\n",
      "Postprocessing\n"
     ]
    },
    {
     "name": "stderr",
     "output_type": "stream",
     "text": [
      "\n",
      "Exhaustive:  36%|███▌      | 18/50 [00:01<00:02, 13.28it/s]Warning: Player 'Exhaustive' cannot start at unreachable location 97, starting at closest cell (using Euclidean distance)\n",
      "Exhaustive:  40%|████      | 20/50 [00:01<00:02, 13.22it/s]Warning: Player 'Exhaustive' cannot start at unreachable location 97, starting at closest cell (using Euclidean distance)\n",
      "Warning: Player 'Exhaustive' cannot start at unreachable location 97, starting at closest cell (using Euclidean distance)\n",
      "Exhaustive:  44%|████▍     | 22/50 [00:01<00:02, 13.29it/s]"
     ]
    },
    {
     "name": "stdout",
     "output_type": "stream",
     "text": [
      "Postprocessing\n",
      "Postprocessing\n",
      "Postprocessing\n",
      "Postprocessing\n"
     ]
    },
    {
     "name": "stderr",
     "output_type": "stream",
     "text": [
      "Warning: Player 'Exhaustive' cannot start at unreachable location 97, starting at closest cell (using Euclidean distance)\n",
      "Exhaustive:  52%|█████▏    | 26/50 [00:01<00:01, 13.64it/s]"
     ]
    },
    {
     "name": "stdout",
     "output_type": "stream",
     "text": [
      "Postprocessing\n",
      "Postprocessing\n",
      "Postprocessing\n",
      "Postprocessing\n",
      "Postprocessing\n"
     ]
    },
    {
     "name": "stderr",
     "output_type": "stream",
     "text": [
      "Exhaustive:  56%|█████▌    | 28/50 [00:02<00:01, 13.87it/s]Warning: Player 'Exhaustive' cannot start at unreachable location 97, starting at closest cell (using Euclidean distance)\n",
      "Exhaustive:  60%|██████    | 30/50 [00:02<00:01, 13.24it/s]"
     ]
    },
    {
     "name": "stdout",
     "output_type": "stream",
     "text": [
      "Postprocessing\n",
      "Postprocessing\n",
      "Postprocessing\n"
     ]
    },
    {
     "name": "stderr",
     "output_type": "stream",
     "text": [
      "Exhaustive:  68%|██████▊   | 34/50 [00:02<00:01, 13.87it/s]"
     ]
    },
    {
     "name": "stdout",
     "output_type": "stream",
     "text": [
      "Postprocessing\n",
      "Postprocessing\n",
      "Postprocessing\n",
      "Postprocessing\n"
     ]
    },
    {
     "name": "stderr",
     "output_type": "stream",
     "text": [
      "Warning: Player 'Exhaustive' cannot start at unreachable location 97, starting at closest cell (using Euclidean distance)\n",
      "Exhaustive:  72%|███████▏  | 36/50 [00:02<00:01, 13.32it/s]"
     ]
    },
    {
     "name": "stdout",
     "output_type": "stream",
     "text": [
      "Postprocessing\n",
      "Postprocessing\n",
      "Postprocessing\n"
     ]
    },
    {
     "name": "stderr",
     "output_type": "stream",
     "text": [
      "Exhaustive:  80%|████████  | 40/50 [00:03<00:00, 12.68it/s]"
     ]
    },
    {
     "name": "stdout",
     "output_type": "stream",
     "text": [
      "Postprocessing\n",
      "Postprocessing\n",
      "Postprocessing\n"
     ]
    },
    {
     "name": "stderr",
     "output_type": "stream",
     "text": [
      "Exhaustive:  84%|████████▍ | 42/50 [00:03<00:00, 12.74it/s]Warning: Player 'Exhaustive' cannot start at unreachable location 97, starting at closest cell (using Euclidean distance)\n",
      "Exhaustive:  88%|████████▊ | 44/50 [00:03<00:00, 12.56it/s]"
     ]
    },
    {
     "name": "stdout",
     "output_type": "stream",
     "text": [
      "Postprocessing\n",
      "Postprocessing\n",
      "Postprocessing\n",
      "Postprocessing\n"
     ]
    },
    {
     "name": "stderr",
     "output_type": "stream",
     "text": [
      "Exhaustive:  92%|█████████▏| 46/50 [00:03<00:00, 12.15it/s]"
     ]
    },
    {
     "name": "stdout",
     "output_type": "stream",
     "text": [
      "Postprocessing\n",
      "Postprocessing\n",
      "Postprocessing\n"
     ]
    },
    {
     "name": "stderr",
     "output_type": "stream",
     "text": [
      "Exhaustive: 100%|██████████| 50/50 [00:03<00:00, 12.87it/s]\n"
     ]
    },
    {
     "name": "stdout",
     "output_type": "stream",
     "text": [
      "Postprocessing\n",
      "Postprocessing\n",
      "Postprocessing\n"
     ]
    },
    {
     "name": "stderr",
     "output_type": "stream",
     "text": [
      "Exhaustive:   0%|          | 0/50 [00:00<?, ?it/s]Warning: Player 'Exhaustive' cannot start at unreachable location 97, starting at closest cell (using Euclidean distance)\n",
      "Exhaustive:   4%|▍         | 2/50 [00:00<00:03, 13.87it/s]"
     ]
    },
    {
     "name": "stdout",
     "output_type": "stream",
     "text": [
      "Postprocessing\n",
      "Postprocessing\n",
      "Postprocessing\n"
     ]
    },
    {
     "name": "stderr",
     "output_type": "stream",
     "text": [
      "Exhaustive:  12%|█▏        | 6/50 [00:00<00:03, 12.61it/s]"
     ]
    },
    {
     "name": "stdout",
     "output_type": "stream",
     "text": [
      "Postprocessing\n",
      "Postprocessing\n",
      "Postprocessing\n"
     ]
    },
    {
     "name": "stderr",
     "output_type": "stream",
     "text": [
      "Exhaustive:  20%|██        | 10/50 [00:00<00:03, 12.30it/s]"
     ]
    },
    {
     "name": "stdout",
     "output_type": "stream",
     "text": [
      "Postprocessing\n",
      "Postprocessing\n",
      "Postprocessing\n",
      "Postprocessing\n"
     ]
    },
    {
     "name": "stderr",
     "output_type": "stream",
     "text": [
      "Warning: Player 'Exhaustive' cannot start at unreachable location 97, starting at closest cell (using Euclidean distance)\n",
      "Exhaustive:  24%|██▍       | 12/50 [00:00<00:03, 12.25it/s]Warning: Player 'Exhaustive' cannot start at unreachable location 97, starting at closest cell (using Euclidean distance)\n"
     ]
    },
    {
     "name": "stdout",
     "output_type": "stream",
     "text": [
      "Postprocessing\n",
      "Postprocessing\n",
      "Postprocessing\n"
     ]
    },
    {
     "name": "stderr",
     "output_type": "stream",
     "text": [
      "Exhaustive:  32%|███▏      | 16/50 [00:01<00:02, 12.65it/s]"
     ]
    },
    {
     "name": "stdout",
     "output_type": "stream",
     "text": [
      "Postprocessing\n",
      "Postprocessing\n",
      "Postprocessing\n"
     ]
    },
    {
     "name": "stderr",
     "output_type": "stream",
     "text": [
      "Warning: Player 'Exhaustive' cannot start at unreachable location 97, starting at closest cell (using Euclidean distance)\n",
      "Exhaustive:  36%|███▌      | 18/50 [00:01<00:02, 12.66it/s]Warning: Player 'Exhaustive' cannot start at unreachable location 97, starting at closest cell (using Euclidean distance)\n"
     ]
    },
    {
     "name": "stdout",
     "output_type": "stream",
     "text": [
      "Postprocessing\n",
      "Postprocessing\n",
      "Postprocessing\n"
     ]
    },
    {
     "name": "stderr",
     "output_type": "stream",
     "text": [
      "Exhaustive:  40%|████      | 20/50 [00:01<00:02, 12.96it/s]Warning: Player 'Exhaustive' cannot start at unreachable location 97, starting at closest cell (using Euclidean distance)\n",
      "Warning: Player 'Exhaustive' cannot start at unreachable location 97, starting at closest cell (using Euclidean distance)\n",
      "Exhaustive:  44%|████▍     | 22/50 [00:01<00:02, 12.81it/s]"
     ]
    },
    {
     "name": "stdout",
     "output_type": "stream",
     "text": [
      "Postprocessing\n",
      "Postprocessing\n",
      "Postprocessing\n"
     ]
    },
    {
     "name": "stderr",
     "output_type": "stream",
     "text": [
      "Warning: Player 'Exhaustive' cannot start at unreachable location 97, starting at closest cell (using Euclidean distance)\n",
      "Exhaustive:  48%|████▊     | 24/50 [00:01<00:02, 12.80it/s]"
     ]
    },
    {
     "name": "stdout",
     "output_type": "stream",
     "text": [
      "Postprocessing\n",
      "Postprocessing\n",
      "Postprocessing\n",
      "Postprocessing\n"
     ]
    },
    {
     "name": "stderr",
     "output_type": "stream",
     "text": [
      "Exhaustive:  56%|█████▌    | 28/50 [00:02<00:01, 12.46it/s]"
     ]
    },
    {
     "name": "stdout",
     "output_type": "stream",
     "text": [
      "Postprocessing\n",
      "Postprocessing\n",
      "Postprocessing\n"
     ]
    },
    {
     "name": "stderr",
     "output_type": "stream",
     "text": [
      "Warning: Player 'Exhaustive' cannot start at unreachable location 97, starting at closest cell (using Euclidean distance)\n",
      "Exhaustive:  64%|██████▍   | 32/50 [00:02<00:01, 12.63it/s]"
     ]
    },
    {
     "name": "stdout",
     "output_type": "stream",
     "text": [
      "Postprocessing\n",
      "Postprocessing\n",
      "Postprocessing\n",
      "Postprocessing\n"
     ]
    },
    {
     "name": "stderr",
     "output_type": "stream",
     "text": [
      "Exhaustive:  68%|██████▊   | 34/50 [00:02<00:01, 13.12it/s]Warning: Player 'Exhaustive' cannot start at unreachable location 97, starting at closest cell (using Euclidean distance)\n"
     ]
    },
    {
     "name": "stdout",
     "output_type": "stream",
     "text": [
      "Postprocessing\n",
      "Postprocessing\n",
      "Postprocessing\n"
     ]
    },
    {
     "name": "stderr",
     "output_type": "stream",
     "text": [
      "Exhaustive:  76%|███████▌  | 38/50 [00:03<00:01, 11.61it/s]"
     ]
    },
    {
     "name": "stdout",
     "output_type": "stream",
     "text": [
      "Postprocessing\n",
      "Postprocessing\n",
      "Postprocessing\n"
     ]
    },
    {
     "name": "stderr",
     "output_type": "stream",
     "text": [
      "Exhaustive:  84%|████████▍ | 42/50 [00:03<00:00, 11.23it/s]"
     ]
    },
    {
     "name": "stdout",
     "output_type": "stream",
     "text": [
      "Postprocessing\n",
      "Postprocessing\n",
      "Postprocessing\n"
     ]
    },
    {
     "name": "stderr",
     "output_type": "stream",
     "text": [
      "Warning: Player 'Exhaustive' cannot start at unreachable location 97, starting at closest cell (using Euclidean distance)\n",
      "Exhaustive:  92%|█████████▏| 46/50 [00:03<00:00, 12.37it/s]"
     ]
    },
    {
     "name": "stdout",
     "output_type": "stream",
     "text": [
      "Postprocessing\n",
      "Postprocessing\n",
      "Postprocessing\n",
      "Postprocessing\n"
     ]
    },
    {
     "name": "stderr",
     "output_type": "stream",
     "text": [
      "Exhaustive:  96%|█████████▌| 48/50 [00:03<00:00, 12.55it/s]"
     ]
    },
    {
     "name": "stdout",
     "output_type": "stream",
     "text": [
      "Postprocessing\n",
      "Postprocessing\n",
      "Postprocessing\n"
     ]
    },
    {
     "name": "stderr",
     "output_type": "stream",
     "text": [
      "Exhaustive: 100%|██████████| 50/50 [00:04<00:00, 12.39it/s]\n"
     ]
    },
    {
     "name": "stdout",
     "output_type": "stream",
     "text": [
      "Postprocessing\n"
     ]
    },
    {
     "name": "stderr",
     "output_type": "stream",
     "text": [
      "Exhaustive:   0%|          | 0/50 [00:00<?, ?it/s]Warning: Player 'Exhaustive' cannot start at unreachable location 97, starting at closest cell (using Euclidean distance)\n",
      "Exhaustive:   4%|▍         | 2/50 [00:00<00:03, 12.15it/s]"
     ]
    },
    {
     "name": "stdout",
     "output_type": "stream",
     "text": [
      "Postprocessing\n",
      "Postprocessing\n",
      "Postprocessing\n"
     ]
    },
    {
     "name": "stderr",
     "output_type": "stream",
     "text": [
      "Exhaustive:   8%|▊         | 4/50 [00:00<00:03, 11.60it/s]"
     ]
    },
    {
     "name": "stdout",
     "output_type": "stream",
     "text": [
      "Postprocessing\n",
      "Postprocessing\n"
     ]
    },
    {
     "name": "stderr",
     "output_type": "stream",
     "text": [
      "Exhaustive:  12%|█▏        | 6/50 [00:00<00:03, 11.71it/s]"
     ]
    },
    {
     "name": "stdout",
     "output_type": "stream",
     "text": [
      "Postprocessing\n"
     ]
    },
    {
     "name": "stderr",
     "output_type": "stream",
     "text": [
      "Exhaustive:  16%|█▌        | 8/50 [00:00<00:03, 12.24it/s]"
     ]
    },
    {
     "name": "stdout",
     "output_type": "stream",
     "text": [
      "Postprocessing\n",
      "Postprocessing\n",
      "Postprocessing\n"
     ]
    },
    {
     "name": "stderr",
     "output_type": "stream",
     "text": [
      "Exhaustive:  20%|██        | 10/50 [00:00<00:03, 11.92it/s]Warning: Player 'Exhaustive' cannot start at unreachable location 97, starting at closest cell (using Euclidean distance)\n",
      "Exhaustive:  24%|██▍       | 12/50 [00:00<00:03, 12.40it/s]"
     ]
    },
    {
     "name": "stdout",
     "output_type": "stream",
     "text": [
      "Postprocessing\n",
      "Postprocessing\n",
      "Postprocessing\n"
     ]
    },
    {
     "name": "stderr",
     "output_type": "stream",
     "text": [
      "Warning: Player 'Exhaustive' cannot start at unreachable location 97, starting at closest cell (using Euclidean distance)\n",
      "Exhaustive:  32%|███▏      | 16/50 [00:01<00:02, 11.50it/s]"
     ]
    },
    {
     "name": "stdout",
     "output_type": "stream",
     "text": [
      "Postprocessing\n",
      "Postprocessing\n",
      "Postprocessing\n",
      "Postprocessing\n"
     ]
    },
    {
     "name": "stderr",
     "output_type": "stream",
     "text": [
      "Warning: Player 'Exhaustive' cannot start at unreachable location 97, starting at closest cell (using Euclidean distance)\n",
      "Exhaustive:  36%|███▌      | 18/50 [00:01<00:03, 10.40it/s]Warning: Player 'Exhaustive' cannot start at unreachable location 97, starting at closest cell (using Euclidean distance)"
     ]
    },
    {
     "name": "stdout",
     "output_type": "stream",
     "text": [
      "Postprocessing\n",
      "Postprocessing\n",
      "Postprocessing\n"
     ]
    },
    {
     "name": "stderr",
     "output_type": "stream",
     "text": [
      "\n",
      "Exhaustive:  40%|████      | 20/50 [00:01<00:03,  9.93it/s]Warning: Player 'Exhaustive' cannot start at unreachable location 97, starting at closest cell (using Euclidean distance)\n",
      "Warning: Player 'Exhaustive' cannot start at unreachable location 97, starting at closest cell (using Euclidean distance)\n",
      "Exhaustive:  44%|████▍     | 22/50 [00:02<00:02, 10.07it/s]"
     ]
    },
    {
     "name": "stdout",
     "output_type": "stream",
     "text": [
      "Postprocessing\n",
      "Postprocessing\n",
      "Postprocessing\n"
     ]
    },
    {
     "name": "stderr",
     "output_type": "stream",
     "text": [
      "Warning: Player 'Exhaustive' cannot start at unreachable location 97, starting at closest cell (using Euclidean distance)\n",
      "Exhaustive:  48%|████▊     | 24/50 [00:02<00:02, 10.15it/s]"
     ]
    },
    {
     "name": "stdout",
     "output_type": "stream",
     "text": [
      "Postprocessing\n",
      "Postprocessing\n",
      "Postprocessing\n"
     ]
    },
    {
     "name": "stderr",
     "output_type": "stream",
     "text": [
      "Exhaustive:  52%|█████▏    | 26/50 [00:02<00:02, 10.21it/s]"
     ]
    },
    {
     "name": "stdout",
     "output_type": "stream",
     "text": [
      "Postprocessing\n",
      "Postprocessing\n",
      "Postprocessing\n"
     ]
    },
    {
     "name": "stderr",
     "output_type": "stream",
     "text": [
      "Exhaustive:  56%|█████▌    | 28/50 [00:02<00:02, 10.37it/s]Warning: Player 'Exhaustive' cannot start at unreachable location 97, starting at closest cell (using Euclidean distance)\n",
      "Exhaustive:  60%|██████    | 30/50 [00:02<00:01, 10.32it/s]"
     ]
    },
    {
     "name": "stdout",
     "output_type": "stream",
     "text": [
      "Postprocessing\n",
      "Postprocessing\n",
      "Postprocessing\n"
     ]
    },
    {
     "name": "stderr",
     "output_type": "stream",
     "text": [
      "Exhaustive:  68%|██████▊   | 34/50 [00:03<00:01, 10.59it/s]"
     ]
    },
    {
     "name": "stdout",
     "output_type": "stream",
     "text": [
      "Postprocessing\n",
      "Postprocessing\n",
      "Postprocessing\n"
     ]
    },
    {
     "name": "stderr",
     "output_type": "stream",
     "text": [
      "Warning: Player 'Exhaustive' cannot start at unreachable location 97, starting at closest cell (using Euclidean distance)\n",
      "Exhaustive:  72%|███████▏  | 36/50 [00:03<00:01, 10.73it/s]"
     ]
    },
    {
     "name": "stdout",
     "output_type": "stream",
     "text": [
      "Postprocessing\n",
      "Postprocessing\n",
      "Postprocessing\n"
     ]
    },
    {
     "name": "stderr",
     "output_type": "stream",
     "text": [
      "Exhaustive:  80%|████████  | 40/50 [00:03<00:00, 11.23it/s]"
     ]
    },
    {
     "name": "stdout",
     "output_type": "stream",
     "text": [
      "Postprocessing\n",
      "Postprocessing\n",
      "Postprocessing\n"
     ]
    },
    {
     "name": "stderr",
     "output_type": "stream",
     "text": [
      "Exhaustive:  84%|████████▍ | 42/50 [00:03<00:00, 11.61it/s]"
     ]
    },
    {
     "name": "stdout",
     "output_type": "stream",
     "text": [
      "Postprocessing\n",
      "Postprocessing\n",
      "Postprocessing\n"
     ]
    },
    {
     "name": "stderr",
     "output_type": "stream",
     "text": [
      "Warning: Player 'Exhaustive' cannot start at unreachable location 97, starting at closest cell (using Euclidean distance)\n",
      "Exhaustive:  88%|████████▊ | 44/50 [00:03<00:00, 11.66it/s]"
     ]
    },
    {
     "name": "stdout",
     "output_type": "stream",
     "text": [
      "Postprocessing\n",
      "Postprocessing\n"
     ]
    },
    {
     "name": "stderr",
     "output_type": "stream",
     "text": [
      "Exhaustive:  92%|█████████▏| 46/50 [00:04<00:00, 10.94it/s]"
     ]
    },
    {
     "name": "stdout",
     "output_type": "stream",
     "text": [
      "Postprocessing\n",
      "Postprocessing\n"
     ]
    },
    {
     "name": "stderr",
     "output_type": "stream",
     "text": [
      "Exhaustive: 100%|██████████| 50/50 [00:04<00:00, 10.03it/s]"
     ]
    },
    {
     "name": "stdout",
     "output_type": "stream",
     "text": [
      "Postprocessing\n",
      "Postprocessing\n",
      "Postprocessing\n"
     ]
    },
    {
     "name": "stderr",
     "output_type": "stream",
     "text": [
      "Exhaustive: 100%|██████████| 50/50 [00:04<00:00, 10.77it/s]\n",
      "Exhaustive:   0%|          | 0/50 [00:00<?, ?it/s]Warning: Player 'Exhaustive' cannot start at unreachable location 97, starting at closest cell (using Euclidean distance)\n",
      "Exhaustive:   6%|▌         | 3/50 [00:00<00:04, 10.27it/s]"
     ]
    },
    {
     "name": "stdout",
     "output_type": "stream",
     "text": [
      "Postprocessing\n",
      "Postprocessing\n",
      "Postprocessing\n"
     ]
    },
    {
     "name": "stderr",
     "output_type": "stream",
     "text": [
      "Exhaustive:  10%|█         | 5/50 [00:00<00:04, 10.48it/s]"
     ]
    },
    {
     "name": "stdout",
     "output_type": "stream",
     "text": [
      "Postprocessing\n",
      "Postprocessing\n",
      "Postprocessing\n"
     ]
    },
    {
     "name": "stderr",
     "output_type": "stream",
     "text": [
      "Exhaustive:  14%|█▍        | 7/50 [00:00<00:03, 11.30it/s]"
     ]
    },
    {
     "name": "stdout",
     "output_type": "stream",
     "text": [
      "Postprocessing\n",
      "Postprocessing\n",
      "Postprocessing\n"
     ]
    },
    {
     "name": "stderr",
     "output_type": "stream",
     "text": [
      "Exhaustive:  22%|██▏       | 11/50 [00:01<00:03, 10.55it/s]"
     ]
    },
    {
     "name": "stdout",
     "output_type": "stream",
     "text": [
      "Postprocessing\n",
      "Postprocessing\n",
      "Postprocessing\n"
     ]
    },
    {
     "name": "stderr",
     "output_type": "stream",
     "text": [
      "Warning: Player 'Exhaustive' cannot start at unreachable location 97, starting at closest cell (using Euclidean distance)\n",
      "Warning: Player 'Exhaustive' cannot start at unreachable location 97, starting at closest cell (using Euclidean distance)\n",
      "Exhaustive:  30%|███       | 15/50 [00:01<00:03, 10.61it/s]"
     ]
    },
    {
     "name": "stdout",
     "output_type": "stream",
     "text": [
      "Postprocessing\n",
      "Postprocessing\n",
      "Postprocessing\n"
     ]
    },
    {
     "name": "stderr",
     "output_type": "stream",
     "text": [
      "Warning: Player 'Exhaustive' cannot start at unreachable location 97, starting at closest cell (using Euclidean distance)\n",
      "Exhaustive:  34%|███▍      | 17/50 [00:01<00:02, 11.33it/s]Warning: Player 'Exhaustive' cannot start at unreachable location 97, starting at closest cell (using Euclidean distance)\n",
      "Exhaustive:  38%|███▊      | 19/50 [00:01<00:02, 11.38it/s]"
     ]
    },
    {
     "name": "stdout",
     "output_type": "stream",
     "text": [
      "Postprocessing\n",
      "Postprocessing\n",
      "Postprocessing\n",
      "Postprocessing\n"
     ]
    },
    {
     "name": "stderr",
     "output_type": "stream",
     "text": [
      "Warning: Player 'Exhaustive' cannot start at unreachable location 97, starting at closest cell (using Euclidean distance)\n",
      "Exhaustive:  42%|████▏     | 21/50 [00:01<00:02, 11.30it/s]"
     ]
    },
    {
     "name": "stdout",
     "output_type": "stream",
     "text": [
      "Postprocessing\n",
      "Postprocessing\n",
      "Postprocessing\n"
     ]
    },
    {
     "name": "stderr",
     "output_type": "stream",
     "text": [
      "Warning: Player 'Exhaustive' cannot start at unreachable location 97, starting at closest cell (using Euclidean distance)\n",
      "Exhaustive:  46%|████▌     | 23/50 [00:02<00:02, 11.39it/s]Warning: Player 'Exhaustive' cannot start at unreachable location 97, starting at closest cell (using Euclidean distance)\n",
      "Exhaustive:  50%|█████     | 25/50 [00:02<00:02, 11.34it/s]"
     ]
    },
    {
     "name": "stdout",
     "output_type": "stream",
     "text": [
      "Postprocessing\n",
      "Postprocessing\n",
      "Postprocessing\n",
      "Postprocessing\n"
     ]
    },
    {
     "name": "stderr",
     "output_type": "stream",
     "text": [
      "Exhaustive:  58%|█████▊    | 29/50 [00:02<00:01, 12.19it/s]"
     ]
    },
    {
     "name": "stdout",
     "output_type": "stream",
     "text": [
      "Postprocessing\n",
      "Postprocessing\n",
      "Postprocessing\n"
     ]
    },
    {
     "name": "stderr",
     "output_type": "stream",
     "text": [
      "Warning: Player 'Exhaustive' cannot start at unreachable location 97, starting at closest cell (using Euclidean distance)\n",
      "Exhaustive:  62%|██████▏   | 31/50 [00:02<00:01, 12.27it/s]"
     ]
    },
    {
     "name": "stdout",
     "output_type": "stream",
     "text": [
      "Postprocessing\n",
      "Postprocessing\n",
      "Postprocessing\n"
     ]
    },
    {
     "name": "stderr",
     "output_type": "stream",
     "text": [
      "Exhaustive:  66%|██████▌   | 33/50 [00:02<00:01, 12.18it/s]"
     ]
    },
    {
     "name": "stdout",
     "output_type": "stream",
     "text": [
      "Postprocessing\n",
      "Postprocessing\n"
     ]
    },
    {
     "name": "stderr",
     "output_type": "stream",
     "text": [
      "Warning: Player 'Exhaustive' cannot start at unreachable location 97, starting at closest cell (using Euclidean distance)\n",
      "Exhaustive:  74%|███████▍  | 37/50 [00:03<00:01, 11.23it/s]"
     ]
    },
    {
     "name": "stdout",
     "output_type": "stream",
     "text": [
      "Postprocessing\n",
      "Postprocessing\n",
      "Postprocessing\n"
     ]
    },
    {
     "name": "stderr",
     "output_type": "stream",
     "text": [
      "Exhaustive:  78%|███████▊  | 39/50 [00:03<00:00, 11.25it/s]"
     ]
    },
    {
     "name": "stdout",
     "output_type": "stream",
     "text": [
      "Postprocessing\n",
      "Postprocessing\n",
      "Postprocessing\n"
     ]
    },
    {
     "name": "stderr",
     "output_type": "stream",
     "text": [
      "Exhaustive:  86%|████████▌ | 43/50 [00:03<00:00, 11.52it/s]"
     ]
    },
    {
     "name": "stdout",
     "output_type": "stream",
     "text": [
      "Postprocessing\n",
      "Postprocessing\n",
      "Postprocessing\n"
     ]
    },
    {
     "name": "stderr",
     "output_type": "stream",
     "text": [
      "Warning: Player 'Exhaustive' cannot start at unreachable location 97, starting at closest cell (using Euclidean distance)\n",
      "Exhaustive:  94%|█████████▍| 47/50 [00:04<00:00, 11.76it/s]"
     ]
    },
    {
     "name": "stdout",
     "output_type": "stream",
     "text": [
      "Postprocessing\n",
      "Postprocessing\n",
      "Postprocessing\n",
      "Postprocessing\n"
     ]
    },
    {
     "name": "stderr",
     "output_type": "stream",
     "text": [
      "Exhaustive: 100%|██████████| 50/50 [00:04<00:00, 11.33it/s]"
     ]
    },
    {
     "name": "stdout",
     "output_type": "stream",
     "text": [
      "Postprocessing\n",
      "Postprocessing\n",
      "Postprocessing\n"
     ]
    },
    {
     "name": "stderr",
     "output_type": "stream",
     "text": [
      "\n",
      "Exhaustive:   0%|          | 0/50 [00:00<?, ?it/s]Warning: Player 'Exhaustive' cannot start at unreachable location 97, starting at closest cell (using Euclidean distance)\n",
      "Exhaustive:   4%|▍         | 2/50 [00:00<00:04, 11.25it/s]"
     ]
    },
    {
     "name": "stdout",
     "output_type": "stream",
     "text": [
      "Postprocessing\n",
      "Postprocessing\n",
      "Postprocessing\n"
     ]
    },
    {
     "name": "stderr",
     "output_type": "stream",
     "text": [
      "Exhaustive:  12%|█▏        | 6/50 [00:00<00:04, 10.27it/s]"
     ]
    },
    {
     "name": "stdout",
     "output_type": "stream",
     "text": [
      "Postprocessing\n",
      "Postprocessing\n",
      "Postprocessing\n"
     ]
    },
    {
     "name": "stderr",
     "output_type": "stream",
     "text": [
      "Exhaustive:  16%|█▌        | 8/50 [00:00<00:03, 10.73it/s]"
     ]
    },
    {
     "name": "stdout",
     "output_type": "stream",
     "text": [
      "Postprocessing\n",
      "Postprocessing\n",
      "Postprocessing\n"
     ]
    },
    {
     "name": "stderr",
     "output_type": "stream",
     "text": [
      "Exhaustive:  20%|██        | 10/50 [00:00<00:03, 10.48it/s]"
     ]
    },
    {
     "name": "stdout",
     "output_type": "stream",
     "text": [
      "Postprocessing\n",
      "Postprocessing\n"
     ]
    },
    {
     "name": "stderr",
     "output_type": "stream",
     "text": [
      "Warning: Player 'Exhaustive' cannot start at unreachable location 97, starting at closest cell (using Euclidean distance)\n",
      "Exhaustive:  24%|██▍       | 12/50 [00:01<00:03, 10.23it/s]Warning: Player 'Exhaustive' cannot start at unreachable location 97, starting at closest cell (using Euclidean distance)\n"
     ]
    },
    {
     "name": "stdout",
     "output_type": "stream",
     "text": [
      "Postprocessing\n",
      "Postprocessing\n",
      "Postprocessing\n"
     ]
    },
    {
     "name": "stderr",
     "output_type": "stream",
     "text": [
      "Exhaustive:  32%|███▏      | 16/50 [00:01<00:03, 10.05it/s]"
     ]
    },
    {
     "name": "stdout",
     "output_type": "stream",
     "text": [
      "Postprocessing\n",
      "Postprocessing\n",
      "Postprocessing\n"
     ]
    },
    {
     "name": "stderr",
     "output_type": "stream",
     "text": [
      "Warning: Player 'Exhaustive' cannot start at unreachable location 97, starting at closest cell (using Euclidean distance)\n",
      "Exhaustive:  36%|███▌      | 18/50 [00:01<00:03, 10.51it/s]Warning: Player 'Exhaustive' cannot start at unreachable location 97, starting at closest cell (using Euclidean distance)\n",
      "Exhaustive:  40%|████      | 20/50 [00:01<00:02, 10.32it/s]"
     ]
    },
    {
     "name": "stdout",
     "output_type": "stream",
     "text": [
      "Postprocessing\n",
      "Postprocessing\n",
      "Postprocessing\n"
     ]
    },
    {
     "name": "stderr",
     "output_type": "stream",
     "text": [
      "Warning: Player 'Exhaustive' cannot start at unreachable location 97, starting at closest cell (using Euclidean distance)\n",
      "Warning: Player 'Exhaustive' cannot start at unreachable location 97, starting at closest cell (using Euclidean distance)\n",
      "Exhaustive:  44%|████▍     | 22/50 [00:02<00:02, 10.70it/s]Warning: Player 'Exhaustive' cannot start at unreachable location 97, starting at closest cell (using Euclidean distance)\n",
      "Exhaustive:  48%|████▊     | 24/50 [00:02<00:02, 10.76it/s]"
     ]
    },
    {
     "name": "stdout",
     "output_type": "stream",
     "text": [
      "Postprocessing\n",
      "Postprocessing\n",
      "Postprocessing\n",
      "Postprocessing\n"
     ]
    },
    {
     "name": "stderr",
     "output_type": "stream",
     "text": [
      "Exhaustive:  52%|█████▏    | 26/50 [00:02<00:02, 10.77it/s]"
     ]
    },
    {
     "name": "stdout",
     "output_type": "stream",
     "text": [
      "Postprocessing\n",
      "Postprocessing\n",
      "Postprocessing\n"
     ]
    },
    {
     "name": "stderr",
     "output_type": "stream",
     "text": [
      "Exhaustive:  56%|█████▌    | 28/50 [00:02<00:02, 10.78it/s]Warning: Player 'Exhaustive' cannot start at unreachable location 97, starting at closest cell (using Euclidean distance)\n",
      "Exhaustive:  60%|██████    | 30/50 [00:02<00:01, 10.81it/s]"
     ]
    },
    {
     "name": "stdout",
     "output_type": "stream",
     "text": [
      "Postprocessing\n",
      "Postprocessing\n",
      "Postprocessing\n"
     ]
    },
    {
     "name": "stderr",
     "output_type": "stream",
     "text": [
      "Exhaustive:  64%|██████▍   | 32/50 [00:03<00:01, 10.48it/s]"
     ]
    },
    {
     "name": "stdout",
     "output_type": "stream",
     "text": [
      "Postprocessing\n",
      "Postprocessing\n"
     ]
    },
    {
     "name": "stderr",
     "output_type": "stream",
     "text": [
      "Exhaustive:  68%|██████▊   | 34/50 [00:03<00:01, 10.51it/s]"
     ]
    },
    {
     "name": "stdout",
     "output_type": "stream",
     "text": [
      "Postprocessing\n",
      "Postprocessing\n",
      "Postprocessing\n"
     ]
    },
    {
     "name": "stderr",
     "output_type": "stream",
     "text": [
      "Warning: Player 'Exhaustive' cannot start at unreachable location 97, starting at closest cell (using Euclidean distance)\n",
      "Exhaustive:  72%|███████▏  | 36/50 [00:03<00:01, 10.83it/s]"
     ]
    },
    {
     "name": "stdout",
     "output_type": "stream",
     "text": [
      "Postprocessing\n",
      "Postprocessing\n",
      "Postprocessing\n"
     ]
    },
    {
     "name": "stderr",
     "output_type": "stream",
     "text": [
      "Exhaustive:  80%|████████  | 40/50 [00:03<00:00, 10.71it/s]"
     ]
    },
    {
     "name": "stdout",
     "output_type": "stream",
     "text": [
      "Postprocessing\n",
      "Postprocessing\n",
      "Postprocessing\n"
     ]
    },
    {
     "name": "stderr",
     "output_type": "stream",
     "text": [
      "Exhaustive:  84%|████████▍ | 42/50 [00:03<00:00, 10.96it/s]"
     ]
    },
    {
     "name": "stdout",
     "output_type": "stream",
     "text": [
      "Postprocessing\n",
      "Postprocessing\n"
     ]
    },
    {
     "name": "stderr",
     "output_type": "stream",
     "text": [
      "Warning: Player 'Exhaustive' cannot start at unreachable location 97, starting at closest cell (using Euclidean distance)\n",
      "Exhaustive:  92%|█████████▏| 46/50 [00:04<00:00, 10.72it/s]"
     ]
    },
    {
     "name": "stdout",
     "output_type": "stream",
     "text": [
      "Postprocessing\n",
      "Postprocessing\n",
      "Postprocessing\n",
      "Postprocessing\n"
     ]
    },
    {
     "name": "stderr",
     "output_type": "stream",
     "text": [
      "Exhaustive: 100%|██████████| 50/50 [00:04<00:00, 10.19it/s]"
     ]
    },
    {
     "name": "stdout",
     "output_type": "stream",
     "text": [
      "Postprocessing\n",
      "Postprocessing\n",
      "Postprocessing\n"
     ]
    },
    {
     "name": "stderr",
     "output_type": "stream",
     "text": [
      "Exhaustive: 100%|██████████| 50/50 [00:04<00:00, 10.45it/s]\n",
      "Exhaustive:   0%|          | 0/50 [00:00<?, ?it/s]Warning: Player 'Exhaustive' cannot start at unreachable location 97, starting at closest cell (using Euclidean distance)\n",
      "Exhaustive:   4%|▍         | 2/50 [00:00<00:06,  7.09it/s]"
     ]
    },
    {
     "name": "stdout",
     "output_type": "stream",
     "text": [
      "Postprocessing\n",
      "Postprocessing\n"
     ]
    },
    {
     "name": "stderr",
     "output_type": "stream",
     "text": [
      "Exhaustive:   8%|▊         | 4/50 [00:00<00:06,  7.09it/s]"
     ]
    },
    {
     "name": "stdout",
     "output_type": "stream",
     "text": [
      "Postprocessing\n",
      "Postprocessing\n"
     ]
    },
    {
     "name": "stderr",
     "output_type": "stream",
     "text": [
      "Exhaustive:  12%|█▏        | 6/50 [00:00<00:06,  7.02it/s]"
     ]
    },
    {
     "name": "stdout",
     "output_type": "stream",
     "text": [
      "Postprocessing\n",
      "Postprocessing\n"
     ]
    },
    {
     "name": "stderr",
     "output_type": "stream",
     "text": [
      "Exhaustive:  16%|█▌        | 8/50 [00:01<00:05,  7.21it/s]"
     ]
    },
    {
     "name": "stdout",
     "output_type": "stream",
     "text": [
      "Postprocessing\n",
      "Postprocessing\n"
     ]
    },
    {
     "name": "stderr",
     "output_type": "stream",
     "text": [
      "Exhaustive:  20%|██        | 10/50 [00:01<00:05,  6.95it/s]"
     ]
    },
    {
     "name": "stdout",
     "output_type": "stream",
     "text": [
      "Postprocessing\n",
      "Postprocessing\n"
     ]
    },
    {
     "name": "stderr",
     "output_type": "stream",
     "text": [
      "Exhaustive:  22%|██▏       | 11/50 [00:01<00:05,  7.13it/s]Warning: Player 'Exhaustive' cannot start at unreachable location 97, starting at closest cell (using Euclidean distance)\n",
      "Exhaustive:  24%|██▍       | 12/50 [00:01<00:05,  6.98it/s]Warning: Player 'Exhaustive' cannot start at unreachable location 97, starting at closest cell (using Euclidean distance)\n",
      "Exhaustive:  26%|██▌       | 13/50 [00:01<00:05,  7.25it/s]"
     ]
    },
    {
     "name": "stdout",
     "output_type": "stream",
     "text": [
      "Postprocessing\n",
      "Postprocessing\n",
      "Postprocessing\n"
     ]
    },
    {
     "name": "stderr",
     "output_type": "stream",
     "text": [
      "Exhaustive:  30%|███       | 15/50 [00:02<00:04,  7.20it/s]"
     ]
    },
    {
     "name": "stdout",
     "output_type": "stream",
     "text": [
      "Postprocessing\n",
      "Postprocessing\n"
     ]
    },
    {
     "name": "stderr",
     "output_type": "stream",
     "text": [
      "Exhaustive:  32%|███▏      | 16/50 [00:02<00:04,  6.87it/s]Warning: Player 'Exhaustive' cannot start at unreachable location 97, starting at closest cell (using Euclidean distance)\n",
      "Exhaustive:  34%|███▍      | 17/50 [00:02<00:04,  6.79it/s]"
     ]
    },
    {
     "name": "stdout",
     "output_type": "stream",
     "text": [
      "Postprocessing\n",
      "Postprocessing\n"
     ]
    },
    {
     "name": "stderr",
     "output_type": "stream",
     "text": [
      "Exhaustive:  36%|███▌      | 18/50 [00:02<00:05,  6.31it/s]Warning: Player 'Exhaustive' cannot start at unreachable location 97, starting at closest cell (using Euclidean distance)\n",
      "Exhaustive:  38%|███▊      | 19/50 [00:02<00:04,  6.45it/s]"
     ]
    },
    {
     "name": "stdout",
     "output_type": "stream",
     "text": [
      "Postprocessing\n",
      "Postprocessing\n"
     ]
    },
    {
     "name": "stderr",
     "output_type": "stream",
     "text": [
      "Exhaustive:  40%|████      | 20/50 [00:02<00:04,  6.83it/s]Warning: Player 'Exhaustive' cannot start at unreachable location 97, starting at closest cell (using Euclidean distance)\n",
      "Exhaustive:  42%|████▏     | 21/50 [00:03<00:04,  6.54it/s]"
     ]
    },
    {
     "name": "stdout",
     "output_type": "stream",
     "text": [
      "Postprocessing\n",
      "Postprocessing\n"
     ]
    },
    {
     "name": "stderr",
     "output_type": "stream",
     "text": [
      "Warning: Player 'Exhaustive' cannot start at unreachable location 97, starting at closest cell (using Euclidean distance)\n",
      "Exhaustive:  46%|████▌     | 23/50 [00:03<00:04,  6.57it/s]"
     ]
    },
    {
     "name": "stdout",
     "output_type": "stream",
     "text": [
      "Postprocessing\n",
      "Postprocessing\n"
     ]
    },
    {
     "name": "stderr",
     "output_type": "stream",
     "text": [
      "Warning: Player 'Exhaustive' cannot start at unreachable location 97, starting at closest cell (using Euclidean distance)\n",
      "Exhaustive:  50%|█████     | 25/50 [00:03<00:03,  6.26it/s]"
     ]
    },
    {
     "name": "stdout",
     "output_type": "stream",
     "text": [
      "Postprocessing\n",
      "Postprocessing\n"
     ]
    },
    {
     "name": "stderr",
     "output_type": "stream",
     "text": [
      "Exhaustive:  54%|█████▍    | 27/50 [00:03<00:03,  6.71it/s]"
     ]
    },
    {
     "name": "stdout",
     "output_type": "stream",
     "text": [
      "Postprocessing\n",
      "Postprocessing\n"
     ]
    },
    {
     "name": "stderr",
     "output_type": "stream",
     "text": [
      "Exhaustive:  58%|█████▊    | 29/50 [00:04<00:03,  6.95it/s]"
     ]
    },
    {
     "name": "stdout",
     "output_type": "stream",
     "text": [
      "Postprocessing\n",
      "Postprocessing\n"
     ]
    },
    {
     "name": "stderr",
     "output_type": "stream",
     "text": [
      "Warning: Player 'Exhaustive' cannot start at unreachable location 97, starting at closest cell (using Euclidean distance)\n",
      "Exhaustive:  62%|██████▏   | 31/50 [00:04<00:02,  6.65it/s]"
     ]
    },
    {
     "name": "stdout",
     "output_type": "stream",
     "text": [
      "Postprocessing\n",
      "Postprocessing\n"
     ]
    },
    {
     "name": "stderr",
     "output_type": "stream",
     "text": [
      "Exhaustive:  66%|██████▌   | 33/50 [00:04<00:02,  6.43it/s]"
     ]
    },
    {
     "name": "stdout",
     "output_type": "stream",
     "text": [
      "Postprocessing\n",
      "Postprocessing\n"
     ]
    },
    {
     "name": "stderr",
     "output_type": "stream",
     "text": [
      "Exhaustive:  68%|██████▊   | 34/50 [00:05<00:02,  6.66it/s]Warning: Player 'Exhaustive' cannot start at unreachable location 97, starting at closest cell (using Euclidean distance)\n",
      "Exhaustive:  70%|███████   | 35/50 [00:05<00:02,  6.67it/s]"
     ]
    },
    {
     "name": "stdout",
     "output_type": "stream",
     "text": [
      "Postprocessing\n",
      "Postprocessing\n"
     ]
    },
    {
     "name": "stderr",
     "output_type": "stream",
     "text": [
      "Exhaustive:  74%|███████▍  | 37/50 [00:05<00:01,  6.94it/s]"
     ]
    },
    {
     "name": "stdout",
     "output_type": "stream",
     "text": [
      "Postprocessing\n",
      "Postprocessing\n"
     ]
    },
    {
     "name": "stderr",
     "output_type": "stream",
     "text": [
      "Exhaustive:  78%|███████▊  | 39/50 [00:05<00:01,  6.85it/s]"
     ]
    },
    {
     "name": "stdout",
     "output_type": "stream",
     "text": [
      "Postprocessing\n",
      "Postprocessing\n"
     ]
    },
    {
     "name": "stderr",
     "output_type": "stream",
     "text": [
      "Exhaustive:  82%|████████▏ | 41/50 [00:05<00:01,  7.17it/s]"
     ]
    },
    {
     "name": "stdout",
     "output_type": "stream",
     "text": [
      "Postprocessing\n",
      "Postprocessing\n"
     ]
    },
    {
     "name": "stderr",
     "output_type": "stream",
     "text": [
      "Exhaustive:  86%|████████▌ | 43/50 [00:06<00:01,  6.65it/s]"
     ]
    },
    {
     "name": "stdout",
     "output_type": "stream",
     "text": [
      "Postprocessing\n",
      "Postprocessing\n"
     ]
    },
    {
     "name": "stderr",
     "output_type": "stream",
     "text": [
      "Warning: Player 'Exhaustive' cannot start at unreachable location 97, starting at closest cell (using Euclidean distance)\n",
      "Exhaustive:  90%|█████████ | 45/50 [00:06<00:00,  6.98it/s]"
     ]
    },
    {
     "name": "stdout",
     "output_type": "stream",
     "text": [
      "Postprocessing\n",
      "Postprocessing\n"
     ]
    },
    {
     "name": "stderr",
     "output_type": "stream",
     "text": [
      "Exhaustive:  94%|█████████▍| 47/50 [00:06<00:00,  6.98it/s]"
     ]
    },
    {
     "name": "stdout",
     "output_type": "stream",
     "text": [
      "Postprocessing\n",
      "Postprocessing\n"
     ]
    },
    {
     "name": "stderr",
     "output_type": "stream",
     "text": [
      "Exhaustive:  98%|█████████▊| 49/50 [00:07<00:00,  6.92it/s]"
     ]
    },
    {
     "name": "stdout",
     "output_type": "stream",
     "text": [
      "Postprocessing\n",
      "Postprocessing\n"
     ]
    },
    {
     "name": "stderr",
     "output_type": "stream",
     "text": [
      "Exhaustive: 100%|██████████| 50/50 [00:07<00:00,  6.86it/s]\n"
     ]
    },
    {
     "name": "stdout",
     "output_type": "stream",
     "text": [
      "Postprocessing\n"
     ]
    },
    {
     "name": "stderr",
     "output_type": "stream",
     "text": [
      "Exhaustive:   0%|          | 0/50 [00:00<?, ?it/s]Warning: Player 'Exhaustive' cannot start at unreachable location 97, starting at closest cell (using Euclidean distance)\n",
      "Exhaustive:   2%|▏         | 1/50 [00:00<00:27,  1.78it/s]"
     ]
    },
    {
     "name": "stdout",
     "output_type": "stream",
     "text": [
      "Postprocessing\n"
     ]
    },
    {
     "name": "stderr",
     "output_type": "stream",
     "text": [
      "Exhaustive:   4%|▍         | 2/50 [00:01<00:26,  1.82it/s]"
     ]
    },
    {
     "name": "stdout",
     "output_type": "stream",
     "text": [
      "Postprocessing\n"
     ]
    },
    {
     "name": "stderr",
     "output_type": "stream",
     "text": [
      "Exhaustive:   6%|▌         | 3/50 [00:01<00:29,  1.60it/s]"
     ]
    },
    {
     "name": "stdout",
     "output_type": "stream",
     "text": [
      "Postprocessing\n"
     ]
    },
    {
     "name": "stderr",
     "output_type": "stream",
     "text": [
      "Exhaustive:   8%|▊         | 4/50 [00:02<00:28,  1.59it/s]"
     ]
    },
    {
     "name": "stdout",
     "output_type": "stream",
     "text": [
      "Postprocessing\n"
     ]
    },
    {
     "name": "stderr",
     "output_type": "stream",
     "text": [
      "Exhaustive:  10%|█         | 5/50 [00:03<00:27,  1.66it/s]"
     ]
    },
    {
     "name": "stdout",
     "output_type": "stream",
     "text": [
      "Postprocessing\n"
     ]
    },
    {
     "name": "stderr",
     "output_type": "stream",
     "text": [
      "Exhaustive:  12%|█▏        | 6/50 [00:03<00:26,  1.68it/s]"
     ]
    },
    {
     "name": "stdout",
     "output_type": "stream",
     "text": [
      "Postprocessing\n"
     ]
    },
    {
     "name": "stderr",
     "output_type": "stream",
     "text": [
      "Exhaustive:  14%|█▍        | 7/50 [00:04<00:24,  1.74it/s]"
     ]
    },
    {
     "name": "stdout",
     "output_type": "stream",
     "text": [
      "Postprocessing\n"
     ]
    },
    {
     "name": "stderr",
     "output_type": "stream",
     "text": [
      "Exhaustive:  16%|█▌        | 8/50 [00:04<00:23,  1.76it/s]"
     ]
    },
    {
     "name": "stdout",
     "output_type": "stream",
     "text": [
      "Postprocessing\n"
     ]
    },
    {
     "name": "stderr",
     "output_type": "stream",
     "text": [
      "Exhaustive:  18%|█▊        | 9/50 [00:05<00:23,  1.75it/s]"
     ]
    },
    {
     "name": "stdout",
     "output_type": "stream",
     "text": [
      "Postprocessing\n"
     ]
    },
    {
     "name": "stderr",
     "output_type": "stream",
     "text": [
      "Exhaustive:  20%|██        | 10/50 [00:05<00:23,  1.69it/s]"
     ]
    },
    {
     "name": "stdout",
     "output_type": "stream",
     "text": [
      "Postprocessing\n"
     ]
    },
    {
     "name": "stderr",
     "output_type": "stream",
     "text": [
      "Exhaustive:  22%|██▏       | 11/50 [00:06<00:22,  1.71it/s]"
     ]
    },
    {
     "name": "stdout",
     "output_type": "stream",
     "text": [
      "Postprocessing\n"
     ]
    },
    {
     "name": "stderr",
     "output_type": "stream",
     "text": [
      "Warning: Player 'Exhaustive' cannot start at unreachable location 97, starting at closest cell (using Euclidean distance)\n",
      "Exhaustive:  24%|██▍       | 12/50 [00:07<00:21,  1.74it/s]"
     ]
    },
    {
     "name": "stdout",
     "output_type": "stream",
     "text": [
      "Postprocessing\n"
     ]
    },
    {
     "name": "stderr",
     "output_type": "stream",
     "text": [
      "Warning: Player 'Exhaustive' cannot start at unreachable location 97, starting at closest cell (using Euclidean distance)\n",
      "Exhaustive:  26%|██▌       | 13/50 [00:07<00:21,  1.71it/s]"
     ]
    },
    {
     "name": "stdout",
     "output_type": "stream",
     "text": [
      "Postprocessing\n"
     ]
    },
    {
     "name": "stderr",
     "output_type": "stream",
     "text": [
      "Exhaustive:  28%|██▊       | 14/50 [00:08<00:20,  1.74it/s]"
     ]
    },
    {
     "name": "stdout",
     "output_type": "stream",
     "text": [
      "Postprocessing\n"
     ]
    },
    {
     "name": "stderr",
     "output_type": "stream",
     "text": [
      "Exhaustive:  30%|███       | 15/50 [00:08<00:20,  1.71it/s]"
     ]
    },
    {
     "name": "stdout",
     "output_type": "stream",
     "text": [
      "Postprocessing\n"
     ]
    },
    {
     "name": "stderr",
     "output_type": "stream",
     "text": [
      "Exhaustive:  32%|███▏      | 16/50 [00:09<00:19,  1.71it/s]"
     ]
    },
    {
     "name": "stdout",
     "output_type": "stream",
     "text": [
      "Postprocessing\n"
     ]
    },
    {
     "name": "stderr",
     "output_type": "stream",
     "text": [
      "Warning: Player 'Exhaustive' cannot start at unreachable location 97, starting at closest cell (using Euclidean distance)\n",
      "Exhaustive:  34%|███▍      | 17/50 [00:09<00:18,  1.75it/s]"
     ]
    },
    {
     "name": "stdout",
     "output_type": "stream",
     "text": [
      "Postprocessing\n"
     ]
    },
    {
     "name": "stderr",
     "output_type": "stream",
     "text": [
      "Exhaustive:  36%|███▌      | 18/50 [00:10<00:18,  1.75it/s]"
     ]
    },
    {
     "name": "stdout",
     "output_type": "stream",
     "text": [
      "Postprocessing\n"
     ]
    },
    {
     "name": "stderr",
     "output_type": "stream",
     "text": [
      "Warning: Player 'Exhaustive' cannot start at unreachable location 97, starting at closest cell (using Euclidean distance)\n",
      "Exhaustive:  38%|███▊      | 19/50 [00:11<00:17,  1.77it/s]"
     ]
    },
    {
     "name": "stdout",
     "output_type": "stream",
     "text": [
      "Postprocessing\n"
     ]
    },
    {
     "name": "stderr",
     "output_type": "stream",
     "text": [
      "Exhaustive:  40%|████      | 20/50 [00:11<00:16,  1.79it/s]"
     ]
    },
    {
     "name": "stdout",
     "output_type": "stream",
     "text": [
      "Postprocessing\n"
     ]
    },
    {
     "name": "stderr",
     "output_type": "stream",
     "text": [
      "Warning: Player 'Exhaustive' cannot start at unreachable location 97, starting at closest cell (using Euclidean distance)\n",
      "Exhaustive:  42%|████▏     | 21/50 [00:12<00:16,  1.77it/s]"
     ]
    },
    {
     "name": "stdout",
     "output_type": "stream",
     "text": [
      "Postprocessing\n"
     ]
    },
    {
     "name": "stderr",
     "output_type": "stream",
     "text": [
      "Warning: Player 'Exhaustive' cannot start at unreachable location 97, starting at closest cell (using Euclidean distance)\n",
      "Exhaustive:  44%|████▍     | 22/50 [00:12<00:16,  1.67it/s]"
     ]
    },
    {
     "name": "stdout",
     "output_type": "stream",
     "text": [
      "Postprocessing\n"
     ]
    },
    {
     "name": "stderr",
     "output_type": "stream",
     "text": [
      "Exhaustive:  46%|████▌     | 23/50 [00:13<00:16,  1.64it/s]"
     ]
    },
    {
     "name": "stdout",
     "output_type": "stream",
     "text": [
      "Postprocessing\n"
     ]
    },
    {
     "name": "stderr",
     "output_type": "stream",
     "text": [
      "Warning: Player 'Exhaustive' cannot start at unreachable location 97, starting at closest cell (using Euclidean distance)\n",
      "Exhaustive:  48%|████▊     | 24/50 [00:14<00:16,  1.60it/s]"
     ]
    },
    {
     "name": "stdout",
     "output_type": "stream",
     "text": [
      "Postprocessing\n"
     ]
    },
    {
     "name": "stderr",
     "output_type": "stream",
     "text": [
      "Exhaustive:  50%|█████     | 25/50 [00:14<00:14,  1.67it/s]"
     ]
    },
    {
     "name": "stdout",
     "output_type": "stream",
     "text": [
      "Postprocessing\n"
     ]
    },
    {
     "name": "stderr",
     "output_type": "stream",
     "text": [
      "Exhaustive:  52%|█████▏    | 26/50 [00:15<00:14,  1.66it/s]"
     ]
    },
    {
     "name": "stdout",
     "output_type": "stream",
     "text": [
      "Postprocessing\n"
     ]
    },
    {
     "name": "stderr",
     "output_type": "stream",
     "text": [
      "Exhaustive:  54%|█████▍    | 27/50 [00:15<00:14,  1.61it/s]"
     ]
    },
    {
     "name": "stdout",
     "output_type": "stream",
     "text": [
      "Postprocessing\n"
     ]
    },
    {
     "name": "stderr",
     "output_type": "stream",
     "text": [
      "Exhaustive:  56%|█████▌    | 28/50 [00:16<00:13,  1.59it/s]"
     ]
    },
    {
     "name": "stdout",
     "output_type": "stream",
     "text": [
      "Postprocessing\n"
     ]
    },
    {
     "name": "stderr",
     "output_type": "stream",
     "text": [
      "Exhaustive:  58%|█████▊    | 29/50 [00:17<00:12,  1.64it/s]"
     ]
    },
    {
     "name": "stdout",
     "output_type": "stream",
     "text": [
      "Postprocessing\n"
     ]
    },
    {
     "name": "stderr",
     "output_type": "stream",
     "text": [
      "Warning: Player 'Exhaustive' cannot start at unreachable location 97, starting at closest cell (using Euclidean distance)\n",
      "Exhaustive:  60%|██████    | 30/50 [00:17<00:12,  1.66it/s]"
     ]
    },
    {
     "name": "stdout",
     "output_type": "stream",
     "text": [
      "Postprocessing\n"
     ]
    },
    {
     "name": "stderr",
     "output_type": "stream",
     "text": [
      "Exhaustive:  62%|██████▏   | 31/50 [00:18<00:11,  1.68it/s]"
     ]
    },
    {
     "name": "stdout",
     "output_type": "stream",
     "text": [
      "Postprocessing\n"
     ]
    },
    {
     "name": "stderr",
     "output_type": "stream",
     "text": [
      "Exhaustive:  64%|██████▍   | 32/50 [00:18<00:10,  1.71it/s]"
     ]
    },
    {
     "name": "stdout",
     "output_type": "stream",
     "text": [
      "Postprocessing\n"
     ]
    },
    {
     "name": "stderr",
     "output_type": "stream",
     "text": [
      "Exhaustive:  66%|██████▌   | 33/50 [00:19<00:10,  1.68it/s]"
     ]
    },
    {
     "name": "stdout",
     "output_type": "stream",
     "text": [
      "Postprocessing\n"
     ]
    },
    {
     "name": "stderr",
     "output_type": "stream",
     "text": [
      "Exhaustive:  68%|██████▊   | 34/50 [00:20<00:09,  1.68it/s]"
     ]
    },
    {
     "name": "stdout",
     "output_type": "stream",
     "text": [
      "Postprocessing\n"
     ]
    },
    {
     "name": "stderr",
     "output_type": "stream",
     "text": [
      "Warning: Player 'Exhaustive' cannot start at unreachable location 97, starting at closest cell (using Euclidean distance)\n",
      "Exhaustive:  70%|███████   | 35/50 [00:20<00:08,  1.67it/s]"
     ]
    },
    {
     "name": "stdout",
     "output_type": "stream",
     "text": [
      "Postprocessing\n"
     ]
    },
    {
     "name": "stderr",
     "output_type": "stream",
     "text": [
      "Exhaustive:  72%|███████▏  | 36/50 [00:21<00:08,  1.69it/s]"
     ]
    },
    {
     "name": "stdout",
     "output_type": "stream",
     "text": [
      "Postprocessing\n"
     ]
    },
    {
     "name": "stderr",
     "output_type": "stream",
     "text": [
      "Exhaustive:  74%|███████▍  | 37/50 [00:21<00:07,  1.70it/s]"
     ]
    },
    {
     "name": "stdout",
     "output_type": "stream",
     "text": [
      "Postprocessing\n"
     ]
    },
    {
     "name": "stderr",
     "output_type": "stream",
     "text": [
      "Exhaustive:  76%|███████▌  | 38/50 [00:22<00:07,  1.67it/s]"
     ]
    },
    {
     "name": "stdout",
     "output_type": "stream",
     "text": [
      "Postprocessing\n"
     ]
    },
    {
     "name": "stderr",
     "output_type": "stream",
     "text": [
      "Exhaustive:  78%|███████▊  | 39/50 [00:23<00:06,  1.67it/s]"
     ]
    },
    {
     "name": "stdout",
     "output_type": "stream",
     "text": [
      "Postprocessing\n"
     ]
    },
    {
     "name": "stderr",
     "output_type": "stream",
     "text": [
      "Exhaustive:  80%|████████  | 40/50 [00:23<00:05,  1.68it/s]"
     ]
    },
    {
     "name": "stdout",
     "output_type": "stream",
     "text": [
      "Postprocessing\n"
     ]
    },
    {
     "name": "stderr",
     "output_type": "stream",
     "text": [
      "Exhaustive:  82%|████████▏ | 41/50 [00:24<00:05,  1.69it/s]"
     ]
    },
    {
     "name": "stdout",
     "output_type": "stream",
     "text": [
      "Postprocessing\n"
     ]
    },
    {
     "name": "stderr",
     "output_type": "stream",
     "text": [
      "Exhaustive:  84%|████████▍ | 42/50 [00:24<00:04,  1.73it/s]"
     ]
    },
    {
     "name": "stdout",
     "output_type": "stream",
     "text": [
      "Postprocessing\n"
     ]
    },
    {
     "name": "stderr",
     "output_type": "stream",
     "text": [
      "Exhaustive:  86%|████████▌ | 43/50 [00:25<00:04,  1.75it/s]"
     ]
    },
    {
     "name": "stdout",
     "output_type": "stream",
     "text": [
      "Postprocessing\n"
     ]
    },
    {
     "name": "stderr",
     "output_type": "stream",
     "text": [
      "Warning: Player 'Exhaustive' cannot start at unreachable location 97, starting at closest cell (using Euclidean distance)\n",
      "Exhaustive:  88%|████████▊ | 44/50 [00:25<00:03,  1.71it/s]"
     ]
    },
    {
     "name": "stdout",
     "output_type": "stream",
     "text": [
      "Postprocessing\n"
     ]
    },
    {
     "name": "stderr",
     "output_type": "stream",
     "text": [
      "Exhaustive:  90%|█████████ | 45/50 [00:26<00:03,  1.66it/s]"
     ]
    },
    {
     "name": "stdout",
     "output_type": "stream",
     "text": [
      "Postprocessing\n"
     ]
    },
    {
     "name": "stderr",
     "output_type": "stream",
     "text": [
      "Exhaustive:  92%|█████████▏| 46/50 [00:27<00:02,  1.64it/s]"
     ]
    },
    {
     "name": "stdout",
     "output_type": "stream",
     "text": [
      "Postprocessing\n"
     ]
    },
    {
     "name": "stderr",
     "output_type": "stream",
     "text": [
      "Exhaustive:  94%|█████████▍| 47/50 [00:27<00:01,  1.63it/s]"
     ]
    },
    {
     "name": "stdout",
     "output_type": "stream",
     "text": [
      "Postprocessing\n"
     ]
    },
    {
     "name": "stderr",
     "output_type": "stream",
     "text": [
      "Exhaustive:  96%|█████████▌| 48/50 [00:28<00:01,  1.63it/s]"
     ]
    },
    {
     "name": "stdout",
     "output_type": "stream",
     "text": [
      "Postprocessing\n"
     ]
    },
    {
     "name": "stderr",
     "output_type": "stream",
     "text": [
      "Exhaustive:  98%|█████████▊| 49/50 [00:29<00:00,  1.64it/s]"
     ]
    },
    {
     "name": "stdout",
     "output_type": "stream",
     "text": [
      "Postprocessing\n"
     ]
    },
    {
     "name": "stderr",
     "output_type": "stream",
     "text": [
      "Exhaustive: 100%|██████████| 50/50 [00:29<00:00,  1.68it/s]\n"
     ]
    },
    {
     "name": "stdout",
     "output_type": "stream",
     "text": [
      "Postprocessing\n"
     ]
    },
    {
     "name": "stderr",
     "output_type": "stream",
     "text": [
      "Exhaustive:   0%|          | 0/50 [00:00<?, ?it/s]Warning: Player 'Exhaustive' cannot start at unreachable location 97, starting at closest cell (using Euclidean distance)\n",
      "Exhaustive:   2%|▏         | 1/50 [00:04<03:54,  4.78s/it]"
     ]
    },
    {
     "name": "stdout",
     "output_type": "stream",
     "text": [
      "Postprocessing\n"
     ]
    },
    {
     "name": "stderr",
     "output_type": "stream",
     "text": [
      "Exhaustive:   4%|▍         | 2/50 [00:09<03:52,  4.84s/it]"
     ]
    },
    {
     "name": "stdout",
     "output_type": "stream",
     "text": [
      "Postprocessing\n"
     ]
    },
    {
     "name": "stderr",
     "output_type": "stream",
     "text": [
      "Exhaustive:   6%|▌         | 3/50 [00:14<03:51,  4.92s/it]"
     ]
    },
    {
     "name": "stdout",
     "output_type": "stream",
     "text": [
      "Postprocessing\n"
     ]
    },
    {
     "name": "stderr",
     "output_type": "stream",
     "text": [
      "Exhaustive:   8%|▊         | 4/50 [00:19<03:44,  4.89s/it]"
     ]
    },
    {
     "name": "stdout",
     "output_type": "stream",
     "text": [
      "Postprocessing\n"
     ]
    },
    {
     "name": "stderr",
     "output_type": "stream",
     "text": [
      "Exhaustive:  10%|█         | 5/50 [00:24<03:40,  4.90s/it]"
     ]
    },
    {
     "name": "stdout",
     "output_type": "stream",
     "text": [
      "Postprocessing\n"
     ]
    },
    {
     "name": "stderr",
     "output_type": "stream",
     "text": [
      "Exhaustive:  12%|█▏        | 6/50 [00:29<03:34,  4.88s/it]"
     ]
    },
    {
     "name": "stdout",
     "output_type": "stream",
     "text": [
      "Postprocessing\n"
     ]
    },
    {
     "name": "stderr",
     "output_type": "stream",
     "text": [
      "Exhaustive:  14%|█▍        | 7/50 [00:34<03:31,  4.93s/it]"
     ]
    },
    {
     "name": "stdout",
     "output_type": "stream",
     "text": [
      "Postprocessing\n"
     ]
    },
    {
     "name": "stderr",
     "output_type": "stream",
     "text": [
      "Exhaustive:  16%|█▌        | 8/50 [00:39<03:24,  4.88s/it]"
     ]
    },
    {
     "name": "stdout",
     "output_type": "stream",
     "text": [
      "Postprocessing\n"
     ]
    },
    {
     "name": "stderr",
     "output_type": "stream",
     "text": [
      "Exhaustive:  18%|█▊        | 9/50 [00:43<03:18,  4.83s/it]"
     ]
    },
    {
     "name": "stdout",
     "output_type": "stream",
     "text": [
      "Postprocessing\n"
     ]
    },
    {
     "name": "stderr",
     "output_type": "stream",
     "text": [
      "Exhaustive:  20%|██        | 10/50 [00:48<03:12,  4.80s/it]"
     ]
    },
    {
     "name": "stdout",
     "output_type": "stream",
     "text": [
      "Postprocessing\n"
     ]
    },
    {
     "name": "stderr",
     "output_type": "stream",
     "text": [
      "Exhaustive:  22%|██▏       | 11/50 [00:53<03:07,  4.80s/it]"
     ]
    },
    {
     "name": "stdout",
     "output_type": "stream",
     "text": [
      "Postprocessing\n"
     ]
    },
    {
     "name": "stderr",
     "output_type": "stream",
     "text": [
      "Warning: Player 'Exhaustive' cannot start at unreachable location 97, starting at closest cell (using Euclidean distance)\n",
      "Exhaustive:  24%|██▍       | 12/50 [00:58<03:03,  4.82s/it]"
     ]
    },
    {
     "name": "stdout",
     "output_type": "stream",
     "text": [
      "Postprocessing\n"
     ]
    },
    {
     "name": "stderr",
     "output_type": "stream",
     "text": [
      "Warning: Player 'Exhaustive' cannot start at unreachable location 97, starting at closest cell (using Euclidean distance)\n",
      "Exhaustive:  26%|██▌       | 13/50 [01:03<03:01,  4.90s/it]"
     ]
    },
    {
     "name": "stdout",
     "output_type": "stream",
     "text": [
      "Postprocessing\n"
     ]
    },
    {
     "name": "stderr",
     "output_type": "stream",
     "text": [
      "Exhaustive:  28%|██▊       | 14/50 [01:08<02:57,  4.92s/it]"
     ]
    },
    {
     "name": "stdout",
     "output_type": "stream",
     "text": [
      "Postprocessing\n"
     ]
    },
    {
     "name": "stderr",
     "output_type": "stream",
     "text": [
      "Exhaustive:  30%|███       | 15/50 [01:13<02:51,  4.89s/it]"
     ]
    },
    {
     "name": "stdout",
     "output_type": "stream",
     "text": [
      "Postprocessing\n"
     ]
    },
    {
     "name": "stderr",
     "output_type": "stream",
     "text": [
      "Exhaustive:  32%|███▏      | 16/50 [01:17<02:44,  4.83s/it]"
     ]
    },
    {
     "name": "stdout",
     "output_type": "stream",
     "text": [
      "Postprocessing\n"
     ]
    },
    {
     "name": "stderr",
     "output_type": "stream",
     "text": [
      "Warning: Player 'Exhaustive' cannot start at unreachable location 97, starting at closest cell (using Euclidean distance)\n",
      "Exhaustive:  34%|███▍      | 17/50 [01:22<02:39,  4.82s/it]"
     ]
    },
    {
     "name": "stdout",
     "output_type": "stream",
     "text": [
      "Postprocessing\n"
     ]
    },
    {
     "name": "stderr",
     "output_type": "stream",
     "text": [
      "Exhaustive:  36%|███▌      | 18/50 [01:27<02:34,  4.82s/it]"
     ]
    },
    {
     "name": "stdout",
     "output_type": "stream",
     "text": [
      "Postprocessing\n"
     ]
    },
    {
     "name": "stderr",
     "output_type": "stream",
     "text": [
      "Warning: Player 'Exhaustive' cannot start at unreachable location 97, starting at closest cell (using Euclidean distance)\n",
      "Exhaustive:  38%|███▊      | 19/50 [01:32<02:29,  4.83s/it]"
     ]
    },
    {
     "name": "stdout",
     "output_type": "stream",
     "text": [
      "Postprocessing\n"
     ]
    },
    {
     "name": "stderr",
     "output_type": "stream",
     "text": [
      "Exhaustive:  40%|████      | 20/50 [01:37<02:27,  4.91s/it]"
     ]
    },
    {
     "name": "stdout",
     "output_type": "stream",
     "text": [
      "Postprocessing\n"
     ]
    },
    {
     "name": "stderr",
     "output_type": "stream",
     "text": [
      "Warning: Player 'Exhaustive' cannot start at unreachable location 97, starting at closest cell (using Euclidean distance)\n",
      "Exhaustive:  42%|████▏     | 21/50 [01:42<02:21,  4.88s/it]"
     ]
    },
    {
     "name": "stdout",
     "output_type": "stream",
     "text": [
      "Postprocessing\n"
     ]
    },
    {
     "name": "stderr",
     "output_type": "stream",
     "text": [
      "Warning: Player 'Exhaustive' cannot start at unreachable location 97, starting at closest cell (using Euclidean distance)\n",
      "Exhaustive:  44%|████▍     | 22/50 [01:47<02:18,  4.96s/it]"
     ]
    },
    {
     "name": "stdout",
     "output_type": "stream",
     "text": [
      "Postprocessing\n"
     ]
    },
    {
     "name": "stderr",
     "output_type": "stream",
     "text": [
      "Exhaustive:  46%|████▌     | 23/50 [01:52<02:13,  4.93s/it]"
     ]
    },
    {
     "name": "stdout",
     "output_type": "stream",
     "text": [
      "Postprocessing\n"
     ]
    },
    {
     "name": "stderr",
     "output_type": "stream",
     "text": [
      "Warning: Player 'Exhaustive' cannot start at unreachable location 97, starting at closest cell (using Euclidean distance)\n",
      "Exhaustive:  48%|████▊     | 24/50 [01:57<02:08,  4.96s/it]"
     ]
    },
    {
     "name": "stdout",
     "output_type": "stream",
     "text": [
      "Postprocessing\n"
     ]
    },
    {
     "name": "stderr",
     "output_type": "stream",
     "text": [
      "Exhaustive:  50%|█████     | 25/50 [02:07<02:46,  6.66s/it]"
     ]
    },
    {
     "name": "stdout",
     "output_type": "stream",
     "text": [
      "Postprocessing\n"
     ]
    },
    {
     "name": "stderr",
     "output_type": "stream",
     "text": [
      "Exhaustive:  52%|█████▏    | 26/50 [02:18<03:06,  7.77s/it]"
     ]
    },
    {
     "name": "stdout",
     "output_type": "stream",
     "text": [
      "Postprocessing\n"
     ]
    },
    {
     "name": "stderr",
     "output_type": "stream",
     "text": [
      "Exhaustive:  54%|█████▍    | 27/50 [02:26<03:02,  7.95s/it]"
     ]
    },
    {
     "name": "stdout",
     "output_type": "stream",
     "text": [
      "Postprocessing\n"
     ]
    },
    {
     "name": "stderr",
     "output_type": "stream",
     "text": [
      "Exhaustive:  56%|█████▌    | 28/50 [02:43<03:54, 10.64s/it]"
     ]
    },
    {
     "name": "stdout",
     "output_type": "stream",
     "text": [
      "Postprocessing\n"
     ]
    },
    {
     "name": "stderr",
     "output_type": "stream",
     "text": [
      "Exhaustive:  58%|█████▊    | 29/50 [36:39<3:36:24, 618.32s/it]"
     ]
    },
    {
     "name": "stdout",
     "output_type": "stream",
     "text": [
      "Postprocessing\n"
     ]
    },
    {
     "name": "stderr",
     "output_type": "stream",
     "text": [
      "Warning: Player 'Exhaustive' cannot start at unreachable location 97, starting at closest cell (using Euclidean distance)\n",
      "Exhaustive:  60%|██████    | 30/50 [36:46<2:24:54, 434.74s/it]"
     ]
    },
    {
     "name": "stdout",
     "output_type": "stream",
     "text": [
      "Postprocessing\n"
     ]
    },
    {
     "name": "stderr",
     "output_type": "stream",
     "text": [
      "Exhaustive:  62%|██████▏   | 31/50 [36:52<1:36:58, 306.22s/it]"
     ]
    },
    {
     "name": "stdout",
     "output_type": "stream",
     "text": [
      "Postprocessing\n"
     ]
    },
    {
     "name": "stderr",
     "output_type": "stream",
     "text": [
      "Exhaustive:  64%|██████▍   | 32/50 [36:57<1:04:45, 215.85s/it]"
     ]
    },
    {
     "name": "stdout",
     "output_type": "stream",
     "text": [
      "Postprocessing\n"
     ]
    },
    {
     "name": "stderr",
     "output_type": "stream",
     "text": [
      "Exhaustive:  66%|██████▌   | 33/50 [37:02<43:15, 152.65s/it]  "
     ]
    },
    {
     "name": "stdout",
     "output_type": "stream",
     "text": [
      "Postprocessing\n"
     ]
    },
    {
     "name": "stderr",
     "output_type": "stream",
     "text": [
      "Exhaustive:  68%|██████▊   | 34/50 [37:08<28:59, 108.70s/it]"
     ]
    },
    {
     "name": "stdout",
     "output_type": "stream",
     "text": [
      "Postprocessing\n"
     ]
    },
    {
     "name": "stderr",
     "output_type": "stream",
     "text": [
      "Warning: Player 'Exhaustive' cannot start at unreachable location 97, starting at closest cell (using Euclidean distance)\n",
      "Exhaustive:  70%|███████   | 35/50 [37:15<19:32, 78.20s/it] "
     ]
    },
    {
     "name": "stdout",
     "output_type": "stream",
     "text": [
      "Postprocessing\n"
     ]
    },
    {
     "name": "stderr",
     "output_type": "stream",
     "text": [
      "Exhaustive:  72%|███████▏  | 36/50 [37:21<13:09, 56.37s/it]"
     ]
    },
    {
     "name": "stdout",
     "output_type": "stream",
     "text": [
      "Postprocessing\n"
     ]
    },
    {
     "name": "stderr",
     "output_type": "stream",
     "text": [
      "Exhaustive:  74%|███████▍  | 37/50 [37:26<08:52, 40.98s/it]"
     ]
    },
    {
     "name": "stdout",
     "output_type": "stream",
     "text": [
      "Postprocessing\n"
     ]
    },
    {
     "name": "stderr",
     "output_type": "stream",
     "text": [
      "Exhaustive:  76%|███████▌  | 38/50 [37:31<06:01, 30.15s/it]"
     ]
    },
    {
     "name": "stdout",
     "output_type": "stream",
     "text": [
      "Postprocessing\n"
     ]
    },
    {
     "name": "stderr",
     "output_type": "stream",
     "text": [
      "Exhaustive:  78%|███████▊  | 39/50 [37:36<04:08, 22.60s/it]"
     ]
    },
    {
     "name": "stdout",
     "output_type": "stream",
     "text": [
      "Postprocessing\n"
     ]
    },
    {
     "name": "stderr",
     "output_type": "stream",
     "text": [
      "Exhaustive:  80%|████████  | 40/50 [37:40<02:52, 17.26s/it]"
     ]
    },
    {
     "name": "stdout",
     "output_type": "stream",
     "text": [
      "Postprocessing\n"
     ]
    },
    {
     "name": "stderr",
     "output_type": "stream",
     "text": [
      "Exhaustive:  82%|████████▏ | 41/50 [37:46<02:03, 13.75s/it]"
     ]
    },
    {
     "name": "stdout",
     "output_type": "stream",
     "text": [
      "Postprocessing\n"
     ]
    },
    {
     "name": "stderr",
     "output_type": "stream",
     "text": [
      "Exhaustive:  84%|████████▍ | 42/50 [37:51<01:28, 11.10s/it]"
     ]
    },
    {
     "name": "stdout",
     "output_type": "stream",
     "text": [
      "Postprocessing\n"
     ]
    },
    {
     "name": "stderr",
     "output_type": "stream",
     "text": [
      "Exhaustive:  86%|████████▌ | 43/50 [37:56<01:05,  9.33s/it]"
     ]
    },
    {
     "name": "stdout",
     "output_type": "stream",
     "text": [
      "Postprocessing\n"
     ]
    },
    {
     "name": "stderr",
     "output_type": "stream",
     "text": [
      "Warning: Player 'Exhaustive' cannot start at unreachable location 97, starting at closest cell (using Euclidean distance)\n",
      "Exhaustive:  88%|████████▊ | 44/50 [38:01<00:48,  8.04s/it]"
     ]
    },
    {
     "name": "stdout",
     "output_type": "stream",
     "text": [
      "Postprocessing\n"
     ]
    },
    {
     "name": "stderr",
     "output_type": "stream",
     "text": [
      "Exhaustive:  90%|█████████ | 45/50 [38:07<00:36,  7.25s/it]"
     ]
    },
    {
     "name": "stdout",
     "output_type": "stream",
     "text": [
      "Postprocessing\n"
     ]
    },
    {
     "name": "stderr",
     "output_type": "stream",
     "text": [
      "Exhaustive:  92%|█████████▏| 46/50 [38:12<00:26,  6.70s/it]"
     ]
    },
    {
     "name": "stdout",
     "output_type": "stream",
     "text": [
      "Postprocessing\n"
     ]
    },
    {
     "name": "stderr",
     "output_type": "stream",
     "text": [
      "Exhaustive:  94%|█████████▍| 47/50 [38:18<00:19,  6.44s/it]"
     ]
    },
    {
     "name": "stdout",
     "output_type": "stream",
     "text": [
      "Postprocessing\n"
     ]
    },
    {
     "name": "stderr",
     "output_type": "stream",
     "text": [
      "Exhaustive:  96%|█████████▌| 48/50 [38:24<00:12,  6.27s/it]"
     ]
    },
    {
     "name": "stdout",
     "output_type": "stream",
     "text": [
      "Postprocessing\n"
     ]
    },
    {
     "name": "stderr",
     "output_type": "stream",
     "text": [
      "Exhaustive:  98%|█████████▊| 49/50 [38:29<00:06,  6.13s/it]"
     ]
    },
    {
     "name": "stdout",
     "output_type": "stream",
     "text": [
      "Postprocessing\n"
     ]
    },
    {
     "name": "stderr",
     "output_type": "stream",
     "text": [
      "Exhaustive: 100%|██████████| 50/50 [38:35<00:00, 46.31s/it]\n"
     ]
    },
    {
     "name": "stdout",
     "output_type": "stream",
     "text": [
      "Postprocessing\n"
     ]
    },
    {
     "name": "stderr",
     "output_type": "stream",
     "text": [
      "Greedy:   0%|          | 0/50 [00:00<?, ?it/s]Warning: Player 'Greedy' cannot start at unreachable location 97, starting at closest cell (using Euclidean distance)\n",
      "Greedy:   2%|▏         | 1/50 [00:00<00:06,  7.87it/s]"
     ]
    },
    {
     "name": "stdout",
     "output_type": "stream",
     "text": [
      "82\n",
      "[27]\n",
      "Postprocessing\n",
      "97\n",
      "[145]\n",
      "Postprocessing\n"
     ]
    },
    {
     "name": "stderr",
     "output_type": "stream",
     "text": [
      "Greedy:  10%|█         | 5/50 [00:00<00:04, 10.54it/s]"
     ]
    },
    {
     "name": "stdout",
     "output_type": "stream",
     "text": [
      "97\n",
      "[103]\n",
      "Postprocessing\n",
      "97\n",
      "[180]\n",
      "Postprocessing\n",
      "97\n",
      "[16]\n",
      "Postprocessing\n"
     ]
    },
    {
     "name": "stderr",
     "output_type": "stream",
     "text": [
      "Greedy:  18%|█▊        | 9/50 [00:00<00:03, 12.17it/s]"
     ]
    },
    {
     "name": "stdout",
     "output_type": "stream",
     "text": [
      "97\n",
      "[191]\n",
      "Postprocessing\n",
      "97\n",
      "[79]\n",
      "Postprocessing\n",
      "97\n",
      "[21]\n",
      "Postprocessing\n",
      "97\n",
      "[8]\n",
      "Postprocessing\n",
      "97\n",
      "[180]\n"
     ]
    },
    {
     "name": "stderr",
     "output_type": "stream",
     "text": [
      "Greedy:  22%|██▏       | 11/50 [00:00<00:03, 12.26it/s]"
     ]
    },
    {
     "name": "stdout",
     "output_type": "stream",
     "text": [
      "Postprocessing\n",
      "97\n",
      "[1]\n",
      "Postprocessing\n",
      "82\n",
      "[4]\n",
      "Postprocessing\n",
      "82\n",
      "[138]\n",
      "Postprocessing\n"
     ]
    },
    {
     "name": "stderr",
     "output_type": "stream",
     "text": [
      "Warning: Player 'Greedy' cannot start at unreachable location 97, starting at closest cell (using Euclidean distance)\n",
      "Warning: Player 'Greedy' cannot start at unreachable location 97, starting at closest cell (using Euclidean distance)\n",
      "Greedy:  30%|███       | 15/50 [00:01<00:03, 10.95it/s]Warning: Player 'Greedy' cannot start at unreachable location 97, starting at closest cell (using Euclidean distance)\n",
      "Greedy:  34%|███▍      | 17/50 [00:01<00:02, 11.85it/s]"
     ]
    },
    {
     "name": "stdout",
     "output_type": "stream",
     "text": [
      "97\n",
      "[179]\n",
      "Postprocessing\n",
      "97\n",
      "[140]\n",
      "Postprocessing\n",
      "97\n",
      "[10]\n",
      "Postprocessing\n",
      "112\n",
      "[47]\n",
      "Postprocessing\n"
     ]
    },
    {
     "name": "stderr",
     "output_type": "stream",
     "text": [
      "Warning: Player 'Greedy' cannot start at unreachable location 97, starting at closest cell (using Euclidean distance)\n",
      "Greedy:  38%|███▊      | 19/50 [00:01<00:02, 10.99it/s]"
     ]
    },
    {
     "name": "stdout",
     "output_type": "stream",
     "text": [
      "97\n",
      "[191]\n",
      "Postprocessing\n",
      "111\n",
      "[42]\n",
      "Postprocessing\n",
      "97\n",
      "[7]\n",
      "Postprocessing\n"
     ]
    },
    {
     "name": "stderr",
     "output_type": "stream",
     "text": [
      "Warning: Player 'Greedy' cannot start at unreachable location 97, starting at closest cell (using Euclidean distance)\n",
      "Greedy:  42%|████▏     | 21/50 [00:01<00:02, 11.31it/s]Warning: Player 'Greedy' cannot start at unreachable location 97, starting at closest cell (using Euclidean distance)"
     ]
    },
    {
     "name": "stdout",
     "output_type": "stream",
     "text": [
      "82\n",
      "[71]\n",
      "Postprocessing\n",
      "82\n",
      "[72]\n",
      "Postprocessing\n"
     ]
    },
    {
     "name": "stderr",
     "output_type": "stream",
     "text": [
      "\n",
      "Greedy:  46%|████▌     | 23/50 [00:02<00:02,  9.86it/s]Warning: Player 'Greedy' cannot start at unreachable location 97, starting at closest cell (using Euclidean distance)\n"
     ]
    },
    {
     "name": "stdout",
     "output_type": "stream",
     "text": [
      "97\n",
      "[144]\n",
      "Postprocessing\n",
      "96\n",
      "[14]\n",
      "Postprocessing\n"
     ]
    },
    {
     "name": "stderr",
     "output_type": "stream",
     "text": [
      "Greedy:  50%|█████     | 25/50 [00:02<00:02,  9.63it/s]"
     ]
    },
    {
     "name": "stdout",
     "output_type": "stream",
     "text": [
      "97\n",
      "[27]\n",
      "Postprocessing\n"
     ]
    },
    {
     "name": "stderr",
     "output_type": "stream",
     "text": [
      "Greedy:  56%|█████▌    | 28/50 [00:02<00:02,  8.82it/s]"
     ]
    },
    {
     "name": "stdout",
     "output_type": "stream",
     "text": [
      "97\n",
      "[53]\n",
      "Postprocessing\n",
      "97\n",
      "[111]\n",
      "Postprocessing\n",
      "97\n",
      "[93]\n",
      "Postprocessing\n",
      "97\n",
      "[71]\n",
      "Postprocessing\n"
     ]
    },
    {
     "name": "stderr",
     "output_type": "stream",
     "text": [
      "Warning: Player 'Greedy' cannot start at unreachable location 97, starting at closest cell (using Euclidean distance)\n",
      "Greedy:  62%|██████▏   | 31/50 [00:03<00:02,  8.70it/s]"
     ]
    },
    {
     "name": "stdout",
     "output_type": "stream",
     "text": [
      "98\n",
      "[176]\n",
      "Postprocessing\n",
      "97\n",
      "[5]\n",
      "Postprocessing\n",
      "97\n",
      "[88]\n",
      "Postprocessing\n"
     ]
    },
    {
     "name": "stderr",
     "output_type": "stream",
     "text": [
      "Greedy:  66%|██████▌   | 33/50 [00:03<00:01,  9.59it/s]Warning: Player 'Greedy' cannot start at unreachable location 97, starting at closest cell (using Euclidean distance)\n",
      "Greedy:  70%|███████   | 35/50 [00:03<00:01, 10.43it/s]"
     ]
    },
    {
     "name": "stdout",
     "output_type": "stream",
     "text": [
      "97\n",
      "[8]\n",
      "Postprocessing\n",
      "97\n",
      "[34]\n",
      "Postprocessing\n",
      "81\n",
      "[6]\n",
      "Postprocessing\n"
     ]
    },
    {
     "name": "stderr",
     "output_type": "stream",
     "text": [
      "Greedy:  78%|███████▊  | 39/50 [00:03<00:00, 12.39it/s]"
     ]
    },
    {
     "name": "stdout",
     "output_type": "stream",
     "text": [
      "97\n",
      "[117]\n",
      "Postprocessing\n",
      "97\n",
      "[14]\n",
      "Postprocessing\n",
      "97\n",
      "[63]\n",
      "Postprocessing\n",
      "97\n",
      "[7]\n",
      "Postprocessing\n",
      "97\n",
      "[66]\n",
      "Postprocessing\n"
     ]
    },
    {
     "name": "stderr",
     "output_type": "stream",
     "text": [
      "Greedy:  86%|████████▌ | 43/50 [00:03<00:00, 13.35it/s]"
     ]
    },
    {
     "name": "stdout",
     "output_type": "stream",
     "text": [
      "97\n",
      "[154]\n",
      "Postprocessing\n",
      "97\n",
      "[69]\n",
      "Postprocessing\n",
      "97\n",
      "[153]\n",
      "Postprocessing\n",
      "98\n",
      "[35]\n",
      "Postprocessing\n",
      "97\n",
      "[141]\n"
     ]
    },
    {
     "name": "stderr",
     "output_type": "stream",
     "text": [
      "Warning: Player 'Greedy' cannot start at unreachable location 97, starting at closest cell (using Euclidean distance)\n",
      "Greedy:  94%|█████████▍| 47/50 [00:04<00:00, 13.35it/s]"
     ]
    },
    {
     "name": "stdout",
     "output_type": "stream",
     "text": [
      "Postprocessing\n",
      "97\n",
      "[125]\n",
      "Postprocessing\n",
      "97\n",
      "[48]\n",
      "Postprocessing\n",
      "97\n",
      "[149]\n",
      "Postprocessing\n"
     ]
    },
    {
     "name": "stderr",
     "output_type": "stream",
     "text": [
      "Greedy: 100%|██████████| 50/50 [00:04<00:00, 11.02it/s]\n"
     ]
    },
    {
     "name": "stdout",
     "output_type": "stream",
     "text": [
      "97\n",
      "[89]\n",
      "Postprocessing\n",
      "97\n",
      "[193]\n",
      "Postprocessing\n"
     ]
    },
    {
     "name": "stderr",
     "output_type": "stream",
     "text": [
      "Greedy:   0%|          | 0/50 [00:00<?, ?it/s]"
     ]
    },
    {
     "name": "stdout",
     "output_type": "stream",
     "text": [
      "82\n",
      "[27, 62]\n",
      "Postprocessing\n"
     ]
    },
    {
     "name": "stderr",
     "output_type": "stream",
     "text": [
      "Warning: Player 'Greedy' cannot start at unreachable location 97, starting at closest cell (using Euclidean distance)\n",
      "Greedy:   4%|▍         | 2/50 [00:00<00:03, 12.54it/s]"
     ]
    },
    {
     "name": "stdout",
     "output_type": "stream",
     "text": [
      "97\n",
      "[145, 100]\n",
      "Postprocessing\n",
      "97\n",
      "[103, 165]\n",
      "Postprocessing\n",
      "97\n",
      "[180, 163]\n"
     ]
    },
    {
     "name": "stderr",
     "output_type": "stream",
     "text": [
      "Greedy:   8%|▊         | 4/50 [00:00<00:04, 10.83it/s]"
     ]
    },
    {
     "name": "stdout",
     "output_type": "stream",
     "text": [
      "Postprocessing\n",
      "97\n",
      "[16, 176]\n",
      "Postprocessing\n",
      "97\n",
      "[191, 13]\n",
      "Postprocessing"
     ]
    },
    {
     "name": "stderr",
     "output_type": "stream",
     "text": [
      "Greedy:  12%|█▏        | 6/50 [00:00<00:04,  9.95it/s]"
     ]
    },
    {
     "name": "stdout",
     "output_type": "stream",
     "text": [
      "\n",
      "97\n",
      "[79, 189]\n",
      "Postprocessing\n",
      "97"
     ]
    },
    {
     "name": "stderr",
     "output_type": "stream",
     "text": [
      "Greedy:  20%|██        | 10/50 [00:00<00:03, 10.27it/s]"
     ]
    },
    {
     "name": "stdout",
     "output_type": "stream",
     "text": [
      "\n",
      "[21, 25]\n",
      "Postprocessing\n",
      "97\n",
      "[8, 50]\n",
      "Postprocessing\n",
      "97\n",
      "[180, 89]\n",
      "Postprocessing\n"
     ]
    },
    {
     "name": "stderr",
     "output_type": "stream",
     "text": [
      "Warning: Player 'Greedy' cannot start at unreachable location 97, starting at closest cell (using Euclidean distance)\n",
      "Greedy:  24%|██▍       | 12/50 [00:01<00:03, 10.78it/s]Warning: Player 'Greedy' cannot start at unreachable location 97, starting at closest cell (using Euclidean distance)\n",
      "Greedy:  28%|██▊       | 14/50 [00:01<00:03, 11.29it/s]"
     ]
    },
    {
     "name": "stdout",
     "output_type": "stream",
     "text": [
      "97\n",
      "[1, 72]\n",
      "Postprocessing\n",
      "82\n",
      "[4, 135]\n",
      "Postprocessing\n",
      "82\n",
      "[138, 14]\n",
      "Postprocessing\n",
      "97\n",
      "[179, 157]\n",
      "Postprocessing\n",
      "97\n",
      "[140, 148]\n",
      "Postprocessing\n"
     ]
    },
    {
     "name": "stderr",
     "output_type": "stream",
     "text": [
      "Greedy:  32%|███▏      | 16/50 [00:01<00:02, 11.83it/s]Warning: Player 'Greedy' cannot start at unreachable location 97, starting at closest cell (using Euclidean distance)\n",
      "Greedy:  36%|███▌      | 18/50 [00:01<00:02, 12.06it/s]"
     ]
    },
    {
     "name": "stdout",
     "output_type": "stream",
     "text": [
      "97\n",
      "[10, 160]\n",
      "Postprocessing\n",
      "112\n",
      "[47, 102]\n",
      "Postprocessing\n",
      "97\n",
      "[191, 67]\n",
      "Postprocessing\n"
     ]
    },
    {
     "name": "stderr",
     "output_type": "stream",
     "text": [
      "Warning: Player 'Greedy' cannot start at unreachable location 97, starting at closest cell (using Euclidean distance)\n",
      "Greedy:  40%|████      | 20/50 [00:01<00:02, 12.41it/s]Warning: Player 'Greedy' cannot start at unreachable location 97, starting at closest cell (using Euclidean distance)\n",
      "Warning: Player 'Greedy' cannot start at unreachable location 97, starting at closest cell (using Euclidean distance)\n",
      "Greedy:  44%|████▍     | 22/50 [00:01<00:02, 12.44it/s]"
     ]
    },
    {
     "name": "stdout",
     "output_type": "stream",
     "text": [
      "111\n",
      "[42, 4]\n",
      "Postprocessing\n",
      "97\n",
      "[7, 148]\n",
      "Postprocessing\n",
      "82\n",
      "[71, 133]\n",
      "Postprocessing\n",
      "82\n",
      "[72, 105]\n",
      "Postprocessing\n"
     ]
    },
    {
     "name": "stderr",
     "output_type": "stream",
     "text": [
      "Warning: Player 'Greedy' cannot start at unreachable location 97, starting at closest cell (using Euclidean distance)\n",
      "Greedy:  48%|████▊     | 24/50 [00:02<00:02, 12.31it/s]"
     ]
    },
    {
     "name": "stdout",
     "output_type": "stream",
     "text": [
      "97\n",
      "[144, 141]\n",
      "Postprocessing\n",
      "96\n",
      "[14, 86]\n",
      "Postprocessing\n",
      "97\n",
      "[27, 83]\n",
      "Postprocessing\n"
     ]
    },
    {
     "name": "stderr",
     "output_type": "stream",
     "text": [
      "Greedy:  56%|█████▌    | 28/50 [00:02<00:01, 12.68it/s]"
     ]
    },
    {
     "name": "stdout",
     "output_type": "stream",
     "text": [
      "97\n",
      "[53, 64]\n",
      "Postprocessing\n",
      "97\n",
      "[111, 32]\n",
      "Postprocessing\n",
      "97\n",
      "[93, 110]\n",
      "Postprocessing\n",
      "97\n",
      "[71, 123]\n",
      "Postprocessing\n"
     ]
    },
    {
     "name": "stderr",
     "output_type": "stream",
     "text": [
      "Warning: Player 'Greedy' cannot start at unreachable location 97, starting at closest cell (using Euclidean distance)\n",
      "Greedy:  64%|██████▍   | 32/50 [00:02<00:01, 12.86it/s]"
     ]
    },
    {
     "name": "stdout",
     "output_type": "stream",
     "text": [
      "98\n",
      "[176, 51]\n",
      "Postprocessing\n",
      "97\n",
      "[5, 62]\n",
      "Postprocessing\n",
      "97\n",
      "[88, 130]\n",
      "Postprocessing\n",
      "97\n",
      "[8, 133]\n",
      "Postprocessing\n"
     ]
    },
    {
     "name": "stderr",
     "output_type": "stream",
     "text": [
      "Greedy:  68%|██████▊   | 34/50 [00:02<00:01, 12.92it/s]Warning: Player 'Greedy' cannot start at unreachable location 97, starting at closest cell (using Euclidean distance)\n",
      "Greedy:  72%|███████▏  | 36/50 [00:03<00:01, 12.74it/s]"
     ]
    },
    {
     "name": "stdout",
     "output_type": "stream",
     "text": [
      "97\n",
      "[34, 6]\n",
      "Postprocessing\n",
      "81\n",
      "[6, 1]\n",
      "Postprocessing\n",
      "97\n",
      "[117, 187]\n",
      "Postprocessing\n"
     ]
    },
    {
     "name": "stderr",
     "output_type": "stream",
     "text": [
      "Greedy:  80%|████████  | 40/50 [00:03<00:00, 12.98it/s]"
     ]
    },
    {
     "name": "stdout",
     "output_type": "stream",
     "text": [
      "97\n",
      "[14, 7]\n",
      "Postprocessing\n",
      "97\n",
      "[63, 59]\n",
      "Postprocessing\n",
      "97\n",
      "[7, 121]\n",
      "Postprocessing\n",
      "97\n",
      "[66, 118]\n",
      "Postprocessing\n"
     ]
    },
    {
     "name": "stderr",
     "output_type": "stream",
     "text": [
      "Greedy:  84%|████████▍ | 42/50 [00:03<00:00, 12.81it/s]"
     ]
    },
    {
     "name": "stdout",
     "output_type": "stream",
     "text": [
      "97\n",
      "[154, 8]\n",
      "Postprocessing\n",
      "97\n",
      "[69, 43]\n",
      "Postprocessing\n",
      "97\n",
      "[153, 65]\n",
      "Postprocessing\n"
     ]
    },
    {
     "name": "stderr",
     "output_type": "stream",
     "text": [
      "Warning: Player 'Greedy' cannot start at unreachable location 97, starting at closest cell (using Euclidean distance)\n",
      "Greedy:  92%|█████████▏| 46/50 [00:03<00:00, 12.94it/s]"
     ]
    },
    {
     "name": "stdout",
     "output_type": "stream",
     "text": [
      "98\n",
      "[35, 27]\n",
      "Postprocessing\n",
      "97\n",
      "[141, 55]\n",
      "Postprocessing\n",
      "97\n",
      "[125, 145]\n",
      "Postprocessing\n",
      "97\n",
      "[48, 20]\n",
      "Postprocessing\n"
     ]
    },
    {
     "name": "stderr",
     "output_type": "stream",
     "text": [
      "Greedy:  96%|█████████▌| 48/50 [00:03<00:00, 13.32it/s]"
     ]
    },
    {
     "name": "stdout",
     "output_type": "stream",
     "text": [
      "97\n",
      "[149, 114]\n",
      "Postprocessing\n",
      "97\n",
      "[89, 135]\n",
      "Postprocessing\n",
      "97\n",
      "[193, 29]\n",
      "Postprocessing\n"
     ]
    },
    {
     "name": "stderr",
     "output_type": "stream",
     "text": [
      "Greedy: 100%|██████████| 50/50 [00:04<00:00, 12.05it/s]\n",
      "Greedy:   0%|          | 0/50 [00:00<?, ?it/s]Warning: Player 'Greedy' cannot start at unreachable location 97, starting at closest cell (using Euclidean distance)\n",
      "Greedy:   4%|▍         | 2/50 [00:00<00:03, 12.42it/s]"
     ]
    },
    {
     "name": "stdout",
     "output_type": "stream",
     "text": [
      "82\n",
      "[27, 62, 108]\n",
      "Postprocessing\n",
      "97\n",
      "[145, 100, 173]\n",
      "Postprocessing\n",
      "97\n",
      "[103, 165, 146]\n",
      "Postprocessing\n"
     ]
    },
    {
     "name": "stderr",
     "output_type": "stream",
     "text": [
      "Greedy:  12%|█▏        | 6/50 [00:00<00:03, 12.15it/s]"
     ]
    },
    {
     "name": "stdout",
     "output_type": "stream",
     "text": [
      "97\n",
      "[180, 163, 166]\n",
      "Postprocessing\n",
      "97\n",
      "[16, 176, 178]\n",
      "Postprocessing\n",
      "97\n",
      "[191, 13, 43]\n",
      "Postprocessing\n"
     ]
    },
    {
     "name": "stderr",
     "output_type": "stream",
     "text": [
      "Greedy:  16%|█▌        | 8/50 [00:00<00:03, 12.34it/s]"
     ]
    },
    {
     "name": "stdout",
     "output_type": "stream",
     "text": [
      "97\n",
      "[79, 189, 131]\n",
      "Postprocessing\n",
      "97\n",
      "[21, 25, 46]\n",
      "Postprocessing\n",
      "97\n",
      "[8, 50, 158]\n",
      "Postprocessing\n",
      "97\n",
      "[180, 89, 118]\n",
      "Postprocessing\n"
     ]
    },
    {
     "name": "stderr",
     "output_type": "stream",
     "text": [
      "Greedy:  20%|██        | 10/50 [00:00<00:03, 11.80it/s]Warning: Player 'Greedy' cannot start at unreachable location 97, starting at closest cell (using Euclidean distance)\n",
      "Greedy:  24%|██▍       | 12/50 [00:01<00:03, 11.15it/s]"
     ]
    },
    {
     "name": "stdout",
     "output_type": "stream",
     "text": [
      "97\n",
      "[1, 72, 36]\n",
      "Postprocessing\n",
      "82\n",
      "[4, 135, 50]\n",
      "Postprocessing\n",
      "82\n",
      "[138, 14, 125]\n"
     ]
    },
    {
     "name": "stderr",
     "output_type": "stream",
     "text": [
      "Warning: Player 'Greedy' cannot start at unreachable location 97, starting at closest cell (using Euclidean distance)\n",
      "Greedy:  28%|██▊       | 14/50 [00:01<00:03, 11.23it/s]"
     ]
    },
    {
     "name": "stdout",
     "output_type": "stream",
     "text": [
      "Postprocessing\n",
      "97\n",
      "[179, 157, 82]\n",
      "Postprocessing\n",
      "97\n",
      "[140, 148, 7]\n",
      "Postprocessing\n"
     ]
    },
    {
     "name": "stderr",
     "output_type": "stream",
     "text": [
      "Greedy:  32%|███▏      | 16/50 [00:01<00:03, 10.90it/s]Warning: Player 'Greedy' cannot start at unreachable location 97, starting at closest cell (using Euclidean distance)\n",
      "Greedy:  36%|███▌      | 18/50 [00:01<00:02, 11.39it/s]"
     ]
    },
    {
     "name": "stdout",
     "output_type": "stream",
     "text": [
      "97\n",
      "[10, 160, 127]\n",
      "Postprocessing\n",
      "112\n",
      "[47, 102, 34]\n",
      "Postprocessing\n",
      "97\n",
      "[191, 67, 161]\n",
      "Postprocessing\n",
      "111\n",
      "[42, 4, 23]\n",
      "Postprocessing\n",
      "97\n",
      "[7, 148, 101]\n"
     ]
    },
    {
     "name": "stderr",
     "output_type": "stream",
     "text": [
      "Warning: Player 'Greedy' cannot start at unreachable location 97, starting at closest cell (using Euclidean distance)\n",
      "Greedy:  40%|████      | 20/50 [00:01<00:02, 11.89it/s]Warning: Player 'Greedy' cannot start at unreachable location 97, starting at closest cell (using Euclidean distance)\n",
      "Warning: Player 'Greedy' cannot start at unreachable location 97, starting at closest cell (using Euclidean distance)\n",
      "Greedy:  44%|████▍     | 22/50 [00:01<00:02, 11.77it/s]"
     ]
    },
    {
     "name": "stdout",
     "output_type": "stream",
     "text": [
      "Postprocessing\n",
      "82\n",
      "[71, 133, 165]\n",
      "Postprocessing\n",
      "82\n",
      "[72, 105, 18]\n",
      "Postprocessing\n"
     ]
    },
    {
     "name": "stderr",
     "output_type": "stream",
     "text": [
      "Warning: Player 'Greedy' cannot start at unreachable location 97, starting at closest cell (using Euclidean distance)\n",
      "Greedy:  48%|████▊     | 24/50 [00:02<00:02, 10.57it/s]"
     ]
    },
    {
     "name": "stdout",
     "output_type": "stream",
     "text": [
      "97\n",
      "[144, 141, 22]\n",
      "Postprocessing\n",
      "96\n",
      "[14, 86, 189]\n",
      "Postprocessing\n"
     ]
    },
    {
     "name": "stderr",
     "output_type": "stream",
     "text": [
      "Greedy:  52%|█████▏    | 26/50 [00:02<00:02, 10.63it/s]"
     ]
    },
    {
     "name": "stdout",
     "output_type": "stream",
     "text": [
      "97\n",
      "[27, 83, 146]\n",
      "Postprocessing\n",
      "97\n",
      "[53, 64, 13]\n",
      "Postprocessing\n",
      "97\n",
      "[111, 32, 99]\n",
      "Postprocessing\n",
      "97\n",
      "[93, 110, 29]\n",
      "Postprocessing\n"
     ]
    },
    {
     "name": "stderr",
     "output_type": "stream",
     "text": [
      "Greedy:  56%|█████▌    | 28/50 [00:02<00:02, 10.88it/s]Warning: Player 'Greedy' cannot start at unreachable location 97, starting at closest cell (using Euclidean distance)\n",
      "Greedy:  60%|██████    | 30/50 [00:02<00:01, 11.11it/s]"
     ]
    },
    {
     "name": "stdout",
     "output_type": "stream",
     "text": [
      "97\n",
      "[71, 123, 116]\n",
      "Postprocessing\n",
      "98\n",
      "[176, 51, 27]\n",
      "Postprocessing\n",
      "97\n",
      "[5, 62, 79]\n",
      "Postprocessing\n"
     ]
    },
    {
     "name": "stderr",
     "output_type": "stream",
     "text": [
      "Greedy:  68%|██████▊   | 34/50 [00:02<00:01, 11.83it/s]"
     ]
    },
    {
     "name": "stdout",
     "output_type": "stream",
     "text": [
      "97\n",
      "[88, 130, 174]\n",
      "Postprocessing\n",
      "97\n",
      "[8, 133, 44]\n",
      "Postprocessing\n",
      "97\n",
      "[34, 6, 116]\n",
      "Postprocessing\n"
     ]
    },
    {
     "name": "stderr",
     "output_type": "stream",
     "text": [
      "Warning: Player 'Greedy' cannot start at unreachable location 97, starting at closest cell (using Euclidean distance)\n",
      "Greedy:  72%|███████▏  | 36/50 [00:03<00:01, 11.63it/s]"
     ]
    },
    {
     "name": "stdout",
     "output_type": "stream",
     "text": [
      "81\n",
      "[6, 1, 186]\n",
      "Postprocessing\n",
      "97\n",
      "[117, 187, 61]\n",
      "Postprocessing\n",
      "97\n",
      "[14, 7, 26]\n",
      "Postprocessing\n"
     ]
    },
    {
     "name": "stderr",
     "output_type": "stream",
     "text": [
      "Greedy:  80%|████████  | 40/50 [00:03<00:00, 12.16it/s]"
     ]
    },
    {
     "name": "stdout",
     "output_type": "stream",
     "text": [
      "97\n",
      "[63, 59, 29]\n",
      "Postprocessing\n",
      "97\n",
      "[7, 121, 148]\n",
      "Postprocessing\n",
      "97\n",
      "[66, 118, 158]\n",
      "Postprocessing\n"
     ]
    },
    {
     "name": "stderr",
     "output_type": "stream",
     "text": [
      "Greedy:  84%|████████▍ | 42/50 [00:03<00:00, 12.28it/s]"
     ]
    },
    {
     "name": "stdout",
     "output_type": "stream",
     "text": [
      "97\n",
      "[154, 8, 106]\n",
      "Postprocessing\n",
      "97\n",
      "[69, 43, 148]\n",
      "Postprocessing\n",
      "97\n",
      "[153, 65, 53]\n",
      "Postprocessing\n"
     ]
    },
    {
     "name": "stderr",
     "output_type": "stream",
     "text": [
      "Warning: Player 'Greedy' cannot start at unreachable location 97, starting at closest cell (using Euclidean distance)\n",
      "Greedy:  92%|█████████▏| 46/50 [00:03<00:00, 11.90it/s]"
     ]
    },
    {
     "name": "stdout",
     "output_type": "stream",
     "text": [
      "98\n",
      "[35, 27, 104]\n",
      "Postprocessing\n",
      "97\n",
      "[141, 55, 157]\n",
      "Postprocessing\n",
      "97\n",
      "[125, 145, 72]\n",
      "Postprocessing\n"
     ]
    },
    {
     "name": "stderr",
     "output_type": "stream",
     "text": [
      "Greedy: 100%|██████████| 50/50 [00:04<00:00, 10.97it/s]"
     ]
    },
    {
     "name": "stdout",
     "output_type": "stream",
     "text": [
      "97\n",
      "[48, 20, 121]\n",
      "Postprocessing\n",
      "97\n",
      "[149, 114, 107]\n",
      "Postprocessing\n",
      "97\n",
      "[89, 135, 159]\n",
      "Postprocessing\n",
      "97\n",
      "[193, 29, 177]\n",
      "Postprocessing\n"
     ]
    },
    {
     "name": "stderr",
     "output_type": "stream",
     "text": [
      "Greedy: 100%|██████████| 50/50 [00:04<00:00, 11.48it/s]\n",
      "Greedy:   0%|          | 0/50 [00:00<?, ?it/s]Warning: Player 'Greedy' cannot start at unreachable location 97, starting at closest cell (using Euclidean distance)\n",
      "Greedy:   4%|▍         | 2/50 [00:00<00:05,  9.23it/s]"
     ]
    },
    {
     "name": "stdout",
     "output_type": "stream",
     "text": [
      "82\n",
      "[27, 62, 108, 192]\n",
      "Postprocessing\n",
      "97\n",
      "[145, 100, 173, 179]\n",
      "Postprocessing\n",
      "97\n",
      "[103, 165, 146, 100]\n"
     ]
    },
    {
     "name": "stderr",
     "output_type": "stream",
     "text": [
      "Greedy:   8%|▊         | 4/50 [00:00<00:04,  9.39it/s]"
     ]
    },
    {
     "name": "stdout",
     "output_type": "stream",
     "text": [
      "Postprocessing\n",
      "97\n",
      "[180, 163, 166, 7]\n",
      "Postprocessing\n",
      "97\n",
      "[16, 176, 178, 67]\n",
      "Postprocessing\n"
     ]
    },
    {
     "name": "stderr",
     "output_type": "stream",
     "text": [
      "Greedy:  14%|█▍        | 7/50 [00:00<00:04, 10.30it/s]"
     ]
    },
    {
     "name": "stdout",
     "output_type": "stream",
     "text": [
      "97\n",
      "[191, 13, 43, 17]\n",
      "Postprocessing\n",
      "97\n",
      "[79, 189, 131, 124]\n",
      "Postprocessing\n",
      "97\n",
      "[21, 25, 46, 165]\n",
      "Postprocessing\n"
     ]
    },
    {
     "name": "stderr",
     "output_type": "stream",
     "text": [
      "Greedy:  18%|█▊        | 9/50 [00:00<00:03, 10.60it/s]"
     ]
    },
    {
     "name": "stdout",
     "output_type": "stream",
     "text": [
      "97\n",
      "[8, 50, 158, 180]\n",
      "Postprocessing\n",
      "97\n",
      "[180, 89, 118, 157]\n",
      "Postprocessing\n"
     ]
    },
    {
     "name": "stderr",
     "output_type": "stream",
     "text": [
      "Greedy:  22%|██▏       | 11/50 [00:01<00:04,  9.23it/s]Warning: Player 'Greedy' cannot start at unreachable location 97, starting at closest cell (using Euclidean distance)\n",
      "Warning: Player 'Greedy' cannot start at unreachable location 97, starting at closest cell (using Euclidean distance)\n",
      "Greedy:  26%|██▌       | 13/50 [00:01<00:03,  9.66it/s]"
     ]
    },
    {
     "name": "stdout",
     "output_type": "stream",
     "text": [
      "97\n",
      "[1, 72, 36, 57]\n",
      "Postprocessing\n",
      "82\n",
      "[4, 135, 50, 193]\n",
      "Postprocessing\n",
      "82\n",
      "[138, 14, 125, 43]\n",
      "Postprocessing\n"
     ]
    },
    {
     "name": "stderr",
     "output_type": "stream",
     "text": [
      "Greedy:  30%|███       | 15/50 [00:01<00:03,  9.43it/s]"
     ]
    },
    {
     "name": "stdout",
     "output_type": "stream",
     "text": [
      "97\n",
      "[179, 157, 82, 37]\n",
      "Postprocessing\n",
      "97\n",
      "[140, 148, 7, 172]\n",
      "Postprocessing\n",
      "97\n",
      "[10, 160, 127, 141]\n"
     ]
    },
    {
     "name": "stderr",
     "output_type": "stream",
     "text": [
      "Warning: Player 'Greedy' cannot start at unreachable location 97, starting at closest cell (using Euclidean distance)\n",
      "Greedy:  34%|███▍      | 17/50 [00:01<00:03,  9.68it/s]Warning: Player 'Greedy' cannot start at unreachable location 97, starting at closest cell (using Euclidean distance)\n",
      "Greedy:  38%|███▊      | 19/50 [00:01<00:03, 10.30it/s]"
     ]
    },
    {
     "name": "stdout",
     "output_type": "stream",
     "text": [
      "Postprocessing\n",
      "112\n",
      "[47, 102, 34, 147]\n",
      "Postprocessing\n",
      "97\n",
      "[191, 67, 161, 5]\n",
      "Postprocessing\n",
      "111\n",
      "[42, 4, 23, 36]\n",
      "Postprocessing\n"
     ]
    },
    {
     "name": "stderr",
     "output_type": "stream",
     "text": [
      "Warning: Player 'Greedy' cannot start at unreachable location 97, starting at closest cell (using Euclidean distance)\n",
      "Greedy:  42%|████▏     | 21/50 [00:02<00:02, 10.61it/s]Warning: Player 'Greedy' cannot start at unreachable location 97, starting at closest cell (using Euclidean distance)\n",
      "Greedy:  46%|████▌     | 23/50 [00:02<00:02, 11.12it/s]"
     ]
    },
    {
     "name": "stdout",
     "output_type": "stream",
     "text": [
      "97\n",
      "[7, 148, 101, 44]\n",
      "Postprocessing\n",
      "82\n",
      "[71, 133, 165, 94]\n",
      "Postprocessing\n",
      "82\n",
      "[72, 105, 18, 57]\n",
      "Postprocessing\n",
      "97\n",
      "[144, 141, 22, 21]\n",
      "Postprocessing\n"
     ]
    },
    {
     "name": "stderr",
     "output_type": "stream",
     "text": [
      "Warning: Player 'Greedy' cannot start at unreachable location 97, starting at closest cell (using Euclidean distance)\n",
      "Greedy:  54%|█████▍    | 27/50 [00:02<00:01, 11.65it/s]"
     ]
    },
    {
     "name": "stdout",
     "output_type": "stream",
     "text": [
      "96\n",
      "[14, 86, 189, 67]\n",
      "Postprocessing\n",
      "97\n",
      "[27, 83, 146, 1]\n",
      "Postprocessing\n",
      "97\n",
      "[53, 64, 13, 80]\n",
      "Postprocessing\n",
      "97\n",
      "[111, 32, 99, 19]\n",
      "Postprocessing\n"
     ]
    },
    {
     "name": "stderr",
     "output_type": "stream",
     "text": [
      "Greedy:  58%|█████▊    | 29/50 [00:02<00:01, 11.54it/s]"
     ]
    },
    {
     "name": "stdout",
     "output_type": "stream",
     "text": [
      "97\n",
      "[93, 110, 29, 62]\n",
      "Postprocessing\n",
      "97\n",
      "[71, 123, 116, 73]\n",
      "Postprocessing\n",
      "98\n",
      "[176, 51, 27, 128]\n",
      "Postprocessing\n"
     ]
    },
    {
     "name": "stderr",
     "output_type": "stream",
     "text": [
      "Warning: Player 'Greedy' cannot start at unreachable location 97, starting at closest cell (using Euclidean distance)\n",
      "Greedy:  66%|██████▌   | 33/50 [00:03<00:01, 11.26it/s]"
     ]
    },
    {
     "name": "stdout",
     "output_type": "stream",
     "text": [
      "97\n",
      "[5, 62, 79, 115]\n",
      "Postprocessing\n",
      "97\n",
      "[88, 130, 174, 165]\n",
      "Postprocessing\n",
      "97\n",
      "[8, 133, 44, 118]\n",
      "Postprocessing\n"
     ]
    },
    {
     "name": "stderr",
     "output_type": "stream",
     "text": [
      "Warning: Player 'Greedy' cannot start at unreachable location 97, starting at closest cell (using Euclidean distance)\n",
      "Greedy:  70%|███████   | 35/50 [00:03<00:01, 11.16it/s]"
     ]
    },
    {
     "name": "stdout",
     "output_type": "stream",
     "text": [
      "97\n",
      "[34, 6, 116, 55]\n",
      "Postprocessing\n",
      "81\n",
      "[6, 1, 186, 176]\n",
      "Postprocessing\n",
      "97\n",
      "[117, 187, 61, 163]\n",
      "Postprocessing\n",
      "97\n",
      "[14, 7, 26, 154]\n",
      "Postprocessing\n"
     ]
    },
    {
     "name": "stderr",
     "output_type": "stream",
     "text": [
      "Greedy:  78%|███████▊  | 39/50 [00:03<00:01, 10.51it/s]"
     ]
    },
    {
     "name": "stdout",
     "output_type": "stream",
     "text": [
      "97\n",
      "[63, 59, 29, 169]\n",
      "Postprocessing\n",
      "97\n",
      "[7, 121, 148, 186]\n",
      "Postprocessing\n",
      "97\n",
      "[66, 118, 158, 172]\n",
      "Postprocessing\n"
     ]
    },
    {
     "name": "stderr",
     "output_type": "stream",
     "text": [
      "Greedy:  86%|████████▌ | 43/50 [00:04<00:00, 11.14it/s]"
     ]
    },
    {
     "name": "stdout",
     "output_type": "stream",
     "text": [
      "97\n",
      "[154, 8, 106, 178]\n",
      "Postprocessing\n",
      "97\n",
      "[69, 43, 148, 163]\n",
      "Postprocessing\n",
      "97\n",
      "[153, 65, 53, 28]\n",
      "Postprocessing\n"
     ]
    },
    {
     "name": "stderr",
     "output_type": "stream",
     "text": [
      "Warning: Player 'Greedy' cannot start at unreachable location 97, starting at closest cell (using Euclidean distance)\n",
      "Greedy:  94%|█████████▍| 47/50 [00:04<00:00, 11.32it/s]"
     ]
    },
    {
     "name": "stdout",
     "output_type": "stream",
     "text": [
      "98\n",
      "[35, 27, 104, 186]\n",
      "Postprocessing\n",
      "97\n",
      "[141, 55, 157, 159]\n",
      "Postprocessing\n",
      "97\n",
      "[125, 145, 72, 13]\n",
      "Postprocessing\n",
      "97\n",
      "[48, 20, 121, 183]\n",
      "Postprocessing\n",
      "97\n",
      "[149, 114, 107, 47]\n",
      "Postprocessing\n"
     ]
    },
    {
     "name": "stderr",
     "output_type": "stream",
     "text": [
      "Greedy: 100%|██████████| 50/50 [00:04<00:00, 10.63it/s]\n"
     ]
    },
    {
     "name": "stdout",
     "output_type": "stream",
     "text": [
      "97\n",
      "[89, 135, 159, 167]\n",
      "Postprocessing\n",
      "97\n",
      "[193, 29, 177, 127]\n",
      "Postprocessing\n"
     ]
    },
    {
     "name": "stderr",
     "output_type": "stream",
     "text": [
      "Greedy:   0%|          | 0/50 [00:00<?, ?it/s]"
     ]
    },
    {
     "name": "stdout",
     "output_type": "stream",
     "text": [
      "82\n",
      "[27, 62, 108, 192, 61]\n"
     ]
    },
    {
     "name": "stderr",
     "output_type": "stream",
     "text": [
      "Warning: Player 'Greedy' cannot start at unreachable location 97, starting at closest cell (using Euclidean distance)\n",
      "Greedy:   4%|▍         | 2/50 [00:00<00:04, 10.92it/s]"
     ]
    },
    {
     "name": "stdout",
     "output_type": "stream",
     "text": [
      "Postprocessing\n",
      "97\n",
      "[145, 100, 173, 179, 137]\n",
      "Postprocessing\n",
      "97\n",
      "[103, 165, 146, 100, 10]\n",
      "Postprocessing\n"
     ]
    },
    {
     "name": "stderr",
     "output_type": "stream",
     "text": [
      "Greedy:   8%|▊         | 4/50 [00:00<00:04, 11.08it/s]"
     ]
    },
    {
     "name": "stdout",
     "output_type": "stream",
     "text": [
      "97\n",
      "[180, 163, 166, 7, 105]\n",
      "Postprocessing\n",
      "97\n",
      "[16, 176, 178, 67, 115]\n",
      "Postprocessing\n",
      "97\n",
      "[191, 13, 43, 17, 124]\n",
      "Postprocessing\n"
     ]
    },
    {
     "name": "stderr",
     "output_type": "stream",
     "text": [
      "Greedy:  16%|█▌        | 8/50 [00:00<00:03, 11.21it/s]"
     ]
    },
    {
     "name": "stdout",
     "output_type": "stream",
     "text": [
      "97\n",
      "[79, 189, 131, 124, 41]\n",
      "Postprocessing\n",
      "97\n",
      "[21, 25, 46, 165, 0]\n",
      "Postprocessing\n",
      "97\n",
      "[8, 50, 158, 180, 186]\n",
      "Postprocessing\n"
     ]
    },
    {
     "name": "stderr",
     "output_type": "stream",
     "text": [
      "Greedy:  20%|██        | 10/50 [00:00<00:04,  9.95it/s]"
     ]
    },
    {
     "name": "stdout",
     "output_type": "stream",
     "text": [
      "97\n",
      "[180, 89, 118, 157, 85]\n",
      "Postprocessing\n",
      "97\n",
      "[1, 72, 36, 57, 50]\n",
      "Postprocessing\n",
      "82\n",
      "[4, 135, 50, 193, 123]\n"
     ]
    },
    {
     "name": "stderr",
     "output_type": "stream",
     "text": [
      "Warning: Player 'Greedy' cannot start at unreachable location 97, starting at closest cell (using Euclidean distance)\n",
      "Greedy:  24%|██▍       | 12/50 [00:01<00:03,  9.97it/s]Warning: Player 'Greedy' cannot start at unreachable location 97, starting at closest cell (using Euclidean distance)\n",
      "Greedy:  28%|██▊       | 14/50 [00:01<00:03, 10.35it/s]"
     ]
    },
    {
     "name": "stdout",
     "output_type": "stream",
     "text": [
      "Postprocessing\n",
      "82\n",
      "[138, 14, 125, 43, 35]\n",
      "Postprocessing\n",
      "97\n",
      "[179, 157, 82, 37, 151]\n",
      "Postprocessing\n"
     ]
    },
    {
     "name": "stderr",
     "output_type": "stream",
     "text": [
      "Greedy:  32%|███▏      | 16/50 [00:01<00:03, 10.49it/s]"
     ]
    },
    {
     "name": "stdout",
     "output_type": "stream",
     "text": [
      "97\n",
      "[140, 148, 7, 172, 78]\n",
      "Postprocessing\n",
      "97\n",
      "[10, 160, 127, 141, 131]\n",
      "Postprocessing\n",
      "112\n",
      "[47, 102, 34, 147, 161]\n",
      "Postprocessing\n"
     ]
    },
    {
     "name": "stderr",
     "output_type": "stream",
     "text": [
      "Warning: Player 'Greedy' cannot start at unreachable location 97, starting at closest cell (using Euclidean distance)\n",
      "Greedy:  36%|███▌      | 18/50 [00:01<00:02, 10.70it/s]Warning: Player 'Greedy' cannot start at unreachable location 97, starting at closest cell (using Euclidean distance)\n",
      "Greedy:  40%|████      | 20/50 [00:01<00:02, 10.86it/s]"
     ]
    },
    {
     "name": "stdout",
     "output_type": "stream",
     "text": [
      "97\n",
      "[191, 67, 161, 5, 63]\n",
      "Postprocessing\n",
      "111\n",
      "[42, 4, 23, 36, 134]\n",
      "Postprocessing\n",
      "97\n",
      "[7, 148, 101, 44, 191]\n",
      "Postprocessing\n"
     ]
    },
    {
     "name": "stderr",
     "output_type": "stream",
     "text": [
      "Warning: Player 'Greedy' cannot start at unreachable location 97, starting at closest cell (using Euclidean distance)\n",
      "Warning: Player 'Greedy' cannot start at unreachable location 97, starting at closest cell (using Euclidean distance)\n",
      "Greedy:  44%|████▍     | 22/50 [00:02<00:02, 11.13it/s]Warning: Player 'Greedy' cannot start at unreachable location 97, starting at closest cell (using Euclidean distance)"
     ]
    },
    {
     "name": "stdout",
     "output_type": "stream",
     "text": [
      "82\n",
      "[71, 133, 165, 94, 11]\n",
      "Postprocessing\n",
      "82\n",
      "[72, 105, 18, 57, 164]\n",
      "Postprocessing\n",
      "97\n",
      "[144, 141, 22, 21, 117]\n",
      "Postprocessing\n"
     ]
    },
    {
     "name": "stderr",
     "output_type": "stream",
     "text": [
      "\n",
      "Greedy:  52%|█████▏    | 26/50 [00:02<00:02, 11.65it/s]"
     ]
    },
    {
     "name": "stdout",
     "output_type": "stream",
     "text": [
      "96\n",
      "[14, 86, 189, 67, 117]\n",
      "Postprocessing\n",
      "97\n",
      "[27, 83, 146, 1, 105]\n",
      "Postprocessing\n",
      "97\n",
      "[53, 64, 13, 80, 41]\n",
      "Postprocessing\n",
      "97\n",
      "[111, 32, 99, 19, 30]\n"
     ]
    },
    {
     "name": "stderr",
     "output_type": "stream",
     "text": [
      "Greedy:  56%|█████▌    | 28/50 [00:02<00:01, 11.85it/s]"
     ]
    },
    {
     "name": "stdout",
     "output_type": "stream",
     "text": [
      "Postprocessing\n",
      "97\n",
      "[93, 110, 29, 62, 21]\n",
      "Postprocessing\n",
      "97\n",
      "[71, 123, 116, 73, 126]\n",
      "Postprocessing\n"
     ]
    },
    {
     "name": "stderr",
     "output_type": "stream",
     "text": [
      "Warning: Player 'Greedy' cannot start at unreachable location 97, starting at closest cell (using Euclidean distance)\n",
      "Greedy:  64%|██████▍   | 32/50 [00:02<00:01, 11.83it/s]"
     ]
    },
    {
     "name": "stdout",
     "output_type": "stream",
     "text": [
      "98\n",
      "[176, 51, 27, 128, 3]\n",
      "Postprocessing\n",
      "97\n",
      "[5, 62, 79, 115, 36]\n",
      "Postprocessing\n",
      "97\n",
      "[88, 130, 174, 165, 89]\n",
      "Postprocessing\n",
      "97\n",
      "[8, 133, 44, 118, 59]\n",
      "Postprocessing\n"
     ]
    },
    {
     "name": "stderr",
     "output_type": "stream",
     "text": [
      "Greedy:  68%|██████▊   | 34/50 [00:03<00:01, 11.86it/s]Warning: Player 'Greedy' cannot start at unreachable location 97, starting at closest cell (using Euclidean distance)\n",
      "Greedy:  72%|███████▏  | 36/50 [00:03<00:01, 11.90it/s]"
     ]
    },
    {
     "name": "stdout",
     "output_type": "stream",
     "text": [
      "97\n",
      "[34, 6, 116, 55, 188]\n",
      "Postprocessing\n",
      "81\n",
      "[6, 1, 186, 176, 177]\n",
      "Postprocessing\n",
      "97\n",
      "[117, 187, 61, 163, 8]\n",
      "Postprocessing\n"
     ]
    },
    {
     "name": "stderr",
     "output_type": "stream",
     "text": [
      "Greedy:  80%|████████  | 40/50 [00:03<00:00, 11.62it/s]"
     ]
    },
    {
     "name": "stdout",
     "output_type": "stream",
     "text": [
      "97\n",
      "[14, 7, 26, 154, 144]\n",
      "Postprocessing\n",
      "97\n",
      "[63, 59, 29, 169, 60]\n",
      "Postprocessing\n",
      "97\n",
      "[7, 121, 148, 186, 60]\n",
      "Postprocessing\n",
      "97\n",
      "[66, 118, 158, 172, 101]\n",
      "Postprocessing\n"
     ]
    },
    {
     "name": "stderr",
     "output_type": "stream",
     "text": [
      "Greedy:  84%|████████▍ | 42/50 [00:03<00:00, 10.42it/s]"
     ]
    },
    {
     "name": "stdout",
     "output_type": "stream",
     "text": [
      "97\n",
      "[154, 8, 106, 178, 179]\n",
      "Postprocessing\n",
      "97\n",
      "[69, 43, 148, 163, 38]\n",
      "Postprocessing\n",
      "97\n",
      "[153, 65, 53, 28, 178]\n"
     ]
    },
    {
     "name": "stderr",
     "output_type": "stream",
     "text": [
      "Warning: Player 'Greedy' cannot start at unreachable location 97, starting at closest cell (using Euclidean distance)\n",
      "Greedy:  92%|█████████▏| 46/50 [00:04<00:00, 10.33it/s]"
     ]
    },
    {
     "name": "stdout",
     "output_type": "stream",
     "text": [
      "Postprocessing\n",
      "98\n",
      "[35, 27, 104, 186, 29]\n",
      "Postprocessing\n",
      "97\n",
      "[141, 55, 157, 159, 194]\n",
      "Postprocessing\n",
      "97\n",
      "[125, 145, 72, 13, 85]\n",
      "Postprocessing\n"
     ]
    },
    {
     "name": "stderr",
     "output_type": "stream",
     "text": [
      "Greedy:  96%|█████████▌| 48/50 [00:04<00:00, 10.47it/s]"
     ]
    },
    {
     "name": "stdout",
     "output_type": "stream",
     "text": [
      "97\n",
      "[48, 20, 121, 183, 73]\n",
      "Postprocessing\n",
      "97\n",
      "[149, 114, 107, 47, 40]\n",
      "Postprocessing\n",
      "97\n",
      "[89, 135, 159, 167, 95]\n",
      "Postprocessing\n"
     ]
    },
    {
     "name": "stderr",
     "output_type": "stream",
     "text": [
      "Greedy: 100%|██████████| 50/50 [00:04<00:00, 10.97it/s]\n"
     ]
    },
    {
     "name": "stdout",
     "output_type": "stream",
     "text": [
      "97\n",
      "[193, 29, 177, 127, 131]\n",
      "Postprocessing\n"
     ]
    },
    {
     "name": "stderr",
     "output_type": "stream",
     "text": [
      "Greedy:   0%|          | 0/50 [00:00<?, ?it/s]Warning: Player 'Greedy' cannot start at unreachable location 97, starting at closest cell (using Euclidean distance)\n",
      "Greedy:   4%|▍         | 2/50 [00:00<00:04, 10.98it/s]"
     ]
    },
    {
     "name": "stdout",
     "output_type": "stream",
     "text": [
      "82\n",
      "[27, 62, 108, 192, 61, 175]\n",
      "Postprocessing\n",
      "97\n",
      "[145, 100, 173, 179, 137, 65]\n",
      "Postprocessing\n",
      "97\n",
      "[103, 165, 146, 100, 10, 181]\n",
      "Postprocessing\n"
     ]
    },
    {
     "name": "stderr",
     "output_type": "stream",
     "text": [
      "Greedy:   8%|▊         | 4/50 [00:00<00:04, 10.07it/s]"
     ]
    },
    {
     "name": "stdout",
     "output_type": "stream",
     "text": [
      "97\n",
      "[180, 163, 166, 7, 105, 100]\n",
      "Postprocessing\n",
      "97\n",
      "[16, 176, 178, 67, 115, 99]\n",
      "Postprocessing\n",
      "97\n",
      "[191, 13, 43, 17, 124, 111]\n",
      "Postprocessing\n"
     ]
    },
    {
     "name": "stderr",
     "output_type": "stream",
     "text": [
      "Greedy:  12%|█▏        | 6/50 [00:00<00:04, 10.43it/s]"
     ]
    },
    {
     "name": "stdout",
     "output_type": "stream",
     "text": [
      "97\n",
      "[79, 189, 131, 124, 41, 82]\n",
      "Postprocessing\n"
     ]
    },
    {
     "name": "stderr",
     "output_type": "stream",
     "text": [
      "Greedy:  16%|█▌        | 8/50 [00:00<00:04,  9.46it/s]"
     ]
    },
    {
     "name": "stdout",
     "output_type": "stream",
     "text": [
      "97\n",
      "[21, 25, 46, 165, 0, 72]\n",
      "Postprocessing\n",
      "97\n",
      "[8, 50, 158, 180, 186, 61]\n",
      "Postprocessing\n"
     ]
    },
    {
     "name": "stderr",
     "output_type": "stream",
     "text": [
      "Greedy:  20%|██        | 10/50 [00:00<00:03, 10.02it/s]"
     ]
    },
    {
     "name": "stdout",
     "output_type": "stream",
     "text": [
      "97\n",
      "[180, 89, 118, 157, 85, 112]\n",
      "Postprocessing\n"
     ]
    },
    {
     "name": "stderr",
     "output_type": "stream",
     "text": [
      "Warning: Player 'Greedy' cannot start at unreachable location 97, starting at closest cell (using Euclidean distance)\n",
      "Greedy:  24%|██▍       | 12/50 [00:01<00:03, 10.26it/s]"
     ]
    },
    {
     "name": "stdout",
     "output_type": "stream",
     "text": [
      "97\n",
      "[1, 72, 36, 57, 50, 187]\n",
      "Postprocessing\n",
      "82\n",
      "[4, 135, 50, 193, 123, 5]\n",
      "Postprocessing\n",
      "82\n",
      "[138, 14, 125, 43, 35, 101]\n",
      "Postprocessing\n"
     ]
    },
    {
     "name": "stderr",
     "output_type": "stream",
     "text": [
      "Warning: Player 'Greedy' cannot start at unreachable location 97, starting at closest cell (using Euclidean distance)\n",
      "Greedy:  28%|██▊       | 14/50 [00:01<00:03, 10.29it/s]"
     ]
    },
    {
     "name": "stdout",
     "output_type": "stream",
     "text": [
      "97\n",
      "[179, 157, 82, 37, 151, 33]\n",
      "Postprocessing\n",
      "97\n",
      "[140, 148, 7, 172, 78, 5]\n",
      "Postprocessing\n"
     ]
    },
    {
     "name": "stderr",
     "output_type": "stream",
     "text": [
      "Greedy:  32%|███▏      | 16/50 [00:01<00:03, 10.47it/s]"
     ]
    },
    {
     "name": "stdout",
     "output_type": "stream",
     "text": [
      "97\n",
      "[10, 160, 127, 141, 131, 54]\n",
      "Postprocessing\n"
     ]
    },
    {
     "name": "stderr",
     "output_type": "stream",
     "text": [
      "Warning: Player 'Greedy' cannot start at unreachable location 97, starting at closest cell (using Euclidean distance)\n",
      "Greedy:  36%|███▌      | 18/50 [00:01<00:03, 10.50it/s]"
     ]
    },
    {
     "name": "stdout",
     "output_type": "stream",
     "text": [
      "112\n",
      "[47, 102, 34, 147, 161, 177]\n",
      "Postprocessing\n",
      "97\n",
      "[191, 67, 161, 5, 63, 95]\n",
      "Postprocessing\n",
      "111\n",
      "[42, 4, 23, 36, 134, 6]\n",
      "Postprocessing\n",
      "97\n",
      "[7, 148, 101, 44, 191, 178]\n"
     ]
    },
    {
     "name": "stderr",
     "output_type": "stream",
     "text": [
      "Warning: Player 'Greedy' cannot start at unreachable location 97, starting at closest cell (using Euclidean distance)\n",
      "Greedy:  40%|████      | 20/50 [00:01<00:02, 10.71it/s]Warning: Player 'Greedy' cannot start at unreachable location 97, starting at closest cell (using Euclidean distance)\n",
      "Warning: Player 'Greedy' cannot start at unreachable location 97, starting at closest cell (using Euclidean distance)\n",
      "Greedy:  44%|████▍     | 22/50 [00:02<00:02, 10.82it/s]"
     ]
    },
    {
     "name": "stdout",
     "output_type": "stream",
     "text": [
      "Postprocessing\n",
      "82\n",
      "[71, 133, 165, 94, 11, 159]\n",
      "Postprocessing\n",
      "82\n",
      "[72, 105, 18, 57, 164, 139]\n",
      "Postprocessing\n"
     ]
    },
    {
     "name": "stderr",
     "output_type": "stream",
     "text": [
      "Warning: Player 'Greedy' cannot start at unreachable location 97, starting at closest cell (using Euclidean distance)\n",
      "Greedy:  48%|████▊     | 24/50 [00:02<00:02, 10.89it/s]"
     ]
    },
    {
     "name": "stdout",
     "output_type": "stream",
     "text": [
      "97\n",
      "[144, 141, 22, 21, 117, 18]\n",
      "Postprocessing\n",
      "96\n",
      "[14, 86, 189, 67, 117, 183]\n",
      "Postprocessing\n",
      "97\n",
      "[27, 83, 146, 1, 105, 175]\n",
      "Postprocessing\n",
      "97\n",
      "[53, 64, 13, 80, 41, 173]\n",
      "Postprocessing\n"
     ]
    },
    {
     "name": "stderr",
     "output_type": "stream",
     "text": [
      "Greedy:  52%|█████▏    | 26/50 [00:02<00:02, 10.73it/s]"
     ]
    },
    {
     "name": "stdout",
     "output_type": "stream",
     "text": [
      "97\n",
      "[111, 32, 99, 19, 30, 68]\n",
      "Postprocessing\n"
     ]
    },
    {
     "name": "stderr",
     "output_type": "stream",
     "text": [
      "Greedy:  56%|█████▌    | 28/50 [00:02<00:01, 11.02it/s]"
     ]
    },
    {
     "name": "stdout",
     "output_type": "stream",
     "text": [
      "97\n",
      "[93, 110, 29, 62, 21, 90]\n",
      "Postprocessing\n",
      "97\n",
      "[71, 123, 116, 73, 126, 110]\n",
      "Postprocessing\n"
     ]
    },
    {
     "name": "stderr",
     "output_type": "stream",
     "text": [
      "Warning: Player 'Greedy' cannot start at unreachable location 97, starting at closest cell (using Euclidean distance)\n",
      "Greedy:  60%|██████    | 30/50 [00:02<00:01, 10.91it/s]"
     ]
    },
    {
     "name": "stdout",
     "output_type": "stream",
     "text": [
      "98\n",
      "[176, 51, 27, 128, 3, 42]\n",
      "Postprocessing\n"
     ]
    },
    {
     "name": "stderr",
     "output_type": "stream",
     "text": [
      "Greedy:  64%|██████▍   | 32/50 [00:03<00:01, 11.04it/s]"
     ]
    },
    {
     "name": "stdout",
     "output_type": "stream",
     "text": [
      "97\n",
      "[5, 62, 79, 115, 36, 182]\n",
      "Postprocessing\n",
      "97\n",
      "[88, 130, 174, 165, 89, 28]\n",
      "Postprocessing\n",
      "97\n",
      "[8, 133, 44, 118, 59, 127]\n",
      "Postprocessing\n",
      "97\n",
      "[34, 6, 116, 55, 188, 101]\n",
      "Postprocessing\n"
     ]
    },
    {
     "name": "stderr",
     "output_type": "stream",
     "text": [
      "Greedy:  68%|██████▊   | 34/50 [00:03<00:01, 11.37it/s]Warning: Player 'Greedy' cannot start at unreachable location 97, starting at closest cell (using Euclidean distance)\n",
      "Greedy:  72%|███████▏  | 36/50 [00:03<00:01, 11.35it/s]"
     ]
    },
    {
     "name": "stdout",
     "output_type": "stream",
     "text": [
      "81\n",
      "[6, 1, 186, 176, 177, 164]\n",
      "Postprocessing\n",
      "97\n",
      "[117, 187, 61, 163, 8, 119]\n",
      "Postprocessing\n",
      "97\n",
      "[14, 7, 26, 154, 144, 16]\n",
      "Postprocessing\n"
     ]
    },
    {
     "name": "stderr",
     "output_type": "stream",
     "text": [
      "Greedy:  76%|███████▌  | 38/50 [00:03<00:01, 11.35it/s]"
     ]
    },
    {
     "name": "stdout",
     "output_type": "stream",
     "text": [
      "97\n",
      "[63, 59, 29, 169, 60, 92]\n",
      "Postprocessing\n",
      "97\n",
      "[7, 121, 148, 186, 60, 87]\n",
      "Postprocessing\n",
      "97\n",
      "[66, 118, 158, 172, 101, 191]\n",
      "Postprocessing\n"
     ]
    },
    {
     "name": "stderr",
     "output_type": "stream",
     "text": [
      "Greedy:  84%|████████▍ | 42/50 [00:03<00:00, 10.96it/s]"
     ]
    },
    {
     "name": "stdout",
     "output_type": "stream",
     "text": [
      "97\n",
      "[154, 8, 106, 178, 179, 46]\n",
      "Postprocessing\n",
      "97\n",
      "[69, 43, 148, 163, 38, 103]\n",
      "Postprocessing\n"
     ]
    },
    {
     "name": "stderr",
     "output_type": "stream",
     "text": [
      "Warning: Player 'Greedy' cannot start at unreachable location 97, starting at closest cell (using Euclidean distance)\n",
      "Greedy:  88%|████████▊ | 44/50 [00:04<00:00, 10.77it/s]"
     ]
    },
    {
     "name": "stdout",
     "output_type": "stream",
     "text": [
      "97\n",
      "[153, 65, 53, 28, 178, 82]\n",
      "Postprocessing\n",
      "98\n",
      "[35, 27, 104, 186, 29, 169]\n",
      "Postprocessing\n",
      "97\n",
      "[141, 55, 157, 159, 194, 40]\n",
      "Postprocessing\n",
      "97"
     ]
    },
    {
     "name": "stderr",
     "output_type": "stream",
     "text": [
      "Greedy:  92%|█████████▏| 46/50 [00:04<00:00,  9.76it/s]"
     ]
    },
    {
     "name": "stdout",
     "output_type": "stream",
     "text": [
      "\n",
      "[125, 145, 72, 13, 85, 110]\n",
      "Postprocessing\n",
      "97\n",
      "[48, 20, 121, 183, 73, 151]\n",
      "Postprocessing\n",
      "97\n",
      "[149, 114, 107, 47, 40, 136]\n",
      "Postprocessing\n"
     ]
    },
    {
     "name": "stderr",
     "output_type": "stream",
     "text": [
      "Greedy:  96%|█████████▌| 48/50 [00:04<00:00,  9.86it/s]"
     ]
    },
    {
     "name": "stdout",
     "output_type": "stream",
     "text": [
      "97\n",
      "[89, 135, 159, 167, 95, 148]\n"
     ]
    },
    {
     "name": "stderr",
     "output_type": "stream",
     "text": [
      "Greedy: 100%|██████████| 50/50 [00:04<00:00, 10.57it/s]\n"
     ]
    },
    {
     "name": "stdout",
     "output_type": "stream",
     "text": [
      "Postprocessing\n",
      "97\n",
      "[193, 29, 177, 127, 131, 118]\n",
      "Postprocessing\n"
     ]
    },
    {
     "name": "stderr",
     "output_type": "stream",
     "text": [
      "Greedy:   0%|          | 0/50 [00:00<?, ?it/s]"
     ]
    },
    {
     "name": "stdout",
     "output_type": "stream",
     "text": [
      "82\n",
      "[27, 62, 108, 192, 61, 175, 53]\n",
      "Postprocessing\n",
      "97"
     ]
    },
    {
     "name": "stderr",
     "output_type": "stream",
     "text": [
      "Warning: Player 'Greedy' cannot start at unreachable location 97, starting at closest cell (using Euclidean distance)\n",
      "Greedy:   4%|▍         | 2/50 [00:00<00:04, 10.30it/s]"
     ]
    },
    {
     "name": "stdout",
     "output_type": "stream",
     "text": [
      "\n",
      "[145, 100, 173, 179, 137, 65, 135]\n",
      "Postprocessing\n",
      "97\n",
      "[103, 165, 146, 100, 10, 181, 63]\n"
     ]
    },
    {
     "name": "stderr",
     "output_type": "stream",
     "text": [
      "Greedy:   8%|▊         | 4/50 [00:00<00:04,  9.94it/s]"
     ]
    },
    {
     "name": "stdout",
     "output_type": "stream",
     "text": [
      "Postprocessing\n",
      "97\n",
      "[180, 163, 166, 7, 105, 100, 140]\n",
      "Postprocessing\n",
      "97\n",
      "[16, 176, 178, 67, 115, 99, 49]\n",
      "Postprocessing\n",
      "97\n",
      "[191, 13, 43, 17, 124, 111, 107]\n",
      "Postprocessing\n"
     ]
    },
    {
     "name": "stderr",
     "output_type": "stream",
     "text": [
      "Greedy:  12%|█▏        | 6/50 [00:00<00:04, 10.37it/s]"
     ]
    },
    {
     "name": "stdout",
     "output_type": "stream",
     "text": [
      "97\n",
      "[79, 189, 131, 124, 41, 82, 30]\n",
      "Postprocessing\n"
     ]
    },
    {
     "name": "stderr",
     "output_type": "stream",
     "text": [
      "Greedy:  16%|█▌        | 8/50 [00:00<00:04, 10.23it/s]"
     ]
    },
    {
     "name": "stdout",
     "output_type": "stream",
     "text": [
      "97\n",
      "[21, 25, 46, 165, 0, 72, 34]\n",
      "Postprocessing\n",
      "97\n",
      "[8, 50, 158, 180, 186, 61, 106]\n",
      "Postprocessing\n",
      "97\n",
      "[180, 89, 118, 157, 85, 112, 177]\n",
      "Postprocessing\n"
     ]
    },
    {
     "name": "stderr",
     "output_type": "stream",
     "text": [
      "Greedy:  20%|██        | 10/50 [00:00<00:03, 10.02it/s]"
     ]
    },
    {
     "name": "stdout",
     "output_type": "stream",
     "text": [
      "97\n",
      "[1, 72, 36, 57, 50, 187, 105]\n",
      "Postprocessing\n"
     ]
    },
    {
     "name": "stderr",
     "output_type": "stream",
     "text": [
      "Warning: Player 'Greedy' cannot start at unreachable location 97, starting at closest cell (using Euclidean distance)\n",
      "Greedy:  24%|██▍       | 12/50 [00:01<00:03,  9.90it/s]"
     ]
    },
    {
     "name": "stdout",
     "output_type": "stream",
     "text": [
      "82\n",
      "[4, 135, 50, 193, 123, 5, 131]\n",
      "Postprocessing\n"
     ]
    },
    {
     "name": "stderr",
     "output_type": "stream",
     "text": [
      "Warning: Player 'Greedy' cannot start at unreachable location 97, starting at closest cell (using Euclidean distance)\n",
      "Greedy:  28%|██▊       | 14/50 [00:01<00:03, 10.17it/s]"
     ]
    },
    {
     "name": "stdout",
     "output_type": "stream",
     "text": [
      "82\n",
      "[138, 14, 125, 43, 35, 101, 123]\n",
      "Postprocessing\n",
      "97\n",
      "[179, 157, 82, 37, 151, 33, 153]\n",
      "Postprocessing\n"
     ]
    },
    {
     "name": "stderr",
     "output_type": "stream",
     "text": [
      "Greedy:  32%|███▏      | 16/50 [00:01<00:03, 10.39it/s]"
     ]
    },
    {
     "name": "stdout",
     "output_type": "stream",
     "text": [
      "97\n",
      "[140, 148, 7, 172, 78, 5, 162]\n",
      "Postprocessing\n",
      "97\n",
      "[10, 160, 127, 141, 131, 54, 100]\n",
      "Postprocessing\n",
      "112\n",
      "[47, 102, 34, 147, 161, 177, 63]\n",
      "Postprocessing\n",
      "97\n",
      "[191, 67, 161, 5, 63, 95, 175]\n"
     ]
    },
    {
     "name": "stderr",
     "output_type": "stream",
     "text": [
      "Warning: Player 'Greedy' cannot start at unreachable location 97, starting at closest cell (using Euclidean distance)\n",
      "Greedy:  36%|███▌      | 18/50 [00:01<00:03, 10.62it/s]Warning: Player 'Greedy' cannot start at unreachable location 97, starting at closest cell (using Euclidean distance)\n",
      "Greedy:  40%|████      | 20/50 [00:01<00:02, 11.00it/s]"
     ]
    },
    {
     "name": "stdout",
     "output_type": "stream",
     "text": [
      "Postprocessing\n",
      "111\n",
      "[42, 4, 23, 36, 134, 6, 7]\n",
      "Postprocessing\n",
      "97\n",
      "[7, 148, 101, 44, 191, 178, 34]\n",
      "Postprocessing\n"
     ]
    },
    {
     "name": "stderr",
     "output_type": "stream",
     "text": [
      "Warning: Player 'Greedy' cannot start at unreachable location 97, starting at closest cell (using Euclidean distance)\n",
      "Warning: Player 'Greedy' cannot start at unreachable location 97, starting at closest cell (using Euclidean distance)\n",
      "Greedy:  44%|████▍     | 22/50 [00:02<00:02, 10.98it/s]"
     ]
    },
    {
     "name": "stdout",
     "output_type": "stream",
     "text": [
      "82\n",
      "[71, 133, 165, 94, 11, 159, 80]\n",
      "Postprocessing\n",
      "82\n",
      "[72, 105, 18, 57, 164, 139, 50]\n",
      "Postprocessing\n",
      "97\n",
      "[144, 141, 22, 21, 117, 18, 56]\n",
      "Postprocessing\n"
     ]
    },
    {
     "name": "stderr",
     "output_type": "stream",
     "text": [
      "Warning: Player 'Greedy' cannot start at unreachable location 97, starting at closest cell (using Euclidean distance)\n",
      "Greedy:  48%|████▊     | 24/50 [00:02<00:02, 10.72it/s]"
     ]
    },
    {
     "name": "stdout",
     "output_type": "stream",
     "text": [
      "96\n",
      "[14, 86, 189, 67, 117, 183, 171]\n",
      "Postprocessing\n",
      "97\n",
      "[27, 83, 146, 1, 105, 175, 160]\n",
      "Postprocessing\n"
     ]
    },
    {
     "name": "stderr",
     "output_type": "stream",
     "text": [
      "Greedy:  52%|█████▏    | 26/50 [00:02<00:02,  9.13it/s]"
     ]
    },
    {
     "name": "stdout",
     "output_type": "stream",
     "text": [
      "97\n",
      "[53, 64, 13, 80, 41, 173, 0]\n",
      "Postprocessing\n",
      "97\n",
      "[111, 32, 99, 19, 30, 68, 49]\n"
     ]
    },
    {
     "name": "stderr",
     "output_type": "stream",
     "text": [
      "Greedy:  54%|█████▍    | 27/50 [00:02<00:03,  7.21it/s]"
     ]
    },
    {
     "name": "stdout",
     "output_type": "stream",
     "text": [
      "Postprocessing\n",
      "97\n",
      "[93, 110, 29, 62, 21, 90, 156]\n",
      "Postprocessing\n"
     ]
    },
    {
     "name": "stderr",
     "output_type": "stream",
     "text": [
      "Greedy:  58%|█████▊    | 29/50 [00:03<00:03,  6.81it/s]"
     ]
    },
    {
     "name": "stdout",
     "output_type": "stream",
     "text": [
      "97\n",
      "[71, 123, 116, 73, 126, 110, 53]\n",
      "Postprocessing\n",
      "98\n",
      "[176, 51, 27, 128, 3, 42, 109]\n"
     ]
    },
    {
     "name": "stderr",
     "output_type": "stream",
     "text": [
      "Warning: Player 'Greedy' cannot start at unreachable location 97, starting at closest cell (using Euclidean distance)\n",
      "Greedy:  64%|██████▍   | 32/50 [00:03<00:02,  7.13it/s]"
     ]
    },
    {
     "name": "stdout",
     "output_type": "stream",
     "text": [
      "Postprocessing\n",
      "97\n",
      "[5, 62, 79, 115, 36, 182, 75]\n",
      "Postprocessing\n",
      "97\n",
      "[88, 130, 174, 165, 89, 28, 23]\n",
      "Postprocessing\n"
     ]
    },
    {
     "name": "stderr",
     "output_type": "stream",
     "text": [
      "Greedy:  66%|██████▌   | 33/50 [00:03<00:02,  6.76it/s]"
     ]
    },
    {
     "name": "stdout",
     "output_type": "stream",
     "text": [
      "97\n",
      "[8, 133, 44, 118, 59, 127, 45]\n",
      "Postprocessing\n"
     ]
    },
    {
     "name": "stderr",
     "output_type": "stream",
     "text": [
      "Greedy:  68%|██████▊   | 34/50 [00:04<00:02,  5.88it/s]Warning: Player 'Greedy' cannot start at unreachable location 97, starting at closest cell (using Euclidean distance)\n",
      "Greedy:  70%|███████   | 35/50 [00:04<00:02,  5.68it/s]"
     ]
    },
    {
     "name": "stdout",
     "output_type": "stream",
     "text": [
      "97\n",
      "[34, 6, 116, 55, 188, 101, 98]\n",
      "Postprocessing\n",
      "81\n",
      "[6, 1, 186, 176, 177, 164, 150]\n",
      "Postprocessing\n"
     ]
    },
    {
     "name": "stderr",
     "output_type": "stream",
     "text": [
      "Greedy:  72%|███████▏  | 36/50 [00:04<00:02,  5.55it/s]"
     ]
    },
    {
     "name": "stdout",
     "output_type": "stream",
     "text": [
      "97\n",
      "[117, 187, 61, 163, 8, 119, 46]\n",
      "Postprocessing\n",
      "97\n",
      "[14, 7, 26, 154, 144, 16, 121]\n"
     ]
    },
    {
     "name": "stderr",
     "output_type": "stream",
     "text": [
      "Greedy:  78%|███████▊  | 39/50 [00:04<00:01,  6.58it/s]"
     ]
    },
    {
     "name": "stdout",
     "output_type": "stream",
     "text": [
      "Postprocessing\n",
      "97\n",
      "[63, 59, 29, 169, 60, 92, 95]\n",
      "Postprocessing\n",
      "97\n",
      "[7, 121, 148, 186, 60, 87, 31]\n",
      "Postprocessing\n"
     ]
    },
    {
     "name": "stderr",
     "output_type": "stream",
     "text": [
      "Greedy:  82%|████████▏ | 41/50 [00:05<00:01,  7.17it/s]"
     ]
    },
    {
     "name": "stdout",
     "output_type": "stream",
     "text": [
      "97\n",
      "[66, 118, 158, 172, 101, 191, 149]\n",
      "Postprocessing\n",
      "97\n",
      "[154, 8, 106, 178, 179, 46, 149]\n",
      "Postprocessing\n",
      "97\n",
      "[69, 43, 148, 163, 38, 103, 118]\n"
     ]
    },
    {
     "name": "stderr",
     "output_type": "stream",
     "text": [
      "Greedy:  86%|████████▌ | 43/50 [00:05<00:00,  7.79it/s]"
     ]
    },
    {
     "name": "stdout",
     "output_type": "stream",
     "text": [
      "Postprocessing\n",
      "97\n",
      "[153, 65, 53, 28, 178, 82, 108]\n",
      "Postprocessing\n"
     ]
    },
    {
     "name": "stderr",
     "output_type": "stream",
     "text": [
      "Warning: Player 'Greedy' cannot start at unreachable location 97, starting at closest cell (using Euclidean distance)\n",
      "Greedy:  90%|█████████ | 45/50 [00:05<00:00,  7.48it/s]"
     ]
    },
    {
     "name": "stdout",
     "output_type": "stream",
     "text": [
      "98\n",
      "[35, 27, 104, 186, 29, 169, 92]\n",
      "Postprocessing\n",
      "97\n",
      "[141, 55, 157, 159, 194, 40, 84]\n",
      "Postprocessing\n",
      "97\n",
      "[125, 145, 72, 13, 85, 110, 37]\n"
     ]
    },
    {
     "name": "stderr",
     "output_type": "stream",
     "text": [
      "Greedy:  94%|█████████▍| 47/50 [00:05<00:00,  7.62it/s]"
     ]
    },
    {
     "name": "stdout",
     "output_type": "stream",
     "text": [
      "Postprocessing\n",
      "97\n",
      "[48, 20, 121, 183, 73, 151, 36]\n",
      "Postprocessing\n"
     ]
    },
    {
     "name": "stderr",
     "output_type": "stream",
     "text": [
      "Greedy:  96%|█████████▌| 48/50 [00:06<00:00,  5.18it/s]"
     ]
    },
    {
     "name": "stdout",
     "output_type": "stream",
     "text": [
      "97\n",
      "[149, 114, 107, 47, 40, 136, 153]\n",
      "Postprocessing\n"
     ]
    },
    {
     "name": "stderr",
     "output_type": "stream",
     "text": [
      "Greedy: 100%|██████████| 50/50 [00:06<00:00,  7.49it/s]\n"
     ]
    },
    {
     "name": "stdout",
     "output_type": "stream",
     "text": [
      "97\n",
      "[89, 135, 159, 167, 95, 148, 51]\n",
      "Postprocessing\n",
      "97\n",
      "[193, 29, 177, 127, 131, 118, 120]\n",
      "Postprocessing\n"
     ]
    },
    {
     "name": "stderr",
     "output_type": "stream",
     "text": [
      "Greedy:   0%|          | 0/50 [00:00<?, ?it/s]"
     ]
    },
    {
     "name": "stdout",
     "output_type": "stream",
     "text": [
      "82\n",
      "[27, 62, 108, 192, 61, 175, 53, 12]\n",
      "Postprocessing\n"
     ]
    },
    {
     "name": "stderr",
     "output_type": "stream",
     "text": [
      "Warning: Player 'Greedy' cannot start at unreachable location 97, starting at closest cell (using Euclidean distance)\n",
      "Greedy:   4%|▍         | 2/50 [00:00<00:06,  7.40it/s]"
     ]
    },
    {
     "name": "stdout",
     "output_type": "stream",
     "text": [
      "97\n",
      "[145, 100, 173, 179, 137, 65, 135, 152]\n",
      "Postprocessing\n",
      "97\n",
      "[103, 165, 146, 100, 10, 181, 63, 151]\n"
     ]
    },
    {
     "name": "stderr",
     "output_type": "stream",
     "text": [
      "Greedy:   6%|▌         | 3/50 [00:00<00:05,  7.84it/s]"
     ]
    },
    {
     "name": "stdout",
     "output_type": "stream",
     "text": [
      "Postprocessing\n"
     ]
    },
    {
     "name": "stderr",
     "output_type": "stream",
     "text": [
      "Greedy:   8%|▊         | 4/50 [00:00<00:05,  8.50it/s]"
     ]
    },
    {
     "name": "stdout",
     "output_type": "stream",
     "text": [
      "97\n",
      "[180, 163, 166, 7, 105, 100, 140, 37]\n",
      "Postprocessing\n",
      "97\n",
      "[16, 176, 178, 67, 115, 99, 49, 79]\n"
     ]
    },
    {
     "name": "stderr",
     "output_type": "stream",
     "text": [
      "Greedy:  10%|█         | 5/50 [00:00<00:05,  7.67it/s]"
     ]
    },
    {
     "name": "stdout",
     "output_type": "stream",
     "text": [
      "Postprocessing\n"
     ]
    },
    {
     "name": "stderr",
     "output_type": "stream",
     "text": [
      "Greedy:  12%|█▏        | 6/50 [00:00<00:06,  6.55it/s]"
     ]
    },
    {
     "name": "stdout",
     "output_type": "stream",
     "text": [
      "97\n",
      "[191, 13, 43, 17, 124, 111, 107, 85]\n",
      "Postprocessing\n"
     ]
    },
    {
     "name": "stderr",
     "output_type": "stream",
     "text": [
      "Greedy:  14%|█▍        | 7/50 [00:00<00:06,  6.82it/s]"
     ]
    },
    {
     "name": "stdout",
     "output_type": "stream",
     "text": [
      "97\n",
      "[79, 189, 131, 124, 41, 82, 30, 109]\n",
      "Postprocessing\n",
      "97\n",
      "[21, 25, 46, 165, 0, 72, 34, 126]\n"
     ]
    },
    {
     "name": "stderr",
     "output_type": "stream",
     "text": [
      "Greedy:  16%|█▌        | 8/50 [00:01<00:05,  7.43it/s]"
     ]
    },
    {
     "name": "stdout",
     "output_type": "stream",
     "text": [
      "Postprocessing\n"
     ]
    },
    {
     "name": "stderr",
     "output_type": "stream",
     "text": [
      "Greedy:  20%|██        | 10/50 [00:01<00:04,  8.37it/s]"
     ]
    },
    {
     "name": "stdout",
     "output_type": "stream",
     "text": [
      "97\n",
      "[8, 50, 158, 180, 186, 61, 106, 167]\n",
      "Postprocessing\n",
      "97\n",
      "[180, 89, 118, 157, 85, 112, 177, 39]\n",
      "Postprocessing\n"
     ]
    },
    {
     "name": "stderr",
     "output_type": "stream",
     "text": [
      "Greedy:  22%|██▏       | 11/50 [00:01<00:04,  8.39it/s]"
     ]
    },
    {
     "name": "stdout",
     "output_type": "stream",
     "text": [
      "97\n",
      "[1, 72, 36, 57, 50, 187, 105, 73]\n",
      "Postprocessing\n"
     ]
    },
    {
     "name": "stderr",
     "output_type": "stream",
     "text": [
      "Warning: Player 'Greedy' cannot start at unreachable location 97, starting at closest cell (using Euclidean distance)\n",
      "Greedy:  24%|██▍       | 12/50 [00:01<00:04,  8.45it/s]Warning: Player 'Greedy' cannot start at unreachable location 97, starting at closest cell (using Euclidean distance)"
     ]
    },
    {
     "name": "stdout",
     "output_type": "stream",
     "text": [
      "82\n",
      "[4, 135, 50, 193, 123, 5, 131, 22]\n",
      "Postprocessing\n"
     ]
    },
    {
     "name": "stderr",
     "output_type": "stream",
     "text": [
      "\n",
      "Greedy:  28%|██▊       | 14/50 [00:01<00:04,  8.69it/s]"
     ]
    },
    {
     "name": "stdout",
     "output_type": "stream",
     "text": [
      "82\n",
      "[138, 14, 125, 43, 35, 101, 123, 21]\n",
      "Postprocessing\n",
      "97\n",
      "[179, 157, 82, 37, 151, 33, 153, 173]\n",
      "Postprocessing\n"
     ]
    },
    {
     "name": "stderr",
     "output_type": "stream",
     "text": [
      "Greedy:  32%|███▏      | 16/50 [00:01<00:03,  8.79it/s]"
     ]
    },
    {
     "name": "stdout",
     "output_type": "stream",
     "text": [
      "97\n",
      "[140, 148, 7, 172, 78, 5, 162, 104]\n",
      "Postprocessing\n",
      "97\n",
      "[10, 160, 127, 141, 131, 54, 100, 29]\n",
      "Postprocessing\n"
     ]
    },
    {
     "name": "stderr",
     "output_type": "stream",
     "text": [
      "Warning: Player 'Greedy' cannot start at unreachable location 97, starting at closest cell (using Euclidean distance)\n",
      "Greedy:  36%|███▌      | 18/50 [00:02<00:03,  8.73it/s]Warning: Player 'Greedy' cannot start at unreachable location 97, starting at closest cell (using Euclidean distance)\n",
      "Greedy:  38%|███▊      | 19/50 [00:02<00:03,  9.06it/s]"
     ]
    },
    {
     "name": "stdout",
     "output_type": "stream",
     "text": [
      "112\n",
      "[47, 102, 34, 147, 161, 177, 63, 23]\n",
      "Postprocessing\n",
      "97\n",
      "[191, 67, 161, 5, 63, 95, 175, 179]\n",
      "Postprocessing\n",
      "111\n",
      "[42, 4, 23, 36, 134, 6, 7, 84]\n",
      "Postprocessing\n"
     ]
    },
    {
     "name": "stderr",
     "output_type": "stream",
     "text": [
      "Greedy:  40%|████      | 20/50 [00:02<00:03,  9.10it/s]Warning: Player 'Greedy' cannot start at unreachable location 97, starting at closest cell (using Euclidean distance)\n",
      "Greedy:  42%|████▏     | 21/50 [00:02<00:03,  8.48it/s]"
     ]
    },
    {
     "name": "stdout",
     "output_type": "stream",
     "text": [
      "97\n",
      "[7, 148, 101, 44, 191, 178, 34, 156]\n",
      "Postprocessing\n",
      "82\n",
      "[71, 133, 165, 94, 11, 159, 80, 115]\n",
      "Postprocessing\n",
      "82\n",
      "[72, 105, 18, 57, 164, 139, 50, 136]\n"
     ]
    },
    {
     "name": "stderr",
     "output_type": "stream",
     "text": [
      "Warning: Player 'Greedy' cannot start at unreachable location 97, starting at closest cell (using Euclidean distance)\n",
      "Greedy:  44%|████▍     | 22/50 [00:02<00:03,  7.58it/s]"
     ]
    },
    {
     "name": "stdout",
     "output_type": "stream",
     "text": [
      "Postprocessing\n",
      "97\n",
      "[144, 141, 22, 21, 117, 18, 56, 163]\n"
     ]
    },
    {
     "name": "stderr",
     "output_type": "stream",
     "text": [
      "Greedy:  46%|████▌     | 23/50 [00:02<00:04,  6.58it/s]Warning: Player 'Greedy' cannot start at unreachable location 97, starting at closest cell (using Euclidean distance)\n",
      "Greedy:  48%|████▊     | 24/50 [00:03<00:03,  7.31it/s]"
     ]
    },
    {
     "name": "stdout",
     "output_type": "stream",
     "text": [
      "Postprocessing\n",
      "96\n",
      "[14, 86, 189, 67, 117, 183, 171, 90]\n",
      "Postprocessing\n"
     ]
    },
    {
     "name": "stderr",
     "output_type": "stream",
     "text": [
      "Greedy:  52%|█████▏    | 26/50 [00:03<00:03,  6.95it/s]"
     ]
    },
    {
     "name": "stdout",
     "output_type": "stream",
     "text": [
      "97\n",
      "[27, 83, 146, 1, 105, 175, 160, 104]\n",
      "Postprocessing\n",
      "97\n",
      "[53, 64, 13, 80, 41, 173, 0, 169]\n",
      "Postprocessing\n"
     ]
    },
    {
     "name": "stderr",
     "output_type": "stream",
     "text": [
      "Greedy:  56%|█████▌    | 28/50 [00:03<00:03,  5.95it/s]"
     ]
    },
    {
     "name": "stdout",
     "output_type": "stream",
     "text": [
      "97\n",
      "[111, 32, 99, 19, 30, 68, 49, 78]\n",
      "Postprocessing\n",
      "97\n",
      "[93, 110, 29, 62, 21, 90, 156, 111]\n",
      "Postprocessing\n",
      "97\n",
      "[71, 123, 116, 73, 126, 110, 53, 158]\n"
     ]
    },
    {
     "name": "stderr",
     "output_type": "stream",
     "text": [
      "Greedy:  58%|█████▊    | 29/50 [00:03<00:03,  6.40it/s]Warning: Player 'Greedy' cannot start at unreachable location 97, starting at closest cell (using Euclidean distance)\n",
      "Greedy:  60%|██████    | 30/50 [00:04<00:02,  6.71it/s]"
     ]
    },
    {
     "name": "stdout",
     "output_type": "stream",
     "text": [
      "Postprocessing\n",
      "98\n",
      "[176, 51, 27, 128, 3, 42, 109, 66]\n",
      "Postprocessing\n",
      "97\n",
      "[5, 62, 79, 115, 36, 182, 75, 160]\n"
     ]
    },
    {
     "name": "stderr",
     "output_type": "stream",
     "text": [
      "Greedy:  64%|██████▍   | 32/50 [00:04<00:02,  7.99it/s]"
     ]
    },
    {
     "name": "stdout",
     "output_type": "stream",
     "text": [
      "Postprocessing\n",
      "97\n",
      "[88, 130, 174, 165, 89, 28, 23, 26]\n",
      "Postprocessing\n",
      "97\n",
      "[8, 133, 44, 118, 59, 127, 45, 112]\n",
      "Postprocessing\n"
     ]
    },
    {
     "name": "stderr",
     "output_type": "stream",
     "text": [
      "Greedy:  68%|██████▊   | 34/50 [00:04<00:01,  8.45it/s]Warning: Player 'Greedy' cannot start at unreachable location 97, starting at closest cell (using Euclidean distance)\n",
      "Greedy:  70%|███████   | 35/50 [00:04<00:01,  8.09it/s]"
     ]
    },
    {
     "name": "stdout",
     "output_type": "stream",
     "text": [
      "97\n",
      "[34, 6, 116, 55, 188, 101, 98, 82]\n",
      "Postprocessing\n",
      "81\n",
      "[6, 1, 186, 176, 177, 164, 150, 108]\n",
      "Postprocessing\n"
     ]
    },
    {
     "name": "stderr",
     "output_type": "stream",
     "text": [
      "Greedy:  74%|███████▍  | 37/50 [00:04<00:01,  8.22it/s]"
     ]
    },
    {
     "name": "stdout",
     "output_type": "stream",
     "text": [
      "97\n",
      "[117, 187, 61, 163, 8, 119, 46, 25]\n",
      "Postprocessing\n",
      "97\n",
      "[14, 7, 26, 154, 144, 16, 121, 34]\n",
      "Postprocessing\n",
      "97\n",
      "[63, 59, 29, 169, 60, 92, 95, 139]\n",
      "Postprocessing\n"
     ]
    },
    {
     "name": "stderr",
     "output_type": "stream",
     "text": [
      "Greedy:  80%|████████  | 40/50 [00:05<00:01,  9.17it/s]"
     ]
    },
    {
     "name": "stdout",
     "output_type": "stream",
     "text": [
      "97\n",
      "[7, 121, 148, 186, 60, 87, 31, 172]\n",
      "Postprocessing\n",
      "97\n",
      "[66, 118, 158, 172, 101, 191, 149, 47]\n",
      "Postprocessing\n",
      "97\n",
      "[154, 8, 106, 178, 179, 46, 149, 27]\n"
     ]
    },
    {
     "name": "stderr",
     "output_type": "stream",
     "text": [
      "Greedy:  86%|████████▌ | 43/50 [00:05<00:00,  9.58it/s]"
     ]
    },
    {
     "name": "stdout",
     "output_type": "stream",
     "text": [
      "Postprocessing\n",
      "97\n",
      "[69, 43, 148, 163, 38, 103, 118, 0]\n",
      "Postprocessing\n",
      "97\n",
      "[153, 65, 53, 28, 178, 82, 108, 158]\n",
      "Postprocessing\n"
     ]
    },
    {
     "name": "stderr",
     "output_type": "stream",
     "text": [
      "Warning: Player 'Greedy' cannot start at unreachable location 97, starting at closest cell (using Euclidean distance)\n",
      "Greedy:  94%|█████████▍| 47/50 [00:05<00:00,  9.88it/s]"
     ]
    },
    {
     "name": "stdout",
     "output_type": "stream",
     "text": [
      "98\n",
      "[35, 27, 104, 186, 29, 169, 92, 25]\n",
      "Postprocessing\n",
      "97\n",
      "[141, 55, 157, 159, 194, 40, 84, 158]\n",
      "Postprocessing\n",
      "97\n",
      "[125, 145, 72, 13, 85, 110, 37, 66]\n",
      "Postprocessing\n",
      "97\n",
      "[48, 20, 121, 183, 73, 151, 36, 142]\n",
      "Postprocessing\n"
     ]
    },
    {
     "name": "stderr",
     "output_type": "stream",
     "text": [
      "Greedy:  98%|█████████▊| 49/50 [00:06<00:00,  9.82it/s]"
     ]
    },
    {
     "name": "stdout",
     "output_type": "stream",
     "text": [
      "97\n",
      "[149, 114, 107, 47, 40, 136, 153, 92]\n",
      "Postprocessing\n",
      "97\n",
      "[89, 135, 159, 167, 95, 148, 51, 14]\n",
      "Postprocessing\n",
      "97\n",
      "[193, 29, 177, 127, 131, 118, 120, 143]\n"
     ]
    },
    {
     "name": "stderr",
     "output_type": "stream",
     "text": [
      "Greedy: 100%|██████████| 50/50 [00:06<00:00,  8.17it/s]\n"
     ]
    },
    {
     "name": "stdout",
     "output_type": "stream",
     "text": [
      "Postprocessing\n"
     ]
    },
    {
     "name": "stderr",
     "output_type": "stream",
     "text": [
      "Greedy:   0%|          | 0/50 [00:00<?, ?it/s]Warning: Player 'Greedy' cannot start at unreachable location 97, starting at closest cell (using Euclidean distance)\n",
      "Greedy:   2%|▏         | 1/50 [00:00<00:05,  8.88it/s]"
     ]
    },
    {
     "name": "stdout",
     "output_type": "stream",
     "text": [
      "82\n",
      "[27, 62, 108, 192, 61, 175, 53, 12, 21]\n",
      "Postprocessing\n",
      "97\n",
      "[145, 100, 173, 179, 137, 65, 135, 152, 49]\n"
     ]
    },
    {
     "name": "stderr",
     "output_type": "stream",
     "text": [
      "Greedy:   4%|▍         | 2/50 [00:00<00:05,  9.16it/s]"
     ]
    },
    {
     "name": "stdout",
     "output_type": "stream",
     "text": [
      "Postprocessing\n",
      "97\n",
      "[103, 165, 146, 100, 10, 181, 63, 151, 39]\n"
     ]
    },
    {
     "name": "stderr",
     "output_type": "stream",
     "text": [
      "Greedy:   6%|▌         | 3/50 [00:00<00:05,  8.61it/s]"
     ]
    },
    {
     "name": "stdout",
     "output_type": "stream",
     "text": [
      "Postprocessing\n"
     ]
    },
    {
     "name": "stderr",
     "output_type": "stream",
     "text": [
      "Greedy:   8%|▊         | 4/50 [00:00<00:06,  6.99it/s]"
     ]
    },
    {
     "name": "stdout",
     "output_type": "stream",
     "text": [
      "97\n",
      "[180, 163, 166, 7, 105, 100, 140, 37, 57]\n",
      "Postprocessing\n"
     ]
    },
    {
     "name": "stderr",
     "output_type": "stream",
     "text": [
      "Greedy:  10%|█         | 5/50 [00:00<00:06,  7.41it/s]"
     ]
    },
    {
     "name": "stdout",
     "output_type": "stream",
     "text": [
      "97\n",
      "[16, 176, 178, 67, 115, 99, 49, 79, 66]\n",
      "Postprocessing\n",
      "97\n",
      "[191, 13, 43, 17, 124, 111, 107, 85, 59]\n",
      "Postprocessing\n"
     ]
    },
    {
     "name": "stderr",
     "output_type": "stream",
     "text": [
      "Greedy:  14%|█▍        | 7/50 [00:00<00:05,  7.55it/s]"
     ]
    },
    {
     "name": "stdout",
     "output_type": "stream",
     "text": [
      "97\n",
      "[79, 189, 131, 124, 41, 82, 30, 109, 78]\n",
      "Postprocessing\n",
      "97\n",
      "[21, 25, 46, 165, 0, 72, 34, 126, 135]\n",
      "Postprocessing\n"
     ]
    },
    {
     "name": "stderr",
     "output_type": "stream",
     "text": [
      "Greedy:  16%|█▌        | 8/50 [00:01<00:05,  8.12it/s]"
     ]
    },
    {
     "name": "stdout",
     "output_type": "stream",
     "text": [
      "97\n",
      "[8, 50, 158, 180, 186, 61, 106, 167, 45]\n"
     ]
    },
    {
     "name": "stderr",
     "output_type": "stream",
     "text": [
      "Greedy:  20%|██        | 10/50 [00:01<00:04,  8.90it/s]"
     ]
    },
    {
     "name": "stdout",
     "output_type": "stream",
     "text": [
      "Postprocessing\n",
      "97\n",
      "[180, 89, 118, 157, 85, 112, 177, 39, 113]\n",
      "Postprocessing\n",
      "97\n",
      "[1, 72, 36, 57, 50, 187, 105, 73, 161]\n"
     ]
    },
    {
     "name": "stderr",
     "output_type": "stream",
     "text": [
      "Greedy:  22%|██▏       | 11/50 [00:01<00:04,  9.02it/s]"
     ]
    },
    {
     "name": "stdout",
     "output_type": "stream",
     "text": [
      "Postprocessing\n"
     ]
    },
    {
     "name": "stderr",
     "output_type": "stream",
     "text": [
      "Warning: Player 'Greedy' cannot start at unreachable location 97, starting at closest cell (using Euclidean distance)\n",
      "Greedy:  24%|██▍       | 12/50 [00:01<00:04,  8.31it/s]"
     ]
    },
    {
     "name": "stdout",
     "output_type": "stream",
     "text": [
      "82\n",
      "[4, 135, 50, 193, 123, 5, 131, 22, 138]\n",
      "Postprocessing\n"
     ]
    },
    {
     "name": "stderr",
     "output_type": "stream",
     "text": [
      "Warning: Player 'Greedy' cannot start at unreachable location 97, starting at closest cell (using Euclidean distance)\n",
      "Greedy:  26%|██▌       | 13/50 [00:01<00:04,  8.64it/s]"
     ]
    },
    {
     "name": "stdout",
     "output_type": "stream",
     "text": [
      "82\n",
      "[138, 14, 125, 43, 35, 101, 123, 21, 65]\n",
      "Postprocessing\n",
      "97\n",
      "[179, 157, 82, 37, 151, 33, 153, 173, 171]\n"
     ]
    },
    {
     "name": "stderr",
     "output_type": "stream",
     "text": [
      "Greedy:  30%|███       | 15/50 [00:01<00:03,  8.86it/s]"
     ]
    },
    {
     "name": "stdout",
     "output_type": "stream",
     "text": [
      "Postprocessing\n",
      "97\n",
      "[140, 148, 7, 172, 78, 5, 162, 104, 111]\n",
      "Postprocessing\n"
     ]
    },
    {
     "name": "stderr",
     "output_type": "stream",
     "text": [
      "Greedy:  32%|███▏      | 16/50 [00:01<00:04,  7.66it/s]Warning: Player 'Greedy' cannot start at unreachable location 97, starting at closest cell (using Euclidean distance)\n",
      "Greedy:  34%|███▍      | 17/50 [00:02<00:04,  7.57it/s]"
     ]
    },
    {
     "name": "stdout",
     "output_type": "stream",
     "text": [
      "97\n",
      "[10, 160, 127, 141, 131, 54, 100, 29, 128]\n",
      "Postprocessing\n",
      "112\n",
      "[47, 102, 34, 147, 161, 177, 63, 23, 136]\n",
      "Postprocessing\n",
      "97\n",
      "[191, 67, 161, 5, 63, 95, 175, 179, 25]\n"
     ]
    },
    {
     "name": "stderr",
     "output_type": "stream",
     "text": [
      "Greedy:  36%|███▌      | 18/50 [00:02<00:04,  6.87it/s]Warning: Player 'Greedy' cannot start at unreachable location 97, starting at closest cell (using Euclidean distance)\n",
      "Greedy:  40%|████      | 20/50 [00:02<00:03,  7.94it/s]"
     ]
    },
    {
     "name": "stdout",
     "output_type": "stream",
     "text": [
      "Postprocessing\n",
      "111\n",
      "[42, 4, 23, 36, 134, 6, 7, 84, 116]\n",
      "Postprocessing\n",
      "97\n",
      "[7, 148, 101, 44, 191, 178, 34, 156, 153]\n",
      "Postprocessing\n"
     ]
    },
    {
     "name": "stderr",
     "output_type": "stream",
     "text": [
      "Warning: Player 'Greedy' cannot start at unreachable location 97, starting at closest cell (using Euclidean distance)\n",
      "Greedy:  42%|████▏     | 21/50 [00:02<00:03,  8.15it/s]Warning: Player 'Greedy' cannot start at unreachable location 97, starting at closest cell (using Euclidean distance)\n",
      "Greedy:  44%|████▍     | 22/50 [00:02<00:03,  8.16it/s]"
     ]
    },
    {
     "name": "stdout",
     "output_type": "stream",
     "text": [
      "82\n",
      "[71, 133, 165, 94, 11, 159, 80, 115, 75]\n",
      "Postprocessing\n",
      "82\n",
      "[72, 105, 18, 57, 164, 139, 50, 136, 55]\n",
      "Postprocessing\n"
     ]
    },
    {
     "name": "stderr",
     "output_type": "stream",
     "text": [
      "Greedy:  46%|████▌     | 23/50 [00:02<00:03,  7.91it/s]Warning: Player 'Greedy' cannot start at unreachable location 97, starting at closest cell (using Euclidean distance)\n",
      "Greedy:  48%|████▊     | 24/50 [00:03<00:03,  7.70it/s]"
     ]
    },
    {
     "name": "stdout",
     "output_type": "stream",
     "text": [
      "97\n",
      "[144, 141, 22, 21, 117, 18, 56, 163, 152]\n",
      "Postprocessing\n",
      "96\n",
      "[14, 86, 189, 67, 117, 183, 171, 90, 124]\n",
      "Postprocessing\n"
     ]
    },
    {
     "name": "stderr",
     "output_type": "stream",
     "text": [
      "Greedy:  52%|█████▏    | 26/50 [00:03<00:02,  8.05it/s]"
     ]
    },
    {
     "name": "stdout",
     "output_type": "stream",
     "text": [
      "97\n",
      "[27, 83, 146, 1, 105, 175, 160, 104, 188]\n",
      "Postprocessing\n",
      "97\n",
      "[53, 64, 13, 80, 41, 173, 0, 169, 102]\n",
      "Postprocessing\n",
      "97\n",
      "[111, 32, 99, 19, 30, 68, 49, 78, 75]\n"
     ]
    },
    {
     "name": "stderr",
     "output_type": "stream",
     "text": [
      "Greedy:  58%|█████▊    | 29/50 [00:03<00:02,  8.55it/s]"
     ]
    },
    {
     "name": "stdout",
     "output_type": "stream",
     "text": [
      "Postprocessing\n",
      "97\n",
      "[93, 110, 29, 62, 21, 90, 156, 111, 49]\n",
      "Postprocessing\n",
      "97\n",
      "[71, 123, 116, 73, 126, 110, 53, 158, 16]\n",
      "Postprocessing\n"
     ]
    },
    {
     "name": "stderr",
     "output_type": "stream",
     "text": [
      "Warning: Player 'Greedy' cannot start at unreachable location 97, starting at closest cell (using Euclidean distance)\n",
      "Greedy:  62%|██████▏   | 31/50 [00:03<00:02,  8.24it/s]"
     ]
    },
    {
     "name": "stdout",
     "output_type": "stream",
     "text": [
      "98\n",
      "[176, 51, 27, 128, 3, 42, 109, 66, 30]\n",
      "Postprocessing\n",
      "97\n",
      "[5, 62, 79, 115, 36, 182, 75, 160, 118]\n",
      "Postprocessing\n",
      "97\n",
      "[88, 130, 174, 165, 89, 28, 23, 26, 4]\n"
     ]
    },
    {
     "name": "stderr",
     "output_type": "stream",
     "text": [
      "Greedy:  66%|██████▌   | 33/50 [00:04<00:02,  8.42it/s]"
     ]
    },
    {
     "name": "stdout",
     "output_type": "stream",
     "text": [
      "Postprocessing\n",
      "97\n",
      "[8, 133, 44, 118, 59, 127, 45, 112, 188]\n",
      "Postprocessing\n",
      "97\n",
      "[34, 6, 116, 55, 188, 101, 98, 82, 71]\n"
     ]
    },
    {
     "name": "stderr",
     "output_type": "stream",
     "text": [
      "Warning: Player 'Greedy' cannot start at unreachable location 97, starting at closest cell (using Euclidean distance)\n",
      "Greedy:  72%|███████▏  | 36/50 [00:04<00:01,  8.78it/s]"
     ]
    },
    {
     "name": "stdout",
     "output_type": "stream",
     "text": [
      "Postprocessing\n",
      "81\n",
      "[6, 1, 186, 176, 177, 164, 150, 108, 155]\n",
      "Postprocessing\n",
      "97\n",
      "[117, 187, 61, 163, 8, 119, 46, 25, 78]\n",
      "Postprocessing\n"
     ]
    },
    {
     "name": "stderr",
     "output_type": "stream",
     "text": [
      "Greedy:  76%|███████▌  | 38/50 [00:04<00:01,  8.95it/s]"
     ]
    },
    {
     "name": "stdout",
     "output_type": "stream",
     "text": [
      "97\n",
      "[14, 7, 26, 154, 144, 16, 121, 34, 17]\n",
      "Postprocessing\n",
      "97\n",
      "[63, 59, 29, 169, 60, 92, 95, 139, 51]\n",
      "Postprocessing\n",
      "97\n",
      "[7, 121, 148, 186, 60, 87, 31, 172, 170]\n"
     ]
    },
    {
     "name": "stderr",
     "output_type": "stream",
     "text": [
      "Greedy:  80%|████████  | 40/50 [00:04<00:01,  8.89it/s]"
     ]
    },
    {
     "name": "stdout",
     "output_type": "stream",
     "text": [
      "Postprocessing\n",
      "97\n",
      "[66, 118, 158, 172, 101, 191, 149, 47, 182]\n",
      "Postprocessing\n"
     ]
    },
    {
     "name": "stderr",
     "output_type": "stream",
     "text": [
      "Greedy:  82%|████████▏ | 41/50 [00:05<00:01,  7.49it/s]"
     ]
    },
    {
     "name": "stdout",
     "output_type": "stream",
     "text": [
      "97\n",
      "[154, 8, 106, 178, 179, 46, 149, 27, 61]\n",
      "Postprocessing\n",
      "97\n",
      "[69, 43, 148, 163, 38, 103, 118, 0, 37]\n"
     ]
    },
    {
     "name": "stderr",
     "output_type": "stream",
     "text": [
      "Greedy:  86%|████████▌ | 43/50 [00:05<00:01,  6.59it/s]"
     ]
    },
    {
     "name": "stdout",
     "output_type": "stream",
     "text": [
      "Postprocessing\n",
      "97\n",
      "[153, 65, 53, 28, 178, 82, 108, 158, 171]\n",
      "Postprocessing\n"
     ]
    },
    {
     "name": "stderr",
     "output_type": "stream",
     "text": [
      "Warning: Player 'Greedy' cannot start at unreachable location 97, starting at closest cell (using Euclidean distance)\n",
      "Greedy:  90%|█████████ | 45/50 [00:05<00:00,  6.94it/s]"
     ]
    },
    {
     "name": "stdout",
     "output_type": "stream",
     "text": [
      "98\n",
      "[35, 27, 104, 186, 29, 169, 92, 25, 140]\n",
      "Postprocessing\n",
      "97\n",
      "[141, 55, 157, 159, 194, 40, 84, 158, 114]\n",
      "Postprocessing\n"
     ]
    },
    {
     "name": "stderr",
     "output_type": "stream",
     "text": [
      "Greedy:  94%|█████████▍| 47/50 [00:05<00:00,  7.42it/s]"
     ]
    },
    {
     "name": "stdout",
     "output_type": "stream",
     "text": [
      "97\n",
      "[125, 145, 72, 13, 85, 110, 37, 66, 189]\n",
      "Postprocessing\n",
      "97\n",
      "[48, 20, 121, 183, 73, 151, 36, 142, 75]\n",
      "Postprocessing\n"
     ]
    },
    {
     "name": "stderr",
     "output_type": "stream",
     "text": [
      "Greedy:  98%|█████████▊| 49/50 [00:06<00:00,  8.01it/s]"
     ]
    },
    {
     "name": "stdout",
     "output_type": "stream",
     "text": [
      "97\n",
      "[149, 114, 107, 47, 40, 136, 153, 92, 135]\n",
      "Postprocessing\n",
      "97\n",
      "[89, 135, 159, 167, 95, 148, 51, 14, 90]\n",
      "Postprocessing\n",
      "97\n",
      "[193, 29, 177, 127, 131, 118, 120, 143, 86]\n"
     ]
    },
    {
     "name": "stderr",
     "output_type": "stream",
     "text": [
      "Greedy: 100%|██████████| 50/50 [00:06<00:00,  7.99it/s]\n"
     ]
    },
    {
     "name": "stdout",
     "output_type": "stream",
     "text": [
      "Postprocessing\n"
     ]
    },
    {
     "name": "stderr",
     "output_type": "stream",
     "text": [
      "Greedy:   0%|          | 0/50 [00:00<?, ?it/s]Warning: Player 'Greedy' cannot start at unreachable location 97, starting at closest cell (using Euclidean distance)\n",
      "Greedy:   2%|▏         | 1/50 [00:00<00:05,  8.58it/s]"
     ]
    },
    {
     "name": "stdout",
     "output_type": "stream",
     "text": [
      "82\n",
      "[27, 62, 108, 192, 61, 175, 53, 12, 21, 14]\n",
      "Postprocessing\n",
      "97\n",
      "[145, 100, 173, 179, 137, 65, 135, 152, 49, 138]\n",
      "Postprocessing\n",
      "97\n",
      "[103, 165, 146, 100, 10, 181, 63, 151, 39, 23]\n"
     ]
    },
    {
     "name": "stderr",
     "output_type": "stream",
     "text": [
      "Greedy:   8%|▊         | 4/50 [00:00<00:05,  8.36it/s]"
     ]
    },
    {
     "name": "stdout",
     "output_type": "stream",
     "text": [
      "Postprocessing\n",
      "97\n",
      "[180, 163, 166, 7, 105, 100, 140, 37, 57, 151]\n",
      "Postprocessing\n"
     ]
    },
    {
     "name": "stderr",
     "output_type": "stream",
     "text": [
      "Greedy:  12%|█▏        | 6/50 [00:00<00:05,  7.98it/s]"
     ]
    },
    {
     "name": "stdout",
     "output_type": "stream",
     "text": [
      "97\n",
      "[16, 176, 178, 67, 115, 99, 49, 79, 66, 147]\n",
      "Postprocessing\n",
      "97\n",
      "[191, 13, 43, 17, 124, 111, 107, 85, 59, 92]\n",
      "Postprocessing\n"
     ]
    },
    {
     "name": "stderr",
     "output_type": "stream",
     "text": [
      "Greedy:  16%|█▌        | 8/50 [00:00<00:05,  8.04it/s]"
     ]
    },
    {
     "name": "stdout",
     "output_type": "stream",
     "text": [
      "97\n",
      "[79, 189, 131, 124, 41, 82, 30, 109, 78, 72]\n",
      "Postprocessing\n",
      "97\n",
      "[21, 25, 46, 165, 0, 72, 34, 126, 135, 149]\n",
      "Postprocessing\n"
     ]
    },
    {
     "name": "stderr",
     "output_type": "stream",
     "text": [
      "Greedy:  20%|██        | 10/50 [00:01<00:04,  8.21it/s]"
     ]
    },
    {
     "name": "stdout",
     "output_type": "stream",
     "text": [
      "97\n",
      "[8, 50, 158, 180, 186, 61, 106, 167, 45, 111]\n",
      "Postprocessing\n",
      "97\n",
      "[180, 89, 118, 157, 85, 112, 177, 39, 113, 95]\n",
      "Postprocessing\n",
      "97\n",
      "[1, 72, 36, 57, 50, 187, 105, 73, 161, 77]\n"
     ]
    },
    {
     "name": "stderr",
     "output_type": "stream",
     "text": [
      "Greedy:  22%|██▏       | 11/50 [00:01<00:04,  8.62it/s]Warning: Player 'Greedy' cannot start at unreachable location 97, starting at closest cell (using Euclidean distance)\n",
      "Greedy:  24%|██▍       | 12/50 [00:01<00:04,  8.05it/s]"
     ]
    },
    {
     "name": "stdout",
     "output_type": "stream",
     "text": [
      "Postprocessing\n",
      "82\n",
      "[4, 135, 50, 193, 123, 5, 131, 22, 138, 147]\n",
      "Postprocessing\n"
     ]
    },
    {
     "name": "stderr",
     "output_type": "stream",
     "text": [
      "Warning: Player 'Greedy' cannot start at unreachable location 97, starting at closest cell (using Euclidean distance)\n",
      "Greedy:  28%|██▊       | 14/50 [00:01<00:04,  8.16it/s]"
     ]
    },
    {
     "name": "stdout",
     "output_type": "stream",
     "text": [
      "82\n",
      "[138, 14, 125, 43, 35, 101, 123, 21, 65, 181]\n",
      "Postprocessing\n",
      "97\n",
      "[179, 157, 82, 37, 151, 33, 153, 173, 171, 93]\n",
      "Postprocessing\n",
      "97\n",
      "[140, 148, 7, 172, 78, 5, 162, 104, 111, 183]\n",
      "Postprocessing\n"
     ]
    },
    {
     "name": "stderr",
     "output_type": "stream",
     "text": [
      "Greedy:  32%|███▏      | 16/50 [00:01<00:04,  8.30it/s]"
     ]
    },
    {
     "name": "stdout",
     "output_type": "stream",
     "text": [
      "97\n",
      "[10, 160, 127, 141, 131, 54, 100, 29, 128, 53]\n",
      "Postprocessing\n",
      "112\n",
      "[47, 102, 34, 147, 161, 177, 63, 23, 136, 56]\n",
      "Postprocessing\n"
     ]
    },
    {
     "name": "stderr",
     "output_type": "stream",
     "text": [
      "Warning: Player 'Greedy' cannot start at unreachable location 97, starting at closest cell (using Euclidean distance)\n",
      "Greedy:  36%|███▌      | 18/50 [00:02<00:05,  5.43it/s]"
     ]
    },
    {
     "name": "stdout",
     "output_type": "stream",
     "text": [
      "97\n",
      "[191, 67, 161, 5, 63, 95, 175, 179, 25, 119]\n",
      "Postprocessing\n"
     ]
    },
    {
     "name": "stderr",
     "output_type": "stream",
     "text": [
      "Warning: Player 'Greedy' cannot start at unreachable location 97, starting at closest cell (using Euclidean distance)\n",
      "Greedy:  38%|███▊      | 19/50 [00:02<00:06,  4.55it/s]"
     ]
    },
    {
     "name": "stdout",
     "output_type": "stream",
     "text": [
      "111\n",
      "[42, 4, 23, 36, 134, 6, 7, 84, 116, 71]\n",
      "Postprocessing\n",
      "97\n",
      "[7, 148, 101, 44, 191, 178, 34, 156, 153, 175]\n"
     ]
    },
    {
     "name": "stderr",
     "output_type": "stream",
     "text": [
      "Greedy:  40%|████      | 20/50 [00:02<00:06,  4.86it/s]"
     ]
    },
    {
     "name": "stdout",
     "output_type": "stream",
     "text": [
      "Postprocessing\n"
     ]
    },
    {
     "name": "stderr",
     "output_type": "stream",
     "text": [
      "Warning: Player 'Greedy' cannot start at unreachable location 97, starting at closest cell (using Euclidean distance)\n",
      "Greedy:  42%|████▏     | 21/50 [00:03<00:06,  4.61it/s]Warning: Player 'Greedy' cannot start at unreachable location 97, starting at closest cell (using Euclidean distance)\n",
      "Greedy:  44%|████▍     | 22/50 [00:03<00:05,  5.20it/s]"
     ]
    },
    {
     "name": "stdout",
     "output_type": "stream",
     "text": [
      "82\n",
      "[71, 133, 165, 94, 11, 159, 80, 115, 75, 169]\n",
      "Postprocessing\n",
      "82\n",
      "[72, 105, 18, 57, 164, 139, 50, 136, 55, 49]\n",
      "Postprocessing\n",
      "97\n",
      "[144, 141, 22, 21, 117, 18, 56, 163, 152, 116]\n"
     ]
    },
    {
     "name": "stderr",
     "output_type": "stream",
     "text": [
      "Greedy:  46%|████▌     | 23/50 [00:03<00:04,  5.93it/s]Warning: Player 'Greedy' cannot start at unreachable location 97, starting at closest cell (using Euclidean distance)\n",
      "Greedy:  48%|████▊     | 24/50 [00:03<00:04,  6.11it/s]"
     ]
    },
    {
     "name": "stdout",
     "output_type": "stream",
     "text": [
      "Postprocessing\n",
      "96\n",
      "[14, 86, 189, 67, 117, 183, 171, 90, 124, 80]\n",
      "Postprocessing\n"
     ]
    },
    {
     "name": "stderr",
     "output_type": "stream",
     "text": [
      "Greedy:  52%|█████▏    | 26/50 [00:03<00:03,  6.45it/s]"
     ]
    },
    {
     "name": "stdout",
     "output_type": "stream",
     "text": [
      "97\n",
      "[27, 83, 146, 1, 105, 175, 160, 104, 188, 159]\n",
      "Postprocessing\n",
      "97\n",
      "[53, 64, 13, 80, 41, 173, 0, 169, 102, 133]\n",
      "Postprocessing\n"
     ]
    },
    {
     "name": "stderr",
     "output_type": "stream",
     "text": [
      "Greedy:  58%|█████▊    | 29/50 [00:04<00:02,  7.89it/s]"
     ]
    },
    {
     "name": "stdout",
     "output_type": "stream",
     "text": [
      "97\n",
      "[111, 32, 99, 19, 30, 68, 49, 78, 75, 36]\n",
      "Postprocessing\n",
      "97\n",
      "[93, 110, 29, 62, 21, 90, 156, 111, 49, 34]\n",
      "Postprocessing\n",
      "97\n",
      "[71, 123, 116, 73, 126, 110, 53, 158, 16, 173]\n",
      "Postprocessing\n"
     ]
    },
    {
     "name": "stderr",
     "output_type": "stream",
     "text": [
      "Warning: Player 'Greedy' cannot start at unreachable location 97, starting at closest cell (using Euclidean distance)\n",
      "Greedy:  60%|██████    | 30/50 [00:04<00:03,  6.62it/s]"
     ]
    },
    {
     "name": "stdout",
     "output_type": "stream",
     "text": [
      "98\n",
      "[176, 51, 27, 128, 3, 42, 109, 66, 30, 157]\n",
      "Postprocessing\n"
     ]
    },
    {
     "name": "stderr",
     "output_type": "stream",
     "text": [
      "Greedy:  64%|██████▍   | 32/50 [00:04<00:03,  5.72it/s]"
     ]
    },
    {
     "name": "stdout",
     "output_type": "stream",
     "text": [
      "97\n",
      "[5, 62, 79, 115, 36, 182, 75, 160, 118, 143]\n",
      "Postprocessing\n",
      "97\n",
      "[88, 130, 174, 165, 89, 28, 23, 26, 4, 115]\n",
      "Postprocessing\n"
     ]
    },
    {
     "name": "stderr",
     "output_type": "stream",
     "text": [
      "Greedy:  68%|██████▊   | 34/50 [00:05<00:02,  5.48it/s]"
     ]
    },
    {
     "name": "stdout",
     "output_type": "stream",
     "text": [
      "97\n",
      "[8, 133, 44, 118, 59, 127, 45, 112, 188, 191]\n",
      "Postprocessing\n",
      "97\n",
      "[34, 6, 116, 55, 188, 101, 98, 82, 71, 106]\n",
      "Postprocessing\n"
     ]
    },
    {
     "name": "stderr",
     "output_type": "stream",
     "text": [
      "Warning: Player 'Greedy' cannot start at unreachable location 97, starting at closest cell (using Euclidean distance)\n",
      "Greedy:  70%|███████   | 35/50 [00:05<00:02,  5.49it/s]"
     ]
    },
    {
     "name": "stdout",
     "output_type": "stream",
     "text": [
      "81\n",
      "[6, 1, 186, 176, 177, 164, 150, 108, 155, 135]\n",
      "Postprocessing\n"
     ]
    },
    {
     "name": "stderr",
     "output_type": "stream",
     "text": [
      "Greedy:  74%|███████▍  | 37/50 [00:05<00:02,  5.97it/s]"
     ]
    },
    {
     "name": "stdout",
     "output_type": "stream",
     "text": [
      "97\n",
      "[117, 187, 61, 163, 8, 119, 46, 25, 78, 124]\n",
      "Postprocessing\n",
      "97\n",
      "[14, 7, 26, 154, 144, 16, 121, 34, 17, 170]\n",
      "Postprocessing\n",
      "97\n",
      "[63, 59, 29, 169, 60, 92, 95, 139, 51, 61]\n",
      "Postprocessing\n"
     ]
    },
    {
     "name": "stderr",
     "output_type": "stream",
     "text": [
      "Greedy:  80%|████████  | 40/50 [00:06<00:01,  7.74it/s]"
     ]
    },
    {
     "name": "stdout",
     "output_type": "stream",
     "text": [
      "97\n",
      "[7, 121, 148, 186, 60, 87, 31, 172, 170, 75]\n",
      "Postprocessing\n",
      "97\n",
      "[66, 118, 158, 172, 101, 191, 149, 47, 182, 125]\n",
      "Postprocessing\n",
      "97\n",
      "[154, 8, 106, 178, 179, 46, 149, 27, 61, 150]\n"
     ]
    },
    {
     "name": "stderr",
     "output_type": "stream",
     "text": [
      "Greedy:  86%|████████▌ | 43/50 [00:06<00:00,  8.82it/s]"
     ]
    },
    {
     "name": "stdout",
     "output_type": "stream",
     "text": [
      "Postprocessing\n",
      "97\n",
      "[69, 43, 148, 163, 38, 103, 118, 0, 37, 76]\n",
      "Postprocessing\n",
      "97\n",
      "[153, 65, 53, 28, 178, 82, 108, 158, 171, 138]\n",
      "Postprocessing\n"
     ]
    },
    {
     "name": "stderr",
     "output_type": "stream",
     "text": [
      "Warning: Player 'Greedy' cannot start at unreachable location 97, starting at closest cell (using Euclidean distance)\n",
      "Greedy:  92%|█████████▏| 46/50 [00:06<00:00,  9.25it/s]"
     ]
    },
    {
     "name": "stdout",
     "output_type": "stream",
     "text": [
      "98\n",
      "[35, 27, 104, 186, 29, 169, 92, 25, 140, 72]\n",
      "Postprocessing\n",
      "97\n",
      "[141, 55, 157, 159, 194, 40, 84, 158, 114, 139]\n",
      "Postprocessing\n",
      "97\n",
      "[125, 145, 72, 13, 85, 110, 37, 66, 189, 79]\n",
      "Postprocessing\n"
     ]
    },
    {
     "name": "stderr",
     "output_type": "stream",
     "text": [
      "Greedy:  98%|█████████▊| 49/50 [00:07<00:00,  9.03it/s]"
     ]
    },
    {
     "name": "stdout",
     "output_type": "stream",
     "text": [
      "97\n",
      "[48, 20, 121, 183, 73, 151, 36, 142, 75, 109]\n",
      "Postprocessing\n",
      "97\n",
      "[149, 114, 107, 47, 40, 136, 153, 92, 135, 12]\n",
      "Postprocessing\n",
      "97\n",
      "[89, 135, 159, 167, 95, 148, 51, 14, 90, 70]\n",
      "Postprocessing\n"
     ]
    },
    {
     "name": "stderr",
     "output_type": "stream",
     "text": [
      "Greedy: 100%|██████████| 50/50 [00:07<00:00,  7.03it/s]\n"
     ]
    },
    {
     "name": "stdout",
     "output_type": "stream",
     "text": [
      "97\n",
      "[193, 29, 177, 127, 131, 118, 120, 143, 86, 160]\n",
      "Postprocessing\n"
     ]
    },
    {
     "name": "stderr",
     "output_type": "stream",
     "text": [
      "Backtracking:   0%|          | 0/50 [00:00<?, ?it/s]"
     ]
    },
    {
     "name": "stdout",
     "output_type": "stream",
     "text": [
      "Postprocessing\n"
     ]
    },
    {
     "name": "stderr",
     "output_type": "stream",
     "text": [
      "Warning: Player 'Backtracking' cannot start at unreachable location 97, starting at closest cell (using Euclidean distance)\n",
      "Backtracking:   4%|▍         | 2/50 [00:00<00:04, 10.05it/s]"
     ]
    },
    {
     "name": "stdout",
     "output_type": "stream",
     "text": [
      "Postprocessing\n",
      "Postprocessing\n"
     ]
    },
    {
     "name": "stderr",
     "output_type": "stream",
     "text": [
      "Backtracking:   8%|▊         | 4/50 [00:00<00:04, 10.88it/s]"
     ]
    },
    {
     "name": "stdout",
     "output_type": "stream",
     "text": [
      "Postprocessing\n",
      "Postprocessing\n"
     ]
    },
    {
     "name": "stderr",
     "output_type": "stream",
     "text": [
      "Backtracking:  12%|█▏        | 6/50 [00:00<00:03, 11.48it/s]"
     ]
    },
    {
     "name": "stdout",
     "output_type": "stream",
     "text": [
      "Postprocessing\n",
      "Postprocessing\n",
      "Postprocessing\n"
     ]
    },
    {
     "name": "stderr",
     "output_type": "stream",
     "text": [
      "Backtracking:  16%|█▌        | 8/50 [00:00<00:04, 10.34it/s]"
     ]
    },
    {
     "name": "stdout",
     "output_type": "stream",
     "text": [
      "Postprocessing\n",
      "Postprocessing\n"
     ]
    },
    {
     "name": "stderr",
     "output_type": "stream",
     "text": [
      "Backtracking:  20%|██        | 10/50 [00:00<00:03, 11.54it/s]"
     ]
    },
    {
     "name": "stdout",
     "output_type": "stream",
     "text": [
      "Postprocessing\n"
     ]
    },
    {
     "name": "stderr",
     "output_type": "stream",
     "text": [
      "Warning: Player 'Backtracking' cannot start at unreachable location 97, starting at closest cell (using Euclidean distance)\n",
      "Backtracking:  24%|██▍       | 12/50 [00:01<00:03, 11.93it/s]"
     ]
    },
    {
     "name": "stdout",
     "output_type": "stream",
     "text": [
      "Postprocessing\n",
      "Postprocessing\n"
     ]
    },
    {
     "name": "stderr",
     "output_type": "stream",
     "text": [
      "Warning: Player 'Backtracking' cannot start at unreachable location 97, starting at closest cell (using Euclidean distance)\n",
      "Backtracking:  28%|██▊       | 14/50 [00:01<00:03, 11.95it/s]"
     ]
    },
    {
     "name": "stdout",
     "output_type": "stream",
     "text": [
      "Postprocessing\n",
      "Postprocessing\n"
     ]
    },
    {
     "name": "stderr",
     "output_type": "stream",
     "text": [
      "Backtracking:  32%|███▏      | 16/50 [00:01<00:02, 12.43it/s]"
     ]
    },
    {
     "name": "stdout",
     "output_type": "stream",
     "text": [
      "Postprocessing\n",
      "Postprocessing\n"
     ]
    },
    {
     "name": "stderr",
     "output_type": "stream",
     "text": [
      "Warning: Player 'Backtracking' cannot start at unreachable location 97, starting at closest cell (using Euclidean distance)\n",
      "Backtracking:  36%|███▌      | 18/50 [00:01<00:02, 11.36it/s]"
     ]
    },
    {
     "name": "stdout",
     "output_type": "stream",
     "text": [
      "Postprocessing\n"
     ]
    },
    {
     "name": "stderr",
     "output_type": "stream",
     "text": [
      "Warning: Player 'Backtracking' cannot start at unreachable location 97, starting at closest cell (using Euclidean distance)\n",
      "Backtracking:  40%|████      | 20/50 [00:01<00:03,  8.37it/s]"
     ]
    },
    {
     "name": "stdout",
     "output_type": "stream",
     "text": [
      "Postprocessing\n",
      "Postprocessing\n"
     ]
    },
    {
     "name": "stderr",
     "output_type": "stream",
     "text": [
      "Warning: Player 'Backtracking' cannot start at unreachable location 97, starting at closest cell (using Euclidean distance)\n",
      "Backtracking:  42%|████▏     | 21/50 [00:02<00:03,  7.29it/s]"
     ]
    },
    {
     "name": "stdout",
     "output_type": "stream",
     "text": [
      "Postprocessing\n"
     ]
    },
    {
     "name": "stderr",
     "output_type": "stream",
     "text": [
      "Warning: Player 'Backtracking' cannot start at unreachable location 97, starting at closest cell (using Euclidean distance)\n",
      "Backtracking:  46%|████▌     | 23/50 [00:02<00:03,  6.84it/s]Warning: Player 'Backtracking' cannot start at unreachable location 97, starting at closest cell (using Euclidean distance)\n"
     ]
    },
    {
     "name": "stdout",
     "output_type": "stream",
     "text": [
      "Postprocessing\n",
      "Postprocessing\n",
      "Postprocessing\n"
     ]
    },
    {
     "name": "stderr",
     "output_type": "stream",
     "text": [
      "Backtracking:  54%|█████▍    | 27/50 [00:02<00:02, 10.17it/s]"
     ]
    },
    {
     "name": "stdout",
     "output_type": "stream",
     "text": [
      "Postprocessing\n",
      "Postprocessing\n",
      "Postprocessing\n",
      "Postprocessing\n"
     ]
    },
    {
     "name": "stderr",
     "output_type": "stream",
     "text": [
      "Backtracking:  58%|█████▊    | 29/50 [00:02<00:01, 11.51it/s]Warning: Player 'Backtracking' cannot start at unreachable location 97, starting at closest cell (using Euclidean distance)\n",
      "Backtracking:  62%|██████▏   | 31/50 [00:03<00:01, 11.81it/s]"
     ]
    },
    {
     "name": "stdout",
     "output_type": "stream",
     "text": [
      "Postprocessing\n",
      "Postprocessing\n",
      "Postprocessing\n"
     ]
    },
    {
     "name": "stderr",
     "output_type": "stream",
     "text": [
      "Backtracking:  66%|██████▌   | 33/50 [00:03<00:01, 12.44it/s]Warning: Player 'Backtracking' cannot start at unreachable location 97, starting at closest cell (using Euclidean distance)\n",
      "Backtracking:  70%|███████   | 35/50 [00:03<00:01, 12.96it/s]"
     ]
    },
    {
     "name": "stdout",
     "output_type": "stream",
     "text": [
      "Postprocessing\n",
      "Postprocessing\n",
      "Postprocessing\n",
      "Postprocessing\n"
     ]
    },
    {
     "name": "stderr",
     "output_type": "stream",
     "text": [
      "Backtracking:  74%|███████▍  | 37/50 [00:03<00:01, 12.90it/s]"
     ]
    },
    {
     "name": "stdout",
     "output_type": "stream",
     "text": [
      "Postprocessing\n",
      "Postprocessing\n",
      "Postprocessing\n",
      "Postprocessing\n"
     ]
    },
    {
     "name": "stderr",
     "output_type": "stream",
     "text": [
      "Backtracking:  86%|████████▌ | 43/50 [00:03<00:00, 13.21it/s]"
     ]
    },
    {
     "name": "stdout",
     "output_type": "stream",
     "text": [
      "Postprocessing\n",
      "Postprocessing\n",
      "Postprocessing\n",
      "Postprocessing\n"
     ]
    },
    {
     "name": "stderr",
     "output_type": "stream",
     "text": [
      "Warning: Player 'Backtracking' cannot start at unreachable location 97, starting at closest cell (using Euclidean distance)\n",
      "Backtracking:  94%|█████████▍| 47/50 [00:04<00:00, 13.47it/s]"
     ]
    },
    {
     "name": "stdout",
     "output_type": "stream",
     "text": [
      "Postprocessing\n",
      "Postprocessing\n",
      "Postprocessing\n",
      "Postprocessing\n"
     ]
    },
    {
     "name": "stderr",
     "output_type": "stream",
     "text": [
      "Backtracking: 100%|██████████| 50/50 [00:04<00:00, 11.12it/s]\n"
     ]
    },
    {
     "name": "stdout",
     "output_type": "stream",
     "text": [
      "Postprocessing\n",
      "Postprocessing\n",
      "Postprocessing\n"
     ]
    },
    {
     "name": "stderr",
     "output_type": "stream",
     "text": [
      "Backtracking:   0%|          | 0/50 [00:00<?, ?it/s]Warning: Player 'Backtracking' cannot start at unreachable location 97, starting at closest cell (using Euclidean distance)\n",
      "Backtracking:   4%|▍         | 2/50 [00:00<00:04, 11.75it/s]"
     ]
    },
    {
     "name": "stdout",
     "output_type": "stream",
     "text": [
      "Postprocessing\n",
      "Postprocessing\n",
      "Postprocessing\n"
     ]
    },
    {
     "name": "stderr",
     "output_type": "stream",
     "text": [
      "Backtracking:  12%|█▏        | 6/50 [00:00<00:03, 11.10it/s]"
     ]
    },
    {
     "name": "stdout",
     "output_type": "stream",
     "text": [
      "Postprocessing\n",
      "Postprocessing\n",
      "Postprocessing\n"
     ]
    },
    {
     "name": "stderr",
     "output_type": "stream",
     "text": [
      "Backtracking:  20%|██        | 10/50 [00:00<00:03, 11.71it/s]"
     ]
    },
    {
     "name": "stdout",
     "output_type": "stream",
     "text": [
      "Postprocessing\n",
      "Postprocessing\n",
      "Postprocessing\n",
      "Postprocessing\n",
      "Postprocessing\n"
     ]
    },
    {
     "name": "stderr",
     "output_type": "stream",
     "text": [
      "Warning: Player 'Backtracking' cannot start at unreachable location 97, starting at closest cell (using Euclidean distance)\n",
      "Backtracking:  24%|██▍       | 12/50 [00:01<00:03, 11.68it/s]Warning: Player 'Backtracking' cannot start at unreachable location 97, starting at closest cell (using Euclidean distance)\n",
      "Backtracking:  28%|██▊       | 14/50 [00:01<00:03, 11.52it/s]"
     ]
    },
    {
     "name": "stdout",
     "output_type": "stream",
     "text": [
      "Postprocessing\n",
      "Postprocessing\n",
      "Postprocessing\n"
     ]
    },
    {
     "name": "stderr",
     "output_type": "stream",
     "text": [
      "Backtracking:  32%|███▏      | 16/50 [00:01<00:03, 10.64it/s]"
     ]
    },
    {
     "name": "stdout",
     "output_type": "stream",
     "text": [
      "Postprocessing\n",
      "Postprocessing\n",
      "Postprocessing\n"
     ]
    },
    {
     "name": "stderr",
     "output_type": "stream",
     "text": [
      "Warning: Player 'Backtracking' cannot start at unreachable location 97, starting at closest cell (using Euclidean distance)\n",
      "Backtracking:  36%|███▌      | 18/50 [00:01<00:02, 10.98it/s]Warning: Player 'Backtracking' cannot start at unreachable location 97, starting at closest cell (using Euclidean distance)\n",
      "Backtracking:  40%|████      | 20/50 [00:01<00:02, 11.36it/s]"
     ]
    },
    {
     "name": "stdout",
     "output_type": "stream",
     "text": [
      "Postprocessing\n",
      "Postprocessing\n",
      "Postprocessing\n",
      "Postprocessing\n"
     ]
    },
    {
     "name": "stderr",
     "output_type": "stream",
     "text": [
      "Warning: Player 'Backtracking' cannot start at unreachable location 97, starting at closest cell (using Euclidean distance)\n",
      "Warning: Player 'Backtracking' cannot start at unreachable location 97, starting at closest cell (using Euclidean distance)\n",
      "Backtracking:  44%|████▍     | 22/50 [00:01<00:02, 12.00it/s]Warning: Player 'Backtracking' cannot start at unreachable location 97, starting at closest cell (using Euclidean distance)\n",
      "Backtracking:  48%|████▊     | 24/50 [00:02<00:02, 12.50it/s]"
     ]
    },
    {
     "name": "stdout",
     "output_type": "stream",
     "text": [
      "Postprocessing\n",
      "Postprocessing\n",
      "Postprocessing\n",
      "Postprocessing\n"
     ]
    },
    {
     "name": "stderr",
     "output_type": "stream",
     "text": [
      "Backtracking:  56%|█████▌    | 28/50 [00:02<00:01, 12.82it/s]"
     ]
    },
    {
     "name": "stdout",
     "output_type": "stream",
     "text": [
      "Postprocessing\n",
      "Postprocessing\n",
      "Postprocessing\n",
      "Postprocessing\n"
     ]
    },
    {
     "name": "stderr",
     "output_type": "stream",
     "text": [
      "Warning: Player 'Backtracking' cannot start at unreachable location 97, starting at closest cell (using Euclidean distance)\n",
      "Backtracking:  64%|██████▍   | 32/50 [00:02<00:01, 12.51it/s]"
     ]
    },
    {
     "name": "stdout",
     "output_type": "stream",
     "text": [
      "Postprocessing\n",
      "Postprocessing\n",
      "Postprocessing\n",
      "Postprocessing\n"
     ]
    },
    {
     "name": "stderr",
     "output_type": "stream",
     "text": [
      "Backtracking:  68%|██████▊   | 34/50 [00:02<00:01, 12.42it/s]Warning: Player 'Backtracking' cannot start at unreachable location 97, starting at closest cell (using Euclidean distance)\n",
      "Backtracking:  72%|███████▏  | 36/50 [00:03<00:01, 12.37it/s]"
     ]
    },
    {
     "name": "stdout",
     "output_type": "stream",
     "text": [
      "Postprocessing\n",
      "Postprocessing\n",
      "Postprocessing\n",
      "Postprocessing\n"
     ]
    },
    {
     "name": "stderr",
     "output_type": "stream",
     "text": [
      "Backtracking:  80%|████████  | 40/50 [00:03<00:00, 11.80it/s]"
     ]
    },
    {
     "name": "stdout",
     "output_type": "stream",
     "text": [
      "Postprocessing\n",
      "Postprocessing\n",
      "Postprocessing\n"
     ]
    },
    {
     "name": "stderr",
     "output_type": "stream",
     "text": [
      "Backtracking:  84%|████████▍ | 42/50 [00:03<00:00, 10.40it/s]"
     ]
    },
    {
     "name": "stdout",
     "output_type": "stream",
     "text": [
      "Postprocessing\n",
      "Postprocessing\n",
      "Postprocessing\n"
     ]
    },
    {
     "name": "stderr",
     "output_type": "stream",
     "text": [
      "Warning: Player 'Backtracking' cannot start at unreachable location 97, starting at closest cell (using Euclidean distance)\n",
      "Backtracking:  88%|████████▊ | 44/50 [00:04<00:00,  7.32it/s]"
     ]
    },
    {
     "name": "stdout",
     "output_type": "stream",
     "text": [
      "Postprocessing\n"
     ]
    },
    {
     "name": "stderr",
     "output_type": "stream",
     "text": [
      "Backtracking:  90%|█████████ | 45/50 [00:04<00:00,  6.10it/s]"
     ]
    },
    {
     "name": "stdout",
     "output_type": "stream",
     "text": [
      "Postprocessing\n"
     ]
    },
    {
     "name": "stderr",
     "output_type": "stream",
     "text": [
      "Backtracking:  92%|█████████▏| 46/50 [00:04<00:00,  5.49it/s]"
     ]
    },
    {
     "name": "stdout",
     "output_type": "stream",
     "text": [
      "Postprocessing\n",
      "Postprocessing\n",
      "Postprocessing\n"
     ]
    },
    {
     "name": "stderr",
     "output_type": "stream",
     "text": [
      "Backtracking:  98%|█████████▊| 49/50 [00:05<00:00,  5.94it/s]"
     ]
    },
    {
     "name": "stdout",
     "output_type": "stream",
     "text": [
      "Postprocessing\n"
     ]
    },
    {
     "name": "stderr",
     "output_type": "stream",
     "text": [
      "Backtracking: 100%|██████████| 50/50 [00:05<00:00,  9.41it/s]\n"
     ]
    },
    {
     "name": "stdout",
     "output_type": "stream",
     "text": [
      "Postprocessing\n"
     ]
    },
    {
     "name": "stderr",
     "output_type": "stream",
     "text": [
      "Backtracking:   0%|          | 0/50 [00:00<?, ?it/s]Warning: Player 'Backtracking' cannot start at unreachable location 97, starting at closest cell (using Euclidean distance)\n",
      "Backtracking:   4%|▍         | 2/50 [00:00<00:09,  4.98it/s]"
     ]
    },
    {
     "name": "stdout",
     "output_type": "stream",
     "text": [
      "Postprocessing\n",
      "Postprocessing\n",
      "Postprocessing\n"
     ]
    },
    {
     "name": "stderr",
     "output_type": "stream",
     "text": [
      "Backtracking:  10%|█         | 5/50 [00:00<00:06,  6.78it/s]"
     ]
    },
    {
     "name": "stdout",
     "output_type": "stream",
     "text": [
      "Postprocessing\n",
      "Postprocessing\n"
     ]
    },
    {
     "name": "stderr",
     "output_type": "stream",
     "text": [
      "Backtracking:  14%|█▍        | 7/50 [00:01<00:05,  8.04it/s]"
     ]
    },
    {
     "name": "stdout",
     "output_type": "stream",
     "text": [
      "Postprocessing\n",
      "Postprocessing\n",
      "Postprocessing\n"
     ]
    },
    {
     "name": "stderr",
     "output_type": "stream",
     "text": [
      "Backtracking:  18%|█▊        | 9/50 [00:01<00:04,  9.07it/s]"
     ]
    },
    {
     "name": "stdout",
     "output_type": "stream",
     "text": [
      "Postprocessing\n",
      "Postprocessing\n",
      "Postprocessing\n"
     ]
    },
    {
     "name": "stderr",
     "output_type": "stream",
     "text": [
      "Backtracking:  22%|██▏       | 11/50 [00:01<00:04,  9.40it/s]Warning: Player 'Backtracking' cannot start at unreachable location 97, starting at closest cell (using Euclidean distance)\n",
      "Backtracking:  24%|██▍       | 12/50 [00:01<00:04,  9.14it/s]Warning: Player 'Backtracking' cannot start at unreachable location 97, starting at closest cell (using Euclidean distance)\n",
      "Backtracking:  28%|██▊       | 14/50 [00:01<00:03, 10.04it/s]"
     ]
    },
    {
     "name": "stdout",
     "output_type": "stream",
     "text": [
      "Postprocessing\n",
      "Postprocessing\n",
      "Postprocessing\n"
     ]
    },
    {
     "name": "stderr",
     "output_type": "stream",
     "text": [
      "Backtracking:  32%|███▏      | 16/50 [00:01<00:03, 10.81it/s]Warning: Player 'Backtracking' cannot start at unreachable location 97, starting at closest cell (using Euclidean distance)\n"
     ]
    },
    {
     "name": "stdout",
     "output_type": "stream",
     "text": [
      "Postprocessing\n",
      "Postprocessing\n"
     ]
    },
    {
     "name": "stderr",
     "output_type": "stream",
     "text": [
      "Backtracking:  36%|███▌      | 18/50 [00:02<00:03, 10.10it/s]Warning: Player 'Backtracking' cannot start at unreachable location 97, starting at closest cell (using Euclidean distance)\n"
     ]
    },
    {
     "name": "stdout",
     "output_type": "stream",
     "text": [
      "Postprocessing\n",
      "Postprocessing\n",
      "Postprocessing\n"
     ]
    },
    {
     "name": "stderr",
     "output_type": "stream",
     "text": [
      "Backtracking:  40%|████      | 20/50 [00:02<00:02, 10.73it/s]Warning: Player 'Backtracking' cannot start at unreachable location 97, starting at closest cell (using Euclidean distance)\n",
      "Warning: Player 'Backtracking' cannot start at unreachable location 97, starting at closest cell (using Euclidean distance)\n",
      "Backtracking:  44%|████▍     | 22/50 [00:02<00:02, 11.01it/s]"
     ]
    },
    {
     "name": "stdout",
     "output_type": "stream",
     "text": [
      "Postprocessing\n",
      "Postprocessing\n",
      "Postprocessing\n"
     ]
    },
    {
     "name": "stderr",
     "output_type": "stream",
     "text": [
      "Warning: Player 'Backtracking' cannot start at unreachable location 97, starting at closest cell (using Euclidean distance)\n",
      "Backtracking:  48%|████▊     | 24/50 [00:02<00:02, 10.88it/s]"
     ]
    },
    {
     "name": "stdout",
     "output_type": "stream",
     "text": [
      "Postprocessing\n",
      "Postprocessing\n"
     ]
    },
    {
     "name": "stderr",
     "output_type": "stream",
     "text": [
      "Backtracking:  52%|█████▏    | 26/50 [00:02<00:02, 10.31it/s]"
     ]
    },
    {
     "name": "stdout",
     "output_type": "stream",
     "text": [
      "Postprocessing\n",
      "Postprocessing\n",
      "Postprocessing\n"
     ]
    },
    {
     "name": "stderr",
     "output_type": "stream",
     "text": [
      "Backtracking:  56%|█████▌    | 28/50 [00:02<00:01, 11.02it/s]Warning: Player 'Backtracking' cannot start at unreachable location 97, starting at closest cell (using Euclidean distance)\n",
      "Backtracking:  60%|██████    | 30/50 [00:03<00:01, 11.29it/s]"
     ]
    },
    {
     "name": "stdout",
     "output_type": "stream",
     "text": [
      "Postprocessing\n",
      "Postprocessing\n",
      "Postprocessing\n"
     ]
    },
    {
     "name": "stderr",
     "output_type": "stream",
     "text": [
      "Backtracking:  68%|██████▊   | 34/50 [00:03<00:01, 12.32it/s]"
     ]
    },
    {
     "name": "stdout",
     "output_type": "stream",
     "text": [
      "Postprocessing\n",
      "Postprocessing\n",
      "Postprocessing\n",
      "Postprocessing\n"
     ]
    },
    {
     "name": "stderr",
     "output_type": "stream",
     "text": [
      "Warning: Player 'Backtracking' cannot start at unreachable location 97, starting at closest cell (using Euclidean distance)\n",
      "Backtracking:  72%|███████▏  | 36/50 [00:03<00:01, 11.92it/s]"
     ]
    },
    {
     "name": "stdout",
     "output_type": "stream",
     "text": [
      "Postprocessing\n",
      "Postprocessing\n",
      "Postprocessing\n"
     ]
    },
    {
     "name": "stderr",
     "output_type": "stream",
     "text": [
      "Backtracking:  80%|████████  | 40/50 [00:03<00:00, 11.51it/s]"
     ]
    },
    {
     "name": "stdout",
     "output_type": "stream",
     "text": [
      "Postprocessing\n",
      "Postprocessing\n",
      "Postprocessing\n"
     ]
    },
    {
     "name": "stderr",
     "output_type": "stream",
     "text": [
      "Backtracking:  84%|████████▍ | 42/50 [00:04<00:00, 11.91it/s]"
     ]
    },
    {
     "name": "stdout",
     "output_type": "stream",
     "text": [
      "Postprocessing\n",
      "Postprocessing\n",
      "Postprocessing\n"
     ]
    },
    {
     "name": "stderr",
     "output_type": "stream",
     "text": [
      "Warning: Player 'Backtracking' cannot start at unreachable location 97, starting at closest cell (using Euclidean distance)\n",
      "Backtracking:  88%|████████▊ | 44/50 [00:04<00:00, 12.21it/s]"
     ]
    },
    {
     "name": "stdout",
     "output_type": "stream",
     "text": [
      "Postprocessing\n",
      "Postprocessing\n"
     ]
    },
    {
     "name": "stderr",
     "output_type": "stream",
     "text": [
      "Backtracking:  92%|█████████▏| 46/50 [00:04<00:00, 10.91it/s]"
     ]
    },
    {
     "name": "stdout",
     "output_type": "stream",
     "text": [
      "Postprocessing\n",
      "Postprocessing\n"
     ]
    },
    {
     "name": "stderr",
     "output_type": "stream",
     "text": [
      "Backtracking:  96%|█████████▌| 48/50 [00:04<00:00,  9.58it/s]"
     ]
    },
    {
     "name": "stdout",
     "output_type": "stream",
     "text": [
      "Postprocessing\n",
      "Postprocessing\n"
     ]
    },
    {
     "name": "stderr",
     "output_type": "stream",
     "text": [
      "Backtracking: 100%|██████████| 50/50 [00:05<00:00,  9.91it/s]\n"
     ]
    },
    {
     "name": "stdout",
     "output_type": "stream",
     "text": [
      "Postprocessing\n"
     ]
    },
    {
     "name": "stderr",
     "output_type": "stream",
     "text": [
      "Backtracking:   0%|          | 0/50 [00:00<?, ?it/s]Warning: Player 'Backtracking' cannot start at unreachable location 97, starting at closest cell (using Euclidean distance)\n",
      "Backtracking:   2%|▏         | 1/50 [00:00<00:08,  5.94it/s]"
     ]
    },
    {
     "name": "stdout",
     "output_type": "stream",
     "text": [
      "Postprocessing\n"
     ]
    },
    {
     "name": "stderr",
     "output_type": "stream",
     "text": [
      "Backtracking:   4%|▍         | 2/50 [00:00<00:06,  6.90it/s]"
     ]
    },
    {
     "name": "stdout",
     "output_type": "stream",
     "text": [
      "Postprocessing\n",
      "Postprocessing"
     ]
    },
    {
     "name": "stderr",
     "output_type": "stream",
     "text": [
      "Backtracking:   8%|▊         | 4/50 [00:00<00:08,  5.73it/s]"
     ]
    },
    {
     "name": "stdout",
     "output_type": "stream",
     "text": [
      "\n",
      "Postprocessing\n"
     ]
    },
    {
     "name": "stderr",
     "output_type": "stream",
     "text": [
      "Backtracking:  12%|█▏        | 6/50 [00:00<00:06,  6.91it/s]"
     ]
    },
    {
     "name": "stdout",
     "output_type": "stream",
     "text": [
      "Postprocessing\n",
      "Postprocessing\n"
     ]
    },
    {
     "name": "stderr",
     "output_type": "stream",
     "text": [
      "Backtracking:  14%|█▍        | 7/50 [00:01<00:06,  6.19it/s]"
     ]
    },
    {
     "name": "stdout",
     "output_type": "stream",
     "text": [
      "Postprocessing\n"
     ]
    },
    {
     "name": "stderr",
     "output_type": "stream",
     "text": [
      "Backtracking:  16%|█▌        | 8/50 [00:01<00:07,  5.27it/s]"
     ]
    },
    {
     "name": "stdout",
     "output_type": "stream",
     "text": [
      "Postprocessing\n"
     ]
    },
    {
     "name": "stderr",
     "output_type": "stream",
     "text": [
      "Backtracking:  18%|█▊        | 9/50 [00:01<00:08,  4.60it/s]"
     ]
    },
    {
     "name": "stdout",
     "output_type": "stream",
     "text": [
      "Postprocessing\n"
     ]
    },
    {
     "name": "stderr",
     "output_type": "stream",
     "text": [
      "Backtracking:  20%|██        | 10/50 [00:01<00:09,  4.00it/s]Warning: Player 'Backtracking' cannot start at unreachable location 97, starting at closest cell (using Euclidean distance)\n",
      "Backtracking:  24%|██▍       | 12/50 [00:02<00:06,  5.68it/s]"
     ]
    },
    {
     "name": "stdout",
     "output_type": "stream",
     "text": [
      "Postprocessing\n",
      "Postprocessing\n",
      "Postprocessing\n"
     ]
    },
    {
     "name": "stderr",
     "output_type": "stream",
     "text": [
      "Warning: Player 'Backtracking' cannot start at unreachable location 97, starting at closest cell (using Euclidean distance)\n",
      "Backtracking:  28%|██▊       | 14/50 [00:02<00:05,  6.38it/s]"
     ]
    },
    {
     "name": "stdout",
     "output_type": "stream",
     "text": [
      "Postprocessing\n",
      "Postprocessing\n"
     ]
    },
    {
     "name": "stderr",
     "output_type": "stream",
     "text": [
      "Backtracking:  32%|███▏      | 16/50 [00:02<00:05,  5.94it/s]"
     ]
    },
    {
     "name": "stdout",
     "output_type": "stream",
     "text": [
      "Postprocessing\n",
      "Postprocessing\n"
     ]
    },
    {
     "name": "stderr",
     "output_type": "stream",
     "text": [
      "Warning: Player 'Backtracking' cannot start at unreachable location 97, starting at closest cell (using Euclidean distance)\n",
      "Backtracking:  36%|███▌      | 18/50 [00:03<00:05,  6.18it/s]Warning: Player 'Backtracking' cannot start at unreachable location 97, starting at closest cell (using Euclidean distance)"
     ]
    },
    {
     "name": "stdout",
     "output_type": "stream",
     "text": [
      "Postprocessing\n",
      "Postprocessing\n"
     ]
    },
    {
     "name": "stderr",
     "output_type": "stream",
     "text": [
      "\n",
      "Backtracking:  38%|███▊      | 19/50 [00:03<00:04,  6.92it/s]Warning: Player 'Backtracking' cannot start at unreachable location 97, starting at closest cell (using Euclidean distance)\n",
      "Backtracking:  42%|████▏     | 21/50 [00:03<00:03,  8.69it/s]"
     ]
    },
    {
     "name": "stdout",
     "output_type": "stream",
     "text": [
      "Postprocessing\n",
      "Postprocessing\n",
      "Postprocessing\n"
     ]
    },
    {
     "name": "stderr",
     "output_type": "stream",
     "text": [
      "Warning: Player 'Backtracking' cannot start at unreachable location 97, starting at closest cell (using Euclidean distance)\n",
      "Backtracking:  46%|████▌     | 23/50 [00:03<00:02,  9.59it/s]Warning: Player 'Backtracking' cannot start at unreachable location 97, starting at closest cell (using Euclidean distance)\n"
     ]
    },
    {
     "name": "stdout",
     "output_type": "stream",
     "text": [
      "Postprocessing\n",
      "Postprocessing\n",
      "Postprocessing\n",
      "Postprocessing\n"
     ]
    },
    {
     "name": "stderr",
     "output_type": "stream",
     "text": [
      "Backtracking:  54%|█████▍    | 27/50 [00:03<00:02, 10.89it/s]"
     ]
    },
    {
     "name": "stdout",
     "output_type": "stream",
     "text": [
      "Postprocessing\n",
      "Postprocessing\n",
      "Postprocessing\n"
     ]
    },
    {
     "name": "stderr",
     "output_type": "stream",
     "text": [
      "Backtracking:  58%|█████▊    | 29/50 [00:04<00:01, 11.13it/s]"
     ]
    },
    {
     "name": "stdout",
     "output_type": "stream",
     "text": [
      "Postprocessing\n",
      "Postprocessing\n"
     ]
    },
    {
     "name": "stderr",
     "output_type": "stream",
     "text": [
      "Warning: Player 'Backtracking' cannot start at unreachable location 97, starting at closest cell (using Euclidean distance)\n",
      "Backtracking:  64%|██████▍   | 32/50 [00:04<00:01,  9.00it/s]"
     ]
    },
    {
     "name": "stdout",
     "output_type": "stream",
     "text": [
      "Postprocessing\n",
      "Postprocessing\n"
     ]
    },
    {
     "name": "stderr",
     "output_type": "stream",
     "text": [
      "Backtracking:  66%|██████▌   | 33/50 [00:04<00:02,  8.36it/s]"
     ]
    },
    {
     "name": "stdout",
     "output_type": "stream",
     "text": [
      "Postprocessing\n"
     ]
    },
    {
     "name": "stderr",
     "output_type": "stream",
     "text": [
      "Backtracking:  68%|██████▊   | 34/50 [00:04<00:02,  6.74it/s]"
     ]
    },
    {
     "name": "stdout",
     "output_type": "stream",
     "text": [
      "Postprocessing\n"
     ]
    },
    {
     "name": "stderr",
     "output_type": "stream",
     "text": [
      "Warning: Player 'Backtracking' cannot start at unreachable location 97, starting at closest cell (using Euclidean distance)\n",
      "Backtracking:  70%|███████   | 35/50 [00:05<00:02,  5.73it/s]"
     ]
    },
    {
     "name": "stdout",
     "output_type": "stream",
     "text": [
      "Postprocessing\n"
     ]
    },
    {
     "name": "stderr",
     "output_type": "stream",
     "text": [
      "Backtracking:  76%|███████▌  | 38/50 [00:05<00:01,  7.32it/s]"
     ]
    },
    {
     "name": "stdout",
     "output_type": "stream",
     "text": [
      "Postprocessing\n",
      "Postprocessing\n",
      "Postprocessing\n"
     ]
    },
    {
     "name": "stderr",
     "output_type": "stream",
     "text": [
      "Backtracking:  78%|███████▊  | 39/50 [00:05<00:01,  7.36it/s]"
     ]
    },
    {
     "name": "stdout",
     "output_type": "stream",
     "text": [
      "Postprocessing\n"
     ]
    },
    {
     "name": "stderr",
     "output_type": "stream",
     "text": [
      "Backtracking:  82%|████████▏ | 41/50 [00:06<00:01,  5.95it/s]"
     ]
    },
    {
     "name": "stdout",
     "output_type": "stream",
     "text": [
      "Postprocessing\n",
      "Postprocessing\n"
     ]
    },
    {
     "name": "stderr",
     "output_type": "stream",
     "text": [
      "Backtracking:  86%|████████▌ | 43/50 [00:06<00:00,  7.14it/s]"
     ]
    },
    {
     "name": "stdout",
     "output_type": "stream",
     "text": [
      "Postprocessing\n",
      "Postprocessing\n"
     ]
    },
    {
     "name": "stderr",
     "output_type": "stream",
     "text": [
      "Warning: Player 'Backtracking' cannot start at unreachable location 97, starting at closest cell (using Euclidean distance)\n",
      "Backtracking:  90%|█████████ | 45/50 [00:06<00:00,  6.93it/s]"
     ]
    },
    {
     "name": "stdout",
     "output_type": "stream",
     "text": [
      "Postprocessing\n",
      "Postprocessing\n"
     ]
    },
    {
     "name": "stderr",
     "output_type": "stream",
     "text": [
      "Backtracking:  94%|█████████▍| 47/50 [00:06<00:00,  7.91it/s]"
     ]
    },
    {
     "name": "stdout",
     "output_type": "stream",
     "text": [
      "Postprocessing\n",
      "Postprocessing\n",
      "Postprocessing\n",
      "Postprocessing\n"
     ]
    },
    {
     "name": "stderr",
     "output_type": "stream",
     "text": [
      "Backtracking: 100%|██████████| 50/50 [00:07<00:00,  7.13it/s]\n"
     ]
    },
    {
     "name": "stdout",
     "output_type": "stream",
     "text": [
      "Postprocessing\n"
     ]
    },
    {
     "name": "stderr",
     "output_type": "stream",
     "text": [
      "Backtracking:   0%|          | 0/50 [00:00<?, ?it/s]Warning: Player 'Backtracking' cannot start at unreachable location 97, starting at closest cell (using Euclidean distance)\n",
      "Backtracking:   2%|▏         | 1/50 [00:00<00:05,  9.75it/s]"
     ]
    },
    {
     "name": "stdout",
     "output_type": "stream",
     "text": [
      "Postprocessing\n",
      "Postprocessing\n",
      "Postprocessing"
     ]
    },
    {
     "name": "stderr",
     "output_type": "stream",
     "text": [
      "Backtracking:  10%|█         | 5/50 [00:00<00:04, 10.53it/s]"
     ]
    },
    {
     "name": "stdout",
     "output_type": "stream",
     "text": [
      "\n",
      "Postprocessing\n",
      "Postprocessing\n"
     ]
    },
    {
     "name": "stderr",
     "output_type": "stream",
     "text": [
      "Backtracking:  14%|█▍        | 7/50 [00:00<00:03, 10.90it/s]"
     ]
    },
    {
     "name": "stdout",
     "output_type": "stream",
     "text": [
      "Postprocessing\n",
      "Postprocessing\n",
      "Postprocessing\n"
     ]
    },
    {
     "name": "stderr",
     "output_type": "stream",
     "text": [
      "Backtracking:  22%|██▏       | 11/50 [00:01<00:03, 10.86it/s]"
     ]
    },
    {
     "name": "stdout",
     "output_type": "stream",
     "text": [
      "Postprocessing\n",
      "Postprocessing\n",
      "Postprocessing\n",
      "Postprocessing\n"
     ]
    },
    {
     "name": "stderr",
     "output_type": "stream",
     "text": [
      "Warning: Player 'Backtracking' cannot start at unreachable location 97, starting at closest cell (using Euclidean distance)\n",
      "Warning: Player 'Backtracking' cannot start at unreachable location 97, starting at closest cell (using Euclidean distance)\n",
      "Backtracking:  30%|███       | 15/50 [00:01<00:03, 11.11it/s]"
     ]
    },
    {
     "name": "stdout",
     "output_type": "stream",
     "text": [
      "Postprocessing\n",
      "Postprocessing\n",
      "Postprocessing\n"
     ]
    },
    {
     "name": "stderr",
     "output_type": "stream",
     "text": [
      "Warning: Player 'Backtracking' cannot start at unreachable location 97, starting at closest cell (using Euclidean distance)\n",
      "Backtracking:  34%|███▍      | 17/50 [00:01<00:03, 10.13it/s]"
     ]
    },
    {
     "name": "stdout",
     "output_type": "stream",
     "text": [
      "Postprocessing\n",
      "Postprocessing\n",
      "Postprocessing\n"
     ]
    },
    {
     "name": "stderr",
     "output_type": "stream",
     "text": [
      "Warning: Player 'Backtracking' cannot start at unreachable location 97, starting at closest cell (using Euclidean distance)\n",
      "Backtracking:  40%|████      | 20/50 [00:01<00:03,  9.11it/s]Warning: Player 'Backtracking' cannot start at unreachable location 97, starting at closest cell (using Euclidean distance)\n"
     ]
    },
    {
     "name": "stdout",
     "output_type": "stream",
     "text": [
      "Postprocessing\n",
      "Postprocessing\n"
     ]
    },
    {
     "name": "stderr",
     "output_type": "stream",
     "text": [
      "Backtracking:  42%|████▏     | 21/50 [00:02<00:03,  9.11it/s]Warning: Player 'Backtracking' cannot start at unreachable location 97, starting at closest cell (using Euclidean distance)\n",
      "Backtracking:  44%|████▍     | 22/50 [00:02<00:03,  9.22it/s]"
     ]
    },
    {
     "name": "stdout",
     "output_type": "stream",
     "text": [
      "Postprocessing\n",
      "Postprocessing\n",
      "Postprocessing\n"
     ]
    },
    {
     "name": "stderr",
     "output_type": "stream",
     "text": [
      "Warning: Player 'Backtracking' cannot start at unreachable location 97, starting at closest cell (using Euclidean distance)\n",
      "Backtracking:  50%|█████     | 25/50 [00:02<00:02,  9.52it/s]"
     ]
    },
    {
     "name": "stdout",
     "output_type": "stream",
     "text": [
      "Postprocessing\n",
      "Postprocessing\n",
      "Postprocessing\n"
     ]
    },
    {
     "name": "stderr",
     "output_type": "stream",
     "text": [
      "Backtracking:  58%|█████▊    | 29/50 [00:02<00:02, 10.15it/s]"
     ]
    },
    {
     "name": "stdout",
     "output_type": "stream",
     "text": [
      "Postprocessing\n",
      "Postprocessing\n",
      "Postprocessing\n"
     ]
    },
    {
     "name": "stderr",
     "output_type": "stream",
     "text": [
      "Warning: Player 'Backtracking' cannot start at unreachable location 97, starting at closest cell (using Euclidean distance)\n",
      "Backtracking:  62%|██████▏   | 31/50 [00:03<00:01, 10.26it/s]"
     ]
    },
    {
     "name": "stdout",
     "output_type": "stream",
     "text": [
      "Postprocessing\n",
      "Postprocessing\n",
      "Postprocessing\n"
     ]
    },
    {
     "name": "stderr",
     "output_type": "stream",
     "text": [
      "Backtracking:  66%|██████▌   | 33/50 [00:03<00:01, 10.82it/s]"
     ]
    },
    {
     "name": "stdout",
     "output_type": "stream",
     "text": [
      "Postprocessing\n",
      "Postprocessing\n"
     ]
    },
    {
     "name": "stderr",
     "output_type": "stream",
     "text": [
      "Warning: Player 'Backtracking' cannot start at unreachable location 97, starting at closest cell (using Euclidean distance)\n",
      "Backtracking:  70%|███████   | 35/50 [00:03<00:01, 10.27it/s]"
     ]
    },
    {
     "name": "stdout",
     "output_type": "stream",
     "text": [
      "Postprocessing\n",
      "Postprocessing\n"
     ]
    },
    {
     "name": "stderr",
     "output_type": "stream",
     "text": [
      "Backtracking:  74%|███████▍  | 37/50 [00:03<00:01, 10.18it/s]"
     ]
    },
    {
     "name": "stdout",
     "output_type": "stream",
     "text": [
      "Postprocessing\n",
      "Postprocessing\n",
      "Postprocessing\n"
     ]
    },
    {
     "name": "stderr",
     "output_type": "stream",
     "text": [
      "Backtracking:  82%|████████▏ | 41/50 [00:04<00:00, 10.21it/s]"
     ]
    },
    {
     "name": "stdout",
     "output_type": "stream",
     "text": [
      "Postprocessing\n",
      "Postprocessing\n",
      "Postprocessing\n"
     ]
    },
    {
     "name": "stderr",
     "output_type": "stream",
     "text": [
      "Backtracking:  86%|████████▌ | 43/50 [00:04<00:00, 10.26it/s]Warning: Player 'Backtracking' cannot start at unreachable location 97, starting at closest cell (using Euclidean distance)\n",
      "Backtracking:  90%|█████████ | 45/50 [00:04<00:00, 10.17it/s]"
     ]
    },
    {
     "name": "stdout",
     "output_type": "stream",
     "text": [
      "Postprocessing\n",
      "Postprocessing\n",
      "Postprocessing\n"
     ]
    },
    {
     "name": "stderr",
     "output_type": "stream",
     "text": [
      "Backtracking:  94%|█████████▍| 47/50 [00:04<00:00, 10.09it/s]"
     ]
    },
    {
     "name": "stdout",
     "output_type": "stream",
     "text": [
      "Postprocessing\n",
      "Postprocessing\n",
      "Postprocessing\n"
     ]
    },
    {
     "name": "stderr",
     "output_type": "stream",
     "text": [
      "Backtracking:  98%|█████████▊| 49/50 [00:04<00:00, 10.14it/s]"
     ]
    },
    {
     "name": "stdout",
     "output_type": "stream",
     "text": [
      "Postprocessing\n",
      "Postprocessing\n"
     ]
    },
    {
     "name": "stderr",
     "output_type": "stream",
     "text": [
      "Backtracking: 100%|██████████| 50/50 [00:05<00:00,  9.96it/s]\n",
      "Backtracking:   0%|          | 0/50 [00:00<?, ?it/s]Warning: Player 'Backtracking' cannot start at unreachable location 97, starting at closest cell (using Euclidean distance)\n",
      "Backtracking:   2%|▏         | 1/50 [00:00<00:05,  8.92it/s]"
     ]
    },
    {
     "name": "stdout",
     "output_type": "stream",
     "text": [
      "Postprocessing\n",
      "Postprocessing\n"
     ]
    },
    {
     "name": "stderr",
     "output_type": "stream",
     "text": [
      "Backtracking:   8%|▊         | 4/50 [00:00<00:05,  8.80it/s]"
     ]
    },
    {
     "name": "stdout",
     "output_type": "stream",
     "text": [
      "Postprocessing\n",
      "Postprocessing\n",
      "Postprocessing\n"
     ]
    },
    {
     "name": "stderr",
     "output_type": "stream",
     "text": [
      "Backtracking:  14%|█▍        | 7/50 [00:00<00:04,  9.14it/s]"
     ]
    },
    {
     "name": "stdout",
     "output_type": "stream",
     "text": [
      "Postprocessing\n",
      "Postprocessing\n"
     ]
    },
    {
     "name": "stderr",
     "output_type": "stream",
     "text": [
      "Backtracking:  18%|█▊        | 9/50 [00:01<00:05,  8.06it/s]"
     ]
    },
    {
     "name": "stdout",
     "output_type": "stream",
     "text": [
      "Postprocessing\n",
      "Postprocessing\n"
     ]
    },
    {
     "name": "stderr",
     "output_type": "stream",
     "text": [
      "Backtracking:  22%|██▏       | 11/50 [00:01<00:04,  8.41it/s]"
     ]
    },
    {
     "name": "stdout",
     "output_type": "stream",
     "text": [
      "Postprocessing\n",
      "Postprocessing\n"
     ]
    },
    {
     "name": "stderr",
     "output_type": "stream",
     "text": [
      "Warning: Player 'Backtracking' cannot start at unreachable location 97, starting at closest cell (using Euclidean distance)\n",
      "Backtracking:  24%|██▍       | 12/50 [00:01<00:04,  7.86it/s]Warning: Player 'Backtracking' cannot start at unreachable location 97, starting at closest cell (using Euclidean distance)\n",
      "Backtracking:  26%|██▌       | 13/50 [00:01<00:04,  8.18it/s]"
     ]
    },
    {
     "name": "stdout",
     "output_type": "stream",
     "text": [
      "Postprocessing\n",
      "Postprocessing\n"
     ]
    },
    {
     "name": "stderr",
     "output_type": "stream",
     "text": [
      "Backtracking:  30%|███       | 15/50 [00:01<00:03,  8.82it/s]"
     ]
    },
    {
     "name": "stdout",
     "output_type": "stream",
     "text": [
      "Postprocessing\n",
      "Postprocessing\n"
     ]
    },
    {
     "name": "stderr",
     "output_type": "stream",
     "text": [
      "Backtracking:  32%|███▏      | 16/50 [00:01<00:03,  8.82it/s]Warning: Player 'Backtracking' cannot start at unreachable location 97, starting at closest cell (using Euclidean distance)\n",
      "Backtracking:  34%|███▍      | 17/50 [00:02<00:04,  8.08it/s]"
     ]
    },
    {
     "name": "stdout",
     "output_type": "stream",
     "text": [
      "Postprocessing\n",
      "Postprocessing\n"
     ]
    },
    {
     "name": "stderr",
     "output_type": "stream",
     "text": [
      "Backtracking:  36%|███▌      | 18/50 [00:02<00:03,  8.00it/s]Warning: Player 'Backtracking' cannot start at unreachable location 97, starting at closest cell (using Euclidean distance)\n",
      "Backtracking:  38%|███▊      | 19/50 [00:02<00:03,  8.11it/s]"
     ]
    },
    {
     "name": "stdout",
     "output_type": "stream",
     "text": [
      "Postprocessing\n",
      "Postprocessing\n"
     ]
    },
    {
     "name": "stderr",
     "output_type": "stream",
     "text": [
      "Backtracking:  40%|████      | 20/50 [00:02<00:03,  8.57it/s]Warning: Player 'Backtracking' cannot start at unreachable location 97, starting at closest cell (using Euclidean distance)\n",
      "Backtracking:  42%|████▏     | 21/50 [00:02<00:03,  7.30it/s]"
     ]
    },
    {
     "name": "stdout",
     "output_type": "stream",
     "text": [
      "Postprocessing\n",
      "Postprocessing\n"
     ]
    },
    {
     "name": "stderr",
     "output_type": "stream",
     "text": [
      "Warning: Player 'Backtracking' cannot start at unreachable location 97, starting at closest cell (using Euclidean distance)\n",
      "Backtracking:  46%|████▌     | 23/50 [00:02<00:03,  8.49it/s]Warning: Player 'Backtracking' cannot start at unreachable location 97, starting at closest cell (using Euclidean distance)"
     ]
    },
    {
     "name": "stdout",
     "output_type": "stream",
     "text": [
      "Postprocessing\n",
      "Postprocessing\n",
      "Postprocessing\n"
     ]
    },
    {
     "name": "stderr",
     "output_type": "stream",
     "text": [
      "\n",
      "Backtracking:  50%|█████     | 25/50 [00:02<00:02,  9.13it/s]"
     ]
    },
    {
     "name": "stdout",
     "output_type": "stream",
     "text": [
      "Postprocessing\n",
      "Postprocessing\n"
     ]
    },
    {
     "name": "stderr",
     "output_type": "stream",
     "text": [
      "Backtracking:  54%|█████▍    | 27/50 [00:03<00:02,  9.23it/s]"
     ]
    },
    {
     "name": "stdout",
     "output_type": "stream",
     "text": [
      "Postprocessing\n",
      "Postprocessing\n"
     ]
    },
    {
     "name": "stderr",
     "output_type": "stream",
     "text": [
      "Backtracking:  58%|█████▊    | 29/50 [00:03<00:02,  9.47it/s]Warning: Player 'Backtracking' cannot start at unreachable location 97, starting at closest cell (using Euclidean distance)\n",
      "Backtracking:  60%|██████    | 30/50 [00:03<00:02,  8.91it/s]"
     ]
    },
    {
     "name": "stdout",
     "output_type": "stream",
     "text": [
      "Postprocessing\n",
      "Postprocessing\n"
     ]
    },
    {
     "name": "stderr",
     "output_type": "stream",
     "text": [
      "Backtracking:  64%|██████▍   | 32/50 [00:03<00:01,  9.17it/s]"
     ]
    },
    {
     "name": "stdout",
     "output_type": "stream",
     "text": [
      "Postprocessing\n",
      "Postprocessing\n"
     ]
    },
    {
     "name": "stderr",
     "output_type": "stream",
     "text": [
      "Backtracking:  66%|██████▌   | 33/50 [00:03<00:02,  8.40it/s]"
     ]
    },
    {
     "name": "stdout",
     "output_type": "stream",
     "text": [
      "Postprocessing\n",
      "Postprocessing\n"
     ]
    },
    {
     "name": "stderr",
     "output_type": "stream",
     "text": [
      "Backtracking:  68%|██████▊   | 34/50 [00:04<00:02,  7.46it/s]Warning: Player 'Backtracking' cannot start at unreachable location 97, starting at closest cell (using Euclidean distance)\n",
      "Backtracking:  70%|███████   | 35/50 [00:04<00:02,  6.98it/s]"
     ]
    },
    {
     "name": "stdout",
     "output_type": "stream",
     "text": [
      "Postprocessing\n"
     ]
    },
    {
     "name": "stderr",
     "output_type": "stream",
     "text": [
      "Backtracking:  72%|███████▏  | 36/50 [00:04<00:03,  4.42it/s]"
     ]
    },
    {
     "name": "stdout",
     "output_type": "stream",
     "text": [
      "Postprocessing\n"
     ]
    },
    {
     "name": "stderr",
     "output_type": "stream",
     "text": [
      "Backtracking:  76%|███████▌  | 38/50 [00:05<00:02,  5.03it/s]"
     ]
    },
    {
     "name": "stdout",
     "output_type": "stream",
     "text": [
      "Postprocessing\n",
      "Postprocessing\n"
     ]
    },
    {
     "name": "stderr",
     "output_type": "stream",
     "text": [
      "Backtracking:  78%|███████▊  | 39/50 [00:05<00:02,  5.49it/s]"
     ]
    },
    {
     "name": "stdout",
     "output_type": "stream",
     "text": [
      "Postprocessing\n"
     ]
    },
    {
     "name": "stderr",
     "output_type": "stream",
     "text": [
      "Backtracking:  82%|████████▏ | 41/50 [00:05<00:01,  5.44it/s]"
     ]
    },
    {
     "name": "stdout",
     "output_type": "stream",
     "text": [
      "Postprocessing\n",
      "Postprocessing\n"
     ]
    },
    {
     "name": "stderr",
     "output_type": "stream",
     "text": [
      "Backtracking:  86%|████████▌ | 43/50 [00:05<00:01,  6.50it/s]"
     ]
    },
    {
     "name": "stdout",
     "output_type": "stream",
     "text": [
      "Postprocessing\n",
      "Postprocessing\n"
     ]
    },
    {
     "name": "stderr",
     "output_type": "stream",
     "text": [
      "Warning: Player 'Backtracking' cannot start at unreachable location 97, starting at closest cell (using Euclidean distance)\n",
      "Backtracking:  92%|█████████▏| 46/50 [00:06<00:00,  8.21it/s]"
     ]
    },
    {
     "name": "stdout",
     "output_type": "stream",
     "text": [
      "Postprocessing\n",
      "Postprocessing\n",
      "Postprocessing\n"
     ]
    },
    {
     "name": "stderr",
     "output_type": "stream",
     "text": [
      "Backtracking:  94%|█████████▍| 47/50 [00:06<00:00,  6.96it/s]"
     ]
    },
    {
     "name": "stdout",
     "output_type": "stream",
     "text": [
      "Postprocessing\n"
     ]
    },
    {
     "name": "stderr",
     "output_type": "stream",
     "text": [
      "Backtracking:  96%|█████████▌| 48/50 [00:06<00:00,  5.69it/s]"
     ]
    },
    {
     "name": "stdout",
     "output_type": "stream",
     "text": [
      "Postprocessing\n",
      "Postprocessing\n"
     ]
    },
    {
     "name": "stderr",
     "output_type": "stream",
     "text": [
      "Backtracking: 100%|██████████| 50/50 [00:06<00:00,  7.27it/s]\n"
     ]
    },
    {
     "name": "stdout",
     "output_type": "stream",
     "text": [
      "Postprocessing\n"
     ]
    },
    {
     "name": "stderr",
     "output_type": "stream",
     "text": [
      "Backtracking:   0%|          | 0/50 [00:00<?, ?it/s]Warning: Player 'Backtracking' cannot start at unreachable location 97, starting at closest cell (using Euclidean distance)\n",
      "Backtracking:   2%|▏         | 1/50 [00:00<00:07,  6.24it/s]"
     ]
    },
    {
     "name": "stdout",
     "output_type": "stream",
     "text": [
      "Postprocessing\n"
     ]
    },
    {
     "name": "stderr",
     "output_type": "stream",
     "text": [
      "Backtracking:   4%|▍         | 2/50 [00:00<00:06,  7.29it/s]"
     ]
    },
    {
     "name": "stdout",
     "output_type": "stream",
     "text": [
      "Postprocessing\n"
     ]
    },
    {
     "name": "stderr",
     "output_type": "stream",
     "text": [
      "Backtracking:   6%|▌         | 3/50 [00:00<00:06,  7.69it/s]"
     ]
    },
    {
     "name": "stdout",
     "output_type": "stream",
     "text": [
      "Postprocessing\n"
     ]
    },
    {
     "name": "stderr",
     "output_type": "stream",
     "text": [
      "Backtracking:   8%|▊         | 4/50 [00:00<00:06,  7.37it/s]"
     ]
    },
    {
     "name": "stdout",
     "output_type": "stream",
     "text": [
      "Postprocessing\n"
     ]
    },
    {
     "name": "stderr",
     "output_type": "stream",
     "text": [
      "Backtracking:  10%|█         | 5/50 [00:00<00:06,  7.45it/s]"
     ]
    },
    {
     "name": "stdout",
     "output_type": "stream",
     "text": [
      "Postprocessing\n"
     ]
    },
    {
     "name": "stderr",
     "output_type": "stream",
     "text": [
      "Backtracking:  14%|█▍        | 7/50 [00:01<00:07,  5.60it/s]"
     ]
    },
    {
     "name": "stdout",
     "output_type": "stream",
     "text": [
      "Postprocessing\n",
      "Postprocessing\n"
     ]
    },
    {
     "name": "stderr",
     "output_type": "stream",
     "text": [
      "Backtracking:  18%|█▊        | 9/50 [00:01<00:06,  6.67it/s]"
     ]
    },
    {
     "name": "stdout",
     "output_type": "stream",
     "text": [
      "Postprocessing\n",
      "Postprocessing\n"
     ]
    },
    {
     "name": "stderr",
     "output_type": "stream",
     "text": [
      "Backtracking:  22%|██▏       | 11/50 [00:01<00:05,  7.74it/s]"
     ]
    },
    {
     "name": "stdout",
     "output_type": "stream",
     "text": [
      "Postprocessing\n",
      "Postprocessing\n"
     ]
    },
    {
     "name": "stderr",
     "output_type": "stream",
     "text": [
      "Warning: Player 'Backtracking' cannot start at unreachable location 97, starting at closest cell (using Euclidean distance)\n",
      "Backtracking:  24%|██▍       | 12/50 [00:01<00:04,  8.03it/s]Warning: Player 'Backtracking' cannot start at unreachable location 97, starting at closest cell (using Euclidean distance)\n",
      "Backtracking:  26%|██▌       | 13/50 [00:01<00:04,  8.13it/s]"
     ]
    },
    {
     "name": "stdout",
     "output_type": "stream",
     "text": [
      "Postprocessing\n",
      "Postprocessing\n"
     ]
    },
    {
     "name": "stderr",
     "output_type": "stream",
     "text": [
      "Backtracking:  28%|██▊       | 14/50 [00:01<00:04,  7.96it/s]"
     ]
    },
    {
     "name": "stdout",
     "output_type": "stream",
     "text": [
      "Postprocessing\n",
      "Postprocessing\n"
     ]
    },
    {
     "name": "stderr",
     "output_type": "stream",
     "text": [
      "Backtracking:  32%|███▏      | 16/50 [00:02<00:03,  8.70it/s]Warning: Player 'Backtracking' cannot start at unreachable location 97, starting at closest cell (using Euclidean distance)\n",
      "Backtracking:  34%|███▍      | 17/50 [00:02<00:04,  7.94it/s]"
     ]
    },
    {
     "name": "stdout",
     "output_type": "stream",
     "text": [
      "Postprocessing\n",
      "Postprocessing\n"
     ]
    },
    {
     "name": "stderr",
     "output_type": "stream",
     "text": [
      "Backtracking:  36%|███▌      | 18/50 [00:02<00:04,  7.61it/s]Warning: Player 'Backtracking' cannot start at unreachable location 97, starting at closest cell (using Euclidean distance)\n",
      "Backtracking:  38%|███▊      | 19/50 [00:02<00:04,  7.30it/s]"
     ]
    },
    {
     "name": "stdout",
     "output_type": "stream",
     "text": [
      "Postprocessing\n",
      "Postprocessing\n"
     ]
    },
    {
     "name": "stderr",
     "output_type": "stream",
     "text": [
      "Backtracking:  40%|████      | 20/50 [00:02<00:03,  7.54it/s]"
     ]
    },
    {
     "name": "stdout",
     "output_type": "stream",
     "text": [
      "Postprocessing\n"
     ]
    },
    {
     "name": "stderr",
     "output_type": "stream",
     "text": [
      "Warning: Player 'Backtracking' cannot start at unreachable location 97, starting at closest cell (using Euclidean distance)\n",
      "Backtracking:  42%|████▏     | 21/50 [00:03<00:05,  5.63it/s]"
     ]
    },
    {
     "name": "stdout",
     "output_type": "stream",
     "text": [
      "Postprocessing\n"
     ]
    },
    {
     "name": "stderr",
     "output_type": "stream",
     "text": [
      "Warning: Player 'Backtracking' cannot start at unreachable location 97, starting at closest cell (using Euclidean distance)\n",
      "Backtracking:  44%|████▍     | 22/50 [00:03<00:05,  5.27it/s]"
     ]
    },
    {
     "name": "stdout",
     "output_type": "stream",
     "text": [
      "Postprocessing\n"
     ]
    },
    {
     "name": "stderr",
     "output_type": "stream",
     "text": [
      "Backtracking:  46%|████▌     | 23/50 [00:03<00:05,  5.07it/s]Warning: Player 'Backtracking' cannot start at unreachable location 97, starting at closest cell (using Euclidean distance)\n",
      "Backtracking:  48%|████▊     | 24/50 [00:03<00:04,  5.34it/s]"
     ]
    },
    {
     "name": "stdout",
     "output_type": "stream",
     "text": [
      "Postprocessing\n",
      "Postprocessing\n"
     ]
    },
    {
     "name": "stderr",
     "output_type": "stream",
     "text": [
      "Backtracking:  52%|█████▏    | 26/50 [00:03<00:04,  5.68it/s]"
     ]
    },
    {
     "name": "stdout",
     "output_type": "stream",
     "text": [
      "Postprocessing\n",
      "Postprocessing\n"
     ]
    },
    {
     "name": "stderr",
     "output_type": "stream",
     "text": [
      "Backtracking:  54%|█████▍    | 27/50 [00:04<00:03,  5.78it/s]"
     ]
    },
    {
     "name": "stdout",
     "output_type": "stream",
     "text": [
      "Postprocessing\n",
      "Postprocessing\n"
     ]
    },
    {
     "name": "stderr",
     "output_type": "stream",
     "text": [
      "Backtracking:  58%|█████▊    | 29/50 [00:04<00:03,  5.33it/s]Warning: Player 'Backtracking' cannot start at unreachable location 97, starting at closest cell (using Euclidean distance)\n",
      "Backtracking:  60%|██████    | 30/50 [00:04<00:03,  5.90it/s]"
     ]
    },
    {
     "name": "stdout",
     "output_type": "stream",
     "text": [
      "Postprocessing\n",
      "Postprocessing\n"
     ]
    },
    {
     "name": "stderr",
     "output_type": "stream",
     "text": [
      "Backtracking:  64%|██████▍   | 32/50 [00:04<00:02,  6.61it/s]"
     ]
    },
    {
     "name": "stdout",
     "output_type": "stream",
     "text": [
      "Postprocessing\n",
      "Postprocessing\n"
     ]
    },
    {
     "name": "stderr",
     "output_type": "stream",
     "text": [
      "Backtracking:  66%|██████▌   | 33/50 [00:05<00:02,  5.93it/s]"
     ]
    },
    {
     "name": "stdout",
     "output_type": "stream",
     "text": [
      "Postprocessing\n"
     ]
    },
    {
     "name": "stderr",
     "output_type": "stream",
     "text": [
      "Backtracking:  68%|██████▊   | 34/50 [00:05<00:02,  5.57it/s]"
     ]
    },
    {
     "name": "stdout",
     "output_type": "stream",
     "text": [
      "Postprocessing\n"
     ]
    },
    {
     "name": "stderr",
     "output_type": "stream",
     "text": [
      "Warning: Player 'Backtracking' cannot start at unreachable location 97, starting at closest cell (using Euclidean distance)\n",
      "Backtracking:  70%|███████   | 35/50 [00:05<00:03,  4.50it/s]"
     ]
    },
    {
     "name": "stdout",
     "output_type": "stream",
     "text": [
      "Postprocessing\n"
     ]
    },
    {
     "name": "stderr",
     "output_type": "stream",
     "text": [
      "Backtracking:  72%|███████▏  | 36/50 [00:05<00:02,  4.70it/s]"
     ]
    },
    {
     "name": "stdout",
     "output_type": "stream",
     "text": [
      "Postprocessing\n"
     ]
    },
    {
     "name": "stderr",
     "output_type": "stream",
     "text": [
      "Backtracking:  74%|███████▍  | 37/50 [00:06<00:02,  4.33it/s]"
     ]
    },
    {
     "name": "stdout",
     "output_type": "stream",
     "text": [
      "Postprocessing\n",
      "Postprocessing\n"
     ]
    },
    {
     "name": "stderr",
     "output_type": "stream",
     "text": [
      "Backtracking:  80%|████████  | 40/50 [00:06<00:01,  5.14it/s]"
     ]
    },
    {
     "name": "stdout",
     "output_type": "stream",
     "text": [
      "Postprocessing\n",
      "Postprocessing\n"
     ]
    },
    {
     "name": "stderr",
     "output_type": "stream",
     "text": [
      "Backtracking:  82%|████████▏ | 41/50 [00:06<00:01,  5.28it/s]"
     ]
    },
    {
     "name": "stdout",
     "output_type": "stream",
     "text": [
      "Postprocessing\n",
      "Postprocessing\n"
     ]
    },
    {
     "name": "stderr",
     "output_type": "stream",
     "text": [
      "Backtracking:  86%|████████▌ | 43/50 [00:07<00:01,  5.13it/s]Warning: Player 'Backtracking' cannot start at unreachable location 97, starting at closest cell (using Euclidean distance)\n",
      "Backtracking:  88%|████████▊ | 44/50 [00:07<00:01,  5.27it/s]"
     ]
    },
    {
     "name": "stdout",
     "output_type": "stream",
     "text": [
      "Postprocessing\n",
      "Postprocessing\n"
     ]
    },
    {
     "name": "stderr",
     "output_type": "stream",
     "text": [
      "Backtracking:  90%|█████████ | 45/50 [00:07<00:00,  5.00it/s]"
     ]
    },
    {
     "name": "stdout",
     "output_type": "stream",
     "text": [
      "Postprocessing\n"
     ]
    },
    {
     "name": "stderr",
     "output_type": "stream",
     "text": [
      "Backtracking:  92%|█████████▏| 46/50 [00:07<00:00,  4.44it/s]"
     ]
    },
    {
     "name": "stdout",
     "output_type": "stream",
     "text": [
      "Postprocessing\n"
     ]
    },
    {
     "name": "stderr",
     "output_type": "stream",
     "text": [
      "Backtracking:  94%|█████████▍| 47/50 [00:08<00:00,  4.51it/s]"
     ]
    },
    {
     "name": "stdout",
     "output_type": "stream",
     "text": [
      "Postprocessing\n"
     ]
    },
    {
     "name": "stderr",
     "output_type": "stream",
     "text": [
      "Backtracking:  98%|█████████▊| 49/50 [00:08<00:00,  4.89it/s]"
     ]
    },
    {
     "name": "stdout",
     "output_type": "stream",
     "text": [
      "Postprocessing\n",
      "Postprocessing\n"
     ]
    },
    {
     "name": "stderr",
     "output_type": "stream",
     "text": [
      "Backtracking: 100%|██████████| 50/50 [00:08<00:00,  5.73it/s]\n"
     ]
    },
    {
     "name": "stdout",
     "output_type": "stream",
     "text": [
      "Postprocessing\n"
     ]
    },
    {
     "name": "stderr",
     "output_type": "stream",
     "text": [
      "Backtracking:   0%|          | 0/50 [00:00<?, ?it/s]Warning: Player 'Backtracking' cannot start at unreachable location 97, starting at closest cell (using Euclidean distance)\n",
      "Backtracking:   2%|▏         | 1/50 [00:00<00:10,  4.84it/s]"
     ]
    },
    {
     "name": "stdout",
     "output_type": "stream",
     "text": [
      "Postprocessing\n",
      "Postprocessing\n"
     ]
    },
    {
     "name": "stderr",
     "output_type": "stream",
     "text": [
      "Backtracking:   6%|▌         | 3/50 [00:00<00:09,  4.79it/s]"
     ]
    },
    {
     "name": "stdout",
     "output_type": "stream",
     "text": [
      "Postprocessing\n"
     ]
    },
    {
     "name": "stderr",
     "output_type": "stream",
     "text": [
      "Backtracking:   8%|▊         | 4/50 [00:00<00:10,  4.53it/s]"
     ]
    },
    {
     "name": "stdout",
     "output_type": "stream",
     "text": [
      "Postprocessing\n"
     ]
    },
    {
     "name": "stderr",
     "output_type": "stream",
     "text": [
      "Backtracking:  10%|█         | 5/50 [00:01<00:09,  4.51it/s]"
     ]
    },
    {
     "name": "stdout",
     "output_type": "stream",
     "text": [
      "Postprocessing\n"
     ]
    },
    {
     "name": "stderr",
     "output_type": "stream",
     "text": [
      "Backtracking:  14%|█▍        | 7/50 [00:01<00:09,  4.35it/s]"
     ]
    },
    {
     "name": "stdout",
     "output_type": "stream",
     "text": [
      "Postprocessing\n",
      "Postprocessing\n"
     ]
    },
    {
     "name": "stderr",
     "output_type": "stream",
     "text": [
      "Backtracking:  16%|█▌        | 8/50 [00:01<00:09,  4.62it/s]"
     ]
    },
    {
     "name": "stdout",
     "output_type": "stream",
     "text": [
      "Postprocessing\n",
      "Postprocessing\n"
     ]
    },
    {
     "name": "stderr",
     "output_type": "stream",
     "text": [
      "Backtracking:  20%|██        | 10/50 [00:02<00:08,  4.92it/s]"
     ]
    },
    {
     "name": "stdout",
     "output_type": "stream",
     "text": [
      "Postprocessing\n"
     ]
    },
    {
     "name": "stderr",
     "output_type": "stream",
     "text": [
      "Backtracking:  22%|██▏       | 11/50 [00:02<00:08,  4.55it/s]"
     ]
    },
    {
     "name": "stdout",
     "output_type": "stream",
     "text": [
      "Postprocessing\n"
     ]
    },
    {
     "name": "stderr",
     "output_type": "stream",
     "text": [
      "Warning: Player 'Backtracking' cannot start at unreachable location 97, starting at closest cell (using Euclidean distance)\n",
      "Backtracking:  24%|██▍       | 12/50 [00:02<00:08,  4.40it/s]Warning: Player 'Backtracking' cannot start at unreachable location 97, starting at closest cell (using Euclidean distance)\n",
      "Backtracking:  26%|██▌       | 13/50 [00:02<00:08,  4.59it/s]"
     ]
    },
    {
     "name": "stdout",
     "output_type": "stream",
     "text": [
      "Postprocessing\n",
      "Postprocessing\n"
     ]
    },
    {
     "name": "stderr",
     "output_type": "stream",
     "text": [
      "Backtracking:  30%|███       | 15/50 [00:03<00:06,  5.26it/s]"
     ]
    },
    {
     "name": "stdout",
     "output_type": "stream",
     "text": [
      "Postprocessing\n",
      "Postprocessing\n"
     ]
    },
    {
     "name": "stderr",
     "output_type": "stream",
     "text": [
      "Backtracking:  32%|███▏      | 16/50 [00:03<00:06,  5.41it/s]Warning: Player 'Backtracking' cannot start at unreachable location 97, starting at closest cell (using Euclidean distance)\n",
      "Backtracking:  34%|███▍      | 17/50 [00:03<00:06,  5.42it/s]"
     ]
    },
    {
     "name": "stdout",
     "output_type": "stream",
     "text": [
      "Postprocessing\n",
      "Postprocessing\n"
     ]
    },
    {
     "name": "stderr",
     "output_type": "stream",
     "text": [
      "Backtracking:  36%|███▌      | 18/50 [00:03<00:06,  4.70it/s]"
     ]
    },
    {
     "name": "stdout",
     "output_type": "stream",
     "text": [
      "Postprocessing\n"
     ]
    },
    {
     "name": "stderr",
     "output_type": "stream",
     "text": [
      "Warning: Player 'Backtracking' cannot start at unreachable location 97, starting at closest cell (using Euclidean distance)\n",
      "Backtracking:  40%|████      | 20/50 [00:04<00:05,  5.05it/s]"
     ]
    },
    {
     "name": "stdout",
     "output_type": "stream",
     "text": [
      "Postprocessing\n",
      "Postprocessing\n"
     ]
    },
    {
     "name": "stderr",
     "output_type": "stream",
     "text": [
      "Warning: Player 'Backtracking' cannot start at unreachable location 97, starting at closest cell (using Euclidean distance)\n",
      "Backtracking:  42%|████▏     | 21/50 [00:04<00:05,  5.62it/s]Warning: Player 'Backtracking' cannot start at unreachable location 97, starting at closest cell (using Euclidean distance)\n",
      "Backtracking:  44%|████▍     | 22/50 [00:04<00:04,  5.89it/s]"
     ]
    },
    {
     "name": "stdout",
     "output_type": "stream",
     "text": [
      "Postprocessing\n",
      "Postprocessing\n"
     ]
    },
    {
     "name": "stderr",
     "output_type": "stream",
     "text": [
      "Backtracking:  46%|████▌     | 23/50 [00:04<00:04,  5.63it/s]Warning: Player 'Backtracking' cannot start at unreachable location 97, starting at closest cell (using Euclidean distance)\n",
      "Backtracking:  48%|████▊     | 24/50 [00:04<00:04,  5.71it/s]"
     ]
    },
    {
     "name": "stdout",
     "output_type": "stream",
     "text": [
      "Postprocessing\n",
      "Postprocessing\n"
     ]
    },
    {
     "name": "stderr",
     "output_type": "stream",
     "text": [
      "Backtracking:  52%|█████▏    | 26/50 [00:05<00:03,  6.46it/s]"
     ]
    },
    {
     "name": "stdout",
     "output_type": "stream",
     "text": [
      "Postprocessing\n",
      "Postprocessing\n"
     ]
    },
    {
     "name": "stderr",
     "output_type": "stream",
     "text": [
      "Backtracking:  56%|█████▌    | 28/50 [00:05<00:03,  6.61it/s]"
     ]
    },
    {
     "name": "stdout",
     "output_type": "stream",
     "text": [
      "Postprocessing\n",
      "Postprocessing\n"
     ]
    },
    {
     "name": "stderr",
     "output_type": "stream",
     "text": [
      "Backtracking:  58%|█████▊    | 29/50 [00:05<00:03,  6.74it/s]"
     ]
    },
    {
     "name": "stdout",
     "output_type": "stream",
     "text": [
      "Postprocessing\n"
     ]
    },
    {
     "name": "stderr",
     "output_type": "stream",
     "text": [
      "Warning: Player 'Backtracking' cannot start at unreachable location 97, starting at closest cell (using Euclidean distance)\n",
      "Backtracking:  62%|██████▏   | 31/50 [00:05<00:03,  5.68it/s]"
     ]
    },
    {
     "name": "stdout",
     "output_type": "stream",
     "text": [
      "Postprocessing\n",
      "Postprocessing\n"
     ]
    },
    {
     "name": "stderr",
     "output_type": "stream",
     "text": [
      "Backtracking:  66%|██████▌   | 33/50 [00:06<00:02,  5.84it/s]"
     ]
    },
    {
     "name": "stdout",
     "output_type": "stream",
     "text": [
      "Postprocessing\n",
      "Postprocessing\n"
     ]
    },
    {
     "name": "stderr",
     "output_type": "stream",
     "text": [
      "Backtracking:  68%|██████▊   | 34/50 [00:06<00:02,  6.15it/s]Warning: Player 'Backtracking' cannot start at unreachable location 97, starting at closest cell (using Euclidean distance)\n",
      "Backtracking:  70%|███████   | 35/50 [00:06<00:02,  6.39it/s]"
     ]
    },
    {
     "name": "stdout",
     "output_type": "stream",
     "text": [
      "Postprocessing\n",
      "Postprocessing\n"
     ]
    },
    {
     "name": "stderr",
     "output_type": "stream",
     "text": [
      "Backtracking:  72%|███████▏  | 36/50 [00:06<00:02,  6.63it/s]"
     ]
    },
    {
     "name": "stdout",
     "output_type": "stream",
     "text": [
      "Postprocessing\n",
      "Postprocessing\n"
     ]
    },
    {
     "name": "stderr",
     "output_type": "stream",
     "text": [
      "Backtracking:  78%|███████▊  | 39/50 [00:07<00:01,  6.73it/s]"
     ]
    },
    {
     "name": "stdout",
     "output_type": "stream",
     "text": [
      "Postprocessing\n",
      "Postprocessing\n"
     ]
    },
    {
     "name": "stderr",
     "output_type": "stream",
     "text": [
      "Backtracking:  82%|████████▏ | 41/50 [00:07<00:01,  7.53it/s]"
     ]
    },
    {
     "name": "stdout",
     "output_type": "stream",
     "text": [
      "Postprocessing\n",
      "Postprocessing\n"
     ]
    },
    {
     "name": "stderr",
     "output_type": "stream",
     "text": [
      "Backtracking:  86%|████████▌ | 43/50 [00:07<00:00,  7.21it/s]"
     ]
    },
    {
     "name": "stdout",
     "output_type": "stream",
     "text": [
      "Postprocessing\n",
      "Postprocessing\n"
     ]
    },
    {
     "name": "stderr",
     "output_type": "stream",
     "text": [
      "Warning: Player 'Backtracking' cannot start at unreachable location 97, starting at closest cell (using Euclidean distance)\n",
      "Backtracking:  90%|█████████ | 45/50 [00:07<00:00,  7.38it/s]"
     ]
    },
    {
     "name": "stdout",
     "output_type": "stream",
     "text": [
      "Postprocessing\n",
      "Postprocessing\n"
     ]
    },
    {
     "name": "stderr",
     "output_type": "stream",
     "text": [
      "Backtracking:  94%|█████████▍| 47/50 [00:08<00:00,  7.03it/s]"
     ]
    },
    {
     "name": "stdout",
     "output_type": "stream",
     "text": [
      "Postprocessing\n",
      "Postprocessing\n"
     ]
    },
    {
     "name": "stderr",
     "output_type": "stream",
     "text": [
      "Backtracking:  98%|█████████▊| 49/50 [00:08<00:00,  7.27it/s]"
     ]
    },
    {
     "name": "stdout",
     "output_type": "stream",
     "text": [
      "Postprocessing\n",
      "Postprocessing\n"
     ]
    },
    {
     "name": "stderr",
     "output_type": "stream",
     "text": [
      "Backtracking: 100%|██████████| 50/50 [00:08<00:00,  5.77it/s]\n"
     ]
    },
    {
     "name": "stdout",
     "output_type": "stream",
     "text": [
      "Postprocessing\n"
     ]
    },
    {
     "name": "stderr",
     "output_type": "stream",
     "text": [
      "Backtracking:   0%|          | 0/50 [00:00<?, ?it/s]Warning: Player 'Backtracking' cannot start at unreachable location 97, starting at closest cell (using Euclidean distance)\n",
      "Backtracking:   2%|▏         | 1/50 [00:00<00:08,  5.93it/s]"
     ]
    },
    {
     "name": "stdout",
     "output_type": "stream",
     "text": [
      "Postprocessing\n"
     ]
    },
    {
     "name": "stderr",
     "output_type": "stream",
     "text": [
      "Backtracking:   4%|▍         | 2/50 [00:00<00:07,  6.09it/s]"
     ]
    },
    {
     "name": "stdout",
     "output_type": "stream",
     "text": [
      "Postprocessing\n"
     ]
    },
    {
     "name": "stderr",
     "output_type": "stream",
     "text": [
      "Backtracking:   6%|▌         | 3/50 [00:00<00:08,  5.63it/s]"
     ]
    },
    {
     "name": "stdout",
     "output_type": "stream",
     "text": [
      "Postprocessing\n"
     ]
    },
    {
     "name": "stderr",
     "output_type": "stream",
     "text": [
      "Backtracking:  10%|█         | 5/50 [00:00<00:08,  5.57it/s]"
     ]
    },
    {
     "name": "stdout",
     "output_type": "stream",
     "text": [
      "Postprocessing\n",
      "Postprocessing\n"
     ]
    },
    {
     "name": "stderr",
     "output_type": "stream",
     "text": [
      "Backtracking:  12%|█▏        | 6/50 [00:01<00:07,  5.67it/s]"
     ]
    },
    {
     "name": "stdout",
     "output_type": "stream",
     "text": [
      "Postprocessing\n"
     ]
    },
    {
     "name": "stderr",
     "output_type": "stream",
     "text": [
      "Backtracking:  16%|█▌        | 8/50 [00:01<00:09,  4.21it/s]"
     ]
    },
    {
     "name": "stdout",
     "output_type": "stream",
     "text": [
      "Postprocessing\n",
      "Postprocessing\n"
     ]
    },
    {
     "name": "stderr",
     "output_type": "stream",
     "text": [
      "Backtracking:  20%|██        | 10/50 [00:02<00:08,  4.94it/s]"
     ]
    },
    {
     "name": "stdout",
     "output_type": "stream",
     "text": [
      "Postprocessing\n",
      "Postprocessing\n"
     ]
    },
    {
     "name": "stderr",
     "output_type": "stream",
     "text": [
      "Backtracking:  22%|██▏       | 11/50 [00:02<00:08,  4.54it/s]"
     ]
    },
    {
     "name": "stdout",
     "output_type": "stream",
     "text": [
      "Postprocessing\n"
     ]
    },
    {
     "name": "stderr",
     "output_type": "stream",
     "text": [
      "Warning: Player 'Backtracking' cannot start at unreachable location 97, starting at closest cell (using Euclidean distance)\n",
      "Backtracking:  24%|██▍       | 12/50 [00:02<00:08,  4.26it/s]Warning: Player 'Backtracking' cannot start at unreachable location 97, starting at closest cell (using Euclidean distance)\n",
      "Backtracking:  26%|██▌       | 13/50 [00:02<00:07,  4.68it/s]"
     ]
    },
    {
     "name": "stdout",
     "output_type": "stream",
     "text": [
      "Postprocessing\n",
      "Postprocessing\n"
     ]
    },
    {
     "name": "stderr",
     "output_type": "stream",
     "text": [
      "Backtracking:  30%|███       | 15/50 [00:03<00:06,  5.25it/s]"
     ]
    },
    {
     "name": "stdout",
     "output_type": "stream",
     "text": [
      "Postprocessing\n",
      "Postprocessing\n"
     ]
    },
    {
     "name": "stderr",
     "output_type": "stream",
     "text": [
      "Backtracking:  32%|███▏      | 16/50 [00:03<00:07,  4.73it/s]Warning: Player 'Backtracking' cannot start at unreachable location 97, starting at closest cell (using Euclidean distance)\n",
      "Backtracking:  34%|███▍      | 17/50 [00:03<00:06,  5.22it/s]"
     ]
    },
    {
     "name": "stdout",
     "output_type": "stream",
     "text": [
      "Postprocessing\n",
      "Postprocessing\n"
     ]
    },
    {
     "name": "stderr",
     "output_type": "stream",
     "text": [
      "Backtracking:  36%|███▌      | 18/50 [00:03<00:05,  5.35it/s]"
     ]
    },
    {
     "name": "stdout",
     "output_type": "stream",
     "text": [
      "Postprocessing\n"
     ]
    },
    {
     "name": "stderr",
     "output_type": "stream",
     "text": [
      "Warning: Player 'Backtracking' cannot start at unreachable location 97, starting at closest cell (using Euclidean distance)\n",
      "Backtracking:  40%|████      | 20/50 [00:04<00:05,  5.15it/s]"
     ]
    },
    {
     "name": "stdout",
     "output_type": "stream",
     "text": [
      "Postprocessing\n",
      "Postprocessing\n"
     ]
    },
    {
     "name": "stderr",
     "output_type": "stream",
     "text": [
      "Warning: Player 'Backtracking' cannot start at unreachable location 97, starting at closest cell (using Euclidean distance)\n",
      "Backtracking:  42%|████▏     | 21/50 [00:04<00:05,  5.45it/s]Warning: Player 'Backtracking' cannot start at unreachable location 97, starting at closest cell (using Euclidean distance)\n",
      "Backtracking:  44%|████▍     | 22/50 [00:04<00:04,  5.83it/s]"
     ]
    },
    {
     "name": "stdout",
     "output_type": "stream",
     "text": [
      "Postprocessing\n",
      "Postprocessing\n"
     ]
    },
    {
     "name": "stderr",
     "output_type": "stream",
     "text": [
      "Backtracking:  46%|████▌     | 23/50 [00:04<00:05,  5.37it/s]Warning: Player 'Backtracking' cannot start at unreachable location 97, starting at closest cell (using Euclidean distance)\n",
      "Backtracking:  48%|████▊     | 24/50 [00:04<00:04,  5.64it/s]"
     ]
    },
    {
     "name": "stdout",
     "output_type": "stream",
     "text": [
      "Postprocessing\n",
      "Postprocessing\n"
     ]
    },
    {
     "name": "stderr",
     "output_type": "stream",
     "text": [
      "Backtracking:  50%|█████     | 25/50 [00:05<00:05,  4.83it/s]"
     ]
    },
    {
     "name": "stdout",
     "output_type": "stream",
     "text": [
      "Postprocessing\n"
     ]
    },
    {
     "name": "stderr",
     "output_type": "stream",
     "text": [
      "Backtracking:  52%|█████▏    | 26/50 [00:05<00:05,  4.55it/s]"
     ]
    },
    {
     "name": "stdout",
     "output_type": "stream",
     "text": [
      "Postprocessing\n"
     ]
    },
    {
     "name": "stderr",
     "output_type": "stream",
     "text": [
      "Backtracking:  54%|█████▍    | 27/50 [00:05<00:04,  4.61it/s]"
     ]
    },
    {
     "name": "stdout",
     "output_type": "stream",
     "text": [
      "Postprocessing\n"
     ]
    },
    {
     "name": "stderr",
     "output_type": "stream",
     "text": [
      "Backtracking:  56%|█████▌    | 28/50 [00:05<00:05,  3.96it/s]"
     ]
    },
    {
     "name": "stdout",
     "output_type": "stream",
     "text": [
      "Postprocessing\n",
      "Postprocessing\n"
     ]
    },
    {
     "name": "stderr",
     "output_type": "stream",
     "text": [
      "Backtracking:  58%|█████▊    | 29/50 [00:06<00:05,  4.16it/s]Warning: Player 'Backtracking' cannot start at unreachable location 97, starting at closest cell (using Euclidean distance)\n",
      "Backtracking:  62%|██████▏   | 31/50 [00:06<00:04,  4.71it/s]"
     ]
    },
    {
     "name": "stdout",
     "output_type": "stream",
     "text": [
      "Postprocessing\n",
      "Postprocessing\n"
     ]
    },
    {
     "name": "stderr",
     "output_type": "stream",
     "text": [
      "Backtracking:  64%|██████▍   | 32/50 [00:06<00:04,  4.01it/s]"
     ]
    },
    {
     "name": "stdout",
     "output_type": "stream",
     "text": [
      "Postprocessing\n"
     ]
    },
    {
     "name": "stderr",
     "output_type": "stream",
     "text": [
      "Backtracking:  68%|██████▊   | 34/50 [00:07<00:03,  4.26it/s]"
     ]
    },
    {
     "name": "stdout",
     "output_type": "stream",
     "text": [
      "Postprocessing\n",
      "Postprocessing\n"
     ]
    },
    {
     "name": "stderr",
     "output_type": "stream",
     "text": [
      "Warning: Player 'Backtracking' cannot start at unreachable location 97, starting at closest cell (using Euclidean distance)\n",
      "Backtracking:  70%|███████   | 35/50 [00:07<00:03,  4.86it/s]"
     ]
    },
    {
     "name": "stdout",
     "output_type": "stream",
     "text": [
      "Postprocessing\n"
     ]
    },
    {
     "name": "stderr",
     "output_type": "stream",
     "text": [
      "Backtracking:  74%|███████▍  | 37/50 [00:07<00:02,  4.53it/s]"
     ]
    },
    {
     "name": "stdout",
     "output_type": "stream",
     "text": [
      "Postprocessing\n",
      "Postprocessing\n"
     ]
    },
    {
     "name": "stderr",
     "output_type": "stream",
     "text": [
      "Backtracking:  78%|███████▊  | 39/50 [00:08<00:02,  4.35it/s]"
     ]
    },
    {
     "name": "stdout",
     "output_type": "stream",
     "text": [
      "Postprocessing\n",
      "Postprocessing\n"
     ]
    },
    {
     "name": "stderr",
     "output_type": "stream",
     "text": [
      "Backtracking:  82%|████████▏ | 41/50 [00:08<00:01,  5.30it/s]"
     ]
    },
    {
     "name": "stdout",
     "output_type": "stream",
     "text": [
      "Postprocessing\n",
      "Postprocessing\n"
     ]
    },
    {
     "name": "stderr",
     "output_type": "stream",
     "text": [
      "Backtracking:  84%|████████▍ | 42/50 [00:08<00:01,  4.70it/s]"
     ]
    },
    {
     "name": "stdout",
     "output_type": "stream",
     "text": [
      "Postprocessing\n"
     ]
    },
    {
     "name": "stderr",
     "output_type": "stream",
     "text": [
      "Backtracking:  86%|████████▌ | 43/50 [00:09<00:01,  4.29it/s]Warning: Player 'Backtracking' cannot start at unreachable location 97, starting at closest cell (using Euclidean distance)\n",
      "Backtracking:  88%|████████▊ | 44/50 [00:09<00:01,  4.51it/s]"
     ]
    },
    {
     "name": "stdout",
     "output_type": "stream",
     "text": [
      "Postprocessing\n",
      "Postprocessing\n"
     ]
    },
    {
     "name": "stderr",
     "output_type": "stream",
     "text": [
      "Backtracking:  90%|█████████ | 45/50 [00:09<00:01,  4.16it/s]"
     ]
    },
    {
     "name": "stdout",
     "output_type": "stream",
     "text": [
      "Postprocessing\n"
     ]
    },
    {
     "name": "stderr",
     "output_type": "stream",
     "text": [
      "Backtracking:  94%|█████████▍| 47/50 [00:10<00:00,  4.91it/s]"
     ]
    },
    {
     "name": "stdout",
     "output_type": "stream",
     "text": [
      "Postprocessing\n",
      "Postprocessing\n"
     ]
    },
    {
     "name": "stderr",
     "output_type": "stream",
     "text": [
      "Backtracking:  98%|█████████▊| 49/50 [00:10<00:00,  3.80it/s]"
     ]
    },
    {
     "name": "stdout",
     "output_type": "stream",
     "text": [
      "Postprocessing\n",
      "Postprocessing\n"
     ]
    },
    {
     "name": "stderr",
     "output_type": "stream",
     "text": [
      "Backtracking: 100%|██████████| 50/50 [00:10<00:00,  4.56it/s]\n"
     ]
    },
    {
     "name": "stdout",
     "output_type": "stream",
     "text": [
      "Postprocessing\n"
     ]
    },
    {
     "name": "stderr",
     "output_type": "stream",
     "text": [
      "Backtracking:   0%|          | 0/50 [00:00<?, ?it/s]Warning: Player 'Backtracking' cannot start at unreachable location 97, starting at closest cell (using Euclidean distance)\n",
      "Backtracking:   2%|▏         | 1/50 [00:00<00:18,  2.65it/s]"
     ]
    },
    {
     "name": "stdout",
     "output_type": "stream",
     "text": [
      "Postprocessing\n"
     ]
    },
    {
     "name": "stderr",
     "output_type": "stream",
     "text": [
      "Backtracking:   4%|▍         | 2/50 [00:00<00:14,  3.24it/s]"
     ]
    },
    {
     "name": "stdout",
     "output_type": "stream",
     "text": [
      "Postprocessing\n"
     ]
    },
    {
     "name": "stderr",
     "output_type": "stream",
     "text": [
      "Backtracking:   6%|▌         | 3/50 [00:00<00:14,  3.16it/s]"
     ]
    },
    {
     "name": "stdout",
     "output_type": "stream",
     "text": [
      "Postprocessing\n"
     ]
    },
    {
     "name": "stderr",
     "output_type": "stream",
     "text": [
      "Backtracking:   8%|▊         | 4/50 [00:01<00:17,  2.59it/s]"
     ]
    },
    {
     "name": "stdout",
     "output_type": "stream",
     "text": [
      "Postprocessing\n"
     ]
    },
    {
     "name": "stderr",
     "output_type": "stream",
     "text": [
      "Backtracking:  10%|█         | 5/50 [00:01<00:17,  2.55it/s]"
     ]
    },
    {
     "name": "stdout",
     "output_type": "stream",
     "text": [
      "Postprocessing\n"
     ]
    },
    {
     "name": "stderr",
     "output_type": "stream",
     "text": [
      "Backtracking:  12%|█▏        | 6/50 [00:02<00:17,  2.52it/s]"
     ]
    },
    {
     "name": "stdout",
     "output_type": "stream",
     "text": [
      "Postprocessing\n"
     ]
    },
    {
     "name": "stderr",
     "output_type": "stream",
     "text": [
      "Backtracking:  14%|█▍        | 7/50 [00:03<00:28,  1.50it/s]"
     ]
    },
    {
     "name": "stdout",
     "output_type": "stream",
     "text": [
      "Postprocessing\n"
     ]
    },
    {
     "name": "stderr",
     "output_type": "stream",
     "text": [
      "Backtracking:  16%|█▌        | 8/50 [00:04<00:26,  1.58it/s]"
     ]
    },
    {
     "name": "stdout",
     "output_type": "stream",
     "text": [
      "Postprocessing\n"
     ]
    },
    {
     "name": "stderr",
     "output_type": "stream",
     "text": [
      "Backtracking:  18%|█▊        | 9/50 [00:04<00:22,  1.79it/s]"
     ]
    },
    {
     "name": "stdout",
     "output_type": "stream",
     "text": [
      "Postprocessing\n"
     ]
    },
    {
     "name": "stderr",
     "output_type": "stream",
     "text": [
      "Backtracking:  20%|██        | 10/50 [00:05<00:34,  1.16it/s]"
     ]
    },
    {
     "name": "stdout",
     "output_type": "stream",
     "text": [
      "Postprocessing\n"
     ]
    },
    {
     "name": "stderr",
     "output_type": "stream",
     "text": [
      "Backtracking:  22%|██▏       | 11/50 [00:06<00:26,  1.48it/s]"
     ]
    },
    {
     "name": "stdout",
     "output_type": "stream",
     "text": [
      "Postprocessing\n",
      "Postprocessing\n"
     ]
    },
    {
     "name": "stderr",
     "output_type": "stream",
     "text": [
      "Warning: Player 'Backtracking' cannot start at unreachable location 97, starting at closest cell (using Euclidean distance)\n",
      "Backtracking:  24%|██▍       | 12/50 [00:06<00:20,  1.86it/s]Warning: Player 'Backtracking' cannot start at unreachable location 97, starting at closest cell (using Euclidean distance)\n",
      "Backtracking:  26%|██▌       | 13/50 [00:06<00:16,  2.27it/s]"
     ]
    },
    {
     "name": "stdout",
     "output_type": "stream",
     "text": [
      "Postprocessing\n"
     ]
    },
    {
     "name": "stderr",
     "output_type": "stream",
     "text": [
      "Backtracking:  28%|██▊       | 14/50 [00:07<00:14,  2.46it/s]"
     ]
    },
    {
     "name": "stdout",
     "output_type": "stream",
     "text": [
      "Postprocessing\n"
     ]
    },
    {
     "name": "stderr",
     "output_type": "stream",
     "text": [
      "Backtracking:  30%|███       | 15/50 [00:07<00:12,  2.89it/s]"
     ]
    },
    {
     "name": "stdout",
     "output_type": "stream",
     "text": [
      "Postprocessing\n"
     ]
    },
    {
     "name": "stderr",
     "output_type": "stream",
     "text": [
      "Backtracking:  32%|███▏      | 16/50 [00:07<00:13,  2.54it/s]Warning: Player 'Backtracking' cannot start at unreachable location 97, starting at closest cell (using Euclidean distance)\n",
      "Backtracking:  34%|███▍      | 17/50 [00:07<00:10,  3.11it/s]"
     ]
    },
    {
     "name": "stdout",
     "output_type": "stream",
     "text": [
      "Postprocessing\n",
      "Postprocessing\n"
     ]
    },
    {
     "name": "stderr",
     "output_type": "stream",
     "text": [
      "Backtracking:  36%|███▌      | 18/50 [00:08<00:10,  3.18it/s]"
     ]
    },
    {
     "name": "stdout",
     "output_type": "stream",
     "text": [
      "Postprocessing\n",
      "Postprocessing\n"
     ]
    },
    {
     "name": "stderr",
     "output_type": "stream",
     "text": [
      "Warning: Player 'Backtracking' cannot start at unreachable location 97, starting at closest cell (using Euclidean distance)\n",
      "Backtracking:  40%|████      | 20/50 [00:08<00:08,  3.65it/s]"
     ]
    },
    {
     "name": "stdout",
     "output_type": "stream",
     "text": [
      "Postprocessing\n"
     ]
    },
    {
     "name": "stderr",
     "output_type": "stream",
     "text": [
      "Warning: Player 'Backtracking' cannot start at unreachable location 97, starting at closest cell (using Euclidean distance)\n",
      "Backtracking:  42%|████▏     | 21/50 [00:08<00:07,  3.74it/s]Warning: Player 'Backtracking' cannot start at unreachable location 97, starting at closest cell (using Euclidean distance)\n",
      "Backtracking:  44%|████▍     | 22/50 [00:09<00:06,  4.24it/s]"
     ]
    },
    {
     "name": "stdout",
     "output_type": "stream",
     "text": [
      "Postprocessing\n",
      "Postprocessing\n"
     ]
    },
    {
     "name": "stderr",
     "output_type": "stream",
     "text": [
      "Backtracking:  46%|████▌     | 23/50 [00:09<00:09,  2.76it/s]"
     ]
    },
    {
     "name": "stdout",
     "output_type": "stream",
     "text": [
      "Postprocessing\n"
     ]
    },
    {
     "name": "stderr",
     "output_type": "stream",
     "text": [
      "Warning: Player 'Backtracking' cannot start at unreachable location 97, starting at closest cell (using Euclidean distance)\n",
      "Backtracking:  48%|████▊     | 24/50 [00:10<00:09,  2.80it/s]"
     ]
    },
    {
     "name": "stdout",
     "output_type": "stream",
     "text": [
      "Postprocessing\n"
     ]
    },
    {
     "name": "stderr",
     "output_type": "stream",
     "text": [
      "Backtracking:  50%|█████     | 25/50 [00:10<00:10,  2.43it/s]"
     ]
    },
    {
     "name": "stdout",
     "output_type": "stream",
     "text": [
      "Postprocessing\n"
     ]
    },
    {
     "name": "stderr",
     "output_type": "stream",
     "text": [
      "Backtracking:  52%|█████▏    | 26/50 [00:11<00:13,  1.81it/s]"
     ]
    },
    {
     "name": "stdout",
     "output_type": "stream",
     "text": [
      "Postprocessing\n"
     ]
    },
    {
     "name": "stderr",
     "output_type": "stream",
     "text": [
      "Backtracking:  54%|█████▍    | 27/50 [00:11<00:10,  2.15it/s]"
     ]
    },
    {
     "name": "stdout",
     "output_type": "stream",
     "text": [
      "Postprocessing\n"
     ]
    },
    {
     "name": "stderr",
     "output_type": "stream",
     "text": [
      "Backtracking:  56%|█████▌    | 28/50 [00:12<00:12,  1.79it/s]"
     ]
    },
    {
     "name": "stdout",
     "output_type": "stream",
     "text": [
      "Postprocessing\n"
     ]
    },
    {
     "name": "stderr",
     "output_type": "stream",
     "text": [
      "Backtracking:  58%|█████▊    | 29/50 [00:13<00:12,  1.74it/s]"
     ]
    },
    {
     "name": "stdout",
     "output_type": "stream",
     "text": [
      "Postprocessing\n"
     ]
    },
    {
     "name": "stderr",
     "output_type": "stream",
     "text": [
      "Warning: Player 'Backtracking' cannot start at unreachable location 97, starting at closest cell (using Euclidean distance)\n",
      "Backtracking:  60%|██████    | 30/50 [00:13<00:09,  2.16it/s]"
     ]
    },
    {
     "name": "stdout",
     "output_type": "stream",
     "text": [
      "Postprocessing\n"
     ]
    },
    {
     "name": "stderr",
     "output_type": "stream",
     "text": [
      "Backtracking:  62%|██████▏   | 31/50 [00:13<00:08,  2.18it/s]"
     ]
    },
    {
     "name": "stdout",
     "output_type": "stream",
     "text": [
      "Postprocessing\n"
     ]
    },
    {
     "name": "stderr",
     "output_type": "stream",
     "text": [
      "Backtracking:  64%|██████▍   | 32/50 [00:15<00:12,  1.41it/s]"
     ]
    },
    {
     "name": "stdout",
     "output_type": "stream",
     "text": [
      "Postprocessing\n"
     ]
    },
    {
     "name": "stderr",
     "output_type": "stream",
     "text": [
      "Backtracking:  66%|██████▌   | 33/50 [00:15<00:12,  1.40it/s]"
     ]
    },
    {
     "name": "stdout",
     "output_type": "stream",
     "text": [
      "Postprocessing\n"
     ]
    },
    {
     "name": "stderr",
     "output_type": "stream",
     "text": [
      "Backtracking:  68%|██████▊   | 34/50 [00:16<00:10,  1.49it/s]Warning: Player 'Backtracking' cannot start at unreachable location 97, starting at closest cell (using Euclidean distance)\n",
      "Backtracking:  70%|███████   | 35/50 [00:16<00:07,  1.95it/s]"
     ]
    },
    {
     "name": "stdout",
     "output_type": "stream",
     "text": [
      "Postprocessing\n",
      "Postprocessing\n"
     ]
    },
    {
     "name": "stderr",
     "output_type": "stream",
     "text": [
      "Backtracking:  72%|███████▏  | 36/50 [00:16<00:05,  2.49it/s]"
     ]
    },
    {
     "name": "stdout",
     "output_type": "stream",
     "text": [
      "Postprocessing\n"
     ]
    },
    {
     "name": "stderr",
     "output_type": "stream",
     "text": [
      "Backtracking:  74%|███████▍  | 37/50 [00:16<00:04,  2.78it/s]"
     ]
    },
    {
     "name": "stdout",
     "output_type": "stream",
     "text": [
      "Postprocessing\n"
     ]
    },
    {
     "name": "stderr",
     "output_type": "stream",
     "text": [
      "Backtracking:  78%|███████▊  | 39/50 [00:17<00:03,  3.43it/s]"
     ]
    },
    {
     "name": "stdout",
     "output_type": "stream",
     "text": [
      "Postprocessing\n",
      "Postprocessing\n"
     ]
    },
    {
     "name": "stderr",
     "output_type": "stream",
     "text": [
      "Backtracking:  82%|████████▏ | 41/50 [00:18<00:02,  3.43it/s]"
     ]
    },
    {
     "name": "stdout",
     "output_type": "stream",
     "text": [
      "Postprocessing\n",
      "Postprocessing\n"
     ]
    },
    {
     "name": "stderr",
     "output_type": "stream",
     "text": [
      "Backtracking:  84%|████████▍ | 42/50 [00:18<00:03,  2.66it/s]"
     ]
    },
    {
     "name": "stdout",
     "output_type": "stream",
     "text": [
      "Postprocessing\n"
     ]
    },
    {
     "name": "stderr",
     "output_type": "stream",
     "text": [
      "Backtracking:  86%|████████▌ | 43/50 [00:19<00:02,  2.61it/s]Warning: Player 'Backtracking' cannot start at unreachable location 97, starting at closest cell (using Euclidean distance)\n",
      "Backtracking:  88%|████████▊ | 44/50 [00:19<00:01,  3.21it/s]"
     ]
    },
    {
     "name": "stdout",
     "output_type": "stream",
     "text": [
      "Postprocessing\n",
      "Postprocessing\n"
     ]
    },
    {
     "name": "stderr",
     "output_type": "stream",
     "text": [
      "Backtracking:  90%|█████████ | 45/50 [00:19<00:01,  3.04it/s]"
     ]
    },
    {
     "name": "stdout",
     "output_type": "stream",
     "text": [
      "Postprocessing\n"
     ]
    },
    {
     "name": "stderr",
     "output_type": "stream",
     "text": [
      "Backtracking:  92%|█████████▏| 46/50 [00:19<00:01,  3.29it/s]"
     ]
    },
    {
     "name": "stdout",
     "output_type": "stream",
     "text": [
      "Postprocessing\n"
     ]
    },
    {
     "name": "stderr",
     "output_type": "stream",
     "text": [
      "Backtracking:  94%|█████████▍| 47/50 [00:20<00:00,  3.44it/s]"
     ]
    },
    {
     "name": "stdout",
     "output_type": "stream",
     "text": [
      "Postprocessing\n"
     ]
    },
    {
     "name": "stderr",
     "output_type": "stream",
     "text": [
      "Backtracking:  96%|█████████▌| 48/50 [00:20<00:00,  2.78it/s]"
     ]
    },
    {
     "name": "stdout",
     "output_type": "stream",
     "text": [
      "Postprocessing\n"
     ]
    },
    {
     "name": "stderr",
     "output_type": "stream",
     "text": [
      "Backtracking:  98%|█████████▊| 49/50 [00:21<00:00,  2.49it/s]"
     ]
    },
    {
     "name": "stdout",
     "output_type": "stream",
     "text": [
      "Postprocessing\n"
     ]
    },
    {
     "name": "stderr",
     "output_type": "stream",
     "text": [
      "Backtracking: 100%|██████████| 50/50 [00:21<00:00,  2.30it/s]"
     ]
    },
    {
     "name": "stdout",
     "output_type": "stream",
     "text": [
      "Postprocessing\n"
     ]
    },
    {
     "name": "stderr",
     "output_type": "stream",
     "text": [
      "\n"
     ]
    }
   ],
   "source": [
    "# Players to test (keys are legends to appear in the plot)\n",
    "players = {\"Greedy\": {\"class\": Greedy, \"args\": {}},\n",
    "           \"GreedyEachCheese\": {\"class\":GreedyEachCheese , \"args\": {}},\n",
    "           \"GreedyEachTurn\": {\"class\": GreedyEachTurn, \"args\": {}},\n",
    "            }\n",
    "results={}\n",
    "for i in range(NB_GAMES):\n",
    "    results[i]={\"Greedy\":None,\"GreedyEachCheese\":None,\"GreedyEachTurn\":None}\n",
    "#create 100 games between palyers with different random seed     \n",
    "for seed in tqdm.tqdm(range(NB_GAMES)):\n",
    "\n",
    "    CONFIG = {'maze_width': 25,\n",
    "          'maze_height': 20,\n",
    "          'cell_percentage': 80.0,\n",
    "          'wall_percentage': 60.0,\n",
    "          'mud_percentage': 20.0,\n",
    "          'mud_range': [4, 9],\n",
    "          'preprocessing_time': 3.0,\n",
    "          'turn_time': 0.1,\n",
    "          'random_seed':seed,\n",
    "          'game_mode':GameMode.SIMULATION}\n",
    "    # Instantiate a game with specified arguments\n",
    "    game = Game(**CONFIG)\n",
    "    # Instantiate players in distinct teams\n",
    "    player_1 =Greedy()\n",
    "    player_2=GreedyEachTurn()\n",
    "    player_3=GreedyEachCheese()\n",
    "    game.add_player(player_1, team=\"Team Ratz\", location=StartingLocation.RANDOM)\n",
    "    game.add_player(player_2, team=\"Team Pythonz\", location=StartingLocation.RANDOM)\n",
    "    game.add_player(player_3, team=\"Team Ghostz\", location=StartingLocation.RANDOM)\n",
    "    # Start the game\n",
    "    stats = game.start()\n",
    "    for key in players:\n",
    "        results[seed][player]=stats[player]['score']\n",
    "\n",
    "\n",
    "#calculate the number of wins for each player\n",
    "nb_wins_Greedy=0\n",
    "nb_wins_GreedyEachCheese=0\n",
    "nb_wins_GreedyEachTurn=0\n",
    "\n",
    "for key in results:\n",
    "    L=list(results[key].items())\n",
    "    max_score=max(L, key=lambda x: x[1])[1]\n",
    "    max_players = [t for t in L if t[1] == max_score]\n",
    "    if 'Greedy' in max_players :\n",
    "        nb_wins_Greedy+=1\n",
    "    if 'GreedyEachCheese'in max_players :\n",
    "        nb_wins_GreedyEachCheese+=1\n",
    "    if 'GreedyEachTurn' in max_players:\n",
    "        nb_wins_GreedyEachTurn+=1\n",
    "\n",
    "#print results \n",
    "print(nb_wins_Greedy)\n",
    "print(nb_wins_GreedyEachCheese)\n",
    "print(nb_wins_GreedyEachTurn)"
   ]
  },
  {
   "cell_type": "markdown",
   "metadata": {},
   "source": [
    "<h1 style=\"background-color: gray;\n",
    "           color: black;\n",
    "           padding: 20px;\n",
    "           text-align: center;\">ANALYZE THE RESULTS</h1>\n",
    "           \n",
    "Now that all games are performed, we plot the percentage of games completed as a function of the number of turns elapsed."
   ]
  },
  {
   "cell_type": "code",
   "execution_count": 23,
   "metadata": {},
   "outputs": [
    {
     "data": {
      "image/png": "[encoded data removed]",
      "text/plain": [
       "<Figure size 1000x500 with 1 Axes>"
      ]
     },
     "metadata": {},
     "output_type": "display_data"
    }
   ],
   "source": [
    "# Visualization time needed by palyers as a function of the number of cheese\n",
    "max_times = max([max(results[player]) for player in results])\n",
    "pyplot.figure(figsize=(10, 5))\n",
    "for player in results:\n",
    "    times = results[player]\n",
    "    pyplot.plot(Nb_Cheese,times, label=player)\n",
    "pyplot.title(\"Comparison of time needed to complete all %d games\" % (NB_GAMES))\n",
    "pyplot.xlabel(\"number of cheese\")\n",
    "pyplot.ylabel(\"Time needed in preprocessing\")\n",
    "pyplot.legend()\n",
    "pyplot.show()"
   ]
  },
  {
   "cell_type": "markdown",
   "metadata": {},
   "source": [
    "As anticipated, the `Exhaustive` player requires more preprocessing time compared to both the `Backtracking` player and the `Greedy` player.\\\n",
    "Conversely, the `Greedy` player takes the least amount of time among all three players."
   ]
  }
 ],
 "metadata": {
  "kernelspec": {
   "display_name": "Python 3",
   "language": "python",
   "name": "python3"
  },
  "language_info": {
   "codemirror_mode": {
    "name": "ipython",
    "version": 3
   },
   "file_extension": ".py",
   "mimetype": "text/x-python",
   "name": "python",
   "nbconvert_exporter": "python",
   "pygments_lexer": "ipython3",
   "version": "3.12.6"
  }
 },
 "nbformat": 4,
 "nbformat_minor": 2
}
