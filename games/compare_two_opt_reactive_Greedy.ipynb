{
 "cells": [
  {
   "cell_type": "markdown",
   "metadata": {},
   "source": [
    "<h1 style=\"background-color: gray;\n",
    "           color: black;\n",
    "           padding: 20px;\n",
    "           text-align: center;\">INFO</h1>\n",
    "\n",
    "In this script, we compare players `Exhaustive`, `Greedy`,`Back_tracking` in a game where there is only one cheese to catch in a maze without mud. \\\n",
    "All programs are evaluated on the same game configurations. \\\n",
    "We do not show the game interface here, to make the script faster. \\\n",
    "The goal is to compare the performances of the different random players in the same conditions."
   ]
  },
  {
   "cell_type": "markdown",
   "metadata": {},
   "source": [
    "<h1 style=\"background-color: gray;\n",
    "           color: black;\n",
    "           padding: 20px;\n",
    "           text-align: center;\">IMPORTS</h1>"
   ]
  },
  {
   "cell_type": "code",
   "execution_count": 1,
   "metadata": {},
   "outputs": [
    {
     "name": "stderr",
     "output_type": "stream",
     "text": [
      "C:\\Users\\pp\\AppData\\Roaming\\Python\\Python312\\site-packages\\tqdm\\auto.py:21: TqdmWarning: IProgress not found. Please update jupyter and ipywidgets. See https://ipywidgets.readthedocs.io/en/stable/user_install.html\n",
      "  from .autonotebook import tqdm as notebook_tqdm\n"
     ]
    }
   ],
   "source": [
    "# External imports\n",
    "import sys\n",
    "import os\n",
    "import tqdm.auto as tqdm\n",
    "import matplotlib.pyplot as pyplot\n",
    "import scipy.stats as scstats\n",
    "\n",
    "# Add needed directories to the path\n",
    "sys.path.append(os.path.join(\"..\", \"players\"))\n",
    "\n",
    "# PyRat imports\n",
    "from pyrat import Game, GameMode\n",
    "from two_opt_reactive import Two_opt_reactive\n",
    "from Greedy import Greedy"
   ]
  },
  {
   "cell_type": "markdown",
   "metadata": {},
   "source": [
    "<h1 style=\"background-color: gray;\n",
    "           color: black;\n",
    "           padding: 20px;\n",
    "           text-align: center;\">CONSTANTS</h1>\n",
    "\n",
    "In this script, we are going to make multiple independent games. \\\n",
    "The goal is to collect enough statistics to draw conclusions on which algorithm is better than the other. \\\n",
    "This constant defines how many games are made."
   ]
  },
  {
   "cell_type": "code",
   "execution_count": 2,
   "metadata": {},
   "outputs": [],
   "source": [
    "# Determines how many games will be played for each player\n",
    "NB_GAMES = 50"
   ]
  },
  {
   "cell_type": "markdown",
   "metadata": {},
   "source": [
    "Let's configure the game with a dictionary. \\\n",
    "Note that we put the game mode as `SIMULATION` to perform all games as fast as possible."
   ]
  },
  {
   "cell_type": "code",
   "execution_count": 3,
   "metadata": {},
   "outputs": [],
   "source": [
    "# Customize the game elements\n",
    "CONFIG = {\"mud_percentage\": 20,\n",
    "          \"nb_cheese\": 5,\n",
    "          \"game_mode\": GameMode.SIMULATION}"
   ]
  },
  {
   "cell_type": "markdown",
   "metadata": {},
   "source": [
    "<h1 style=\"background-color: gray;\n",
    "           color: black;\n",
    "           padding: 20px;\n",
    "           text-align: center;\">RUN THE GAMES</h1>\n",
    "\n",
    "Let us now perform all games. \\\n",
    "For each game, we remember the number of turns needed to complete it."
   ]
  },
  {
   "cell_type": "code",
   "execution_count": 4,
   "metadata": {},
   "outputs": [
    {
     "name": "stderr",
     "output_type": "stream",
     "text": [
      "Two_opt_reactive:   0%|          | 0/50 [00:00<?, ?it/s]"
     ]
    },
    {
     "name": "stderr",
     "output_type": "stream",
     "text": [
      "Warning: Player 'Two_opt_reactive' cannot start at unreachable location 97, starting at closest cell (using Euclidean distance)\n",
      "Two_opt_reactive:   2%|▏         | 1/50 [00:00<00:24,  1.98it/s]"
     ]
    },
    {
     "name": "stdout",
     "output_type": "stream",
     "text": [
      "the preprocessing destination is 27\n",
      "Postprocessing\n"
     ]
    },
    {
     "name": "stderr",
     "output_type": "stream",
     "text": [
      "Two_opt_reactive:   4%|▍         | 2/50 [00:00<00:21,  2.28it/s]"
     ]
    },
    {
     "name": "stdout",
     "output_type": "stream",
     "text": [
      "the preprocessing destination is 100\n",
      "Postprocessing\n"
     ]
    },
    {
     "name": "stderr",
     "output_type": "stream",
     "text": [
      "Two_opt_reactive:   6%|▌         | 3/50 [00:01<00:19,  2.39it/s]"
     ]
    },
    {
     "name": "stdout",
     "output_type": "stream",
     "text": [
      "the preprocessing destination is 100\n",
      "Postprocessing\n"
     ]
    },
    {
     "name": "stderr",
     "output_type": "stream",
     "text": [
      "Two_opt_reactive:   8%|▊         | 4/50 [00:01<00:18,  2.50it/s]"
     ]
    },
    {
     "name": "stdout",
     "output_type": "stream",
     "text": [
      "the preprocessing destination is 7\n",
      "Postprocessing\n"
     ]
    },
    {
     "name": "stderr",
     "output_type": "stream",
     "text": [
      "Two_opt_reactive:  10%|█         | 5/50 [00:02<00:18,  2.40it/s]"
     ]
    },
    {
     "name": "stdout",
     "output_type": "stream",
     "text": [
      "the preprocessing destination is 67\n",
      "Postprocessing\n"
     ]
    },
    {
     "name": "stderr",
     "output_type": "stream",
     "text": [
      "Two_opt_reactive:  12%|█▏        | 6/50 [00:02<00:19,  2.27it/s]"
     ]
    },
    {
     "name": "stdout",
     "output_type": "stream",
     "text": [
      "the preprocessing destination is 17\n",
      "Postprocessing\n"
     ]
    },
    {
     "name": "stderr",
     "output_type": "stream",
     "text": [
      "Two_opt_reactive:  14%|█▍        | 7/50 [00:03<00:18,  2.32it/s]"
     ]
    },
    {
     "name": "stdout",
     "output_type": "stream",
     "text": [
      "the preprocessing destination is 124\n",
      "Postprocessing\n"
     ]
    },
    {
     "name": "stderr",
     "output_type": "stream",
     "text": [
      "Two_opt_reactive:  16%|█▌        | 8/50 [00:03<00:18,  2.31it/s]"
     ]
    },
    {
     "name": "stdout",
     "output_type": "stream",
     "text": [
      "the preprocessing destination is 25\n",
      "Postprocessing\n"
     ]
    },
    {
     "name": "stderr",
     "output_type": "stream",
     "text": [
      "Two_opt_reactive:  18%|█▊        | 9/50 [00:03<00:17,  2.41it/s]"
     ]
    },
    {
     "name": "stdout",
     "output_type": "stream",
     "text": [
      "the preprocessing destination is 50\n",
      "Postprocessing\n"
     ]
    },
    {
     "name": "stderr",
     "output_type": "stream",
     "text": [
      "Two_opt_reactive:  20%|██        | 10/50 [00:04<00:16,  2.44it/s]"
     ]
    },
    {
     "name": "stdout",
     "output_type": "stream",
     "text": [
      "the preprocessing destination is 180\n",
      "Postprocessing\n"
     ]
    },
    {
     "name": "stderr",
     "output_type": "stream",
     "text": [
      "Two_opt_reactive:  22%|██▏       | 11/50 [00:04<00:18,  2.14it/s]"
     ]
    },
    {
     "name": "stdout",
     "output_type": "stream",
     "text": [
      "the preprocessing destination is 36\n",
      "Postprocessing\n"
     ]
    },
    {
     "name": "stderr",
     "output_type": "stream",
     "text": [
      "Warning: Player 'Two_opt_reactive' cannot start at unreachable location 97, starting at closest cell (using Euclidean distance)\n",
      "Two_opt_reactive:  24%|██▍       | 12/50 [00:05<00:17,  2.21it/s]"
     ]
    },
    {
     "name": "stdout",
     "output_type": "stream",
     "text": [
      "the preprocessing destination is 50\n",
      "Postprocessing\n"
     ]
    },
    {
     "name": "stderr",
     "output_type": "stream",
     "text": [
      "Warning: Player 'Two_opt_reactive' cannot start at unreachable location 97, starting at closest cell (using Euclidean distance)\n",
      "Two_opt_reactive:  26%|██▌       | 13/50 [00:05<00:15,  2.34it/s]"
     ]
    },
    {
     "name": "stdout",
     "output_type": "stream",
     "text": [
      "the preprocessing destination is 138\n",
      "Postprocessing\n"
     ]
    },
    {
     "name": "stderr",
     "output_type": "stream",
     "text": [
      "Two_opt_reactive:  28%|██▊       | 14/50 [00:06<00:15,  2.26it/s]"
     ]
    },
    {
     "name": "stdout",
     "output_type": "stream",
     "text": [
      "the preprocessing destination is 151\n",
      "Postprocessing\n"
     ]
    },
    {
     "name": "stderr",
     "output_type": "stream",
     "text": [
      "Two_opt_reactive:  30%|███       | 15/50 [00:06<00:15,  2.29it/s]"
     ]
    },
    {
     "name": "stdout",
     "output_type": "stream",
     "text": [
      "the preprocessing destination is 7\n",
      "Postprocessing\n"
     ]
    },
    {
     "name": "stderr",
     "output_type": "stream",
     "text": [
      "Two_opt_reactive:  32%|███▏      | 16/50 [00:06<00:14,  2.37it/s]"
     ]
    },
    {
     "name": "stdout",
     "output_type": "stream",
     "text": [
      "the preprocessing destination is 127\n",
      "Postprocessing\n"
     ]
    },
    {
     "name": "stderr",
     "output_type": "stream",
     "text": [
      "Warning: Player 'Two_opt_reactive' cannot start at unreachable location 97, starting at closest cell (using Euclidean distance)\n",
      "Two_opt_reactive:  34%|███▍      | 17/50 [00:07<00:14,  2.26it/s]"
     ]
    },
    {
     "name": "stdout",
     "output_type": "stream",
     "text": [
      "the preprocessing destination is 161\n",
      "Postprocessing\n"
     ]
    },
    {
     "name": "stderr",
     "output_type": "stream",
     "text": [
      "Two_opt_reactive:  36%|███▌      | 18/50 [00:07<00:14,  2.27it/s]"
     ]
    },
    {
     "name": "stdout",
     "output_type": "stream",
     "text": [
      "the preprocessing destination is 67\n",
      "Postprocessing\n"
     ]
    },
    {
     "name": "stderr",
     "output_type": "stream",
     "text": [
      "Warning: Player 'Two_opt_reactive' cannot start at unreachable location 97, starting at closest cell (using Euclidean distance)\n",
      "Two_opt_reactive:  38%|███▊      | 19/50 [00:08<00:13,  2.32it/s]"
     ]
    },
    {
     "name": "stdout",
     "output_type": "stream",
     "text": [
      "the preprocessing destination is 134\n",
      "Postprocessing\n"
     ]
    },
    {
     "name": "stderr",
     "output_type": "stream",
     "text": [
      "Two_opt_reactive:  40%|████      | 20/50 [00:08<00:13,  2.25it/s]"
     ]
    },
    {
     "name": "stdout",
     "output_type": "stream",
     "text": [
      "the preprocessing destination is 191\n",
      "Postprocessing\n"
     ]
    },
    {
     "name": "stderr",
     "output_type": "stream",
     "text": [
      "Warning: Player 'Two_opt_reactive' cannot start at unreachable location 97, starting at closest cell (using Euclidean distance)\n",
      "Two_opt_reactive:  42%|████▏     | 21/50 [00:09<00:15,  1.92it/s]"
     ]
    },
    {
     "name": "stdout",
     "output_type": "stream",
     "text": [
      "the preprocessing destination is 94\n",
      "Postprocessing\n"
     ]
    },
    {
     "name": "stderr",
     "output_type": "stream",
     "text": [
      "Warning: Player 'Two_opt_reactive' cannot start at unreachable location 97, starting at closest cell (using Euclidean distance)\n",
      "Two_opt_reactive:  44%|████▍     | 22/50 [00:09<00:13,  2.01it/s]"
     ]
    },
    {
     "name": "stdout",
     "output_type": "stream",
     "text": [
      "the preprocessing destination is 105\n",
      "Postprocessing\n"
     ]
    },
    {
     "name": "stderr",
     "output_type": "stream",
     "text": [
      "Two_opt_reactive:  46%|████▌     | 23/50 [00:10<00:13,  2.00it/s]"
     ]
    },
    {
     "name": "stdout",
     "output_type": "stream",
     "text": [
      "the preprocessing destination is 141\n",
      "Postprocessing\n"
     ]
    },
    {
     "name": "stderr",
     "output_type": "stream",
     "text": [
      "Warning: Player 'Two_opt_reactive' cannot start at unreachable location 97, starting at closest cell (using Euclidean distance)\n",
      "Two_opt_reactive:  48%|████▊     | 24/50 [00:10<00:12,  2.09it/s]"
     ]
    },
    {
     "name": "stdout",
     "output_type": "stream",
     "text": [
      "the preprocessing destination is 67\n",
      "Postprocessing\n"
     ]
    },
    {
     "name": "stderr",
     "output_type": "stream",
     "text": [
      "Two_opt_reactive:  50%|█████     | 25/50 [00:11<00:12,  2.05it/s]"
     ]
    },
    {
     "name": "stdout",
     "output_type": "stream",
     "text": [
      "the preprocessing destination is 83\n",
      "Postprocessing\n"
     ]
    },
    {
     "name": "stderr",
     "output_type": "stream",
     "text": [
      "Two_opt_reactive:  52%|█████▏    | 26/50 [00:11<00:10,  2.22it/s]"
     ]
    },
    {
     "name": "stdout",
     "output_type": "stream",
     "text": [
      "the preprocessing destination is 53\n",
      "Postprocessing\n"
     ]
    },
    {
     "name": "stderr",
     "output_type": "stream",
     "text": [
      "Two_opt_reactive:  54%|█████▍    | 27/50 [00:12<00:09,  2.36it/s]"
     ]
    },
    {
     "name": "stdout",
     "output_type": "stream",
     "text": [
      "the preprocessing destination is 99\n",
      "Postprocessing\n"
     ]
    },
    {
     "name": "stderr",
     "output_type": "stream",
     "text": [
      "Two_opt_reactive:  56%|█████▌    | 28/50 [00:12<00:09,  2.43it/s]"
     ]
    },
    {
     "name": "stdout",
     "output_type": "stream",
     "text": [
      "the preprocessing destination is 110\n",
      "Postprocessing\n"
     ]
    },
    {
     "name": "stderr",
     "output_type": "stream",
     "text": [
      "Two_opt_reactive:  58%|█████▊    | 29/50 [00:12<00:08,  2.40it/s]"
     ]
    },
    {
     "name": "stdout",
     "output_type": "stream",
     "text": [
      "the preprocessing destination is 126\n",
      "Postprocessing\n"
     ]
    },
    {
     "name": "stderr",
     "output_type": "stream",
     "text": [
      "Warning: Player 'Two_opt_reactive' cannot start at unreachable location 97, starting at closest cell (using Euclidean distance)\n",
      "Two_opt_reactive:  60%|██████    | 30/50 [00:13<00:10,  1.96it/s]"
     ]
    },
    {
     "name": "stdout",
     "output_type": "stream",
     "text": [
      "the preprocessing destination is 128\n",
      "Postprocessing\n"
     ]
    },
    {
     "name": "stderr",
     "output_type": "stream",
     "text": [
      "Two_opt_reactive:  62%|██████▏   | 31/50 [00:14<00:09,  2.02it/s]"
     ]
    },
    {
     "name": "stdout",
     "output_type": "stream",
     "text": [
      "the preprocessing destination is 79\n",
      "Postprocessing\n"
     ]
    },
    {
     "name": "stderr",
     "output_type": "stream",
     "text": [
      "Two_opt_reactive:  64%|██████▍   | 32/50 [00:14<00:08,  2.02it/s]"
     ]
    },
    {
     "name": "stdout",
     "output_type": "stream",
     "text": [
      "the preprocessing destination is 130\n",
      "Postprocessing\n"
     ]
    },
    {
     "name": "stderr",
     "output_type": "stream",
     "text": [
      "Two_opt_reactive:  66%|██████▌   | 33/50 [00:15<00:08,  1.97it/s]"
     ]
    },
    {
     "name": "stdout",
     "output_type": "stream",
     "text": [
      "the preprocessing destination is 133\n",
      "Postprocessing\n"
     ]
    },
    {
     "name": "stderr",
     "output_type": "stream",
     "text": [
      "Two_opt_reactive:  68%|██████▊   | 34/50 [00:15<00:08,  1.95it/s]"
     ]
    },
    {
     "name": "stdout",
     "output_type": "stream",
     "text": [
      "the preprocessing destination is 188\n",
      "Postprocessing\n"
     ]
    },
    {
     "name": "stderr",
     "output_type": "stream",
     "text": [
      "Warning: Player 'Two_opt_reactive' cannot start at unreachable location 97, starting at closest cell (using Euclidean distance)\n",
      "Two_opt_reactive:  70%|███████   | 35/50 [00:15<00:07,  2.06it/s]"
     ]
    },
    {
     "name": "stdout",
     "output_type": "stream",
     "text": [
      "the preprocessing destination is 6\n",
      "Postprocessing\n"
     ]
    },
    {
     "name": "stderr",
     "output_type": "stream",
     "text": [
      "Two_opt_reactive:  72%|███████▏  | 36/50 [00:16<00:06,  2.12it/s]"
     ]
    },
    {
     "name": "stdout",
     "output_type": "stream",
     "text": [
      "the preprocessing destination is 117\n",
      "Postprocessing\n"
     ]
    },
    {
     "name": "stderr",
     "output_type": "stream",
     "text": [
      "Two_opt_reactive:  74%|███████▍  | 37/50 [00:16<00:06,  2.15it/s]"
     ]
    },
    {
     "name": "stdout",
     "output_type": "stream",
     "text": [
      "the preprocessing destination is 154\n",
      "Postprocessing\n"
     ]
    },
    {
     "name": "stderr",
     "output_type": "stream",
     "text": [
      "Two_opt_reactive:  76%|███████▌  | 38/50 [00:17<00:05,  2.23it/s]"
     ]
    },
    {
     "name": "stdout",
     "output_type": "stream",
     "text": [
      "the preprocessing destination is 169\n",
      "Postprocessing\n"
     ]
    },
    {
     "name": "stderr",
     "output_type": "stream",
     "text": [
      "Two_opt_reactive:  78%|███████▊  | 39/50 [00:17<00:04,  2.28it/s]"
     ]
    },
    {
     "name": "stdout",
     "output_type": "stream",
     "text": [
      "the preprocessing destination is 186\n",
      "Postprocessing\n"
     ]
    },
    {
     "name": "stderr",
     "output_type": "stream",
     "text": [
      "Two_opt_reactive:  80%|████████  | 40/50 [00:18<00:04,  2.10it/s]"
     ]
    },
    {
     "name": "stdout",
     "output_type": "stream",
     "text": [
      "the preprocessing destination is 66\n",
      "Postprocessing\n"
     ]
    },
    {
     "name": "stderr",
     "output_type": "stream",
     "text": [
      "Two_opt_reactive:  82%|████████▏ | 41/50 [00:18<00:04,  2.20it/s]"
     ]
    },
    {
     "name": "stdout",
     "output_type": "stream",
     "text": [
      "the preprocessing destination is 154\n",
      "Postprocessing\n"
     ]
    },
    {
     "name": "stderr",
     "output_type": "stream",
     "text": [
      "Two_opt_reactive:  84%|████████▍ | 42/50 [00:19<00:03,  2.19it/s]"
     ]
    },
    {
     "name": "stdout",
     "output_type": "stream",
     "text": [
      "the preprocessing destination is 69\n",
      "Postprocessing\n"
     ]
    },
    {
     "name": "stderr",
     "output_type": "stream",
     "text": [
      "Two_opt_reactive:  86%|████████▌ | 43/50 [00:19<00:03,  2.26it/s]"
     ]
    },
    {
     "name": "stdout",
     "output_type": "stream",
     "text": [
      "the preprocessing destination is 53\n",
      "Postprocessing\n"
     ]
    },
    {
     "name": "stderr",
     "output_type": "stream",
     "text": [
      "Warning: Player 'Two_opt_reactive' cannot start at unreachable location 97, starting at closest cell (using Euclidean distance)\n",
      "Two_opt_reactive:  88%|████████▊ | 44/50 [00:19<00:02,  2.35it/s]"
     ]
    },
    {
     "name": "stdout",
     "output_type": "stream",
     "text": [
      "the preprocessing destination is 104\n",
      "Postprocessing\n"
     ]
    },
    {
     "name": "stderr",
     "output_type": "stream",
     "text": [
      "Two_opt_reactive:  90%|█████████ | 45/50 [00:20<00:02,  2.41it/s]"
     ]
    },
    {
     "name": "stdout",
     "output_type": "stream",
     "text": [
      "the preprocessing destination is 55\n",
      "Postprocessing\n"
     ]
    },
    {
     "name": "stderr",
     "output_type": "stream",
     "text": [
      "Two_opt_reactive:  92%|█████████▏| 46/50 [00:20<00:01,  2.35it/s]"
     ]
    },
    {
     "name": "stdout",
     "output_type": "stream",
     "text": [
      "the preprocessing destination is 125\n",
      "Postprocessing\n"
     ]
    },
    {
     "name": "stderr",
     "output_type": "stream",
     "text": [
      "Two_opt_reactive:  94%|█████████▍| 47/50 [00:21<00:01,  2.30it/s]"
     ]
    },
    {
     "name": "stdout",
     "output_type": "stream",
     "text": [
      "the preprocessing destination is 73\n",
      "Postprocessing\n"
     ]
    },
    {
     "name": "stderr",
     "output_type": "stream",
     "text": [
      "Two_opt_reactive:  96%|█████████▌| 48/50 [00:21<00:00,  2.15it/s]"
     ]
    },
    {
     "name": "stdout",
     "output_type": "stream",
     "text": [
      "the preprocessing destination is 107\n",
      "Postprocessing\n"
     ]
    },
    {
     "name": "stderr",
     "output_type": "stream",
     "text": [
      "Two_opt_reactive:  98%|█████████▊| 49/50 [00:22<00:00,  2.29it/s]"
     ]
    },
    {
     "name": "stdout",
     "output_type": "stream",
     "text": [
      "the preprocessing destination is 89\n",
      "Postprocessing\n"
     ]
    },
    {
     "name": "stderr",
     "output_type": "stream",
     "text": [
      "Two_opt_reactive: 100%|██████████| 50/50 [00:22<00:00,  2.20it/s]\n"
     ]
    },
    {
     "name": "stdout",
     "output_type": "stream",
     "text": [
      "the preprocessing destination is 127\n",
      "Postprocessing\n"
     ]
    },
    {
     "name": "stderr",
     "output_type": "stream",
     "text": [
      "Greedy:   0%|          | 0/50 [00:00<?, ?it/s]Warning: Player 'Greedy' cannot start at unreachable location 97, starting at closest cell (using Euclidean distance)\n",
      "Greedy:   2%|▏         | 1/50 [00:00<00:21,  2.25it/s]"
     ]
    },
    {
     "name": "stdout",
     "output_type": "stream",
     "text": [
      "Postprocessing\n"
     ]
    },
    {
     "name": "stderr",
     "output_type": "stream",
     "text": [
      "Greedy:   4%|▍         | 2/50 [00:00<00:18,  2.54it/s]"
     ]
    },
    {
     "name": "stdout",
     "output_type": "stream",
     "text": [
      "Postprocessing\n"
     ]
    },
    {
     "name": "stderr",
     "output_type": "stream",
     "text": [
      "Greedy:   6%|▌         | 3/50 [00:01<00:18,  2.56it/s]"
     ]
    },
    {
     "name": "stdout",
     "output_type": "stream",
     "text": [
      "Postprocessing\n"
     ]
    },
    {
     "name": "stderr",
     "output_type": "stream",
     "text": [
      "Greedy:   8%|▊         | 4/50 [00:01<00:19,  2.41it/s]"
     ]
    },
    {
     "name": "stdout",
     "output_type": "stream",
     "text": [
      "Postprocessing\n"
     ]
    },
    {
     "name": "stderr",
     "output_type": "stream",
     "text": [
      "Greedy:  10%|█         | 5/50 [00:02<00:19,  2.33it/s]"
     ]
    },
    {
     "name": "stdout",
     "output_type": "stream",
     "text": [
      "Postprocessing\n"
     ]
    },
    {
     "name": "stderr",
     "output_type": "stream",
     "text": [
      "Greedy:  12%|█▏        | 6/50 [00:02<00:18,  2.34it/s]"
     ]
    },
    {
     "name": "stdout",
     "output_type": "stream",
     "text": [
      "Postprocessing\n"
     ]
    },
    {
     "name": "stderr",
     "output_type": "stream",
     "text": [
      "Greedy:  14%|█▍        | 7/50 [00:02<00:18,  2.35it/s]"
     ]
    },
    {
     "name": "stdout",
     "output_type": "stream",
     "text": [
      "Postprocessing\n"
     ]
    },
    {
     "name": "stderr",
     "output_type": "stream",
     "text": [
      "Greedy:  16%|█▌        | 8/50 [00:03<00:16,  2.51it/s]"
     ]
    },
    {
     "name": "stdout",
     "output_type": "stream",
     "text": [
      "Postprocessing\n"
     ]
    },
    {
     "name": "stderr",
     "output_type": "stream",
     "text": [
      "Greedy:  18%|█▊        | 9/50 [00:03<00:16,  2.51it/s]"
     ]
    },
    {
     "name": "stdout",
     "output_type": "stream",
     "text": [
      "Postprocessing\n"
     ]
    },
    {
     "name": "stderr",
     "output_type": "stream",
     "text": [
      "Greedy:  20%|██        | 10/50 [00:04<00:16,  2.42it/s]"
     ]
    },
    {
     "name": "stdout",
     "output_type": "stream",
     "text": [
      "Postprocessing\n"
     ]
    },
    {
     "name": "stderr",
     "output_type": "stream",
     "text": [
      "Greedy:  22%|██▏       | 11/50 [00:04<00:18,  2.16it/s]"
     ]
    },
    {
     "name": "stdout",
     "output_type": "stream",
     "text": [
      "Postprocessing\n"
     ]
    },
    {
     "name": "stderr",
     "output_type": "stream",
     "text": [
      "Warning: Player 'Greedy' cannot start at unreachable location 97, starting at closest cell (using Euclidean distance)\n",
      "Greedy:  24%|██▍       | 12/50 [00:05<00:18,  2.08it/s]"
     ]
    },
    {
     "name": "stdout",
     "output_type": "stream",
     "text": [
      "Postprocessing\n"
     ]
    },
    {
     "name": "stderr",
     "output_type": "stream",
     "text": [
      "Warning: Player 'Greedy' cannot start at unreachable location 97, starting at closest cell (using Euclidean distance)\n",
      "Greedy:  26%|██▌       | 13/50 [00:05<00:17,  2.10it/s]"
     ]
    },
    {
     "name": "stdout",
     "output_type": "stream",
     "text": [
      "Postprocessing\n"
     ]
    },
    {
     "name": "stderr",
     "output_type": "stream",
     "text": [
      "Greedy:  28%|██▊       | 14/50 [00:06<00:16,  2.15it/s]"
     ]
    },
    {
     "name": "stdout",
     "output_type": "stream",
     "text": [
      "Postprocessing\n"
     ]
    },
    {
     "name": "stderr",
     "output_type": "stream",
     "text": [
      "Greedy:  30%|███       | 15/50 [00:06<00:16,  2.15it/s]"
     ]
    },
    {
     "name": "stdout",
     "output_type": "stream",
     "text": [
      "Postprocessing\n"
     ]
    },
    {
     "name": "stderr",
     "output_type": "stream",
     "text": [
      "Greedy:  32%|███▏      | 16/50 [00:07<00:15,  2.15it/s]"
     ]
    },
    {
     "name": "stdout",
     "output_type": "stream",
     "text": [
      "Postprocessing\n"
     ]
    },
    {
     "name": "stderr",
     "output_type": "stream",
     "text": [
      "Warning: Player 'Greedy' cannot start at unreachable location 97, starting at closest cell (using Euclidean distance)\n",
      "Greedy:  34%|███▍      | 17/50 [00:07<00:14,  2.22it/s]"
     ]
    },
    {
     "name": "stdout",
     "output_type": "stream",
     "text": [
      "Postprocessing\n"
     ]
    },
    {
     "name": "stderr",
     "output_type": "stream",
     "text": [
      "Greedy:  36%|███▌      | 18/50 [00:07<00:14,  2.14it/s]"
     ]
    },
    {
     "name": "stdout",
     "output_type": "stream",
     "text": [
      "Postprocessing\n"
     ]
    },
    {
     "name": "stderr",
     "output_type": "stream",
     "text": [
      "Warning: Player 'Greedy' cannot start at unreachable location 97, starting at closest cell (using Euclidean distance)\n",
      "Greedy:  38%|███▊      | 19/50 [00:08<00:14,  2.15it/s]"
     ]
    },
    {
     "name": "stdout",
     "output_type": "stream",
     "text": [
      "Postprocessing\n"
     ]
    },
    {
     "name": "stderr",
     "output_type": "stream",
     "text": [
      "Greedy:  40%|████      | 20/50 [00:08<00:14,  2.06it/s]"
     ]
    },
    {
     "name": "stdout",
     "output_type": "stream",
     "text": [
      "Postprocessing\n"
     ]
    },
    {
     "name": "stderr",
     "output_type": "stream",
     "text": [
      "Warning: Player 'Greedy' cannot start at unreachable location 97, starting at closest cell (using Euclidean distance)\n",
      "Greedy:  42%|████▏     | 21/50 [00:09<00:15,  1.83it/s]"
     ]
    },
    {
     "name": "stdout",
     "output_type": "stream",
     "text": [
      "Postprocessing\n"
     ]
    },
    {
     "name": "stderr",
     "output_type": "stream",
     "text": [
      "Warning: Player 'Greedy' cannot start at unreachable location 97, starting at closest cell (using Euclidean distance)\n",
      "Greedy:  44%|████▍     | 22/50 [00:10<00:14,  1.89it/s]"
     ]
    },
    {
     "name": "stdout",
     "output_type": "stream",
     "text": [
      "Postprocessing\n"
     ]
    },
    {
     "name": "stderr",
     "output_type": "stream",
     "text": [
      "Greedy:  46%|████▌     | 23/50 [00:10<00:12,  2.11it/s]"
     ]
    },
    {
     "name": "stdout",
     "output_type": "stream",
     "text": [
      "Postprocessing\n"
     ]
    },
    {
     "name": "stderr",
     "output_type": "stream",
     "text": [
      "Warning: Player 'Greedy' cannot start at unreachable location 97, starting at closest cell (using Euclidean distance)\n",
      "Greedy:  48%|████▊     | 24/50 [00:11<00:12,  2.06it/s]"
     ]
    },
    {
     "name": "stdout",
     "output_type": "stream",
     "text": [
      "Postprocessing\n"
     ]
    },
    {
     "name": "stderr",
     "output_type": "stream",
     "text": [
      "Greedy:  50%|█████     | 25/50 [00:11<00:12,  2.08it/s]"
     ]
    },
    {
     "name": "stdout",
     "output_type": "stream",
     "text": [
      "Postprocessing\n"
     ]
    },
    {
     "name": "stderr",
     "output_type": "stream",
     "text": [
      "Greedy:  52%|█████▏    | 26/50 [00:11<00:11,  2.12it/s]"
     ]
    },
    {
     "name": "stdout",
     "output_type": "stream",
     "text": [
      "Postprocessing\n"
     ]
    },
    {
     "name": "stderr",
     "output_type": "stream",
     "text": [
      "Greedy:  54%|█████▍    | 27/50 [00:12<00:10,  2.12it/s]"
     ]
    },
    {
     "name": "stdout",
     "output_type": "stream",
     "text": [
      "Postprocessing\n"
     ]
    },
    {
     "name": "stderr",
     "output_type": "stream",
     "text": [
      "Greedy:  56%|█████▌    | 28/50 [00:12<00:09,  2.25it/s]"
     ]
    },
    {
     "name": "stdout",
     "output_type": "stream",
     "text": [
      "Postprocessing\n"
     ]
    },
    {
     "name": "stderr",
     "output_type": "stream",
     "text": [
      "Greedy:  58%|█████▊    | 29/50 [00:13<00:11,  1.90it/s]"
     ]
    },
    {
     "name": "stdout",
     "output_type": "stream",
     "text": [
      "Postprocessing\n"
     ]
    },
    {
     "name": "stderr",
     "output_type": "stream",
     "text": [
      "Warning: Player 'Greedy' cannot start at unreachable location 97, starting at closest cell (using Euclidean distance)\n",
      "Greedy:  60%|██████    | 30/50 [00:14<00:11,  1.74it/s]"
     ]
    },
    {
     "name": "stdout",
     "output_type": "stream",
     "text": [
      "Postprocessing\n"
     ]
    },
    {
     "name": "stderr",
     "output_type": "stream",
     "text": [
      "Greedy:  62%|██████▏   | 31/50 [00:14<00:10,  1.89it/s]"
     ]
    },
    {
     "name": "stdout",
     "output_type": "stream",
     "text": [
      "Postprocessing\n"
     ]
    },
    {
     "name": "stderr",
     "output_type": "stream",
     "text": [
      "Greedy:  64%|██████▍   | 32/50 [00:15<00:09,  1.94it/s]"
     ]
    },
    {
     "name": "stdout",
     "output_type": "stream",
     "text": [
      "Postprocessing\n"
     ]
    },
    {
     "name": "stderr",
     "output_type": "stream",
     "text": [
      "Greedy:  66%|██████▌   | 33/50 [00:15<00:08,  2.10it/s]"
     ]
    },
    {
     "name": "stdout",
     "output_type": "stream",
     "text": [
      "Postprocessing\n"
     ]
    },
    {
     "name": "stderr",
     "output_type": "stream",
     "text": [
      "Greedy:  68%|██████▊   | 34/50 [00:15<00:07,  2.20it/s]"
     ]
    },
    {
     "name": "stdout",
     "output_type": "stream",
     "text": [
      "Postprocessing\n"
     ]
    },
    {
     "name": "stderr",
     "output_type": "stream",
     "text": [
      "Warning: Player 'Greedy' cannot start at unreachable location 97, starting at closest cell (using Euclidean distance)\n",
      "Greedy:  70%|███████   | 35/50 [00:16<00:07,  2.14it/s]"
     ]
    },
    {
     "name": "stdout",
     "output_type": "stream",
     "text": [
      "Postprocessing\n"
     ]
    },
    {
     "name": "stderr",
     "output_type": "stream",
     "text": [
      "Greedy:  72%|███████▏  | 36/50 [00:16<00:06,  2.25it/s]"
     ]
    },
    {
     "name": "stdout",
     "output_type": "stream",
     "text": [
      "Postprocessing\n"
     ]
    },
    {
     "name": "stderr",
     "output_type": "stream",
     "text": [
      "Greedy:  74%|███████▍  | 37/50 [00:17<00:06,  2.13it/s]"
     ]
    },
    {
     "name": "stdout",
     "output_type": "stream",
     "text": [
      "Postprocessing\n"
     ]
    },
    {
     "name": "stderr",
     "output_type": "stream",
     "text": [
      "Greedy:  76%|███████▌  | 38/50 [00:17<00:05,  2.03it/s]"
     ]
    },
    {
     "name": "stdout",
     "output_type": "stream",
     "text": [
      "Postprocessing\n"
     ]
    },
    {
     "name": "stderr",
     "output_type": "stream",
     "text": [
      "Greedy:  78%|███████▊  | 39/50 [00:18<00:06,  1.60it/s]"
     ]
    },
    {
     "name": "stdout",
     "output_type": "stream",
     "text": [
      "Postprocessing\n"
     ]
    },
    {
     "name": "stderr",
     "output_type": "stream",
     "text": [
      "Greedy:  80%|████████  | 40/50 [00:19<00:05,  1.69it/s]"
     ]
    },
    {
     "name": "stdout",
     "output_type": "stream",
     "text": [
      "Postprocessing\n"
     ]
    },
    {
     "name": "stderr",
     "output_type": "stream",
     "text": [
      "Greedy:  82%|████████▏ | 41/50 [00:19<00:05,  1.69it/s]"
     ]
    },
    {
     "name": "stdout",
     "output_type": "stream",
     "text": [
      "Postprocessing\n"
     ]
    },
    {
     "name": "stderr",
     "output_type": "stream",
     "text": [
      "Greedy:  84%|████████▍ | 42/50 [00:20<00:04,  1.62it/s]"
     ]
    },
    {
     "name": "stdout",
     "output_type": "stream",
     "text": [
      "Postprocessing\n"
     ]
    },
    {
     "name": "stderr",
     "output_type": "stream",
     "text": [
      "Greedy:  86%|████████▌ | 43/50 [00:21<00:04,  1.68it/s]"
     ]
    },
    {
     "name": "stdout",
     "output_type": "stream",
     "text": [
      "Postprocessing\n"
     ]
    },
    {
     "name": "stderr",
     "output_type": "stream",
     "text": [
      "Warning: Player 'Greedy' cannot start at unreachable location 97, starting at closest cell (using Euclidean distance)\n",
      "Greedy:  88%|████████▊ | 44/50 [00:21<00:03,  1.75it/s]"
     ]
    },
    {
     "name": "stdout",
     "output_type": "stream",
     "text": [
      "Postprocessing\n"
     ]
    },
    {
     "name": "stderr",
     "output_type": "stream",
     "text": [
      "Greedy:  90%|█████████ | 45/50 [00:22<00:02,  1.87it/s]"
     ]
    },
    {
     "name": "stdout",
     "output_type": "stream",
     "text": [
      "Postprocessing\n"
     ]
    },
    {
     "name": "stderr",
     "output_type": "stream",
     "text": [
      "Greedy:  92%|█████████▏| 46/50 [00:22<00:02,  1.96it/s]"
     ]
    },
    {
     "name": "stdout",
     "output_type": "stream",
     "text": [
      "Postprocessing\n"
     ]
    },
    {
     "name": "stderr",
     "output_type": "stream",
     "text": [
      "Greedy:  94%|█████████▍| 47/50 [00:23<00:01,  1.90it/s]"
     ]
    },
    {
     "name": "stdout",
     "output_type": "stream",
     "text": [
      "Postprocessing\n"
     ]
    },
    {
     "name": "stderr",
     "output_type": "stream",
     "text": [
      "Greedy:  96%|█████████▌| 48/50 [00:23<00:01,  1.94it/s]"
     ]
    },
    {
     "name": "stdout",
     "output_type": "stream",
     "text": [
      "Postprocessing\n"
     ]
    },
    {
     "name": "stderr",
     "output_type": "stream",
     "text": [
      "Greedy:  98%|█████████▊| 49/50 [00:24<00:00,  1.68it/s]"
     ]
    },
    {
     "name": "stdout",
     "output_type": "stream",
     "text": [
      "Postprocessing\n"
     ]
    },
    {
     "name": "stderr",
     "output_type": "stream",
     "text": [
      "Greedy: 100%|██████████| 50/50 [00:24<00:00,  2.01it/s]"
     ]
    },
    {
     "name": "stdout",
     "output_type": "stream",
     "text": [
      "Postprocessing\n"
     ]
    },
    {
     "name": "stderr",
     "output_type": "stream",
     "text": [
      "\n"
     ]
    }
   ],
   "source": [
    "# Players to test (keys are legends to appear in the plot)\n",
    "players = {\"Two_opt_reactive\": {\"class\": Two_opt_reactive, \"args\": {}},\n",
    "           \"Greedy\": {\"class\": Greedy, \"args\": {}},\n",
    "            }\n",
    "\n",
    "# Run the games for each player\n",
    "results = {player: [] for player in players}\n",
    "for key in players:\n",
    "    for seed in tqdm.tqdm(range(NB_GAMES), desc=key):\n",
    "        \n",
    "        # Make the game with given seed\n",
    "        game = Game(random_seed=seed, **CONFIG)\n",
    "        player = players[key][\"class\"](**players[key][\"args\"])\n",
    "        game.add_player(player)\n",
    "        stats = game.start()\n",
    "        \n",
    "        # Store the number of turns needed\n",
    "        results[key].append(stats[\"turns\"])"
   ]
  },
  {
   "cell_type": "markdown",
   "metadata": {},
   "source": [
    "<h1 style=\"background-color: gray;\n",
    "           color: black;\n",
    "           padding: 20px;\n",
    "           text-align: center;\">ANALYZE THE RESULTS</h1>\n",
    "           \n",
    "Now that all games are performed, we plot the percentage of games completed as a function of the number of turns elapsed."
   ]
  },
  {
   "cell_type": "code",
   "execution_count": 5,
   "metadata": {},
   "outputs": [
    {
     "data": {
      "image/png": "[encoded data removed]",
      "text/plain": [
       "<Figure size 1000x500 with 1 Axes>"
      ]
     },
     "metadata": {},
     "output_type": "display_data"
    }
   ],
   "source": [
    "# Visualization of cumulative curves of numbers of turns taken per program\n",
    "max_turn = max([max(results[player]) for player in results])\n",
    "pyplot.figure(figsize=(10, 5))\n",
    "for player in results:\n",
    "    turns = [0] + sorted(results[player]) + [max_turn]\n",
    "    games_completed_per_turn = [len([turn for turn in results[player] if turn <= t]) * 100.0 / NB_GAMES for t in turns]\n",
    "    pyplot.plot(turns, games_completed_per_turn, label=player)\n",
    "pyplot.title(\"Comparison of turns needed to complete all %d games\" % (NB_GAMES))\n",
    "pyplot.xlabel(\"Turns per game\")\n",
    "pyplot.ylabel(\"% of games completed\")\n",
    "pyplot.xscale(\"log\")\n",
    "pyplot.legend()\n",
    "pyplot.show()"
   ]
  },
  {
   "cell_type": "markdown",
   "metadata": {},
   "source": [
    "Visualizing is great, but it may be hard to conclude with just a plot. \\\n",
    "Here, we perform a statistical test that will give more insight on whether an algorithm is better than the other."
   ]
  },
  {
   "cell_type": "code",
   "execution_count": 6,
   "metadata": {},
   "outputs": [
    {
     "name": "stdout",
     "output_type": "stream",
     "text": [
      "Mann-Whitney U test between turns of program 'Two_opt_reactive' and of program 'Greedy': MannwhitneyuResult(statistic=np.float64(1165.5), pvalue=np.float64(0.5622847017477333))\n"
     ]
    }
   ],
   "source": [
    "# Formal statistics to check if these curves are statistically significant\n",
    "for i, player_1 in enumerate(results):\n",
    "    for j, player_2 in enumerate(results):\n",
    "        if j > i:\n",
    "            test_result = scstats.mannwhitneyu(results[player_1], results[player_2], alternative=\"two-sided\")\n",
    "            print(\"Mann-Whitney U test between turns of program '%s' and of program '%s':\" % (player_1, player_2), test_result)"
   ]
  }
 ],
 "metadata": {
  "kernelspec": {
   "display_name": "Python 3",
   "language": "python",
   "name": "python3"
  },
  "language_info": {
   "codemirror_mode": {
    "name": "ipython",
    "version": 3
   },
   "file_extension": ".py",
   "mimetype": "text/x-python",
   "name": "python",
   "nbconvert_exporter": "python",
   "pygments_lexer": "ipython3",
   "version": "3.12.6"
  }
 },
 "nbformat": 4,
 "nbformat_minor": 2
}
